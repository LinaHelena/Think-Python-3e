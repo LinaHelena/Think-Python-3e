{
  "cells": [
    {
      "cell_type": "markdown",
      "id": "1331faa1",
      "metadata": {
        "id": "1331faa1"
      },
      "source": [
        "You can order print and ebook versions of *Think Python 3e* from\n",
        "[Bookshop.org](https://bookshop.org/a/98697/9781098155438) and\n",
        "[Amazon](https://www.amazon.com/_/dp/1098155432?smid=ATVPDKIKX0DER&_encoding=UTF8&tag=oreilly20-20&_encoding=UTF8&tag=greenteapre01-20&linkCode=ur2&linkId=e2a529f94920295d27ec8a06e757dc7c&camp=1789&creative=9325)."
      ]
    },
    {
      "cell_type": "code",
      "execution_count": 2,
      "id": "8119ba50",
      "metadata": {
        "tags": [],
        "colab": {
          "base_uri": "https://localhost:8080/"
        },
        "id": "8119ba50",
        "outputId": "503e6256-150d-491d-cae1-0b8e8d23190c"
      },
      "outputs": [
        {
          "output_type": "stream",
          "name": "stdout",
          "text": [
            "Downloaded thinkpython.py\n",
            "Downloaded diagram.py\n",
            "Downloaded jupyturtle.py\n"
          ]
        }
      ],
      "source": [
        "from os.path import basename, exists\n",
        "\n",
        "def download(url):\n",
        "    filename = basename(url)\n",
        "    if not exists(filename):\n",
        "        from urllib.request import urlretrieve\n",
        "\n",
        "        local, _ = urlretrieve(url, filename)\n",
        "        print(\"Downloaded \" + str(local))\n",
        "    return filename\n",
        "\n",
        "download('https://github.com/AllenDowney/ThinkPython/raw/v3/thinkpython.py');\n",
        "download('https://github.com/AllenDowney/ThinkPython/raw/v3/diagram.py');\n",
        "download('https://github.com/ramalho/jupyturtle/releases/download/2024-03/jupyturtle.py');\n",
        "\n",
        "import thinkpython"
      ]
    },
    {
      "cell_type": "markdown",
      "id": "75b60d6c",
      "metadata": {
        "id": "75b60d6c"
      },
      "source": [
        "# Conditionals and Recursion\n",
        "\n",
        "The main topic of this chapter is the `if` statement, which executes different code depending on the state of the program.\n",
        "And with the `if` statement we'll be able to explore one of the most powerful ideas in computing, **recursion**.\n",
        "\n",
        "But we'll start with three new features: the modulus operator, boolean expressions, and logical operators."
      ]
    },
    {
      "cell_type": "markdown",
      "id": "4ab7caf4",
      "metadata": {
        "id": "4ab7caf4"
      },
      "source": [
        "## Integer division and modulus\n",
        "\n",
        "Recall that the integer division operator, `//`, divides two numbers and rounds\n",
        "down to an integer.\n",
        "For example, suppose the run time of a movie is 105 minutes.\n",
        "You might want to know how long that is in hours.\n",
        "Conventional division returns a floating-point number:"
      ]
    },
    {
      "cell_type": "code",
      "source": [
        "print(\"Colab is working\")\n"
      ],
      "metadata": {
        "id": "DCXg-sEmmYj8",
        "outputId": "fe8a4963-d00e-4a6c-8d86-cf7f6b957802",
        "colab": {
          "base_uri": "https://localhost:8080/"
        }
      },
      "id": "DCXg-sEmmYj8",
      "execution_count": null,
      "outputs": [
        {
          "output_type": "stream",
          "name": "stdout",
          "text": [
            "Colab is working\n"
          ]
        }
      ]
    },
    {
      "cell_type": "code",
      "execution_count": null,
      "id": "30bd0ba7",
      "metadata": {
        "colab": {
          "base_uri": "https://localhost:8080/"
        },
        "id": "30bd0ba7",
        "outputId": "41718e16-c557-4f00-bbd8-84cc3e909b83"
      },
      "outputs": [
        {
          "output_type": "execute_result",
          "data": {
            "text/plain": [
              "1.75"
            ]
          },
          "metadata": {},
          "execution_count": 6
        }
      ],
      "source": [
        "minutes = 105\n",
        "minutes / 60"
      ]
    },
    {
      "cell_type": "markdown",
      "id": "3f224403",
      "metadata": {
        "id": "3f224403"
      },
      "source": [
        "But we don't normally write hours with decimal points.\n",
        "Integer division returns the integer number of hours, rounding down:"
      ]
    },
    {
      "cell_type": "code",
      "execution_count": null,
      "id": "451e3198",
      "metadata": {
        "colab": {
          "base_uri": "https://localhost:8080/"
        },
        "id": "451e3198",
        "outputId": "14b724b3-bb78-4e39-b8a9-c93dfe1e909d"
      },
      "outputs": [
        {
          "output_type": "execute_result",
          "data": {
            "text/plain": [
              "1"
            ]
          },
          "metadata": {},
          "execution_count": 7
        }
      ],
      "source": [
        "minutes = 105\n",
        "hours = minutes // 60\n",
        "hours"
      ]
    },
    {
      "cell_type": "markdown",
      "id": "bfa9b0cf",
      "metadata": {
        "id": "bfa9b0cf"
      },
      "source": [
        "To get the remainder, you could subtract off one hour in minutes:"
      ]
    },
    {
      "cell_type": "code",
      "execution_count": null,
      "id": "64b92876",
      "metadata": {
        "colab": {
          "base_uri": "https://localhost:8080/"
        },
        "id": "64b92876",
        "outputId": "9c84e0d3-6782-4ac2-f3b1-1f6d53b7af0d"
      },
      "outputs": [
        {
          "output_type": "execute_result",
          "data": {
            "text/plain": [
              "45"
            ]
          },
          "metadata": {},
          "execution_count": 8
        }
      ],
      "source": [
        "remainder = minutes - hours * 60\n",
        "remainder"
      ]
    },
    {
      "cell_type": "markdown",
      "id": "05caf27f",
      "metadata": {
        "id": "05caf27f"
      },
      "source": [
        "Or you could use the **modulus operator**, `%`, which divides two numbers and returns the remainder."
      ]
    },
    {
      "cell_type": "code",
      "execution_count": null,
      "id": "0a593844",
      "metadata": {
        "colab": {
          "base_uri": "https://localhost:8080/"
        },
        "id": "0a593844",
        "outputId": "ff1ed9ed-e81c-4e65-b7bc-2a30f91da588"
      },
      "outputs": [
        {
          "output_type": "execute_result",
          "data": {
            "text/plain": [
              "45"
            ]
          },
          "metadata": {},
          "execution_count": 9
        }
      ],
      "source": [
        "remainder = minutes % 60\n",
        "remainder"
      ]
    },
    {
      "cell_type": "markdown",
      "id": "18c1e0d0",
      "metadata": {
        "id": "18c1e0d0"
      },
      "source": [
        "The modulus operator is more useful than it might seem.\n",
        "For example, it can check whether one number is divisible by another -- if `x % y` is zero, then `x` is divisible by `y`.\n",
        "\n",
        "Also, it can extract the right-most digit or digits from a number.\n",
        "For example, `x % 10` yields the right-most digit of `x` (in base 10).\n",
        "Similarly, `x % 100` yields the last two digits."
      ]
    },
    {
      "cell_type": "code",
      "execution_count": null,
      "id": "5bd341f7",
      "metadata": {
        "colab": {
          "base_uri": "https://localhost:8080/"
        },
        "id": "5bd341f7",
        "outputId": "2619594e-fadc-410f-95fe-9f3d6e02599e"
      },
      "outputs": [
        {
          "output_type": "execute_result",
          "data": {
            "text/plain": [
              "3"
            ]
          },
          "metadata": {},
          "execution_count": 10
        }
      ],
      "source": [
        "x = 123\n",
        "x % 10"
      ]
    },
    {
      "cell_type": "code",
      "execution_count": null,
      "id": "367fce0c",
      "metadata": {
        "colab": {
          "base_uri": "https://localhost:8080/"
        },
        "id": "367fce0c",
        "outputId": "a1e8c933-8aff-4132-d062-6215613e9fac"
      },
      "outputs": [
        {
          "output_type": "execute_result",
          "data": {
            "text/plain": [
              "23"
            ]
          },
          "metadata": {},
          "execution_count": 11
        }
      ],
      "source": [
        "x % 100"
      ]
    },
    {
      "cell_type": "markdown",
      "id": "f2344fc0",
      "metadata": {
        "id": "f2344fc0"
      },
      "source": [
        "Finally, the modulus operator can do \"clock arithmetic\".\n",
        "For example, if an event starts at 11 AM and lasts three hours, we can use the modulus operator to figure out what time it ends."
      ]
    },
    {
      "cell_type": "code",
      "execution_count": null,
      "id": "db33a44d",
      "metadata": {
        "colab": {
          "base_uri": "https://localhost:8080/"
        },
        "id": "db33a44d",
        "outputId": "5f0b072c-c887-4a31-aee8-0740f37b6c49"
      },
      "outputs": [
        {
          "output_type": "execute_result",
          "data": {
            "text/plain": [
              "2"
            ]
          },
          "metadata": {},
          "execution_count": 12
        }
      ],
      "source": [
        "start = 11\n",
        "duration = 3\n",
        "end = (start + duration) % 12\n",
        "end"
      ]
    },
    {
      "cell_type": "markdown",
      "id": "351c30df",
      "metadata": {
        "id": "351c30df"
      },
      "source": [
        "The event would end at 2 PM."
      ]
    },
    {
      "cell_type": "markdown",
      "id": "5ed1b58b",
      "metadata": {
        "id": "5ed1b58b"
      },
      "source": [
        "## Boolean Expressions\n",
        "\n",
        "A **boolean expression** is an expression that is either true or false.\n",
        "For example, the following expressions use the equals operator, `==`, which compares two values and produces `True` if they are equal and `False` otherwise:"
      ]
    },
    {
      "cell_type": "code",
      "execution_count": null,
      "id": "85589d38",
      "metadata": {
        "colab": {
          "base_uri": "https://localhost:8080/"
        },
        "id": "85589d38",
        "outputId": "b99fc4fd-f132-48d4-d687-718a7dc5b297"
      },
      "outputs": [
        {
          "output_type": "execute_result",
          "data": {
            "text/plain": [
              "True"
            ]
          },
          "metadata": {},
          "execution_count": 13
        }
      ],
      "source": [
        "5 == 5"
      ]
    },
    {
      "cell_type": "code",
      "execution_count": null,
      "id": "3c9c8f61",
      "metadata": {
        "colab": {
          "base_uri": "https://localhost:8080/"
        },
        "id": "3c9c8f61",
        "outputId": "8e80f0e9-1a23-4a23-f208-9c608590f35c"
      },
      "outputs": [
        {
          "output_type": "execute_result",
          "data": {
            "text/plain": [
              "False"
            ]
          },
          "metadata": {},
          "execution_count": 14
        }
      ],
      "source": [
        "5 == 7"
      ]
    },
    {
      "cell_type": "markdown",
      "id": "41fbc642",
      "metadata": {
        "id": "41fbc642"
      },
      "source": [
        "A common error is to use a single equal sign (`=`) instead of a double equal sign (`==`).\n",
        "Remember that `=` assigns a value to a variable and `==` compares two values."
      ]
    },
    {
      "cell_type": "code",
      "execution_count": null,
      "id": "c0e51bcc",
      "metadata": {
        "id": "c0e51bcc"
      },
      "outputs": [],
      "source": [
        "x = 5\n",
        "y = 7"
      ]
    },
    {
      "cell_type": "code",
      "execution_count": null,
      "id": "a6be44db",
      "metadata": {
        "colab": {
          "base_uri": "https://localhost:8080/"
        },
        "id": "a6be44db",
        "outputId": "a5369e15-b81d-43a7-d570-fb4111236e7d"
      },
      "outputs": [
        {
          "output_type": "execute_result",
          "data": {
            "text/plain": [
              "False"
            ]
          },
          "metadata": {},
          "execution_count": 16
        }
      ],
      "source": [
        "x == y"
      ]
    },
    {
      "cell_type": "markdown",
      "id": "d3ec6b48",
      "metadata": {
        "id": "d3ec6b48"
      },
      "source": [
        "`True` and `False` are special values that belong to the type `bool`;\n",
        "they are not strings:"
      ]
    },
    {
      "cell_type": "code",
      "execution_count": null,
      "id": "90fb1c9c",
      "metadata": {
        "colab": {
          "base_uri": "https://localhost:8080/"
        },
        "id": "90fb1c9c",
        "outputId": "c3f3e1c3-9f41-4213-8b68-c29905e9f7a2"
      },
      "outputs": [
        {
          "output_type": "execute_result",
          "data": {
            "text/plain": [
              "bool"
            ]
          },
          "metadata": {},
          "execution_count": 17
        }
      ],
      "source": [
        "type(True)"
      ]
    },
    {
      "cell_type": "code",
      "execution_count": null,
      "id": "c1cae572",
      "metadata": {
        "colab": {
          "base_uri": "https://localhost:8080/"
        },
        "id": "c1cae572",
        "outputId": "a8b32203-a107-415e-fe98-35b12693dd03"
      },
      "outputs": [
        {
          "output_type": "execute_result",
          "data": {
            "text/plain": [
              "bool"
            ]
          },
          "metadata": {},
          "execution_count": 18
        }
      ],
      "source": [
        "type(False)"
      ]
    },
    {
      "cell_type": "markdown",
      "id": "451b2e8d",
      "metadata": {
        "id": "451b2e8d"
      },
      "source": [
        "The `==` operator is one of the **relational operators**; the others are:"
      ]
    },
    {
      "cell_type": "code",
      "execution_count": null,
      "id": "c901fe2b",
      "metadata": {
        "colab": {
          "base_uri": "https://localhost:8080/"
        },
        "id": "c901fe2b",
        "outputId": "a155a79f-b36a-4e95-fa50-994b15d2ae9e"
      },
      "outputs": [
        {
          "output_type": "execute_result",
          "data": {
            "text/plain": [
              "True"
            ]
          },
          "metadata": {},
          "execution_count": 19
        }
      ],
      "source": [
        "x != y               # x is not equal to y"
      ]
    },
    {
      "cell_type": "code",
      "execution_count": null,
      "id": "1457949f",
      "metadata": {
        "colab": {
          "base_uri": "https://localhost:8080/"
        },
        "id": "1457949f",
        "outputId": "7e598dbe-c8bd-4e2b-e193-831912954697"
      },
      "outputs": [
        {
          "output_type": "execute_result",
          "data": {
            "text/plain": [
              "False"
            ]
          },
          "metadata": {},
          "execution_count": 20
        }
      ],
      "source": [
        "x > y                # x is greater than y"
      ]
    },
    {
      "cell_type": "code",
      "execution_count": null,
      "id": "56bb7eed",
      "metadata": {
        "colab": {
          "base_uri": "https://localhost:8080/"
        },
        "id": "56bb7eed",
        "outputId": "155436b4-e921-450c-eccd-797e77a47df9"
      },
      "outputs": [
        {
          "output_type": "execute_result",
          "data": {
            "text/plain": [
              "True"
            ]
          },
          "metadata": {},
          "execution_count": 18
        }
      ],
      "source": [
        "x < y               # x is less than to y"
      ]
    },
    {
      "cell_type": "code",
      "execution_count": null,
      "id": "1cdcc7ab",
      "metadata": {
        "colab": {
          "base_uri": "https://localhost:8080/"
        },
        "id": "1cdcc7ab",
        "outputId": "1103e67e-c258-43b5-ca94-df41014000db"
      },
      "outputs": [
        {
          "output_type": "execute_result",
          "data": {
            "text/plain": [
              "False"
            ]
          },
          "metadata": {},
          "execution_count": 21
        }
      ],
      "source": [
        "x >= y               # x is greater than or equal to y"
      ]
    },
    {
      "cell_type": "code",
      "execution_count": null,
      "id": "df1a1287",
      "metadata": {
        "colab": {
          "base_uri": "https://localhost:8080/"
        },
        "id": "df1a1287",
        "outputId": "9aea95fd-e943-40ca-9da2-1de42be4e525"
      },
      "outputs": [
        {
          "output_type": "execute_result",
          "data": {
            "text/plain": [
              "True"
            ]
          },
          "metadata": {},
          "execution_count": 22
        }
      ],
      "source": [
        "x <= y               # x is less than or equal to y"
      ]
    },
    {
      "cell_type": "markdown",
      "id": "db5a9477",
      "metadata": {
        "id": "db5a9477"
      },
      "source": [
        "## Logical operators\n",
        "\n",
        "To combine boolean values into expressions, we can use **logical operators**.\n",
        "The most common are `and`, ` or`, and `not`.\n",
        "The meaning of these operators is similar to their meaning in English.\n",
        "For example, the value of the following expression is `True` only if `x` is greater than `0` *and* less than `10`."
      ]
    },
    {
      "cell_type": "code",
      "execution_count": null,
      "id": "848c5f2c",
      "metadata": {
        "colab": {
          "base_uri": "https://localhost:8080/"
        },
        "id": "848c5f2c",
        "outputId": "f27fcb38-9291-4ef1-9101-71e38dcbdbc2"
      },
      "outputs": [
        {
          "output_type": "execute_result",
          "data": {
            "text/plain": [
              "True"
            ]
          },
          "metadata": {},
          "execution_count": 23
        }
      ],
      "source": [
        "x > 0 and x < 10"
      ]
    },
    {
      "cell_type": "markdown",
      "id": "e8c14026",
      "metadata": {
        "id": "e8c14026"
      },
      "source": [
        "The following expression is `True` if *either or both* of the conditions is true, that is, if the number is divisible by 2 *or* 3:"
      ]
    },
    {
      "cell_type": "code",
      "execution_count": null,
      "id": "eb66ee6a",
      "metadata": {
        "colab": {
          "base_uri": "https://localhost:8080/"
        },
        "id": "eb66ee6a",
        "outputId": "50dc8902-64dc-4bc8-b211-25e7e0eb7e62"
      },
      "outputs": [
        {
          "output_type": "execute_result",
          "data": {
            "text/plain": [
              "False"
            ]
          },
          "metadata": {},
          "execution_count": 24
        }
      ],
      "source": [
        "x % 2 == 0 or x % 3 == 0"
      ]
    },
    {
      "cell_type": "markdown",
      "id": "3bd0ef52",
      "metadata": {
        "id": "3bd0ef52"
      },
      "source": [
        "Finally, the `not` operator negates a boolean expression, so the following expression is `True` if `x > y` is `False`."
      ]
    },
    {
      "cell_type": "code",
      "execution_count": null,
      "id": "6de8b97c",
      "metadata": {
        "colab": {
          "base_uri": "https://localhost:8080/"
        },
        "id": "6de8b97c",
        "outputId": "7f7ee2f3-e6cd-4b81-be21-e03dccc8d45e"
      },
      "outputs": [
        {
          "output_type": "execute_result",
          "data": {
            "text/plain": [
              "True"
            ]
          },
          "metadata": {},
          "execution_count": 25
        }
      ],
      "source": [
        "not x > y"
      ]
    },
    {
      "cell_type": "markdown",
      "id": "fc6098c2",
      "metadata": {
        "id": "fc6098c2"
      },
      "source": [
        "Strictly speaking, the operands of a logical operator should be boolean expressions, but Python is not very strict.\n",
        "Any nonzero number is interpreted as `True`:"
      ]
    },
    {
      "cell_type": "code",
      "execution_count": null,
      "id": "add63275",
      "metadata": {
        "colab": {
          "base_uri": "https://localhost:8080/"
        },
        "id": "add63275",
        "outputId": "9ea0a421-e13a-4fa4-f900-c4553466d792"
      },
      "outputs": [
        {
          "output_type": "execute_result",
          "data": {
            "text/plain": [
              "True"
            ]
          },
          "metadata": {},
          "execution_count": 26
        }
      ],
      "source": [
        "42 and True"
      ]
    },
    {
      "cell_type": "markdown",
      "id": "102ceab9",
      "metadata": {
        "id": "102ceab9"
      },
      "source": [
        "This flexibility can be useful, but there are some subtleties to it that can be confusing.\n",
        "You might want to avoid it."
      ]
    },
    {
      "cell_type": "markdown",
      "id": "6b0f2dc1",
      "metadata": {
        "id": "6b0f2dc1"
      },
      "source": [
        "## if statements\n",
        "\n",
        "In order to write useful programs, we almost always need the ability to\n",
        "check conditions and change the behavior of the program accordingly.\n",
        "**Conditional statements** give us this ability. The simplest form is\n",
        "the `if` statement:"
      ]
    },
    {
      "cell_type": "code",
      "execution_count": null,
      "id": "80937bef",
      "metadata": {
        "colab": {
          "base_uri": "https://localhost:8080/"
        },
        "id": "80937bef",
        "outputId": "76338d19-7eec-46cd-b797-f06f4e2fff96"
      },
      "outputs": [
        {
          "output_type": "stream",
          "name": "stdout",
          "text": [
            "x is positive\n"
          ]
        }
      ],
      "source": [
        "if x > 0:\n",
        "    print('x is positive')"
      ]
    },
    {
      "cell_type": "markdown",
      "id": "973f705e",
      "metadata": {
        "id": "973f705e"
      },
      "source": [
        "`if` is a Python keyword.\n",
        "`if` statements have the same structure as function definitions: a\n",
        "header followed by an indented statement or sequence of statements called a **block**.\n",
        "\n",
        "The boolean expression after `if` is called the **condition**.\n",
        "If it is true, the statements in the indented block run. If not, they don't.\n",
        "\n",
        "There is no limit to the number of statements that can appear in the block, but there has to be at least one.\n",
        "Occasionally, it is useful to have a block that does nothing -- usually as a place keeper for code you haven't written yet.\n",
        "In that case, you can use the `pass` statement, which does nothing."
      ]
    },
    {
      "cell_type": "code",
      "execution_count": null,
      "id": "bc74a318",
      "metadata": {
        "id": "bc74a318"
      },
      "outputs": [],
      "source": [
        "if x < 0:\n",
        "    pass          # TODO: need to handle negative values!"
      ]
    },
    {
      "cell_type": "markdown",
      "id": "adf3f6c5",
      "metadata": {
        "id": "adf3f6c5"
      },
      "source": [
        "The word `TODO` in a comment is a conventional reminder that there's something you need to do later."
      ]
    },
    {
      "cell_type": "markdown",
      "id": "eb39bcd9",
      "metadata": {
        "id": "eb39bcd9"
      },
      "source": [
        "## The `else` clause\n",
        "\n",
        "An `if` statement can have a second part, called an `else` clause.\n",
        "The syntax looks like this:"
      ]
    },
    {
      "cell_type": "code",
      "execution_count": null,
      "id": "d16f49f2",
      "metadata": {
        "colab": {
          "base_uri": "https://localhost:8080/"
        },
        "id": "d16f49f2",
        "outputId": "68fe4e96-fcec-4150-be6f-1fc65de0d671"
      },
      "outputs": [
        {
          "output_type": "stream",
          "name": "stdout",
          "text": [
            "x is odd\n"
          ]
        }
      ],
      "source": [
        "if x % 2 == 0:\n",
        "    print('x is even')\n",
        "else:\n",
        "    print('x is odd')"
      ]
    },
    {
      "cell_type": "markdown",
      "id": "e7dc8943",
      "metadata": {
        "id": "e7dc8943"
      },
      "source": [
        "If the condition is true, the first indented statement runs; otherwise, the second indented statement runs.\n",
        "\n",
        "In this example, if `x` is even, the remainder when `x` is divided by `2` is `0`, so the condition is true and the program displays `x is even`.\n",
        "If `x` is odd, the remainder is `1`, so the condition\n",
        "is false, and the program displays `x is odd`.\n",
        "\n",
        "Since the condition must be true or false, exactly one of the alternatives will run.\n",
        "The alternatives are called **branches**."
      ]
    },
    {
      "cell_type": "markdown",
      "id": "20c8adb6",
      "metadata": {
        "id": "20c8adb6"
      },
      "source": [
        "## Chained conditionals\n",
        "\n",
        "Sometimes there are more than two possibilities and we need more than two branches.\n",
        "One way to express a computation like that is a **chained conditional**, which includes an `elif` clause."
      ]
    },
    {
      "cell_type": "code",
      "execution_count": null,
      "id": "309fccb8",
      "metadata": {
        "colab": {
          "base_uri": "https://localhost:8080/"
        },
        "id": "309fccb8",
        "outputId": "ebaf8769-1a5d-4434-f06b-ff7b01234d86"
      },
      "outputs": [
        {
          "output_type": "stream",
          "name": "stdout",
          "text": [
            "x is less than y\n"
          ]
        }
      ],
      "source": [
        "if x < y:\n",
        "    print('x is less than y')\n",
        "elif x > y:\n",
        "    print('x is greater than y')\n",
        "else:\n",
        "    print('x and y are equal')"
      ]
    },
    {
      "cell_type": "markdown",
      "id": "46916379",
      "metadata": {
        "id": "46916379"
      },
      "source": [
        "`elif` is an abbreviation of \"else if\".\n",
        "There is no limit on the number of `elif` clauses.\n",
        "If there is an `else` clause, it has to be at the end, but there doesn't have to be\n",
        "one.\n",
        "\n",
        "Each condition is checked in order.\n",
        "If the first is false, the next is checked, and so on.\n",
        "If one of them is true, the corresponding branch runs and the `if` statement ends.\n",
        "Even if more than one condition is true, only the first true branch runs."
      ]
    },
    {
      "cell_type": "markdown",
      "id": "e0c0b9dd",
      "metadata": {
        "id": "e0c0b9dd"
      },
      "source": [
        "## Nested Conditionals\n",
        "\n",
        "One conditional can also be nested within another.\n",
        "We could have written the example in the previous section like this:"
      ]
    },
    {
      "cell_type": "code",
      "execution_count": null,
      "id": "d77539cf",
      "metadata": {
        "colab": {
          "base_uri": "https://localhost:8080/"
        },
        "id": "d77539cf",
        "outputId": "98ffa039-a78f-40f2-a0c0-7d6e9ebe3bff"
      },
      "outputs": [
        {
          "output_type": "stream",
          "name": "stdout",
          "text": [
            "x is less than y\n"
          ]
        }
      ],
      "source": [
        "if x == y:\n",
        "    print('x and y are equal')\n",
        "else:\n",
        "    if x < y:\n",
        "        print('x is less than y')\n",
        "    else:\n",
        "        print('x is greater than y')"
      ]
    },
    {
      "cell_type": "markdown",
      "id": "29f67a0a",
      "metadata": {
        "id": "29f67a0a"
      },
      "source": [
        "The outer `if` statement contains two branches.\n",
        "The first branch contains a simple statement. The second branch contains another `if` statement, which has two branches of its own.\n",
        "Those two branches are both simple statements, although they could have been conditional statements as well.\n",
        "\n",
        "Although the indentation of the statements makes the structure apparent, **nested conditionals** can be difficult to read.\n",
        "I suggest you avoid them when you can.\n",
        "\n",
        "Logical operators often provide a way to simplify nested conditional statements.\n",
        "Here's an example with a nested conditional."
      ]
    },
    {
      "cell_type": "code",
      "execution_count": null,
      "id": "91cac1a0",
      "metadata": {
        "colab": {
          "base_uri": "https://localhost:8080/"
        },
        "id": "91cac1a0",
        "outputId": "4806cf1b-e899-409d-beab-4c21e906b7bb"
      },
      "outputs": [
        {
          "output_type": "stream",
          "name": "stdout",
          "text": [
            "x is a positive single-digit number.\n"
          ]
        }
      ],
      "source": [
        "if 0 < x:\n",
        "    if x < 10:\n",
        "        print('x is a positive single-digit number.')"
      ]
    },
    {
      "cell_type": "markdown",
      "id": "5292eb11",
      "metadata": {
        "id": "5292eb11"
      },
      "source": [
        "The `print` statement runs only if we make it past both conditionals, so we get the same effect with the `and` operator."
      ]
    },
    {
      "cell_type": "code",
      "execution_count": null,
      "id": "f8ba1724",
      "metadata": {
        "colab": {
          "base_uri": "https://localhost:8080/"
        },
        "id": "f8ba1724",
        "outputId": "292f57f0-11e7-4a52-c3b4-7e2a8fba59af"
      },
      "outputs": [
        {
          "output_type": "stream",
          "name": "stdout",
          "text": [
            "x is a positive single-digit number.\n"
          ]
        }
      ],
      "source": [
        "if 0 < x and x < 10:\n",
        "    print('x is a positive single-digit number.')"
      ]
    },
    {
      "cell_type": "markdown",
      "id": "dd8e808a",
      "metadata": {
        "id": "dd8e808a"
      },
      "source": [
        "For this kind of condition, Python provides a more concise option:"
      ]
    },
    {
      "cell_type": "code",
      "execution_count": null,
      "id": "014cd6f4",
      "metadata": {
        "colab": {
          "base_uri": "https://localhost:8080/"
        },
        "id": "014cd6f4",
        "outputId": "e9275553-0622-447a-fcb5-17f12b0c2d24"
      },
      "outputs": [
        {
          "output_type": "stream",
          "name": "stdout",
          "text": [
            "x is a positive single-digit number.\n"
          ]
        }
      ],
      "source": [
        "if 0 < x < 10:\n",
        "    print('x is a positive single-digit number.')"
      ]
    },
    {
      "cell_type": "markdown",
      "id": "db583cd9",
      "metadata": {
        "id": "db583cd9"
      },
      "source": [
        "## Recursion\n",
        "\n",
        "It is legal for a function to call itself.\n",
        "It may not be obvious why that is a good thing, but it turns out to be one of the most magical things a program can do.\n",
        "Here's an example."
      ]
    },
    {
      "cell_type": "code",
      "execution_count": null,
      "id": "17904e98",
      "metadata": {
        "id": "17904e98"
      },
      "outputs": [],
      "source": [
        "def countdown(n):\n",
        "    if n <= 0:\n",
        "        print('Blastoff!')\n",
        "    else:\n",
        "        print(n)\n",
        "        countdown(n-1)"
      ]
    },
    {
      "cell_type": "markdown",
      "id": "c88e0dc7",
      "metadata": {
        "id": "c88e0dc7"
      },
      "source": [
        "If `n` is 0 or negative, `countdown` outputs the word, \"Blastoff!\" Otherwise, it\n",
        "outputs `n` and then calls itself, passing `n-1` as an argument.\n",
        "\n",
        "Here's what happens when we call this function with the argument `3`."
      ]
    },
    {
      "cell_type": "code",
      "execution_count": null,
      "id": "6c1e32e2",
      "metadata": {
        "colab": {
          "base_uri": "https://localhost:8080/"
        },
        "id": "6c1e32e2",
        "outputId": "0525ef9f-19d1-476f-edbd-bc0d47322d1e"
      },
      "outputs": [
        {
          "output_type": "stream",
          "name": "stdout",
          "text": [
            "3\n",
            "2\n",
            "1\n",
            "Blastoff!\n"
          ]
        }
      ],
      "source": [
        "countdown(3)"
      ]
    },
    {
      "cell_type": "markdown",
      "id": "3f3c87ec",
      "metadata": {
        "id": "3f3c87ec"
      },
      "source": [
        "The execution of `countdown` begins with `n=3`, and since `n` is greater\n",
        "than `0`, it displays `3`, and then calls itself\\...\n",
        "\n",
        "> The execution of `countdown` begins with `n=2`, and since `n` is\n",
        "> greater than `0`, it displays `2`, and then calls itself\\...\n",
        ">\n",
        "> > The execution of `countdown` begins with `n=1`, and since `n` is\n",
        "> > greater than `0`, it displays `1`, and then calls itself\\...\n",
        "> >\n",
        "> > > The execution of `countdown` begins with `n=0`, and since `n` is\n",
        "> > > not greater than `0`, it displays \"Blastoff!\" and returns.\n",
        "> >\n",
        "> > The `countdown` that got `n=1` returns.\n",
        ">\n",
        "> The `countdown` that got `n=2` returns.\n",
        "\n",
        "The `countdown` that got `n=3` returns."
      ]
    },
    {
      "cell_type": "markdown",
      "id": "782e95bb",
      "metadata": {
        "id": "782e95bb"
      },
      "source": [
        "A function that calls itself is **recursive**.\n",
        "As another example, we can write a function that prints a string `n` times."
      ]
    },
    {
      "cell_type": "code",
      "execution_count": 3,
      "id": "1bb13f8e",
      "metadata": {
        "id": "1bb13f8e"
      },
      "outputs": [],
      "source": [
        "def print_n_times(string, n):\n",
        "    if n > 0:\n",
        "        print(string)\n",
        "        print_n_times(string, n-1)"
      ]
    },
    {
      "cell_type": "markdown",
      "id": "73d07c17",
      "metadata": {
        "id": "73d07c17"
      },
      "source": [
        "If `n` is positive, `print_n_times` displays the value of `string` and then calls itself, passing along `string` and `n-1` as arguments.\n",
        "\n",
        "If `n` is `0` or negative, the condition is false and `print_n_times` does nothing.\n",
        "\n",
        "Here's how it works."
      ]
    },
    {
      "cell_type": "code",
      "execution_count": null,
      "id": "e7b68c57",
      "metadata": {
        "colab": {
          "base_uri": "https://localhost:8080/"
        },
        "id": "e7b68c57",
        "outputId": "8aa09c2f-cb32-48c6-f1df-559c1a79bd38"
      },
      "outputs": [
        {
          "output_type": "stream",
          "name": "stdout",
          "text": [
            "Spam \n",
            "Spam \n",
            "Spam \n",
            "Spam \n"
          ]
        }
      ],
      "source": [
        "print_n_times('Spam ', 4)"
      ]
    },
    {
      "cell_type": "markdown",
      "id": "1fb55a78",
      "metadata": {
        "id": "1fb55a78"
      },
      "source": [
        "For simple examples like this, it is probably easier to use a `for`\n",
        "loop. But we will see examples later that are hard to write with a `for`\n",
        "loop and easy to write with recursion, so it is good to start early."
      ]
    },
    {
      "cell_type": "markdown",
      "id": "c652c739",
      "metadata": {
        "id": "c652c739"
      },
      "source": [
        "## Stack diagrams for recursive functions\n",
        "\n",
        "Here's a stack diagram that shows the frames created when we called `countdown` with `n = 3`."
      ]
    },
    {
      "cell_type": "code",
      "execution_count": null,
      "id": "643148da",
      "metadata": {
        "tags": [],
        "id": "643148da"
      },
      "outputs": [],
      "source": [
        "from diagram import make_frame, Stack\n",
        "\n",
        "frames = []\n",
        "for n in [3,2,1,0]:\n",
        "    d = dict(n=n)\n",
        "    frame = make_frame(d, name='countdown', dy=-0.3, loc='left')\n",
        "    frames.append(frame)\n",
        "\n",
        "stack = Stack(frames, dy=-0.5)"
      ]
    },
    {
      "cell_type": "code",
      "execution_count": null,
      "id": "a8510119",
      "metadata": {
        "tags": [],
        "colab": {
          "base_uri": "https://localhost:8080/",
          "height": 241
        },
        "id": "a8510119",
        "outputId": "aedd5cca-db25-409f-9e47-d7861361e733"
      },
      "outputs": [
        {
          "output_type": "display_data",
          "data": {
            "text/plain": [
              "<Figure size 174x204 with 1 Axes>"
            ],
            "image/png": "[encoded data removed]"
          },
          "metadata": {}
        }
      ],
      "source": [
        "from diagram import diagram, adjust\n",
        "\n",
        "\n",
        "width, height, x, y = [1.74, 2.04, 1.05, 1.77]\n",
        "ax = diagram(width, height)\n",
        "bbox = stack.draw(ax, x, y)\n",
        "# adjust(x, y, bbox)"
      ]
    },
    {
      "cell_type": "markdown",
      "id": "9282331b",
      "metadata": {
        "id": "9282331b"
      },
      "source": [
        "The four `countdown` frames have different values for the parameter `n`.\n",
        "The bottom of the stack, where `n=0`, is called the **base case**.\n",
        "It does not make a recursive call, so there are no more frames."
      ]
    },
    {
      "cell_type": "code",
      "execution_count": null,
      "id": "a2a376b3",
      "metadata": {
        "tags": [],
        "colab": {
          "base_uri": "https://localhost:8080/",
          "height": 191
        },
        "id": "a2a376b3",
        "outputId": "50a20a91-e2a8-497a-80b8-d5e3e3afcc2a"
      },
      "outputs": [
        {
          "output_type": "display_data",
          "data": {
            "text/plain": [
              "<Figure size 353x154 with 1 Axes>"
            ],
            "image/png": "[encoded data removed]"
          },
          "metadata": {}
        }
      ],
      "source": [
        "from diagram import make_frame, Stack\n",
        "from diagram import diagram, adjust\n",
        "\n",
        "frames = []\n",
        "for n in [2,1,0]:\n",
        "    d = dict(string='Hello', n=n)\n",
        "    frame = make_frame(d, name='print_n_times', dx=1.3, loc='left')\n",
        "    frames.append(frame)\n",
        "\n",
        "stack = Stack(frames, dy=-0.5)\n",
        "\n",
        "width, height, x, y = [3.53, 1.54, 1.54, 1.27]\n",
        "ax = diagram(width, height)\n",
        "bbox = stack.draw(ax, x, y)\n",
        "# adjust(x, y, bbox)"
      ]
    },
    {
      "cell_type": "markdown",
      "id": "37bbc2b8",
      "metadata": {
        "id": "37bbc2b8"
      },
      "source": [
        "## Infinite recursion\n",
        "\n",
        "If a recursion never reaches a base case, it goes on making recursive\n",
        "calls forever, and the program never terminates. This is known as\n",
        "**infinite recursion**, and it is generally not a good idea.\n",
        "Here's a minimal function with an infinite recursion."
      ]
    },
    {
      "cell_type": "code",
      "execution_count": null,
      "id": "af487feb",
      "metadata": {
        "id": "af487feb"
      },
      "outputs": [],
      "source": [
        "def recurse():\n",
        "    recurse()"
      ]
    },
    {
      "cell_type": "markdown",
      "id": "450a20ac",
      "metadata": {
        "id": "450a20ac"
      },
      "source": [
        "Every time `recurse` is called, it calls itself, which creates another frame.\n",
        "In Python, there is a limit to the number of frames that can be on the stack at the same time.\n",
        "If a program exceeds the limit, it causes a runtime error."
      ]
    },
    {
      "cell_type": "code",
      "execution_count": 4,
      "id": "e5d6c732",
      "metadata": {
        "tags": [],
        "colab": {
          "base_uri": "https://localhost:8080/"
        },
        "id": "e5d6c732",
        "outputId": "77eeb3bb-dd33-44be-dba4-3cb81c9c9dd0"
      },
      "outputs": [
        {
          "output_type": "stream",
          "name": "stdout",
          "text": [
            "Exception reporting mode: Context\n"
          ]
        }
      ],
      "source": [
        "%xmode Context"
      ]
    },
    {
      "cell_type": "code",
      "execution_count": 5,
      "id": "22454b51",
      "metadata": {
        "tags": [],
        "colab": {
          "base_uri": "https://localhost:8080/",
          "height": 141
        },
        "id": "22454b51",
        "outputId": "2a0bfe04-e4f5-49c5-8e0d-8757c9e675b3"
      },
      "outputs": [
        {
          "output_type": "error",
          "ename": "NameError",
          "evalue": "name 'recurse' is not defined",
          "traceback": [
            "\u001b[0;31m---------------------------------------------------------------------------\u001b[0m",
            "\u001b[0;31mNameError\u001b[0m                                 Traceback (most recent call last)",
            "\u001b[0;32m/tmp/ipython-input-1911777761.py\u001b[0m in \u001b[0;36m<cell line: 0>\u001b[0;34m()\u001b[0m\n\u001b[0;32m----> 1\u001b[0;31m \u001b[0mrecurse\u001b[0m\u001b[0;34m(\u001b[0m\u001b[0;34m)\u001b[0m\u001b[0;34m\u001b[0m\u001b[0;34m\u001b[0m\u001b[0m\n\u001b[0m",
            "\u001b[0;31mNameError\u001b[0m: name 'recurse' is not defined"
          ]
        }
      ],
      "source": [
        "%%expect RecursionError\n",
        "\n",
        "recurse()"
      ]
    },
    {
      "cell_type": "markdown",
      "id": "39fc5c31",
      "metadata": {
        "id": "39fc5c31"
      },
      "source": [
        "The traceback indicates that there were almost 3000 frames on the stack when the error occurred.\n",
        "\n",
        "If you encounter an infinite recursion by accident, review your function to confirm that there is a base case that does not make a recursive call. And if there is a base case, check whether you are guaranteed to reach it."
      ]
    },
    {
      "cell_type": "markdown",
      "id": "45299414",
      "metadata": {
        "id": "45299414"
      },
      "source": [
        "## Keyboard input\n",
        "\n",
        "The programs we have written so far accept no input from the user. They\n",
        "just do the same thing every time.\n",
        "\n",
        "Python provides a built-in function called `input` that stops the\n",
        "program and waits for the user to type something. When the user presses\n",
        "*Return* or *Enter*, the program resumes and `input` returns what the user\n",
        "typed as a string."
      ]
    },
    {
      "cell_type": "code",
      "execution_count": 6,
      "id": "ac0fb4a6",
      "metadata": {
        "tags": [],
        "colab": {
          "base_uri": "https://localhost:8080/"
        },
        "id": "ac0fb4a6",
        "outputId": "cc15d573-5cb2-46ec-c3c5-d7f589b5d893"
      },
      "outputs": [
        {
          "output_type": "stream",
          "name": "stdout",
          "text": [
            "Please type something and press Enter:\n"
          ]
        }
      ],
      "source": [
        "# Solution goes here\n",
        "print(\"Please type something and press Enter:\")"
      ]
    },
    {
      "cell_type": "code",
      "execution_count": 7,
      "id": "f6a2e4d6",
      "metadata": {
        "id": "f6a2e4d6",
        "outputId": "15c5853e-226e-48fc-e506-f206107155a3",
        "colab": {
          "base_uri": "https://localhost:8080/"
        }
      },
      "outputs": [
        {
          "output_type": "stream",
          "name": "stdout",
          "text": [
            "hello\n",
            "hello\n"
          ]
        }
      ],
      "source": [
        "text = input()\n",
        "print(text)"
      ]
    },
    {
      "cell_type": "markdown",
      "id": "acf9ec53",
      "metadata": {
        "id": "acf9ec53"
      },
      "source": [
        "Before getting input from the user, you might want to display a prompt\n",
        "telling the user what to type. `input` can take a prompt as an argument:"
      ]
    },
    {
      "cell_type": "code",
      "execution_count": null,
      "id": "e0600e5e",
      "metadata": {
        "tags": [],
        "id": "e0600e5e"
      },
      "outputs": [],
      "source": [
        "# Solution goes here"
      ]
    },
    {
      "cell_type": "code",
      "execution_count": 10,
      "id": "964346f0",
      "metadata": {
        "id": "964346f0",
        "outputId": "3e91dcec-2ebf-4324-ae74-63c864aa2ee0",
        "colab": {
          "base_uri": "https://localhost:8080/",
          "height": 70
        }
      },
      "outputs": [
        {
          "name": "stdout",
          "output_type": "stream",
          "text": [
            "What...is your name?\n",
            "Lina\n"
          ]
        },
        {
          "output_type": "execute_result",
          "data": {
            "text/plain": [
              "'Lina'"
            ],
            "application/vnd.google.colaboratory.intrinsic+json": {
              "type": "string"
            }
          },
          "metadata": {},
          "execution_count": 10
        }
      ],
      "source": [
        "name = input('What...is your name?\\n')\n",
        "name"
      ]
    },
    {
      "cell_type": "markdown",
      "id": "1b754b39",
      "metadata": {
        "id": "1b754b39"
      },
      "source": [
        "The sequence `\\n` at the end of the prompt represents a **newline**, which is a special character that causes a line break -- that way the user's input appears below the prompt.\n",
        "\n",
        "If you expect the user to type an integer, you can use the `int` function to convert the return value to `int`."
      ]
    },
    {
      "cell_type": "code",
      "execution_count": null,
      "id": "590983cd",
      "metadata": {
        "tags": [],
        "colab": {
          "base_uri": "https://localhost:8080/"
        },
        "id": "590983cd",
        "outputId": "d634ae9c-d377-4f2f-d69f-f0d729a50629"
      },
      "outputs": [
        {
          "output_type": "stream",
          "name": "stdout",
          "text": [
            "What...is the airspeed velocity of an unladen swallow?\n",
            "\n",
            "2\n",
            "2\n"
          ]
        }
      ],
      "source": [
        "# Solution goes here\n",
        "print('What...is the airspeed velocity of an unladen swallow?\\n')\n",
        "interger = input()\n",
        "print(interger)"
      ]
    },
    {
      "cell_type": "code",
      "execution_count": null,
      "id": "60a484d7",
      "metadata": {
        "id": "60a484d7",
        "outputId": "a3a3ea69-f353-43be-c062-cfcda7f38fa4",
        "colab": {
          "base_uri": "https://localhost:8080/",
          "height": 70
        }
      },
      "outputs": [
        {
          "name": "stdout",
          "output_type": "stream",
          "text": [
            "What...is the airspeed velocity of an unladen swallow?\n",
            "2\n"
          ]
        },
        {
          "output_type": "execute_result",
          "data": {
            "text/plain": [
              "'2'"
            ],
            "application/vnd.google.colaboratory.intrinsic+json": {
              "type": "string"
            }
          },
          "metadata": {},
          "execution_count": 49
        }
      ],
      "source": [
        "prompt = 'What...is the airspeed velocity of an unladen swallow?\\n'\n",
        "speed = input(prompt)\n",
        "speed"
      ]
    },
    {
      "cell_type": "markdown",
      "id": "0a65f2af",
      "metadata": {
        "id": "0a65f2af"
      },
      "source": [
        "But if they type something that's not an integer, you'll get a runtime error."
      ]
    },
    {
      "cell_type": "code",
      "execution_count": 12,
      "id": "8d3d6049",
      "metadata": {
        "tags": [],
        "id": "8d3d6049",
        "outputId": "bae19ecc-3328-41ba-c7ac-b43c2eb5382c",
        "colab": {
          "base_uri": "https://localhost:8080/"
        }
      },
      "outputs": [
        {
          "output_type": "stream",
          "name": "stdout",
          "text": [
            "Exception reporting mode: Minimal\n"
          ]
        }
      ],
      "source": [
        "%xmode Minimal"
      ]
    },
    {
      "cell_type": "code",
      "execution_count": 13,
      "id": "a04e3016",
      "metadata": {
        "tags": [],
        "id": "a04e3016",
        "outputId": "90c7d9ba-331c-44da-ca28-7176f3a8c22f",
        "colab": {
          "base_uri": "https://localhost:8080/",
          "height": 54
        }
      },
      "outputs": [
        {
          "output_type": "error",
          "ename": "NameError",
          "evalue": "name 'speed' is not defined",
          "traceback": [
            "\u001b[0;31mNameError\u001b[0m\u001b[0;31m:\u001b[0m name 'speed' is not defined\n"
          ]
        }
      ],
      "source": [
        "%%expect ValueError\n",
        "\n",
        "int(speed)"
      ]
    },
    {
      "cell_type": "markdown",
      "id": "a4ce3ed5",
      "metadata": {
        "id": "a4ce3ed5"
      },
      "source": [
        "We will see how to handle this kind of error later."
      ]
    },
    {
      "cell_type": "markdown",
      "id": "14c1d3dc",
      "metadata": {
        "id": "14c1d3dc"
      },
      "source": [
        "## Debugging\n",
        "\n",
        "When a syntax or runtime error occurs, the error message contains a lot\n",
        "of information, but it can be overwhelming. The most useful parts are\n",
        "usually:\n",
        "\n",
        "-   What kind of error it was, and\n",
        "\n",
        "-   Where it occurred.\n",
        "\n",
        "Syntax errors are usually easy to find, but there are a few gotchas.\n",
        "Errors related to spaces and tabs can be tricky because they are invisible\n",
        "and we are used to ignoring them."
      ]
    },
    {
      "cell_type": "code",
      "execution_count": 14,
      "id": "b82642f6",
      "metadata": {
        "tags": [],
        "id": "b82642f6",
        "outputId": "0d7687f4-0b57-42ae-fdce-7cbaa9046722",
        "colab": {
          "base_uri": "https://localhost:8080/",
          "height": 106
        }
      },
      "outputs": [
        {
          "output_type": "error",
          "ename": "IndentationError",
          "evalue": "unexpected indent (ipython-input-2365500740.py, line 2)",
          "traceback": [
            "\u001b[0;36m  File \u001b[0;32m\"/tmp/ipython-input-2365500740.py\"\u001b[0;36m, line \u001b[0;32m2\u001b[0m\n\u001b[0;31m    y = 6\u001b[0m\n\u001b[0m    ^\u001b[0m\n\u001b[0;31mIndentationError\u001b[0m\u001b[0;31m:\u001b[0m unexpected indent\n"
          ]
        }
      ],
      "source": [
        "%%expect IndentationError\n",
        "x = 5\n",
        " y = 6"
      ]
    },
    {
      "cell_type": "markdown",
      "id": "d1d06263",
      "metadata": {
        "id": "d1d06263"
      },
      "source": [
        "In this example, the problem is that the second line is indented by one space.\n",
        "But the error message points to `y`, which is misleading.\n",
        "Error messages indicate where the problem was discovered, but the actual error might be earlier in the code.\n",
        "\n",
        "The same is true of runtime errors.\n",
        "For example, suppose you are trying to convert a ratio to decibels, like this:"
      ]
    },
    {
      "cell_type": "code",
      "execution_count": 15,
      "id": "583ef53c",
      "metadata": {
        "tags": [],
        "id": "583ef53c",
        "outputId": "f9c97ae8-6737-4c00-a04e-ce0cfe0f3254",
        "colab": {
          "base_uri": "https://localhost:8080/"
        }
      },
      "outputs": [
        {
          "output_type": "stream",
          "name": "stdout",
          "text": [
            "Exception reporting mode: Context\n"
          ]
        }
      ],
      "source": [
        "%xmode Context"
      ]
    },
    {
      "cell_type": "code",
      "execution_count": 16,
      "id": "2f4b6082",
      "metadata": {
        "tags": [],
        "id": "2f4b6082",
        "outputId": "f2283189-8df1-47fa-d6c3-2aab0bdc13f9",
        "colab": {
          "base_uri": "https://localhost:8080/",
          "height": 176
        }
      },
      "outputs": [
        {
          "output_type": "error",
          "ename": "ValueError",
          "evalue": "math domain error",
          "traceback": [
            "\u001b[0;31m---------------------------------------------------------------------------\u001b[0m",
            "\u001b[0;31mValueError\u001b[0m                                Traceback (most recent call last)",
            "\u001b[0;32m/tmp/ipython-input-3830115708.py\u001b[0m in \u001b[0;36m<cell line: 0>\u001b[0;34m()\u001b[0m\n\u001b[1;32m      3\u001b[0m \u001b[0mdenominator\u001b[0m \u001b[0;34m=\u001b[0m \u001b[0;36m10\u001b[0m\u001b[0;34m\u001b[0m\u001b[0;34m\u001b[0m\u001b[0m\n\u001b[1;32m      4\u001b[0m \u001b[0mratio\u001b[0m \u001b[0;34m=\u001b[0m \u001b[0mnumerator\u001b[0m \u001b[0;34m//\u001b[0m \u001b[0mdenominator\u001b[0m\u001b[0;34m\u001b[0m\u001b[0;34m\u001b[0m\u001b[0m\n\u001b[0;32m----> 5\u001b[0;31m \u001b[0mdecibels\u001b[0m \u001b[0;34m=\u001b[0m \u001b[0;36m10\u001b[0m \u001b[0;34m*\u001b[0m \u001b[0mmath\u001b[0m\u001b[0;34m.\u001b[0m\u001b[0mlog10\u001b[0m\u001b[0;34m(\u001b[0m\u001b[0mratio\u001b[0m\u001b[0;34m)\u001b[0m\u001b[0;34m\u001b[0m\u001b[0;34m\u001b[0m\u001b[0m\n\u001b[0m",
            "\u001b[0;31mValueError\u001b[0m: math domain error"
          ]
        }
      ],
      "source": [
        "%%expect ValueError\n",
        "import math\n",
        "numerator = 9\n",
        "denominator = 10\n",
        "ratio = numerator // denominator\n",
        "decibels = 10 * math.log10(ratio)"
      ]
    },
    {
      "cell_type": "markdown",
      "id": "55914374",
      "metadata": {
        "id": "55914374"
      },
      "source": [
        "The error message indicates line 5, but there is nothing wrong with that line.\n",
        "The problem is in line 4, which uses integer division instead of floating-point division -- as a result, the value of `ratio` is `0`.\n",
        "When we call `math.log10`, we get a `ValueError` with the message `math domain error`, because `0` is not in the \"domain\" of valid arguments for `math.log10`, because the logarithm of `0` is undefined.\n",
        "\n",
        "In general, you should take the time to read error messages carefully, but don't assume that everything they say is correct."
      ]
    },
    {
      "cell_type": "markdown",
      "id": "8ffe690e",
      "metadata": {
        "id": "8ffe690e"
      },
      "source": [
        "## Glossary\n",
        "\n",
        "**recursion:**\n",
        "The process of calling the function that is currently executing.\n",
        "\n",
        "**modulus operator:**\n",
        "An operator, `%`, that works on integers and returns the remainder when one number is divided by another.\n",
        "\n",
        "**boolean expression:**\n",
        "An expression whose value is either `True` or `False`.\n",
        "\n",
        "**relational operator:**\n",
        "One of the operators that compares its operands: `==`, `!=`, `>`, `<`, `>=`, and `<=`.\n",
        "\n",
        "**logical operator:**\n",
        "One of the operators that combines boolean expressions, including `and`, `or`, and `not`.\n",
        "\n",
        "**conditional statement:**\n",
        "A statement that controls the flow of execution depending on some condition.\n",
        "\n",
        "**condition:**\n",
        "The boolean expression in a conditional statement that determines which branch runs.\n",
        "\n",
        "**block:**\n",
        "One or more statements indented to indicate they are part of another statement.\n",
        "\n",
        "**branch:**\n",
        "One of the alternative sequences of statements in a conditional statement.\n",
        "\n",
        "**chained conditional:**\n",
        "A conditional statement with a series of alternative branches.\n",
        "\n",
        "**nested conditional:**\n",
        "A conditional statement that appears in one of the branches of another conditional statement.\n",
        "\n",
        "**recursive:**\n",
        "A function that calls itself is recursive.\n",
        "\n",
        "**base case:**\n",
        "A conditional branch in a recursive function that does not make a recursive call.\n",
        "\n",
        "**infinite recursion:**\n",
        "A recursion that doesn't have a base case, or never reaches it.\n",
        "Eventually, an infinite recursion causes a runtime error.\n",
        "\n",
        "**newline:**\n",
        "A character that creates a line break between two parts of a string."
      ]
    },
    {
      "cell_type": "markdown",
      "id": "8d783953",
      "metadata": {
        "id": "8d783953"
      },
      "source": [
        "## Exercises"
      ]
    },
    {
      "cell_type": "code",
      "execution_count": null,
      "id": "66aae3cb",
      "metadata": {
        "tags": [],
        "id": "66aae3cb",
        "outputId": "b55d1a5f-33cd-4e0b-c77c-326586df54f4",
        "colab": {
          "base_uri": "https://localhost:8080/"
        }
      },
      "outputs": [
        {
          "output_type": "stream",
          "name": "stdout",
          "text": [
            "Exception reporting mode: Verbose\n"
          ]
        }
      ],
      "source": [
        "# This cell tells Jupyter to provide detailed debugging information\n",
        "# when a runtime error occurs. Run it before working on the exercises.\n",
        "\n",
        "%xmode Verbose"
      ]
    },
    {
      "cell_type": "markdown",
      "id": "02f9f1d7",
      "metadata": {
        "id": "02f9f1d7"
      },
      "source": [
        "### Ask a virtual assistant\n",
        "\n",
        "* Ask a virtual assistant, \"What are some uses of the modulus operator?\"\n",
        "\n",
        "* Python provides operators to compute the logical operations `and`, `or`, and `not`, but it doesn't have an operator that computes the exclusive `or` operation, usually written `xor`. Ask an assistant \"What is the logical xor operation and how do I compute it in Python?\"\n",
        "\n",
        "In this chapter, we saw two ways to write an `if` statement with three branches, using a chained conditional or a nested conditional.\n",
        "You can use a virtual assistant to convert from one to the other.\n",
        "For example, ask a VA, \"Convert this statement to a chained conditional.\""
      ]
    },
    {
      "cell_type": "code",
      "execution_count": null,
      "id": "ade1ecb4",
      "metadata": {
        "tags": [],
        "id": "ade1ecb4"
      },
      "outputs": [],
      "source": [
        "x = 5\n",
        "y = 7"
      ]
    },
    {
      "cell_type": "code",
      "execution_count": null,
      "id": "dc7026c2",
      "metadata": {
        "id": "dc7026c2",
        "outputId": "cf82c21c-6d32-4630-993c-40da55b1c033",
        "colab": {
          "base_uri": "https://localhost:8080/"
        }
      },
      "outputs": [
        {
          "output_type": "stream",
          "name": "stdout",
          "text": [
            "x is less than y\n"
          ]
        }
      ],
      "source": [
        "if x == y:\n",
        "    print('x and y are equal')\n",
        "else:\n",
        "    if x < y:\n",
        "        print('x is less than y')\n",
        "    else:\n",
        "        print('x is greater than y')"
      ]
    },
    {
      "cell_type": "markdown",
      "id": "9c2a8466",
      "metadata": {
        "id": "9c2a8466"
      },
      "source": [
        "Ask a VA, \"Rewrite this statement with a single conditional.\""
      ]
    },
    {
      "cell_type": "code",
      "execution_count": null,
      "id": "1fd919ea",
      "metadata": {
        "id": "1fd919ea",
        "outputId": "514de2bc-f578-4032-ea3a-4b529431dd0b",
        "colab": {
          "base_uri": "https://localhost:8080/"
        }
      },
      "outputs": [
        {
          "output_type": "stream",
          "name": "stdout",
          "text": [
            "x is a positive single-digit number.\n"
          ]
        }
      ],
      "source": [
        "if 0 < x:\n",
        "    if x < 10:\n",
        "        print('x is a positive single-digit number.')"
      ]
    },
    {
      "cell_type": "code",
      "source": [
        "if 0 < x < 10:\n",
        "    print(\"x is a positive single-digit number.\")\n"
      ],
      "metadata": {
        "id": "bpIADpofo9l9",
        "outputId": "f6243b4a-6064-48e8-ed5e-de3245a5d70f",
        "colab": {
          "base_uri": "https://localhost:8080/"
        }
      },
      "id": "bpIADpofo9l9",
      "execution_count": null,
      "outputs": [
        {
          "output_type": "stream",
          "name": "stdout",
          "text": [
            "x is a positive single-digit number.\n"
          ]
        }
      ]
    },
    {
      "cell_type": "markdown",
      "id": "e0fbed08",
      "metadata": {
        "id": "e0fbed08"
      },
      "source": [
        "See if a VA can simplify this unnecessary complexity."
      ]
    },
    {
      "cell_type": "code",
      "execution_count": null,
      "id": "1e71702e",
      "metadata": {
        "id": "1e71702e",
        "outputId": "e8a8526e-53a9-48cb-94e8-1151862af09e",
        "colab": {
          "base_uri": "https://localhost:8080/"
        }
      },
      "outputs": [
        {
          "output_type": "stream",
          "name": "stdout",
          "text": [
            "x is a positive single-digit number.\n"
          ]
        }
      ],
      "source": [
        "if not x <= 0 and not x >= 10:\n",
        "    print('x is a positive single-digit number.')"
      ]
    },
    {
      "cell_type": "code",
      "source": [
        "if 0 < x < 10:\n",
        "    print(\"x is a positive single-digit number.\")\n"
      ],
      "metadata": {
        "id": "_iqcOwPjpdOo",
        "outputId": "e56ad60a-e15f-41dd-d4ee-858e2ebc6b26",
        "colab": {
          "base_uri": "https://localhost:8080/"
        }
      },
      "id": "_iqcOwPjpdOo",
      "execution_count": null,
      "outputs": [
        {
          "output_type": "stream",
          "name": "stdout",
          "text": [
            "x is a positive single-digit number.\n"
          ]
        }
      ]
    },
    {
      "cell_type": "markdown",
      "id": "74ef776d",
      "metadata": {
        "id": "74ef776d"
      },
      "source": [
        "Here's an attempt at a recursive function that counts down by two."
      ]
    },
    {
      "cell_type": "code",
      "execution_count": null,
      "id": "84cbd5a4",
      "metadata": {
        "id": "84cbd5a4"
      },
      "outputs": [],
      "source": [
        "def countdown_by_two(n):\n",
        "    if n == 0:\n",
        "        print('Blastoff!')\n",
        "    else:\n",
        "        print(n)\n",
        "        countdown_by_two(n-2)"
      ]
    },
    {
      "cell_type": "markdown",
      "id": "77178e79",
      "metadata": {
        "id": "77178e79"
      },
      "source": [
        "It seems to work."
      ]
    },
    {
      "cell_type": "code",
      "execution_count": null,
      "id": "b0918789",
      "metadata": {
        "id": "b0918789",
        "outputId": "9a66ea33-199e-46b7-8cdd-f2aef1fee8fb",
        "colab": {
          "base_uri": "https://localhost:8080/"
        }
      },
      "outputs": [
        {
          "output_type": "stream",
          "name": "stdout",
          "text": [
            "6\n",
            "4\n",
            "2\n",
            "Blastoff!\n"
          ]
        }
      ],
      "source": [
        "countdown_by_two(6)"
      ]
    },
    {
      "cell_type": "markdown",
      "id": "c9d3a8dc",
      "metadata": {
        "id": "c9d3a8dc"
      },
      "source": [
        "But it has an error. Ask a virtual assistant what's wrong and how to fix it.\n",
        "Paste the solution it provides back here and test it."
      ]
    },
    {
      "cell_type": "code",
      "source": [
        "def countdown_by_one(n):\n",
        "    if n == 0:\n",
        "        print('Blastoff!')\n",
        "    else:\n",
        "        print(n)\n",
        "        countdown_by_two(n-1)\n",
        "\n",
        "countdown_by_one(6)"
      ],
      "metadata": {
        "id": "cYPM-p18po_7",
        "outputId": "72929ead-be49-4031-a9f7-d50312e2712f",
        "colab": {
          "base_uri": "https://localhost:8080/"
        }
      },
      "id": "cYPM-p18po_7",
      "execution_count": null,
      "outputs": [
        {
          "output_type": "stream",
          "name": "stdout",
          "text": [
            "6\n",
            "5\n",
            "4\n",
            "3\n",
            "2\n",
            "1\n",
            "Blastoff!\n"
          ]
        }
      ]
    },
    {
      "cell_type": "markdown",
      "id": "240a3888",
      "metadata": {
        "id": "240a3888"
      },
      "source": [
        "### Exercise\n",
        "\n",
        "The `time` module provides a function, also called `time`, that returns\n",
        "returns the number of seconds since the \"Unix epoch\", which is January 1, 1970, 00:00:00 UTC (Coordinated Universal Time)."
      ]
    },
    {
      "cell_type": "code",
      "execution_count": 19,
      "id": "1e7a2c07",
      "metadata": {
        "id": "1e7a2c07",
        "colab": {
          "base_uri": "https://localhost:8080/"
        },
        "outputId": "c7ea09ac-d23a-48ba-9a3f-9f5495ef7e98"
      },
      "outputs": [
        {
          "output_type": "execute_result",
          "data": {
            "text/plain": [
              "1756888249.3883133"
            ]
          },
          "metadata": {},
          "execution_count": 19
        }
      ],
      "source": [
        "from time import time\n",
        "\n",
        "now = time()\n",
        "now"
      ]
    },
    {
      "cell_type": "markdown",
      "id": "054c3197",
      "metadata": {
        "id": "054c3197"
      },
      "source": [
        "Use integer division and the modulus operator to compute the number of days since January 1, 1970 and the current time of day in hours, minutes, and seconds."
      ]
    },
    {
      "cell_type": "code",
      "source": [
        "seconds = int(now)\n",
        "days = seconds // 86400\n",
        "seconds_today = seconds % 86400\n",
        "hours = seconds_today // 3600                 # 3600 seconds in an hour\n",
        "minutes = (seconds_today % 3600) // 60        # Leftover seconds, divided by 60\n",
        "seconds_left = seconds_today % 60             # Leftover seconds after minutes\n",
        "print(\"Days since Jan 1, 1970:\", days)\n",
        "print(\"Time of day: {:02d}:{:02d}:{:02d}\".format(hours, minutes, seconds_left))\n"
      ],
      "metadata": {
        "colab": {
          "base_uri": "https://localhost:8080/"
        },
        "id": "Iz4SVDastFvs",
        "outputId": "a5aee9a2-c92e-48e5-fb1b-4337cd6f9c21"
      },
      "id": "Iz4SVDastFvs",
      "execution_count": 21,
      "outputs": [
        {
          "output_type": "stream",
          "name": "stdout",
          "text": [
            "Days since Jan 1, 1970: 20334\n",
            "Time of day: 08:30:49\n"
          ]
        }
      ]
    },
    {
      "cell_type": "markdown",
      "source": [
        "Step\tCode\tMeaning\n",
        "Get time\tnow = time()\tSeconds since 1970-01-01\n",
        "Convert to int\tseconds = int(now)\tWhole seconds\n",
        "Days since epoch\tdays = seconds // 86400\tFull days since epoch\n",
        "Seconds today\tseconds_today = seconds % 86400\tSeconds elapsed today\n",
        "Hours\thours = seconds_today // 3600\tCurrent hour of day\n",
        "Minutes\tminutes = (seconds_today % 3600) // 60\tCurrent minute of hour\n",
        "Seconds\tseconds_left = seconds_today % 60\tLeftover seconds"
      ],
      "metadata": {
        "id": "h6Uiz8bTtnzT"
      },
      "id": "h6Uiz8bTtnzT"
    },
    {
      "cell_type": "markdown",
      "id": "310196ba",
      "metadata": {
        "tags": [],
        "id": "310196ba"
      },
      "source": [
        "You can read more about the `time` module at <https://docs.python.org/3/library/time.html>."
      ]
    },
    {
      "cell_type": "code",
      "execution_count": null,
      "id": "c5fa57b2",
      "metadata": {
        "id": "c5fa57b2"
      },
      "outputs": [],
      "source": [
        "# Solution goes here"
      ]
    },
    {
      "cell_type": "code",
      "execution_count": null,
      "id": "322ddd0a",
      "metadata": {
        "id": "322ddd0a"
      },
      "outputs": [],
      "source": [
        "# Solution goes here"
      ]
    },
    {
      "cell_type": "code",
      "execution_count": null,
      "id": "fc43df7d",
      "metadata": {
        "id": "fc43df7d"
      },
      "outputs": [],
      "source": [
        "# Solution goes here"
      ]
    },
    {
      "cell_type": "code",
      "execution_count": null,
      "id": "0184d21a",
      "metadata": {
        "id": "0184d21a"
      },
      "outputs": [],
      "source": [
        "# Solution goes here"
      ]
    },
    {
      "cell_type": "markdown",
      "id": "6b1fd514",
      "metadata": {
        "id": "6b1fd514"
      },
      "source": [
        "### Exercise\n",
        "\n",
        "If you are given three sticks, you may or may not be able to arrange\n",
        "them in a triangle. For example, if one of the sticks is 12 inches long\n",
        "and the other two are one inch long, you will not be able to get the\n",
        "short sticks to meet in the middle. For any three lengths, there is a\n",
        "test to see if it is possible to form a triangle:\n",
        "\n",
        "> If any of the three lengths is greater than the sum of the other two,\n",
        "> then you cannot form a triangle. Otherwise, you can. (If the sum of\n",
        "> two lengths equals the third, they form what is called a \"degenerate\"\n",
        "> triangle.)\n",
        "\n",
        "Write a function named `is_triangle` that takes three integers as\n",
        "arguments, and that prints either \"Yes\" or \"No\", depending on\n",
        "whether you can or cannot form a triangle from sticks with the given\n",
        "lengths. Hint: Use a chained conditional.\n",
        "\n"
      ]
    },
    {
      "cell_type": "code",
      "execution_count": 22,
      "id": "06381639",
      "metadata": {
        "tags": [],
        "id": "06381639"
      },
      "outputs": [],
      "source": [
        "# Solution goes here\n",
        "def is_triangle(a, b, c):\n",
        "    if a > b + c:\n",
        "        print(\"No\")\n",
        "    elif b > a + c:\n",
        "        print(\"No\")\n",
        "    elif c > a + b:\n",
        "        print(\"No\")\n",
        "    else:\n",
        "        print(\"Yes\")\n"
      ]
    },
    {
      "cell_type": "markdown",
      "id": "2842401c",
      "metadata": {
        "tags": [],
        "id": "2842401c"
      },
      "source": [
        "Test your function with the following cases."
      ]
    },
    {
      "cell_type": "code",
      "execution_count": 23,
      "id": "156273af",
      "metadata": {
        "tags": [],
        "id": "156273af",
        "colab": {
          "base_uri": "https://localhost:8080/"
        },
        "outputId": "181d7225-aa60-458f-a865-df4182084cb5"
      },
      "outputs": [
        {
          "output_type": "stream",
          "name": "stdout",
          "text": [
            "Yes\n"
          ]
        }
      ],
      "source": [
        "is_triangle(4, 5, 6)   # should be Yes"
      ]
    },
    {
      "cell_type": "code",
      "execution_count": 24,
      "id": "e00793f4",
      "metadata": {
        "tags": [],
        "id": "e00793f4",
        "colab": {
          "base_uri": "https://localhost:8080/"
        },
        "outputId": "f6851c44-85c3-4876-94e5-41708f733325"
      },
      "outputs": [
        {
          "output_type": "stream",
          "name": "stdout",
          "text": [
            "Yes\n"
          ]
        }
      ],
      "source": [
        "is_triangle(1, 2, 3)   # should be Yes"
      ]
    },
    {
      "cell_type": "code",
      "execution_count": 25,
      "id": "d2911c71",
      "metadata": {
        "tags": [],
        "id": "d2911c71",
        "colab": {
          "base_uri": "https://localhost:8080/"
        },
        "outputId": "b4c69074-9ad2-489b-db62-f7b70ec25ecc"
      },
      "outputs": [
        {
          "output_type": "stream",
          "name": "stdout",
          "text": [
            "No\n"
          ]
        }
      ],
      "source": [
        "is_triangle(6, 2, 3)   # should be No"
      ]
    },
    {
      "cell_type": "code",
      "execution_count": 26,
      "id": "2b05586e",
      "metadata": {
        "tags": [],
        "id": "2b05586e",
        "colab": {
          "base_uri": "https://localhost:8080/"
        },
        "outputId": "58746768-dd66-4666-9cf0-e3e2a1274606"
      },
      "outputs": [
        {
          "output_type": "stream",
          "name": "stdout",
          "text": [
            "No\n"
          ]
        }
      ],
      "source": [
        "is_triangle(1, 1, 12)   # should be No"
      ]
    },
    {
      "cell_type": "markdown",
      "id": "2ba42106",
      "metadata": {
        "id": "2ba42106"
      },
      "source": [
        "### Exercise\n",
        "\n",
        "What is the output of the following program? Draw a stack diagram that\n",
        "shows the state of the program when it prints the result."
      ]
    },
    {
      "cell_type": "code",
      "execution_count": 27,
      "id": "dac374ad",
      "metadata": {
        "id": "dac374ad",
        "colab": {
          "base_uri": "https://localhost:8080/"
        },
        "outputId": "f1b24554-8421-4949-b2bc-3d614ab316b9"
      },
      "outputs": [
        {
          "output_type": "stream",
          "name": "stdout",
          "text": [
            "6\n"
          ]
        }
      ],
      "source": [
        "def recurse(n, s):\n",
        "    if n == 0:\n",
        "        print(s)\n",
        "    else:\n",
        "        recurse(n-1, n+s)\n",
        "\n",
        "recurse(3, 0)"
      ]
    },
    {
      "cell_type": "code",
      "execution_count": 31,
      "id": "a438cec5",
      "metadata": {
        "id": "a438cec5",
        "colab": {
          "base_uri": "https://localhost:8080/"
        },
        "outputId": "802e426d-70bb-40b3-e9a2-72ea77286d86"
      },
      "outputs": [
        {
          "output_type": "stream",
          "name": "stdout",
          "text": [
            "\n",
            "recurse(n=3, s=0)\n",
            "  recurse(n=2, s=3)\n",
            "    recurse(n=1, s=5)\n",
            "      recurse(n=0, s=6)  # prints 6 here\n",
            "\n"
          ]
        }
      ],
      "source": [
        "# Solution goes here\n",
        "stack_diagram = \"\"\"\n",
        "recurse(n=3, s=0)\n",
        "  recurse(n=2, s=3)\n",
        "    recurse(n=1, s=5)\n",
        "      recurse(n=0, s=6)  # prints 6 here\n",
        "\"\"\"\n",
        "print(stack_diagram)\n",
        "\n"
      ]
    },
    {
      "cell_type": "code",
      "execution_count": null,
      "id": "2e3f56c7",
      "metadata": {
        "tags": [],
        "id": "2e3f56c7"
      },
      "outputs": [],
      "source": [
        "# Solution goes here"
      ]
    },
    {
      "cell_type": "markdown",
      "id": "bca9517d",
      "metadata": {
        "id": "bca9517d"
      },
      "source": [
        "### Exercise\n",
        "\n",
        "The following exercises use the `jupyturtle` module, described in Chapter 4.\n",
        "\n",
        "Read the following function and see if you can figure out what it does.\n",
        "Then run it and see if you got it right.\n",
        "Adjust the values of `length`, `angle` and `factor` and see what effect they have on the result.\n",
        "If you are not sure you understand how it works, try asking a virtual assistant."
      ]
    },
    {
      "cell_type": "code",
      "execution_count": null,
      "id": "2b0d60a1",
      "metadata": {
        "id": "2b0d60a1"
      },
      "outputs": [],
      "source": [
        "from jupyturtle import forward, left, right, back\n",
        "\n",
        "def draw(length):\n",
        "    angle = 50\n",
        "    factor = 0.6\n",
        "\n",
        "    if length > 5:\n",
        "        forward(length)\n",
        "        left(angle)\n",
        "        draw(factor * length)\n",
        "        right(2 * angle)\n",
        "        draw(factor * length)\n",
        "        left(angle)\n",
        "        back(length)"
      ]
    },
    {
      "cell_type": "code",
      "execution_count": null,
      "id": "ef0256ee",
      "metadata": {
        "id": "ef0256ee"
      },
      "outputs": [],
      "source": [
        "# Solution goes here"
      ]
    },
    {
      "cell_type": "markdown",
      "id": "e525ba59",
      "metadata": {
        "id": "e525ba59"
      },
      "source": [
        "### Exercise\n",
        "\n",
        "Ask a virtual assistant \"What is the Koch curve?\"\n",
        "\n",
        "To draw a Koch curve with length `x`, all you\n",
        "have to do is\n",
        "\n",
        "1.  Draw a Koch curve with length `x/3`.\n",
        "\n",
        "2.  Turn left 60 degrees.\n",
        "\n",
        "3.  Draw a Koch curve with length `x/3`.\n",
        "\n",
        "4.  Turn right 120 degrees.\n",
        "\n",
        "5.  Draw a Koch curve with length `x/3`.\n",
        "\n",
        "6.  Turn left 60 degrees.\n",
        "\n",
        "7.  Draw a Koch curve with length `x/3`.\n",
        "\n",
        "The exception is if `x` is less than `5` -- in that case, you can just draw a straight line with length `x`.\n",
        "\n",
        "Write a function called `koch` that takes `x` as an argument and draws a Koch curve with the given length.\n"
      ]
    },
    {
      "cell_type": "code",
      "execution_count": null,
      "id": "c1acc853",
      "metadata": {
        "id": "c1acc853"
      },
      "outputs": [],
      "source": [
        "# Solution goes here"
      ]
    },
    {
      "cell_type": "markdown",
      "id": "2991143a",
      "metadata": {
        "id": "2991143a"
      },
      "source": [
        "The result should look like this:"
      ]
    },
    {
      "cell_type": "code",
      "execution_count": null,
      "id": "55507716",
      "metadata": {
        "id": "55507716"
      },
      "outputs": [],
      "source": [
        "make_turtle(delay=0)\n",
        "koch(120)"
      ]
    },
    {
      "cell_type": "markdown",
      "id": "b1c58420",
      "metadata": {
        "tags": [],
        "id": "b1c58420"
      },
      "source": [
        "Once you have koch working, you can use this loop to draw three Koch curves in the shape of a snowflake."
      ]
    },
    {
      "cell_type": "code",
      "execution_count": null,
      "id": "86d3123b",
      "metadata": {
        "tags": [],
        "id": "86d3123b"
      },
      "outputs": [],
      "source": [
        "make_turtle(delay=0, height=300)\n",
        "for i in range(3):\n",
        "    koch(120)\n",
        "    right(120)"
      ]
    },
    {
      "cell_type": "markdown",
      "id": "4c964239",
      "metadata": {
        "id": "4c964239"
      },
      "source": [
        "### Exercise\n",
        "\n",
        "Virtual assistants know about the functions in the `jupyturtle` module, but there are many versions of these functions, with different names, so a VA might not know which one you are talking about.\n",
        "\n",
        "To solve this problem, you can provide additional information before you ask a question.\n",
        "For example, you could start a prompt with \"Here's a program that uses the `jupyturtle` module,\" and then paste in one of the examples from this chapter.\n",
        "After that, the VA should be able to generate code that uses this module.\n",
        "\n",
        "As an example, ask a VA for a program that draws a Sierpiński triangle.\n",
        "The code you get should be a good starting place, but you might have to do some debugging.\n",
        "If the first attempt doesn't work, you can tell the VA what happened and ask for help -- or you can debug it yourself."
      ]
    },
    {
      "cell_type": "code",
      "execution_count": null,
      "id": "68439acf",
      "metadata": {
        "id": "68439acf"
      },
      "outputs": [],
      "source": [
        "# Solution goes here"
      ]
    },
    {
      "cell_type": "markdown",
      "id": "6a95097a",
      "metadata": {
        "id": "6a95097a"
      },
      "source": [
        "Here's what the result might look like, although the version you get might be different."
      ]
    },
    {
      "cell_type": "code",
      "execution_count": null,
      "id": "43470b3d",
      "metadata": {
        "id": "43470b3d"
      },
      "outputs": [],
      "source": [
        "make_turtle(delay=0, height=200)\n",
        "\n",
        "draw_sierpinski(100, 3)"
      ]
    },
    {
      "cell_type": "code",
      "execution_count": null,
      "id": "9d6969d4",
      "metadata": {
        "id": "9d6969d4"
      },
      "outputs": [],
      "source": []
    },
    {
      "cell_type": "code",
      "source": [
        "#My own excersie\n",
        "def open_doll(size):\n",
        "    if size == 1:        # Base case: smallest doll\n",
        "        print(\"Smallest doll opened\")\n",
        "    else:                # Recursive case: open current doll and then smaller one\n",
        "        print(f\"Doll of size {size} opened\")\n",
        "        open_doll(size - 1)  # Call the same function for the smaller doll\n",
        "\n",
        "open_doll(5)\n",
        "\n"
      ],
      "metadata": {
        "id": "_yXG8yXNjjII",
        "outputId": "0fc19a17-7e6c-4f35-e1ad-ee5ad5bd9961",
        "colab": {
          "base_uri": "https://localhost:8080/"
        }
      },
      "id": "_yXG8yXNjjII",
      "execution_count": null,
      "outputs": [
        {
          "output_type": "stream",
          "name": "stdout",
          "text": [
            "Doll of size 5 opened\n",
            "Doll of size 4 opened\n",
            "Doll of size 3 opened\n",
            "Doll of size 2 opened\n",
            "Smallest doll opened\n"
          ]
        }
      ]
    },
    {
      "cell_type": "markdown",
      "id": "a7f4edf8",
      "metadata": {
        "tags": [],
        "id": "a7f4edf8"
      },
      "source": [
        "[Think Python: 3rd Edition](https://allendowney.github.io/ThinkPython/index.html)\n",
        "\n",
        "Copyright 2024 [Allen B. Downey](https://allendowney.com)\n",
        "\n",
        "Code license: [MIT License](https://mit-license.org/)\n",
        "\n",
        "Text license: [Creative Commons Attribution-NonCommercial-ShareAlike 4.0 International](https://creativecommons.org/licenses/by-nc-sa/4.0/)"
      ]
    }
  ],
  "metadata": {
    "celltoolbar": "Tags",
    "kernelspec": {
      "display_name": "Python 3 (ipykernel)",
      "language": "python",
      "name": "python3"
    },
    "language_info": {
      "codemirror_mode": {
        "name": "ipython",
        "version": 3
      },
      "file_extension": ".py",
      "mimetype": "text/x-python",
      "name": "python",
      "nbconvert_exporter": "python",
      "pygments_lexer": "ipython3",
      "version": "3.10.11"
    },
    "colab": {
      "provenance": []
    }
  },
  "nbformat": 4,
  "nbformat_minor": 5
}