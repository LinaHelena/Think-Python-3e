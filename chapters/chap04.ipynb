{
  "cells": [
    {
      "cell_type": "markdown",
      "id": "1331faa1",
      "metadata": {
        "id": "1331faa1"
      },
      "source": [
        "You can order print and ebook versions of *Think Python 3e* from\n",
        "[Bookshop.org](https://bookshop.org/a/98697/9781098155438) and\n",
        "[Amazon](https://www.amazon.com/_/dp/1098155432?smid=ATVPDKIKX0DER&_encoding=UTF8&tag=oreilly20-20&_encoding=UTF8&tag=greenteapre01-20&linkCode=ur2&linkId=e2a529f94920295d27ec8a06e757dc7c&camp=1789&creative=9325)."
      ]
    },
    {
      "cell_type": "code",
      "execution_count": 90,
      "id": "df64b7da",
      "metadata": {
        "tags": [],
        "id": "df64b7da"
      },
      "outputs": [],
      "source": [
        "from os.path import basename, exists\n",
        "\n",
        "def download(url):\n",
        "    filename = basename(url)\n",
        "    if not exists(filename):\n",
        "        from urllib.request import urlretrieve\n",
        "\n",
        "        local, _ = urlretrieve(url, filename)\n",
        "        print(\"Downloaded \" + str(local))\n",
        "    return filename\n",
        "\n",
        "download('https://github.com/AllenDowney/ThinkPython/raw/v3/thinkpython.py');\n",
        "download('https://github.com/AllenDowney/ThinkPython/raw/v3/diagram.py');\n",
        "download('https://github.com/ramalho/jupyturtle/releases/download/2024-03/jupyturtle.py');"
      ]
    },
    {
      "cell_type": "code",
      "execution_count": 89,
      "id": "320fc8bc",
      "metadata": {
        "tags": [],
        "colab": {
          "base_uri": "https://localhost:8080/",
          "height": 611
        },
        "id": "320fc8bc",
        "outputId": "91c566cd-3653-4411-be2c-35fab41b5451"
      },
      "outputs": [
        {
          "output_type": "error",
          "ename": "ModuleNotFoundError",
          "evalue": "No module named 'imp'",
          "traceback": [
            "\u001b[0;31m---------------------------------------------------------------------------\u001b[0m",
            "\u001b[0;31mModuleNotFoundError\u001b[0m                       Traceback (most recent call last)",
            "\u001b[0;32m/tmp/ipython-input-1433211634.py\u001b[0m in \u001b[0;36m<cell line: 0>\u001b[0;34m()\u001b[0m\n\u001b[1;32m      1\u001b[0m \u001b[0;32mimport\u001b[0m \u001b[0mthinkpython\u001b[0m\u001b[0;34m\u001b[0m\u001b[0;34m\u001b[0m\u001b[0m\n\u001b[1;32m      2\u001b[0m \u001b[0;34m\u001b[0m\u001b[0m\n\u001b[0;32m----> 3\u001b[0;31m \u001b[0mget_ipython\u001b[0m\u001b[0;34m(\u001b[0m\u001b[0;34m)\u001b[0m\u001b[0;34m.\u001b[0m\u001b[0mrun_line_magic\u001b[0m\u001b[0;34m(\u001b[0m\u001b[0;34m'load_ext'\u001b[0m\u001b[0;34m,\u001b[0m \u001b[0;34m'autoreload'\u001b[0m\u001b[0;34m)\u001b[0m\u001b[0;34m\u001b[0m\u001b[0;34m\u001b[0m\u001b[0m\n\u001b[0m        \u001b[0;36mglobal\u001b[0m \u001b[0;36mget_ipython.run_line_magic\u001b[0m \u001b[0;34m= \u001b[0;36mundefined\u001b[0m\u001b[0m\n\u001b[1;32m      4\u001b[0m \u001b[0mget_ipython\u001b[0m\u001b[0;34m(\u001b[0m\u001b[0;34m)\u001b[0m\u001b[0;34m.\u001b[0m\u001b[0mrun_line_magic\u001b[0m\u001b[0;34m(\u001b[0m\u001b[0;34m'autoreload'\u001b[0m\u001b[0;34m,\u001b[0m \u001b[0;34m'2'\u001b[0m\u001b[0;34m)\u001b[0m\u001b[0;34m\u001b[0m\u001b[0;34m\u001b[0m\u001b[0m\n",
            "\u001b[0;32m/usr/local/lib/python3.12/dist-packages/IPython/core/interactiveshell.py\u001b[0m in \u001b[0;36mrun_line_magic\u001b[0;34m(self=<google.colab._shell.Shell object>, magic_name='load_ext', line='autoreload', _stack_depth=1)\u001b[0m\n\u001b[1;32m   2416\u001b[0m                 \u001b[0mkwargs\u001b[0m\u001b[0;34m[\u001b[0m\u001b[0;34m'local_ns'\u001b[0m\u001b[0;34m]\u001b[0m \u001b[0;34m=\u001b[0m \u001b[0mself\u001b[0m\u001b[0;34m.\u001b[0m\u001b[0mget_local_scope\u001b[0m\u001b[0;34m(\u001b[0m\u001b[0mstack_depth\u001b[0m\u001b[0;34m)\u001b[0m\u001b[0;34m\u001b[0m\u001b[0;34m\u001b[0m\u001b[0m\n\u001b[1;32m   2417\u001b[0m             \u001b[0;32mwith\u001b[0m \u001b[0mself\u001b[0m\u001b[0;34m.\u001b[0m\u001b[0mbuiltin_trap\u001b[0m\u001b[0;34m:\u001b[0m\u001b[0;34m\u001b[0m\u001b[0;34m\u001b[0m\u001b[0m\n\u001b[0;32m-> 2418\u001b[0;31m                 \u001b[0mresult\u001b[0m \u001b[0;34m=\u001b[0m \u001b[0mfn\u001b[0m\u001b[0;34m(\u001b[0m\u001b[0;34m*\u001b[0m\u001b[0margs\u001b[0m\u001b[0;34m,\u001b[0m \u001b[0;34m**\u001b[0m\u001b[0mkwargs\u001b[0m\u001b[0;34m)\u001b[0m\u001b[0;34m\u001b[0m\u001b[0;34m\u001b[0m\u001b[0m\n\u001b[0m        \u001b[0;36mresult\u001b[0m \u001b[0;34m= \u001b[0;36mundefined\u001b[0m\u001b[0m\u001b[0;34m\n        \u001b[0m\u001b[0;36mfn\u001b[0m \u001b[0;34m= <bound method ExtensionMagics.load_ext of <IPython.core.magics.extension.ExtensionMagics object at 0x7b85b9fd56a0>>\u001b[0m\u001b[0;34m\n        \u001b[0m\u001b[0;36margs\u001b[0m \u001b[0;34m= ['autoreload']\u001b[0m\u001b[0;34m\n        \u001b[0m\u001b[0;36mkwargs\u001b[0m \u001b[0;34m= {}\u001b[0m\n\u001b[1;32m   2419\u001b[0m             \u001b[0;32mreturn\u001b[0m \u001b[0mresult\u001b[0m\u001b[0;34m\u001b[0m\u001b[0;34m\u001b[0m\u001b[0m\n\u001b[1;32m   2420\u001b[0m \u001b[0;34m\u001b[0m\u001b[0m\n",
            "\u001b[0;32m<decorator-gen-57>\u001b[0m in \u001b[0;36mload_ext\u001b[0;34m(self=<IPython.core.magics.extension.ExtensionMagics object>, module_str='autoreload')\u001b[0m\n",
            "\u001b[0;32m/usr/local/lib/python3.12/dist-packages/IPython/core/magic.py\u001b[0m in \u001b[0;36m<lambda>\u001b[0;34m(f=<function ExtensionMagics.load_ext>, *a=(<IPython.core.magics.extension.ExtensionMagics object>, 'autoreload'), **k={})\u001b[0m\n\u001b[1;32m    185\u001b[0m     \u001b[0;31m# but it's overkill for just that one bit of state.\u001b[0m\u001b[0;34m\u001b[0m\u001b[0;34m\u001b[0m\u001b[0m\n\u001b[1;32m    186\u001b[0m     \u001b[0;32mdef\u001b[0m \u001b[0mmagic_deco\u001b[0m\u001b[0;34m(\u001b[0m\u001b[0marg\u001b[0m\u001b[0;34m)\u001b[0m\u001b[0;34m:\u001b[0m\u001b[0;34m\u001b[0m\u001b[0;34m\u001b[0m\u001b[0m\n\u001b[0;32m--> 187\u001b[0;31m         \u001b[0mcall\u001b[0m \u001b[0;34m=\u001b[0m \u001b[0;32mlambda\u001b[0m \u001b[0mf\u001b[0m\u001b[0;34m,\u001b[0m \u001b[0;34m*\u001b[0m\u001b[0ma\u001b[0m\u001b[0;34m,\u001b[0m \u001b[0;34m**\u001b[0m\u001b[0mk\u001b[0m\u001b[0;34m:\u001b[0m \u001b[0mf\u001b[0m\u001b[0;34m(\u001b[0m\u001b[0;34m*\u001b[0m\u001b[0ma\u001b[0m\u001b[0;34m,\u001b[0m \u001b[0;34m**\u001b[0m\u001b[0mk\u001b[0m\u001b[0;34m)\u001b[0m\u001b[0;34m\u001b[0m\u001b[0;34m\u001b[0m\u001b[0m\n\u001b[0m        \u001b[0;36mglobal\u001b[0m \u001b[0;36mcall\u001b[0m \u001b[0;34m= \u001b[0;36mundefined\u001b[0m\u001b[0m\u001b[0;34m\n        \u001b[0m\u001b[0;36mf\u001b[0m \u001b[0;34m= <function ExtensionMagics.load_ext at 0x7b85ba330ea0>\u001b[0m\u001b[0;34m\n        \u001b[0m\u001b[0;36ma\u001b[0m \u001b[0;34m= (<IPython.core.magics.extension.ExtensionMagics object at 0x7b85b9fd56a0>, 'autoreload')\u001b[0m\u001b[0;34m\n        \u001b[0m\u001b[0;36mk\u001b[0m \u001b[0;34m= {}\u001b[0m\n\u001b[1;32m    188\u001b[0m \u001b[0;34m\u001b[0m\u001b[0m\n\u001b[1;32m    189\u001b[0m         \u001b[0;32mif\u001b[0m \u001b[0mcallable\u001b[0m\u001b[0;34m(\u001b[0m\u001b[0marg\u001b[0m\u001b[0;34m)\u001b[0m\u001b[0;34m:\u001b[0m\u001b[0;34m\u001b[0m\u001b[0;34m\u001b[0m\u001b[0m\n",
            "\u001b[0;32m/usr/local/lib/python3.12/dist-packages/IPython/core/magics/extension.py\u001b[0m in \u001b[0;36mload_ext\u001b[0;34m(self=<IPython.core.magics.extension.ExtensionMagics object>, module_str='autoreload')\u001b[0m\n\u001b[1;32m     31\u001b[0m         \u001b[0;32mif\u001b[0m \u001b[0;32mnot\u001b[0m \u001b[0mmodule_str\u001b[0m\u001b[0;34m:\u001b[0m\u001b[0;34m\u001b[0m\u001b[0;34m\u001b[0m\u001b[0m\n\u001b[1;32m     32\u001b[0m             \u001b[0;32mraise\u001b[0m \u001b[0mUsageError\u001b[0m\u001b[0;34m(\u001b[0m\u001b[0;34m'Missing module name.'\u001b[0m\u001b[0;34m)\u001b[0m\u001b[0;34m\u001b[0m\u001b[0;34m\u001b[0m\u001b[0m\n\u001b[0;32m---> 33\u001b[0;31m         \u001b[0mres\u001b[0m \u001b[0;34m=\u001b[0m \u001b[0mself\u001b[0m\u001b[0;34m.\u001b[0m\u001b[0mshell\u001b[0m\u001b[0;34m.\u001b[0m\u001b[0mextension_manager\u001b[0m\u001b[0;34m.\u001b[0m\u001b[0mload_extension\u001b[0m\u001b[0;34m(\u001b[0m\u001b[0mmodule_str\u001b[0m\u001b[0;34m)\u001b[0m\u001b[0;34m\u001b[0m\u001b[0;34m\u001b[0m\u001b[0m\n\u001b[0m        \u001b[0;36mres\u001b[0m \u001b[0;34m= \u001b[0;36mundefined\u001b[0m\u001b[0m\u001b[0;34m\n        \u001b[0m\u001b[0;36mself.shell.extension_manager.load_extension\u001b[0m \u001b[0;34m= <bound method ExtensionManager.load_extension of <IPython.core.extensions.ExtensionManager object at 0x7b85b3886ff0>>\u001b[0m\u001b[0;34m\n        \u001b[0m\u001b[0;36mmodule_str\u001b[0m \u001b[0;34m= 'autoreload'\u001b[0m\n\u001b[1;32m     34\u001b[0m \u001b[0;34m\u001b[0m\u001b[0m\n\u001b[1;32m     35\u001b[0m         \u001b[0;32mif\u001b[0m \u001b[0mres\u001b[0m \u001b[0;34m==\u001b[0m \u001b[0;34m'already loaded'\u001b[0m\u001b[0;34m:\u001b[0m\u001b[0;34m\u001b[0m\u001b[0;34m\u001b[0m\u001b[0m\n",
            "\u001b[0;32m/usr/local/lib/python3.12/dist-packages/IPython/core/extensions.py\u001b[0m in \u001b[0;36mload_extension\u001b[0;34m(self=<IPython.core.extensions.ExtensionManager object>, module_str='autoreload')\u001b[0m\n\u001b[1;32m     78\u001b[0m             \u001b[0;32mif\u001b[0m \u001b[0mmodule_str\u001b[0m \u001b[0;32mnot\u001b[0m \u001b[0;32min\u001b[0m \u001b[0msys\u001b[0m\u001b[0;34m.\u001b[0m\u001b[0mmodules\u001b[0m\u001b[0;34m:\u001b[0m\u001b[0;34m\u001b[0m\u001b[0;34m\u001b[0m\u001b[0m\n\u001b[1;32m     79\u001b[0m                 \u001b[0;32mwith\u001b[0m \u001b[0mprepended_to_syspath\u001b[0m\u001b[0;34m(\u001b[0m\u001b[0mself\u001b[0m\u001b[0;34m.\u001b[0m\u001b[0mipython_extension_dir\u001b[0m\u001b[0;34m)\u001b[0m\u001b[0;34m:\u001b[0m\u001b[0;34m\u001b[0m\u001b[0;34m\u001b[0m\u001b[0m\n\u001b[0;32m---> 80\u001b[0;31m                     \u001b[0mmod\u001b[0m \u001b[0;34m=\u001b[0m \u001b[0mimport_module\u001b[0m\u001b[0;34m(\u001b[0m\u001b[0mmodule_str\u001b[0m\u001b[0;34m)\u001b[0m\u001b[0;34m\u001b[0m\u001b[0;34m\u001b[0m\u001b[0m\n\u001b[0m        \u001b[0;36mmod\u001b[0m \u001b[0;34m= \u001b[0;36mundefined\u001b[0m\u001b[0m\u001b[0;34m\n        \u001b[0m\u001b[0;36mglobal\u001b[0m \u001b[0;36mimport_module\u001b[0m \u001b[0;34m= <function import_module at 0x7b85bc32a700>\u001b[0m\u001b[0;34m\n        \u001b[0m\u001b[0;36mmodule_str\u001b[0m \u001b[0;34m= 'autoreload'\u001b[0m\n\u001b[1;32m     81\u001b[0m                     \u001b[0;32mif\u001b[0m \u001b[0mmod\u001b[0m\u001b[0;34m.\u001b[0m\u001b[0m__file__\u001b[0m\u001b[0;34m.\u001b[0m\u001b[0mstartswith\u001b[0m\u001b[0;34m(\u001b[0m\u001b[0mself\u001b[0m\u001b[0;34m.\u001b[0m\u001b[0mipython_extension_dir\u001b[0m\u001b[0;34m)\u001b[0m\u001b[0;34m:\u001b[0m\u001b[0;34m\u001b[0m\u001b[0;34m\u001b[0m\u001b[0m\n\u001b[1;32m     82\u001b[0m                         print((\"Loading extensions from {dir} is deprecated. \"\n",
            "\u001b[0;32m/usr/lib/python3.12/importlib/__init__.py\u001b[0m in \u001b[0;36mimport_module\u001b[0;34m(name='autoreload', package=None)\u001b[0m\n\u001b[1;32m     88\u001b[0m                 \u001b[0;32mbreak\u001b[0m\u001b[0;34m\u001b[0m\u001b[0;34m\u001b[0m\u001b[0m\n\u001b[1;32m     89\u001b[0m             \u001b[0mlevel\u001b[0m \u001b[0;34m+=\u001b[0m \u001b[0;36m1\u001b[0m\u001b[0;34m\u001b[0m\u001b[0;34m\u001b[0m\u001b[0m\n\u001b[0;32m---> 90\u001b[0;31m     \u001b[0;32mreturn\u001b[0m \u001b[0m_bootstrap\u001b[0m\u001b[0;34m.\u001b[0m\u001b[0m_gcd_import\u001b[0m\u001b[0;34m(\u001b[0m\u001b[0mname\u001b[0m\u001b[0;34m[\u001b[0m\u001b[0mlevel\u001b[0m\u001b[0;34m:\u001b[0m\u001b[0;34m]\u001b[0m\u001b[0;34m,\u001b[0m \u001b[0mpackage\u001b[0m\u001b[0;34m,\u001b[0m \u001b[0mlevel\u001b[0m\u001b[0;34m)\u001b[0m\u001b[0;34m\u001b[0m\u001b[0;34m\u001b[0m\u001b[0m\n\u001b[0m        \u001b[0;36mglobal\u001b[0m \u001b[0;36m_bootstrap._gcd_import\u001b[0m \u001b[0;34m= <function _gcd_import at 0x7b85bc4740e0>\u001b[0m\u001b[0;34m\n        \u001b[0m\u001b[0;36mname\u001b[0m \u001b[0;34m= 'autoreload'\u001b[0m\u001b[0;34m\n        \u001b[0m\u001b[0;36mlevel\u001b[0m \u001b[0;34m= 0\u001b[0m\u001b[0;34m\n        \u001b[0m\u001b[0;36mpackage\u001b[0m \u001b[0;34m= None\u001b[0m\n\u001b[1;32m     91\u001b[0m \u001b[0;34m\u001b[0m\u001b[0m\n\u001b[1;32m     92\u001b[0m \u001b[0;34m\u001b[0m\u001b[0m\n",
            "\u001b[0;32m/usr/lib/python3.12/importlib/_bootstrap.py\u001b[0m in \u001b[0;36m_gcd_import\u001b[0;34m(name='autoreload', package=None, level=0)\u001b[0m\n",
            "\u001b[0;32m/usr/lib/python3.12/importlib/_bootstrap.py\u001b[0m in \u001b[0;36m_find_and_load\u001b[0;34m(name='autoreload', import_=<function _gcd_import>)\u001b[0m\n",
            "\u001b[0;32m/usr/lib/python3.12/importlib/_bootstrap.py\u001b[0m in \u001b[0;36m_find_and_load_unlocked\u001b[0;34m(name='autoreload', import_=<function _gcd_import>)\u001b[0m\n",
            "\u001b[0;32m/usr/lib/python3.12/importlib/_bootstrap.py\u001b[0m in \u001b[0;36m_load_unlocked\u001b[0;34m(spec=ModuleSpec(name='autoreload', loader=<_frozen_im.../dist-packages/IPython/extensions/autoreload.py'))\u001b[0m\n",
            "\u001b[0;32m/usr/lib/python3.12/importlib/_bootstrap_external.py\u001b[0m in \u001b[0;36mexec_module\u001b[0;34m(self=<_frozen_importlib_external.SourceFileLoader object>, module=<module 'autoreload' from '/usr/local/lib/python.../dist-packages/IPython/extensions/autoreload.py'>)\u001b[0m\n",
            "\u001b[0;32m/usr/lib/python3.12/importlib/_bootstrap.py\u001b[0m in \u001b[0;36m_call_with_frames_removed\u001b[0;34m(f=<built-in function exec>, *args=(<code object <module> at 0x2e4a260, file \"/usr/l...ckages/IPython/extensions/autoreload.py\", line 1>, {'__builtins__': {'ArithmeticError': <class 'ArithmeticError'>, 'AssertionError': <class 'AssertionError'>, 'AttributeError': <class 'AttributeError'>, 'BaseException': <class 'BaseException'>, 'BaseExceptionGroup': <class 'BaseExceptionGroup'>, 'BlockingIOError': <class 'BlockingIOError'>, 'BrokenPipeError': <class 'BrokenPipeError'>, 'BufferError': <class 'BufferError'>, 'BytesWarning': <class 'BytesWarning'>, 'ChildProcessError': <class 'ChildProcessError'>, ...}, '__cached__': '/usr/local/lib/python3.12/dist-packages/IPython/extensions/__pycache__/autoreload.cpython-312.pyc', '__doc__': 'IPython extension to reload modules before execu...nnot be reloaded, and so cannot be autoreloaded.\\n', '__file__': '/usr/local/lib/python3.12/dist-packages/IPython/extensions/autoreload.py', '__loader__': <_frozen_importlib_external.SourceFileLoader object>, '__name__': 'autoreload', '__package__': '', '__spec__': ModuleSpec(name='autoreload', loader=<_frozen_im.../dist-packages/IPython/extensions/autoreload.py'), 'gc': <module 'gc' (built-in)>, 'import_module': <function import_module>, ...}), **kwds={})\u001b[0m\n",
            "\u001b[0;32m/usr/local/lib/python3.12/dist-packages/IPython/extensions/autoreload.py\u001b[0m in \u001b[0;36m<module>\u001b[0;34m\u001b[0m\n\u001b[1;32m    119\u001b[0m \u001b[0;32mfrom\u001b[0m \u001b[0mimportlib\u001b[0m \u001b[0;32mimport\u001b[0m \u001b[0mimport_module\u001b[0m\u001b[0;34m\u001b[0m\u001b[0;34m\u001b[0m\u001b[0m\n\u001b[1;32m    120\u001b[0m \u001b[0;32mfrom\u001b[0m \u001b[0mimportlib\u001b[0m\u001b[0;34m.\u001b[0m\u001b[0mutil\u001b[0m \u001b[0;32mimport\u001b[0m \u001b[0msource_from_cache\u001b[0m\u001b[0;34m\u001b[0m\u001b[0;34m\u001b[0m\u001b[0m\n\u001b[0;32m--> 121\u001b[0;31m \u001b[0;32mfrom\u001b[0m \u001b[0mimp\u001b[0m \u001b[0;32mimport\u001b[0m \u001b[0mreload\u001b[0m\u001b[0;34m\u001b[0m\u001b[0;34m\u001b[0m\u001b[0m\n\u001b[0m        \u001b[0;36mglobal\u001b[0m \u001b[0;36mimp\u001b[0m \u001b[0;34m= \u001b[0;36mundefined\u001b[0m\u001b[0m\u001b[0;34m\n        \u001b[0m\u001b[0;36mglobal\u001b[0m \u001b[0;36mreload\u001b[0m \u001b[0;34m= \u001b[0;36mundefined\u001b[0m\u001b[0m\n\u001b[1;32m    122\u001b[0m \u001b[0;34m\u001b[0m\u001b[0m\n\u001b[1;32m    123\u001b[0m \u001b[0;31m#------------------------------------------------------------------------------\u001b[0m\u001b[0;34m\u001b[0m\u001b[0;34m\u001b[0m\u001b[0m\n",
            "\u001b[0;31mModuleNotFoundError\u001b[0m: No module named 'imp'",
            "",
            "\u001b[0;31m---------------------------------------------------------------------------\u001b[0;32m\nNOTE: If your import is failing due to a missing package, you can\nmanually install dependencies using either !pip or !apt.\n\nTo view examples of installing some common dependencies, click the\n\"Open Examples\" button below.\n\u001b[0;31m---------------------------------------------------------------------------\u001b[0m\n"
          ],
          "errorDetails": {
            "actions": [
              {
                "action": "open_url",
                "actionText": "Open Examples",
                "url": "/notebooks/snippets/importing_libraries.ipynb"
              }
            ]
          }
        }
      ],
      "source": [
        "import thinkpython\n",
        "\n",
        "%load_ext autoreload\n",
        "%autoreload 2"
      ]
    },
    {
      "cell_type": "markdown",
      "id": "fbb4d5a2",
      "metadata": {
        "id": "fbb4d5a2"
      },
      "source": [
        "# Functions and Interfaces\n",
        "\n",
        "This chapter introduces a module called `jupyturtle`, which allows you to create simple drawings by giving instructions to an imaginary turtle.\n",
        "We will use this module to write functions that draw squares, polygons, and circles -- and to demonstrate **interface design**, which is a way of designing functions that work together."
      ]
    },
    {
      "cell_type": "markdown",
      "id": "0b0efa00",
      "metadata": {
        "tags": [],
        "id": "0b0efa00"
      },
      "source": [
        "## The jupyturtle module\n",
        "\n",
        "To use the `jupyturtle` module, we can import it like this."
      ]
    },
    {
      "cell_type": "code",
      "execution_count": 91,
      "id": "8f5a8a45",
      "metadata": {
        "id": "8f5a8a45"
      },
      "outputs": [],
      "source": [
        "import jupyturtle"
      ]
    },
    {
      "cell_type": "markdown",
      "id": "8c801121",
      "metadata": {
        "id": "8c801121"
      },
      "source": [
        "Now we can use the functions defined in the module, like `make_turtle` and `forward`."
      ]
    },
    {
      "cell_type": "code",
      "execution_count": 92,
      "id": "b3f255cd",
      "metadata": {
        "colab": {
          "base_uri": "https://localhost:8080/",
          "height": 171
        },
        "id": "b3f255cd",
        "outputId": "eb597514-b599-403b-8318-2e99ddb9b2c6"
      },
      "outputs": [
        {
          "output_type": "display_data",
          "data": {
            "text/plain": [
              "<IPython.core.display.HTML object>"
            ],
            "text/html": [
              "<svg width=\"300\" height=\"150\">\n",
              "    <rect width=\"100%\" height=\"100%\" fill=\"#F3F3F7\" />\n",
              "\n",
              "<line x1=\"150\" y1=\"75\" x2=\"250.0\" y2=\"75.0\"\n",
              "    stroke=\"#663399\" stroke-width=\"2\" />\n",
              "\n",
              "<g transform=\"rotate(-90.0,250.0,75.0) translate(250.0, 75.0)\">\n",
              "    <circle stroke=\"#63A375\" stroke-width=\"2\" fill=\"transparent\" r=\"5.5\" cx=\"0\" cy=\"0\"/>\n",
              "    <polygon points=\"0,12 2,9 -2,9\" style=\"fill:#63A375;stroke:#63A375;stroke-width:2\"/>\n",
              "</g>\n",
              "\n",
              "</svg>"
            ]
          },
          "metadata": {}
        }
      ],
      "source": [
        "jupyturtle.make_turtle()\n",
        "jupyturtle.forward(100)"
      ]
    },
    {
      "cell_type": "markdown",
      "id": "77a61cbb",
      "metadata": {
        "id": "77a61cbb"
      },
      "source": [
        "`make_turtle` creates a **canvas**, which is a space on the screen where we can draw, and a turtle, which is represented by a circular shell and a triangular head.\n",
        "The circle shows the location of the turtle and the triangle indicates the direction it is facing.\n",
        "\n",
        "`forward` moves the turtle a given distance in the direction it's facing, drawing a line segment along the way.\n",
        "The distance is in arbitrary units -- the actual size depends on your computer's screen.\n",
        "\n",
        "We will use functions defined in the `jupyturtle` module many times, so it would be nice if we did not have to write the name of the module every time.\n",
        "That's possible if we import the module like this."
      ]
    },
    {
      "cell_type": "code",
      "execution_count": 93,
      "id": "234fde81",
      "metadata": {
        "id": "234fde81"
      },
      "outputs": [],
      "source": [
        "from jupyturtle import make_turtle, forward"
      ]
    },
    {
      "cell_type": "markdown",
      "id": "c1322d31",
      "metadata": {
        "id": "c1322d31"
      },
      "source": [
        "This version of the import statement imports `make_turtle` and `forward` from the `jupyturtle` module so we can call them like this."
      ]
    },
    {
      "cell_type": "code",
      "execution_count": 94,
      "id": "1e768880",
      "metadata": {
        "colab": {
          "base_uri": "https://localhost:8080/",
          "height": 171
        },
        "id": "1e768880",
        "outputId": "74258eb2-f401-45e2-a71c-9bec412e1721"
      },
      "outputs": [
        {
          "output_type": "display_data",
          "data": {
            "text/plain": [
              "<IPython.core.display.HTML object>"
            ],
            "text/html": [
              "<svg width=\"300\" height=\"150\">\n",
              "    <rect width=\"100%\" height=\"100%\" fill=\"#F3F3F7\" />\n",
              "\n",
              "<line x1=\"150\" y1=\"75\" x2=\"250.0\" y2=\"75.0\"\n",
              "    stroke=\"#663399\" stroke-width=\"2\" />\n",
              "\n",
              "<g transform=\"rotate(-90.0,250.0,75.0) translate(250.0, 75.0)\">\n",
              "    <circle stroke=\"#63A375\" stroke-width=\"2\" fill=\"transparent\" r=\"5.5\" cx=\"0\" cy=\"0\"/>\n",
              "    <polygon points=\"0,12 2,9 -2,9\" style=\"fill:#63A375;stroke:#63A375;stroke-width:2\"/>\n",
              "</g>\n",
              "\n",
              "</svg>"
            ]
          },
          "metadata": {}
        }
      ],
      "source": [
        "make_turtle()\n",
        "forward(100)"
      ]
    },
    {
      "cell_type": "markdown",
      "id": "bd319754",
      "metadata": {
        "id": "bd319754"
      },
      "source": [
        "`jupyturtle` provides two other functions we'll use, called `left` and `right`.\n",
        "We'll import them like this."
      ]
    },
    {
      "cell_type": "code",
      "execution_count": 95,
      "id": "6d874b03",
      "metadata": {
        "id": "6d874b03"
      },
      "outputs": [],
      "source": [
        "from jupyturtle import left, right"
      ]
    },
    {
      "cell_type": "markdown",
      "id": "0da2a311",
      "metadata": {
        "id": "0da2a311"
      },
      "source": [
        "`left` causes the turtle to turn left. It takes one argument, which is the angle of the turn in degrees.\n",
        "For example, we can make a 90 degree left turn like this."
      ]
    },
    {
      "cell_type": "code",
      "execution_count": 96,
      "id": "1bb57a0c",
      "metadata": {
        "colab": {
          "base_uri": "https://localhost:8080/",
          "height": 171
        },
        "id": "1bb57a0c",
        "outputId": "e16f3eef-70e2-4e03-a5fa-aff62c6b968e"
      },
      "outputs": [
        {
          "output_type": "display_data",
          "data": {
            "text/plain": [
              "<IPython.core.display.HTML object>"
            ],
            "text/html": [
              "<svg width=\"300\" height=\"150\">\n",
              "    <rect width=\"100%\" height=\"100%\" fill=\"#F3F3F7\" />\n",
              "\n",
              "<line x1=\"150\" y1=\"75\" x2=\"200.0\" y2=\"75.0\"\n",
              "    stroke=\"#663399\" stroke-width=\"2\" />\n",
              "<line x1=\"200.0\" y1=\"75.0\" x2=\"200.0\" y2=\"25.0\"\n",
              "    stroke=\"#663399\" stroke-width=\"2\" />\n",
              "\n",
              "<g transform=\"rotate(180.0,200.0,25.0) translate(200.0, 25.0)\">\n",
              "    <circle stroke=\"#63A375\" stroke-width=\"2\" fill=\"transparent\" r=\"5.5\" cx=\"0\" cy=\"0\"/>\n",
              "    <polygon points=\"0,12 2,9 -2,9\" style=\"fill:#63A375;stroke:#63A375;stroke-width:2\"/>\n",
              "</g>\n",
              "\n",
              "</svg>"
            ]
          },
          "metadata": {}
        }
      ],
      "source": [
        "make_turtle()\n",
        "forward(50)\n",
        "left(90)\n",
        "forward(50)"
      ]
    },
    {
      "cell_type": "markdown",
      "id": "cea2940f",
      "metadata": {
        "id": "cea2940f"
      },
      "source": [
        "This program moves the turtle east and then north, leaving two line segments behind.\n",
        "Before you go on, see if you can modify the previous program to make a square."
      ]
    },
    {
      "cell_type": "markdown",
      "id": "e20ea96c",
      "metadata": {
        "id": "e20ea96c"
      },
      "source": [
        "## Making a square\n",
        "\n",
        "Here's one way to make a square."
      ]
    },
    {
      "cell_type": "code",
      "execution_count": 97,
      "id": "9a9e455f",
      "metadata": {
        "colab": {
          "base_uri": "https://localhost:8080/",
          "height": 171
        },
        "id": "9a9e455f",
        "outputId": "0566749e-e7a2-4d96-969f-306f3494c433"
      },
      "outputs": [
        {
          "output_type": "display_data",
          "data": {
            "text/plain": [
              "<IPython.core.display.HTML object>"
            ],
            "text/html": [
              "<svg width=\"300\" height=\"150\">\n",
              "    <rect width=\"100%\" height=\"100%\" fill=\"#F3F3F7\" />\n",
              "\n",
              "<line x1=\"150\" y1=\"75\" x2=\"200.0\" y2=\"75.0\"\n",
              "    stroke=\"#663399\" stroke-width=\"2\" />\n",
              "<line x1=\"200.0\" y1=\"75.0\" x2=\"200.0\" y2=\"25.0\"\n",
              "    stroke=\"#663399\" stroke-width=\"2\" />\n",
              "<line x1=\"200.0\" y1=\"25.0\" x2=\"150.0\" y2=\"25.0\"\n",
              "    stroke=\"#663399\" stroke-width=\"2\" />\n",
              "<line x1=\"150.0\" y1=\"25.0\" x2=\"150.0\" y2=\"75.0\"\n",
              "    stroke=\"#663399\" stroke-width=\"2\" />\n",
              "\n",
              "<g transform=\"rotate(-90.0,150.0,75.0) translate(150.0, 75.0)\">\n",
              "    <circle stroke=\"#63A375\" stroke-width=\"2\" fill=\"transparent\" r=\"5.5\" cx=\"0\" cy=\"0\"/>\n",
              "    <polygon points=\"0,12 2,9 -2,9\" style=\"fill:#63A375;stroke:#63A375;stroke-width:2\"/>\n",
              "</g>\n",
              "\n",
              "</svg>"
            ]
          },
          "metadata": {}
        }
      ],
      "source": [
        "make_turtle()\n",
        "\n",
        "forward(50)\n",
        "left(90)\n",
        "\n",
        "forward(50)\n",
        "left(90)\n",
        "\n",
        "forward(50)\n",
        "left(90)\n",
        "\n",
        "forward(50)\n",
        "left(90)"
      ]
    },
    {
      "cell_type": "markdown",
      "id": "a7500957",
      "metadata": {
        "id": "a7500957"
      },
      "source": [
        "Because this program repeats the same pair of lines four times, we can do the same thing more concisely with a `for` loop."
      ]
    },
    {
      "cell_type": "code",
      "execution_count": 98,
      "id": "cc27ad66",
      "metadata": {
        "colab": {
          "base_uri": "https://localhost:8080/",
          "height": 171
        },
        "id": "cc27ad66",
        "outputId": "279fe13b-1d18-4e4b-9ce4-5c8ef7371651"
      },
      "outputs": [
        {
          "output_type": "display_data",
          "data": {
            "text/plain": [
              "<IPython.core.display.HTML object>"
            ],
            "text/html": [
              "<svg width=\"300\" height=\"150\">\n",
              "    <rect width=\"100%\" height=\"100%\" fill=\"#F3F3F7\" />\n",
              "\n",
              "<line x1=\"150\" y1=\"75\" x2=\"200.0\" y2=\"75.0\"\n",
              "    stroke=\"#663399\" stroke-width=\"2\" />\n",
              "<line x1=\"200.0\" y1=\"75.0\" x2=\"200.0\" y2=\"25.0\"\n",
              "    stroke=\"#663399\" stroke-width=\"2\" />\n",
              "<line x1=\"200.0\" y1=\"25.0\" x2=\"150.0\" y2=\"25.0\"\n",
              "    stroke=\"#663399\" stroke-width=\"2\" />\n",
              "<line x1=\"150.0\" y1=\"25.0\" x2=\"150.0\" y2=\"75.0\"\n",
              "    stroke=\"#663399\" stroke-width=\"2\" />\n",
              "\n",
              "<g transform=\"rotate(-90.0,150.0,75.0) translate(150.0, 75.0)\">\n",
              "    <circle stroke=\"#63A375\" stroke-width=\"2\" fill=\"transparent\" r=\"5.5\" cx=\"0\" cy=\"0\"/>\n",
              "    <polygon points=\"0,12 2,9 -2,9\" style=\"fill:#63A375;stroke:#63A375;stroke-width:2\"/>\n",
              "</g>\n",
              "\n",
              "</svg>"
            ]
          },
          "metadata": {}
        }
      ],
      "source": [
        "make_turtle()\n",
        "for i in range(4):\n",
        "    forward(50)\n",
        "    left(90)"
      ]
    },
    {
      "cell_type": "markdown",
      "id": "c072ea41",
      "metadata": {
        "tags": [],
        "id": "c072ea41"
      },
      "source": [
        "## Encapsulation and generalization\n",
        "\n",
        "Let's take the square-drawing code from the previous section and put it in a function called `square`."
      ]
    },
    {
      "cell_type": "code",
      "execution_count": 99,
      "id": "ad5f1128",
      "metadata": {
        "id": "ad5f1128"
      },
      "outputs": [],
      "source": [
        "def square():\n",
        "    for i in range(4):\n",
        "        forward(50)\n",
        "        left(90)"
      ]
    },
    {
      "cell_type": "markdown",
      "id": "0789b5d9",
      "metadata": {
        "id": "0789b5d9"
      },
      "source": [
        "Now we can call the function like this."
      ]
    },
    {
      "cell_type": "code",
      "execution_count": 100,
      "id": "193bbe5e",
      "metadata": {
        "colab": {
          "base_uri": "https://localhost:8080/",
          "height": 171
        },
        "id": "193bbe5e",
        "outputId": "3f9f0346-23e8-466f-cfa5-23c7d135ccb2"
      },
      "outputs": [
        {
          "output_type": "display_data",
          "data": {
            "text/plain": [
              "<IPython.core.display.HTML object>"
            ],
            "text/html": [
              "<svg width=\"300\" height=\"150\">\n",
              "    <rect width=\"100%\" height=\"100%\" fill=\"#F3F3F7\" />\n",
              "\n",
              "<line x1=\"150\" y1=\"75\" x2=\"200.0\" y2=\"75.0\"\n",
              "    stroke=\"#663399\" stroke-width=\"2\" />\n",
              "<line x1=\"200.0\" y1=\"75.0\" x2=\"200.0\" y2=\"25.0\"\n",
              "    stroke=\"#663399\" stroke-width=\"2\" />\n",
              "<line x1=\"200.0\" y1=\"25.0\" x2=\"150.0\" y2=\"25.0\"\n",
              "    stroke=\"#663399\" stroke-width=\"2\" />\n",
              "<line x1=\"150.0\" y1=\"25.0\" x2=\"150.0\" y2=\"75.0\"\n",
              "    stroke=\"#663399\" stroke-width=\"2\" />\n",
              "\n",
              "<g transform=\"rotate(-90.0,150.0,75.0) translate(150.0, 75.0)\">\n",
              "    <circle stroke=\"#63A375\" stroke-width=\"2\" fill=\"transparent\" r=\"5.5\" cx=\"0\" cy=\"0\"/>\n",
              "    <polygon points=\"0,12 2,9 -2,9\" style=\"fill:#63A375;stroke:#63A375;stroke-width:2\"/>\n",
              "</g>\n",
              "\n",
              "</svg>"
            ]
          },
          "metadata": {}
        }
      ],
      "source": [
        "make_turtle()\n",
        "square()"
      ]
    },
    {
      "cell_type": "markdown",
      "id": "da905fc6",
      "metadata": {
        "id": "da905fc6"
      },
      "source": [
        "Wrapping a piece of code up in a function is called **encapsulation**.\n",
        "One of the benefits of encapsulation is that it attaches a name to the code, which serves as a kind of documentation. Another advantage is that if you re-use the code, it is more concise to call a function twice than to copy and paste the body!\n",
        "\n",
        "In the current version, the size of the square is always `50`.\n",
        "If we want to draw squares with different sizes, we can take the length of the sides as a parameter."
      ]
    },
    {
      "cell_type": "code",
      "execution_count": 101,
      "id": "def8a5f1",
      "metadata": {
        "id": "def8a5f1"
      },
      "outputs": [],
      "source": [
        "def square(length):\n",
        "    for i in range(4):\n",
        "        forward(length)\n",
        "        left(90)"
      ]
    },
    {
      "cell_type": "markdown",
      "id": "397fda4b",
      "metadata": {
        "id": "397fda4b"
      },
      "source": [
        "Now we can draw squares with different sizes."
      ]
    },
    {
      "cell_type": "code",
      "execution_count": 102,
      "id": "b283e795",
      "metadata": {
        "colab": {
          "base_uri": "https://localhost:8080/",
          "height": 171
        },
        "id": "b283e795",
        "outputId": "fd09d804-6aca-4b47-a6cd-d6fc3238bfed"
      },
      "outputs": [
        {
          "output_type": "display_data",
          "data": {
            "text/plain": [
              "<IPython.core.display.HTML object>"
            ],
            "text/html": [
              "<svg width=\"300\" height=\"150\">\n",
              "    <rect width=\"100%\" height=\"100%\" fill=\"#F3F3F7\" />\n",
              "\n",
              "<line x1=\"150\" y1=\"75\" x2=\"180.0\" y2=\"75.0\"\n",
              "    stroke=\"#663399\" stroke-width=\"2\" />\n",
              "<line x1=\"180.0\" y1=\"75.0\" x2=\"180.0\" y2=\"45.0\"\n",
              "    stroke=\"#663399\" stroke-width=\"2\" />\n",
              "<line x1=\"180.0\" y1=\"45.0\" x2=\"150.0\" y2=\"45.0\"\n",
              "    stroke=\"#663399\" stroke-width=\"2\" />\n",
              "<line x1=\"150.0\" y1=\"45.0\" x2=\"150.0\" y2=\"75.0\"\n",
              "    stroke=\"#663399\" stroke-width=\"2\" />\n",
              "<line x1=\"150.0\" y1=\"75.0\" x2=\"210.0\" y2=\"75.0\"\n",
              "    stroke=\"#663399\" stroke-width=\"2\" />\n",
              "<line x1=\"210.0\" y1=\"75.0\" x2=\"210.0\" y2=\"15.0\"\n",
              "    stroke=\"#663399\" stroke-width=\"2\" />\n",
              "<line x1=\"210.0\" y1=\"15.0\" x2=\"150.0\" y2=\"15.0\"\n",
              "    stroke=\"#663399\" stroke-width=\"2\" />\n",
              "<line x1=\"150.0\" y1=\"15.0\" x2=\"150.0\" y2=\"75.0\"\n",
              "    stroke=\"#663399\" stroke-width=\"2\" />\n",
              "\n",
              "<g transform=\"rotate(-90.0,150.0,75.0) translate(150.0, 75.0)\">\n",
              "    <circle stroke=\"#63A375\" stroke-width=\"2\" fill=\"transparent\" r=\"5.5\" cx=\"0\" cy=\"0\"/>\n",
              "    <polygon points=\"0,12 2,9 -2,9\" style=\"fill:#63A375;stroke:#63A375;stroke-width:2\"/>\n",
              "</g>\n",
              "\n",
              "</svg>"
            ]
          },
          "metadata": {}
        }
      ],
      "source": [
        "make_turtle()\n",
        "square(30)\n",
        "square(60)"
      ]
    },
    {
      "cell_type": "code",
      "source": [
        "#My attempt\n",
        "\n",
        "make_turtle()\n",
        "square(15)\n",
        "square(10)"
      ],
      "metadata": {
        "colab": {
          "base_uri": "https://localhost:8080/",
          "height": 171
        },
        "id": "FcF6-62EyAfA",
        "outputId": "bd35cbc4-dcb4-4347-8713-ba5ea66dc709"
      },
      "id": "FcF6-62EyAfA",
      "execution_count": 103,
      "outputs": [
        {
          "output_type": "display_data",
          "data": {
            "text/plain": [
              "<IPython.core.display.HTML object>"
            ],
            "text/html": [
              "<svg width=\"300\" height=\"150\">\n",
              "    <rect width=\"100%\" height=\"100%\" fill=\"#F3F3F7\" />\n",
              "\n",
              "<line x1=\"150\" y1=\"75\" x2=\"165.0\" y2=\"75.0\"\n",
              "    stroke=\"#663399\" stroke-width=\"2\" />\n",
              "<line x1=\"165.0\" y1=\"75.0\" x2=\"165.0\" y2=\"60.0\"\n",
              "    stroke=\"#663399\" stroke-width=\"2\" />\n",
              "<line x1=\"165.0\" y1=\"60.0\" x2=\"150.0\" y2=\"60.0\"\n",
              "    stroke=\"#663399\" stroke-width=\"2\" />\n",
              "<line x1=\"150.0\" y1=\"60.0\" x2=\"150.0\" y2=\"75.0\"\n",
              "    stroke=\"#663399\" stroke-width=\"2\" />\n",
              "<line x1=\"150.0\" y1=\"75.0\" x2=\"160.0\" y2=\"75.0\"\n",
              "    stroke=\"#663399\" stroke-width=\"2\" />\n",
              "<line x1=\"160.0\" y1=\"75.0\" x2=\"160.0\" y2=\"65.0\"\n",
              "    stroke=\"#663399\" stroke-width=\"2\" />\n",
              "<line x1=\"160.0\" y1=\"65.0\" x2=\"150.0\" y2=\"65.0\"\n",
              "    stroke=\"#663399\" stroke-width=\"2\" />\n",
              "<line x1=\"150.0\" y1=\"65.0\" x2=\"150.0\" y2=\"75.0\"\n",
              "    stroke=\"#663399\" stroke-width=\"2\" />\n",
              "\n",
              "<g transform=\"rotate(-90.0,150.0,75.0) translate(150.0, 75.0)\">\n",
              "    <circle stroke=\"#63A375\" stroke-width=\"2\" fill=\"transparent\" r=\"5.5\" cx=\"0\" cy=\"0\"/>\n",
              "    <polygon points=\"0,12 2,9 -2,9\" style=\"fill:#63A375;stroke:#63A375;stroke-width:2\"/>\n",
              "</g>\n",
              "\n",
              "</svg>"
            ]
          },
          "metadata": {}
        }
      ]
    },
    {
      "cell_type": "markdown",
      "id": "5a46bf64",
      "metadata": {
        "id": "5a46bf64"
      },
      "source": [
        "Adding a parameter to a function is called **generalization** because it makes the function more general: with the previous version, the square is always the same size; with this version it can be any size.\n",
        "\n",
        "If we add another parameter, we can make it even more general.\n",
        "The following function draws regular polygons with a given number of sides."
      ]
    },
    {
      "cell_type": "code",
      "execution_count": 33,
      "id": "171974ed",
      "metadata": {
        "id": "171974ed"
      },
      "outputs": [],
      "source": [
        "def polygon(n, length):\n",
        "    angle = 360 / n\n",
        "    for i in range(n):\n",
        "        forward(length)\n",
        "        left(angle)"
      ]
    },
    {
      "cell_type": "markdown",
      "id": "286d3c77",
      "metadata": {
        "id": "286d3c77"
      },
      "source": [
        "In a regular polygon with `n` sides, the angle between adjacent sides is `360 / n` degrees.\n",
        "\n",
        "The following example draws a `7`-sided polygon with side length `30`."
      ]
    },
    {
      "cell_type": "code",
      "execution_count": 104,
      "id": "71f7d9d2",
      "metadata": {
        "colab": {
          "base_uri": "https://localhost:8080/",
          "height": 171
        },
        "id": "71f7d9d2",
        "outputId": "acd06cc3-43bc-4deb-9a0b-4040452ee1ad"
      },
      "outputs": [
        {
          "output_type": "display_data",
          "data": {
            "text/plain": [
              "<IPython.core.display.HTML object>"
            ],
            "text/html": [
              "<svg width=\"300\" height=\"150\">\n",
              "    <rect width=\"100%\" height=\"100%\" fill=\"#F3F3F7\" />\n",
              "\n",
              "<line x1=\"150\" y1=\"75\" x2=\"180.0\" y2=\"75.0\"\n",
              "    stroke=\"#663399\" stroke-width=\"2\" />\n",
              "<line x1=\"180.0\" y1=\"75.0\" x2=\"198.7\" y2=\"51.5\"\n",
              "    stroke=\"#663399\" stroke-width=\"2\" />\n",
              "<line x1=\"198.7\" y1=\"51.5\" x2=\"192.0\" y2=\"22.3\"\n",
              "    stroke=\"#663399\" stroke-width=\"2\" />\n",
              "<line x1=\"192.0\" y1=\"22.3\" x2=\"165.0\" y2=\"9.3\"\n",
              "    stroke=\"#663399\" stroke-width=\"2\" />\n",
              "<line x1=\"165.0\" y1=\"9.3\" x2=\"138.0\" y2=\"22.3\"\n",
              "    stroke=\"#663399\" stroke-width=\"2\" />\n",
              "<line x1=\"138.0\" y1=\"22.3\" x2=\"131.3\" y2=\"51.5\"\n",
              "    stroke=\"#663399\" stroke-width=\"2\" />\n",
              "<line x1=\"131.3\" y1=\"51.5\" x2=\"150.0\" y2=\"75.0\"\n",
              "    stroke=\"#663399\" stroke-width=\"2\" />\n",
              "\n",
              "<g transform=\"rotate(270.0,150.0,75.0) translate(150.0, 75.0)\">\n",
              "    <circle stroke=\"#63A375\" stroke-width=\"2\" fill=\"transparent\" r=\"5.5\" cx=\"0\" cy=\"0\"/>\n",
              "    <polygon points=\"0,12 2,9 -2,9\" style=\"fill:#63A375;stroke:#63A375;stroke-width:2\"/>\n",
              "</g>\n",
              "\n",
              "</svg>"
            ]
          },
          "metadata": {}
        }
      ],
      "source": [
        "make_turtle()\n",
        "polygon(7, 30)"
      ]
    },
    {
      "cell_type": "markdown",
      "id": "dc0226db",
      "metadata": {
        "id": "dc0226db"
      },
      "source": [
        "When a function has more than a few numeric arguments, it is easy to forget what they are, or what order they should be in.\n",
        "It can be a good idea to include the names of the parameters in the argument list."
      ]
    },
    {
      "cell_type": "code",
      "execution_count": 35,
      "id": "8ff2a5f4",
      "metadata": {
        "tags": [],
        "colab": {
          "base_uri": "https://localhost:8080/",
          "height": 171
        },
        "id": "8ff2a5f4",
        "outputId": "5a3acd06-fcf7-4d9c-a10e-f039c1b6be8e"
      },
      "outputs": [
        {
          "output_type": "display_data",
          "data": {
            "text/plain": [
              "<IPython.core.display.HTML object>"
            ],
            "text/html": [
              "<svg width=\"300\" height=\"150\">\n",
              "    <rect width=\"100%\" height=\"100%\" fill=\"#F3F3F7\" />\n",
              "\n",
              "<line x1=\"150\" y1=\"75\" x2=\"180.0\" y2=\"75.0\"\n",
              "    stroke=\"#663399\" stroke-width=\"2\" />\n",
              "<line x1=\"180.0\" y1=\"75.0\" x2=\"198.7\" y2=\"51.5\"\n",
              "    stroke=\"#663399\" stroke-width=\"2\" />\n",
              "<line x1=\"198.7\" y1=\"51.5\" x2=\"192.0\" y2=\"22.3\"\n",
              "    stroke=\"#663399\" stroke-width=\"2\" />\n",
              "<line x1=\"192.0\" y1=\"22.3\" x2=\"165.0\" y2=\"9.3\"\n",
              "    stroke=\"#663399\" stroke-width=\"2\" />\n",
              "<line x1=\"165.0\" y1=\"9.3\" x2=\"138.0\" y2=\"22.3\"\n",
              "    stroke=\"#663399\" stroke-width=\"2\" />\n",
              "<line x1=\"138.0\" y1=\"22.3\" x2=\"131.3\" y2=\"51.5\"\n",
              "    stroke=\"#663399\" stroke-width=\"2\" />\n",
              "<line x1=\"131.3\" y1=\"51.5\" x2=\"150.0\" y2=\"75.0\"\n",
              "    stroke=\"#663399\" stroke-width=\"2\" />\n",
              "\n",
              "<g transform=\"rotate(270.0,150.0,75.0) translate(150.0, 75.0)\">\n",
              "    <circle stroke=\"#63A375\" stroke-width=\"2\" fill=\"transparent\" r=\"5.5\" cx=\"0\" cy=\"0\"/>\n",
              "    <polygon points=\"0,12 2,9 -2,9\" style=\"fill:#63A375;stroke:#63A375;stroke-width:2\"/>\n",
              "</g>\n",
              "\n",
              "</svg>"
            ]
          },
          "metadata": {}
        }
      ],
      "source": [
        "make_turtle()\n",
        "polygon(n=7, length=30)"
      ]
    },
    {
      "cell_type": "markdown",
      "id": "6aa28eba",
      "metadata": {
        "id": "6aa28eba"
      },
      "source": [
        "These are sometimes called \"named arguments\" because they include the parameter names.\n",
        "But in Python they are more often called **keyword arguments** (not to be confused with Python keywords like `for` and `def`).\n",
        "\n",
        "This use of the assignment operator, `=`, is a reminder about how arguments and parameters work -- when you call a function, the arguments are assigned to the parameters."
      ]
    },
    {
      "cell_type": "markdown",
      "id": "b10184b4",
      "metadata": {
        "id": "b10184b4"
      },
      "source": [
        "## Approximating a circle\n",
        "\n",
        "Now suppose we want to draw a circle.\n",
        "We can do that, approximately, by drawing a polygon with a large number of sides, so each side is small enough that it's hard to see.\n",
        "Here is a function that uses `polygon` to draw a `30`-sided polygon that approximates a circle."
      ]
    },
    {
      "cell_type": "code",
      "execution_count": 105,
      "id": "7f2a5f28",
      "metadata": {
        "id": "7f2a5f28"
      },
      "outputs": [],
      "source": [
        "import math\n",
        "\n",
        "def circle(radius):\n",
        "    circumference = 2 * math.pi * radius\n",
        "    n = 30\n",
        "    length = circumference / n\n",
        "    polygon(n, length)"
      ]
    },
    {
      "cell_type": "markdown",
      "id": "39023314",
      "metadata": {
        "id": "39023314"
      },
      "source": [
        "`circle` takes the radius of the the circle as a parameter.\n",
        "It computes `circumference`, which is the circumference of a circle with the given radius.\n",
        "`n` is the number of sides, so `circumference / n` is the length of each side.\n",
        "\n",
        "This function might take a long time to run.\n",
        "We can speed it up by calling `make_turtle` with a keyword argument called `delay` that sets the time, in seconds, the turtle waits after each step.\n",
        "The default value is `0.2` seconds -- if we set it to `0.02` it runs about 10 times faster."
      ]
    },
    {
      "cell_type": "code",
      "execution_count": 106,
      "id": "75258056",
      "metadata": {
        "colab": {
          "base_uri": "https://localhost:8080/",
          "height": 171
        },
        "id": "75258056",
        "outputId": "fc3add13-05b3-435b-88f2-748b733dc1c4"
      },
      "outputs": [
        {
          "output_type": "display_data",
          "data": {
            "text/plain": [
              "<IPython.core.display.HTML object>"
            ],
            "text/html": [
              "<svg width=\"300\" height=\"150\">\n",
              "    <rect width=\"100%\" height=\"100%\" fill=\"#F3F3F7\" />\n",
              "\n",
              "<line x1=\"150\" y1=\"75\" x2=\"156.3\" y2=\"75.0\"\n",
              "    stroke=\"#663399\" stroke-width=\"2\" />\n",
              "<line x1=\"156.3\" y1=\"75.0\" x2=\"162.4\" y2=\"73.7\"\n",
              "    stroke=\"#663399\" stroke-width=\"2\" />\n",
              "<line x1=\"162.4\" y1=\"73.7\" x2=\"168.2\" y2=\"71.1\"\n",
              "    stroke=\"#663399\" stroke-width=\"2\" />\n",
              "<line x1=\"168.2\" y1=\"71.1\" x2=\"173.3\" y2=\"67.4\"\n",
              "    stroke=\"#663399\" stroke-width=\"2\" />\n",
              "<line x1=\"173.3\" y1=\"67.4\" x2=\"177.5\" y2=\"62.8\"\n",
              "    stroke=\"#663399\" stroke-width=\"2\" />\n",
              "<line x1=\"177.5\" y1=\"62.8\" x2=\"180.6\" y2=\"57.3\"\n",
              "    stroke=\"#663399\" stroke-width=\"2\" />\n",
              "<line x1=\"180.6\" y1=\"57.3\" x2=\"182.5\" y2=\"51.4\"\n",
              "    stroke=\"#663399\" stroke-width=\"2\" />\n",
              "<line x1=\"182.5\" y1=\"51.4\" x2=\"183.2\" y2=\"45.1\"\n",
              "    stroke=\"#663399\" stroke-width=\"2\" />\n",
              "<line x1=\"183.2\" y1=\"45.1\" x2=\"182.5\" y2=\"38.9\"\n",
              "    stroke=\"#663399\" stroke-width=\"2\" />\n",
              "<line x1=\"182.5\" y1=\"38.9\" x2=\"180.6\" y2=\"32.9\"\n",
              "    stroke=\"#663399\" stroke-width=\"2\" />\n",
              "<line x1=\"180.6\" y1=\"32.9\" x2=\"177.5\" y2=\"27.4\"\n",
              "    stroke=\"#663399\" stroke-width=\"2\" />\n",
              "<line x1=\"177.5\" y1=\"27.4\" x2=\"173.3\" y2=\"22.8\"\n",
              "    stroke=\"#663399\" stroke-width=\"2\" />\n",
              "<line x1=\"173.3\" y1=\"22.8\" x2=\"168.2\" y2=\"19.1\"\n",
              "    stroke=\"#663399\" stroke-width=\"2\" />\n",
              "<line x1=\"168.2\" y1=\"19.1\" x2=\"162.4\" y2=\"16.5\"\n",
              "    stroke=\"#663399\" stroke-width=\"2\" />\n",
              "<line x1=\"162.4\" y1=\"16.5\" x2=\"156.3\" y2=\"15.2\"\n",
              "    stroke=\"#663399\" stroke-width=\"2\" />\n",
              "<line x1=\"156.3\" y1=\"15.2\" x2=\"150.0\" y2=\"15.2\"\n",
              "    stroke=\"#663399\" stroke-width=\"2\" />\n",
              "<line x1=\"150.0\" y1=\"15.2\" x2=\"143.9\" y2=\"16.5\"\n",
              "    stroke=\"#663399\" stroke-width=\"2\" />\n",
              "<line x1=\"143.9\" y1=\"16.5\" x2=\"138.1\" y2=\"19.1\"\n",
              "    stroke=\"#663399\" stroke-width=\"2\" />\n",
              "<line x1=\"138.1\" y1=\"19.1\" x2=\"133.0\" y2=\"22.8\"\n",
              "    stroke=\"#663399\" stroke-width=\"2\" />\n",
              "<line x1=\"133.0\" y1=\"22.8\" x2=\"128.8\" y2=\"27.4\"\n",
              "    stroke=\"#663399\" stroke-width=\"2\" />\n",
              "<line x1=\"128.8\" y1=\"27.4\" x2=\"125.7\" y2=\"32.9\"\n",
              "    stroke=\"#663399\" stroke-width=\"2\" />\n",
              "<line x1=\"125.7\" y1=\"32.9\" x2=\"123.7\" y2=\"38.9\"\n",
              "    stroke=\"#663399\" stroke-width=\"2\" />\n",
              "<line x1=\"123.7\" y1=\"38.9\" x2=\"123.1\" y2=\"45.1\"\n",
              "    stroke=\"#663399\" stroke-width=\"2\" />\n",
              "<line x1=\"123.1\" y1=\"45.1\" x2=\"123.7\" y2=\"51.4\"\n",
              "    stroke=\"#663399\" stroke-width=\"2\" />\n",
              "<line x1=\"123.7\" y1=\"51.4\" x2=\"125.7\" y2=\"57.3\"\n",
              "    stroke=\"#663399\" stroke-width=\"2\" />\n",
              "<line x1=\"125.7\" y1=\"57.3\" x2=\"128.8\" y2=\"62.8\"\n",
              "    stroke=\"#663399\" stroke-width=\"2\" />\n",
              "<line x1=\"128.8\" y1=\"62.8\" x2=\"133.0\" y2=\"67.4\"\n",
              "    stroke=\"#663399\" stroke-width=\"2\" />\n",
              "<line x1=\"133.0\" y1=\"67.4\" x2=\"138.1\" y2=\"71.1\"\n",
              "    stroke=\"#663399\" stroke-width=\"2\" />\n",
              "<line x1=\"138.1\" y1=\"71.1\" x2=\"143.9\" y2=\"73.7\"\n",
              "    stroke=\"#663399\" stroke-width=\"2\" />\n",
              "<line x1=\"143.9\" y1=\"73.7\" x2=\"150.0\" y2=\"75.0\"\n",
              "    stroke=\"#663399\" stroke-width=\"2\" />\n",
              "\n",
              "<g transform=\"rotate(-90.0,150.0,75.0) translate(150.0, 75.0)\">\n",
              "    <circle stroke=\"#63A375\" stroke-width=\"2\" fill=\"transparent\" r=\"5.5\" cx=\"0\" cy=\"0\"/>\n",
              "    <polygon points=\"0,12 2,9 -2,9\" style=\"fill:#63A375;stroke:#63A375;stroke-width:2\"/>\n",
              "</g>\n",
              "\n",
              "</svg>"
            ]
          },
          "metadata": {}
        }
      ],
      "source": [
        "make_turtle(delay=0.02)\n",
        "circle(30)"
      ]
    },
    {
      "cell_type": "markdown",
      "id": "701f9cf8",
      "metadata": {
        "id": "701f9cf8"
      },
      "source": [
        "A limitation of this solution is that `n` is a constant, which means\n",
        "that for very big circles, the sides are too long, and for small\n",
        "circles, we waste time drawing very short sides.\n",
        "One option is to generalize the function by taking `n` as a parameter.\n",
        "But let's keep it simple for now."
      ]
    },
    {
      "cell_type": "markdown",
      "id": "c48f262c",
      "metadata": {
        "id": "c48f262c"
      },
      "source": [
        "## Refactoring\n",
        "\n",
        "Now let's write a more general version of `circle`, called `arc`, that takes a second parameter, `angle`, and draws an arc of a circle that spans the given angle.\n",
        "For example, if `angle` is `360` degrees, it draws a complete circle. If `angle` is `180` degrees, it draws a half circle.\n",
        "\n",
        "To write `circle`, we were able to reuse `polygon`, because a many-sided polygon is a good approximation of a circle.\n",
        "But we can't use `polygon` to write `arc`.\n",
        "\n",
        "Instead, we'll create the more general version of `polygon`, called `polyline`."
      ]
    },
    {
      "cell_type": "code",
      "execution_count": 107,
      "id": "381edd23",
      "metadata": {
        "id": "381edd23"
      },
      "outputs": [],
      "source": [
        "def polyline(n, length, angle):\n",
        "    for i in range(n):\n",
        "        forward(length)\n",
        "        left(angle)"
      ]
    },
    {
      "cell_type": "markdown",
      "id": "c2b2503e",
      "metadata": {
        "id": "c2b2503e"
      },
      "source": [
        "`polyline` takes as parameters the number of line segments to draw, `n`, the length of the segments, `length`, and the angle between them, `angle`.\n",
        "\n",
        "Now we can rewrite `polygon` to use `polyline`."
      ]
    },
    {
      "cell_type": "code",
      "execution_count": 108,
      "id": "2f4eecc0",
      "metadata": {
        "id": "2f4eecc0"
      },
      "outputs": [],
      "source": [
        "def polygon(n, length):\n",
        "    angle = 360.0 / n\n",
        "    polyline(n, length, angle)"
      ]
    },
    {
      "cell_type": "markdown",
      "id": "2714a59e",
      "metadata": {
        "id": "2714a59e"
      },
      "source": [
        "And we can use `polyline` to write `arc`."
      ]
    },
    {
      "cell_type": "code",
      "execution_count": 109,
      "id": "539466f6",
      "metadata": {
        "id": "539466f6"
      },
      "outputs": [],
      "source": [
        "def arc(radius, angle):\n",
        "    arc_length = 2 * math.pi * radius * angle / 360\n",
        "    n = 30\n",
        "    length = arc_length / n\n",
        "    step_angle = angle / n\n",
        "    polyline(n, length, step_angle)"
      ]
    },
    {
      "cell_type": "markdown",
      "id": "3c18773c",
      "metadata": {
        "id": "3c18773c"
      },
      "source": [
        "`arc` is similar to `circle`, except that it computes `arc_length`, which is a fraction of the circumference of a circle.\n",
        "\n",
        "Finally, we can rewrite `circle` to use `arc`."
      ]
    },
    {
      "cell_type": "code",
      "execution_count": 110,
      "id": "8e09f456",
      "metadata": {
        "id": "8e09f456"
      },
      "outputs": [],
      "source": [
        "def circle(radius):\n",
        "    arc(radius,  360)"
      ]
    },
    {
      "cell_type": "markdown",
      "id": "313a357c",
      "metadata": {
        "id": "313a357c"
      },
      "source": [
        "To check that these functions work as expected, we'll use them to draw something like a snail.\n",
        "With `delay=0`, the turtle runs as fast as possible."
      ]
    },
    {
      "cell_type": "code",
      "execution_count": 111,
      "id": "80d6eadd",
      "metadata": {
        "colab": {
          "base_uri": "https://localhost:8080/",
          "height": 171
        },
        "id": "80d6eadd",
        "outputId": "8be9b7b3-fa66-4247-e145-00191d322474"
      },
      "outputs": [
        {
          "output_type": "display_data",
          "data": {
            "text/plain": [
              "<IPython.core.display.HTML object>"
            ],
            "text/html": [
              "<svg width=\"300\" height=\"150\">\n",
              "    <rect width=\"100%\" height=\"100%\" fill=\"#F3F3F7\" />\n",
              "\n",
              "<line x1=\"150\" y1=\"75\" x2=\"159.0\" y2=\"75.0\"\n",
              "    stroke=\"#663399\" stroke-width=\"2\" />\n",
              "<line x1=\"159.0\" y1=\"75.0\" x2=\"167.6\" y2=\"72.2\"\n",
              "    stroke=\"#663399\" stroke-width=\"2\" />\n",
              "<line x1=\"167.6\" y1=\"72.2\" x2=\"174.8\" y2=\"66.9\"\n",
              "    stroke=\"#663399\" stroke-width=\"2\" />\n",
              "<line x1=\"174.8\" y1=\"66.9\" x2=\"180.1\" y2=\"59.6\"\n",
              "    stroke=\"#663399\" stroke-width=\"2\" />\n",
              "<line x1=\"180.1\" y1=\"59.6\" x2=\"182.9\" y2=\"51.1\"\n",
              "    stroke=\"#663399\" stroke-width=\"2\" />\n",
              "<line x1=\"182.9\" y1=\"51.1\" x2=\"182.9\" y2=\"42.1\"\n",
              "    stroke=\"#663399\" stroke-width=\"2\" />\n",
              "<line x1=\"182.9\" y1=\"42.1\" x2=\"180.1\" y2=\"33.5\"\n",
              "    stroke=\"#663399\" stroke-width=\"2\" />\n",
              "<line x1=\"180.1\" y1=\"33.5\" x2=\"174.8\" y2=\"26.2\"\n",
              "    stroke=\"#663399\" stroke-width=\"2\" />\n",
              "<line x1=\"174.8\" y1=\"26.2\" x2=\"167.6\" y2=\"21.0\"\n",
              "    stroke=\"#663399\" stroke-width=\"2\" />\n",
              "<line x1=\"167.6\" y1=\"21.0\" x2=\"159.0\" y2=\"18.2\"\n",
              "    stroke=\"#663399\" stroke-width=\"2\" />\n",
              "<line x1=\"159.0\" y1=\"18.2\" x2=\"150.0\" y2=\"18.2\"\n",
              "    stroke=\"#663399\" stroke-width=\"2\" />\n",
              "<line x1=\"150.0\" y1=\"18.2\" x2=\"141.4\" y2=\"21.0\"\n",
              "    stroke=\"#663399\" stroke-width=\"2\" />\n",
              "<line x1=\"141.4\" y1=\"21.0\" x2=\"134.2\" y2=\"26.2\"\n",
              "    stroke=\"#663399\" stroke-width=\"2\" />\n",
              "<line x1=\"134.2\" y1=\"26.2\" x2=\"128.9\" y2=\"33.5\"\n",
              "    stroke=\"#663399\" stroke-width=\"2\" />\n",
              "<line x1=\"128.9\" y1=\"33.5\" x2=\"126.1\" y2=\"42.1\"\n",
              "    stroke=\"#663399\" stroke-width=\"2\" />\n",
              "<line x1=\"126.1\" y1=\"42.1\" x2=\"126.1\" y2=\"51.1\"\n",
              "    stroke=\"#663399\" stroke-width=\"2\" />\n",
              "<line x1=\"126.1\" y1=\"51.1\" x2=\"128.9\" y2=\"59.6\"\n",
              "    stroke=\"#663399\" stroke-width=\"2\" />\n",
              "<line x1=\"128.9\" y1=\"59.6\" x2=\"134.2\" y2=\"66.9\"\n",
              "    stroke=\"#663399\" stroke-width=\"2\" />\n",
              "<line x1=\"134.2\" y1=\"66.9\" x2=\"141.4\" y2=\"72.2\"\n",
              "    stroke=\"#663399\" stroke-width=\"2\" />\n",
              "<line x1=\"141.4\" y1=\"72.2\" x2=\"150.0\" y2=\"75.0\"\n",
              "    stroke=\"#663399\" stroke-width=\"2\" />\n",
              "<line x1=\"150.0\" y1=\"75.0\" x2=\"152.9\" y2=\"75.0\"\n",
              "    stroke=\"#663399\" stroke-width=\"2\" />\n",
              "<line x1=\"152.9\" y1=\"75.0\" x2=\"155.7\" y2=\"74.9\"\n",
              "    stroke=\"#663399\" stroke-width=\"2\" />\n",
              "<line x1=\"155.7\" y1=\"74.9\" x2=\"158.5\" y2=\"74.7\"\n",
              "    stroke=\"#663399\" stroke-width=\"2\" />\n",
              "<line x1=\"158.5\" y1=\"74.7\" x2=\"161.4\" y2=\"74.3\"\n",
              "    stroke=\"#663399\" stroke-width=\"2\" />\n",
              "<line x1=\"161.4\" y1=\"74.3\" x2=\"164.2\" y2=\"73.8\"\n",
              "    stroke=\"#663399\" stroke-width=\"2\" />\n",
              "<line x1=\"164.2\" y1=\"73.8\" x2=\"167.0\" y2=\"73.3\"\n",
              "    stroke=\"#663399\" stroke-width=\"2\" />\n",
              "<line x1=\"167.0\" y1=\"73.3\" x2=\"169.7\" y2=\"72.6\"\n",
              "    stroke=\"#663399\" stroke-width=\"2\" />\n",
              "<line x1=\"169.7\" y1=\"72.6\" x2=\"172.5\" y2=\"71.8\"\n",
              "    stroke=\"#663399\" stroke-width=\"2\" />\n",
              "<line x1=\"172.5\" y1=\"71.8\" x2=\"175.2\" y2=\"70.9\"\n",
              "    stroke=\"#663399\" stroke-width=\"2\" />\n",
              "<line x1=\"175.2\" y1=\"70.9\" x2=\"177.8\" y2=\"69.8\"\n",
              "    stroke=\"#663399\" stroke-width=\"2\" />\n",
              "<line x1=\"177.8\" y1=\"69.8\" x2=\"180.5\" y2=\"68.7\"\n",
              "    stroke=\"#663399\" stroke-width=\"2\" />\n",
              "<line x1=\"180.5\" y1=\"68.7\" x2=\"183.0\" y2=\"67.5\"\n",
              "    stroke=\"#663399\" stroke-width=\"2\" />\n",
              "<line x1=\"183.0\" y1=\"67.5\" x2=\"185.5\" y2=\"66.1\"\n",
              "    stroke=\"#663399\" stroke-width=\"2\" />\n",
              "<line x1=\"185.5\" y1=\"66.1\" x2=\"188.0\" y2=\"64.7\"\n",
              "    stroke=\"#663399\" stroke-width=\"2\" />\n",
              "<line x1=\"188.0\" y1=\"64.7\" x2=\"190.4\" y2=\"63.2\"\n",
              "    stroke=\"#663399\" stroke-width=\"2\" />\n",
              "<line x1=\"190.4\" y1=\"63.2\" x2=\"192.7\" y2=\"61.5\"\n",
              "    stroke=\"#663399\" stroke-width=\"2\" />\n",
              "<line x1=\"192.7\" y1=\"61.5\" x2=\"195.0\" y2=\"59.8\"\n",
              "    stroke=\"#663399\" stroke-width=\"2\" />\n",
              "<line x1=\"195.0\" y1=\"59.8\" x2=\"197.2\" y2=\"58.0\"\n",
              "    stroke=\"#663399\" stroke-width=\"2\" />\n",
              "<line x1=\"197.2\" y1=\"58.0\" x2=\"199.3\" y2=\"56.1\"\n",
              "    stroke=\"#663399\" stroke-width=\"2\" />\n",
              "<line x1=\"199.3\" y1=\"56.1\" x2=\"201.4\" y2=\"54.1\"\n",
              "    stroke=\"#663399\" stroke-width=\"2\" />\n",
              "<line x1=\"201.4\" y1=\"54.1\" x2=\"203.3\" y2=\"52.0\"\n",
              "    stroke=\"#663399\" stroke-width=\"2\" />\n",
              "<line x1=\"203.3\" y1=\"52.0\" x2=\"205.2\" y2=\"49.9\"\n",
              "    stroke=\"#663399\" stroke-width=\"2\" />\n",
              "<line x1=\"205.2\" y1=\"49.9\" x2=\"207.0\" y2=\"47.6\"\n",
              "    stroke=\"#663399\" stroke-width=\"2\" />\n",
              "<line x1=\"207.0\" y1=\"47.6\" x2=\"208.7\" y2=\"45.3\"\n",
              "    stroke=\"#663399\" stroke-width=\"2\" />\n",
              "<line x1=\"208.7\" y1=\"45.3\" x2=\"210.2\" y2=\"43.0\"\n",
              "    stroke=\"#663399\" stroke-width=\"2\" />\n",
              "<line x1=\"210.2\" y1=\"43.0\" x2=\"211.7\" y2=\"40.5\"\n",
              "    stroke=\"#663399\" stroke-width=\"2\" />\n",
              "<line x1=\"211.7\" y1=\"40.5\" x2=\"213.1\" y2=\"38.1\"\n",
              "    stroke=\"#663399\" stroke-width=\"2\" />\n",
              "<line x1=\"213.1\" y1=\"38.1\" x2=\"214.4\" y2=\"35.5\"\n",
              "    stroke=\"#663399\" stroke-width=\"2\" />\n",
              "<line x1=\"214.4\" y1=\"35.5\" x2=\"215.6\" y2=\"32.9\"\n",
              "    stroke=\"#663399\" stroke-width=\"2\" />\n",
              "<line x1=\"215.6\" y1=\"32.9\" x2=\"216.7\" y2=\"30.3\"\n",
              "    stroke=\"#663399\" stroke-width=\"2\" />\n",
              "<line x1=\"216.7\" y1=\"30.3\" x2=\"217.4\" y2=\"28.3\"\n",
              "    stroke=\"#663399\" stroke-width=\"2\" />\n",
              "<line x1=\"217.4\" y1=\"28.3\" x2=\"217.7\" y2=\"26.2\"\n",
              "    stroke=\"#663399\" stroke-width=\"2\" />\n",
              "<line x1=\"217.7\" y1=\"26.2\" x2=\"217.6\" y2=\"24.2\"\n",
              "    stroke=\"#663399\" stroke-width=\"2\" />\n",
              "<line x1=\"217.6\" y1=\"24.2\" x2=\"217.0\" y2=\"22.1\"\n",
              "    stroke=\"#663399\" stroke-width=\"2\" />\n",
              "<line x1=\"217.0\" y1=\"22.1\" x2=\"216.0\" y2=\"20.3\"\n",
              "    stroke=\"#663399\" stroke-width=\"2\" />\n",
              "<line x1=\"216.0\" y1=\"20.3\" x2=\"214.7\" y2=\"18.7\"\n",
              "    stroke=\"#663399\" stroke-width=\"2\" />\n",
              "<line x1=\"214.7\" y1=\"18.7\" x2=\"213.0\" y2=\"17.4\"\n",
              "    stroke=\"#663399\" stroke-width=\"2\" />\n",
              "<line x1=\"213.0\" y1=\"17.4\" x2=\"211.1\" y2=\"16.5\"\n",
              "    stroke=\"#663399\" stroke-width=\"2\" />\n",
              "<line x1=\"211.1\" y1=\"16.5\" x2=\"209.1\" y2=\"16.0\"\n",
              "    stroke=\"#663399\" stroke-width=\"2\" />\n",
              "<line x1=\"209.1\" y1=\"16.0\" x2=\"207.0\" y2=\"15.9\"\n",
              "    stroke=\"#663399\" stroke-width=\"2\" />\n",
              "<line x1=\"207.0\" y1=\"15.9\" x2=\"204.9\" y2=\"16.3\"\n",
              "    stroke=\"#663399\" stroke-width=\"2\" />\n",
              "<line x1=\"204.9\" y1=\"16.3\" x2=\"203.0\" y2=\"17.0\"\n",
              "    stroke=\"#663399\" stroke-width=\"2\" />\n",
              "<line x1=\"203.0\" y1=\"17.0\" x2=\"201.3\" y2=\"18.2\"\n",
              "    stroke=\"#663399\" stroke-width=\"2\" />\n",
              "<line x1=\"201.3\" y1=\"18.2\" x2=\"199.8\" y2=\"19.7\"\n",
              "    stroke=\"#663399\" stroke-width=\"2\" />\n",
              "<line x1=\"199.8\" y1=\"19.7\" x2=\"198.7\" y2=\"21.5\"\n",
              "    stroke=\"#663399\" stroke-width=\"2\" />\n",
              "<line x1=\"198.7\" y1=\"21.5\" x2=\"198.0\" y2=\"23.5\"\n",
              "    stroke=\"#663399\" stroke-width=\"2\" />\n",
              "<line x1=\"198.0\" y1=\"23.5\" x2=\"197.7\" y2=\"25.5\"\n",
              "    stroke=\"#663399\" stroke-width=\"2\" />\n",
              "<line x1=\"197.7\" y1=\"25.5\" x2=\"197.8\" y2=\"27.6\"\n",
              "    stroke=\"#663399\" stroke-width=\"2\" />\n",
              "<line x1=\"197.8\" y1=\"27.6\" x2=\"198.4\" y2=\"29.6\"\n",
              "    stroke=\"#663399\" stroke-width=\"2\" />\n",
              "<line x1=\"198.4\" y1=\"29.6\" x2=\"199.4\" y2=\"31.5\"\n",
              "    stroke=\"#663399\" stroke-width=\"2\" />\n",
              "<line x1=\"199.4\" y1=\"31.5\" x2=\"200.7\" y2=\"33.1\"\n",
              "    stroke=\"#663399\" stroke-width=\"2\" />\n",
              "<line x1=\"200.7\" y1=\"33.1\" x2=\"202.4\" y2=\"34.4\"\n",
              "    stroke=\"#663399\" stroke-width=\"2\" />\n",
              "<line x1=\"202.4\" y1=\"34.4\" x2=\"204.3\" y2=\"35.3\"\n",
              "    stroke=\"#663399\" stroke-width=\"2\" />\n",
              "<line x1=\"204.3\" y1=\"35.3\" x2=\"206.3\" y2=\"35.8\"\n",
              "    stroke=\"#663399\" stroke-width=\"2\" />\n",
              "<line x1=\"206.3\" y1=\"35.8\" x2=\"208.4\" y2=\"35.9\"\n",
              "    stroke=\"#663399\" stroke-width=\"2\" />\n",
              "<line x1=\"208.4\" y1=\"35.9\" x2=\"210.5\" y2=\"35.5\"\n",
              "    stroke=\"#663399\" stroke-width=\"2\" />\n",
              "<line x1=\"210.5\" y1=\"35.5\" x2=\"212.4\" y2=\"34.7\"\n",
              "    stroke=\"#663399\" stroke-width=\"2\" />\n",
              "<line x1=\"212.4\" y1=\"34.7\" x2=\"214.1\" y2=\"33.6\"\n",
              "    stroke=\"#663399\" stroke-width=\"2\" />\n",
              "<line x1=\"214.1\" y1=\"33.6\" x2=\"215.6\" y2=\"32.1\"\n",
              "    stroke=\"#663399\" stroke-width=\"2\" />\n",
              "<line x1=\"215.6\" y1=\"32.1\" x2=\"216.7\" y2=\"30.3\"\n",
              "    stroke=\"#663399\" stroke-width=\"2\" />\n",
              "\n",
              "<g transform=\"rotate(200.0,216.7,30.3) translate(216.7, 30.3)\">\n",
              "    <circle stroke=\"#63A375\" stroke-width=\"2\" fill=\"transparent\" r=\"5.5\" cx=\"0\" cy=\"0\"/>\n",
              "    <polygon points=\"0,12 2,9 -2,9\" style=\"fill:#63A375;stroke:#63A375;stroke-width:2\"/>\n",
              "</g>\n",
              "\n",
              "</svg>"
            ]
          },
          "metadata": {}
        }
      ],
      "source": [
        "make_turtle(delay=0)\n",
        "polygon(n=20, length=9)\n",
        "arc(radius=70, angle=70)\n",
        "circle(radius=10)"
      ]
    },
    {
      "cell_type": "markdown",
      "id": "a34da3d8",
      "metadata": {
        "id": "a34da3d8"
      },
      "source": [
        "In this example, we started with working code and reorganized it with different functions.\n",
        "Changes like this, which improve the code without changing its behavior, are called **refactoring**.\n",
        "\n",
        "If we had planned ahead, we might have written `polyline` first and avoided refactoring, but often you don't know enough at the beginning of a project to design all the functions.\n",
        "Once you start coding, you understand the problem better.\n",
        "Sometimes refactoring is a sign that you have learned something."
      ]
    },
    {
      "cell_type": "markdown",
      "id": "d18c9d16",
      "metadata": {
        "id": "d18c9d16"
      },
      "source": [
        "## Stack diagram\n",
        "\n",
        "When we call `circle`, it calls `arc`, which calls `polyline`.\n",
        "We can use a stack diagram to show this sequence of function calls and the parameters for each one."
      ]
    },
    {
      "cell_type": "code",
      "execution_count": 112,
      "id": "1571ee71",
      "metadata": {
        "tags": [],
        "id": "1571ee71"
      },
      "outputs": [],
      "source": [
        "from diagram import make_binding, make_frame, Frame, Stack\n",
        "\n",
        "frame1 = make_frame(dict(radius=30), name='circle', loc='left')\n",
        "\n",
        "frame2 = make_frame(dict(radius=30, angle=360), name='arc', loc='left', dx=1.1)\n",
        "\n",
        "frame3 = make_frame(dict(n=60, length=3.04, angle=5.8),\n",
        "                    name='polyline', loc='left', dx=1.1, offsetx=-0.27)\n",
        "\n",
        "stack = Stack([frame1, frame2, frame3], dy=-0.4)"
      ]
    },
    {
      "cell_type": "code",
      "execution_count": 113,
      "id": "f4e37360",
      "metadata": {
        "tags": [],
        "colab": {
          "base_uri": "https://localhost:8080/",
          "height": 168
        },
        "id": "f4e37360",
        "outputId": "91d83b85-b03c-4fbe-b0c7-040c24b0f2c8"
      },
      "outputs": [
        {
          "output_type": "display_data",
          "data": {
            "text/plain": [
              "<Figure size 358x131 with 1 Axes>"
            ],
            "image/png": "[encoded data removed]"
          },
          "metadata": {}
        }
      ],
      "source": [
        "from diagram import diagram, adjust\n",
        "\n",
        "width, height, x, y = [3.58, 1.31, 0.98, 1.06]\n",
        "ax = diagram(width, height)\n",
        "bbox = stack.draw(ax, x, y)\n",
        "#adjust(x, y, bbox)"
      ]
    },
    {
      "cell_type": "markdown",
      "id": "3160bba1",
      "metadata": {
        "id": "3160bba1"
      },
      "source": [
        "Notice that the value of `angle` in `polyline` is different from the value of `angle` in `arc`.\n",
        "Parameters are local, which means you can use the same parameter name in different functions; it's a different variable in each function, and it can refer to a different value."
      ]
    },
    {
      "cell_type": "markdown",
      "id": "c23552d3",
      "metadata": {
        "id": "c23552d3"
      },
      "source": [
        "## A development plan\n",
        "\n",
        "A **development plan** is a process for writing programs.\n",
        "The process we used in this chapter is \"encapsulation and generalization\".\n",
        "The steps of this process are:\n",
        "\n",
        "1.  Start by writing a small program with no function definitions.\n",
        "\n",
        "2.  Once you get the program working, identify a coherent piece of it,\n",
        "    encapsulate the piece in a function and give it a name.\n",
        "\n",
        "3.  Generalize the function by adding appropriate parameters.\n",
        "\n",
        "4.  Repeat Steps 1 to 3 until you have a set of working functions.\n",
        "\n",
        "5.  Look for opportunities to improve the program by refactoring. For\n",
        "    example, if you have similar code in several places, consider\n",
        "    factoring it into an appropriately general function.\n",
        "\n",
        "This process has some drawbacks -- we will see alternatives later -- but it can be useful if you don't know ahead of time how to divide the program into functions.\n",
        "This approach lets you design as you go along."
      ]
    },
    {
      "cell_type": "markdown",
      "id": "a3b6b83d",
      "metadata": {
        "id": "a3b6b83d"
      },
      "source": [
        "The design of a function has two parts:\n",
        "\n",
        "* The **interface** is how the function is used, including its name, the parameters it takes and what the function is supposed to do.\n",
        "\n",
        "* The **implementation** is how the function does what it's supposed to do.\n",
        "\n",
        "For example, here's the first version of `circle` we wrote, which uses `polygon`."
      ]
    },
    {
      "cell_type": "code",
      "execution_count": 114,
      "id": "baf964ba",
      "metadata": {
        "id": "baf964ba"
      },
      "outputs": [],
      "source": [
        "def circle(radius):\n",
        "    circumference = 2 * math.pi * radius\n",
        "    n = 30\n",
        "    length = circumference / n\n",
        "    polygon(n, length)"
      ]
    },
    {
      "cell_type": "markdown",
      "id": "5d3d2e79",
      "metadata": {
        "id": "5d3d2e79"
      },
      "source": [
        "And here's the refactored version that uses `arc`."
      ]
    },
    {
      "cell_type": "code",
      "execution_count": 115,
      "id": "e2e006d5",
      "metadata": {
        "id": "e2e006d5"
      },
      "outputs": [],
      "source": [
        "def circle(radius):\n",
        "    arc(radius,  360)"
      ]
    },
    {
      "cell_type": "markdown",
      "id": "b726f72c",
      "metadata": {
        "id": "b726f72c"
      },
      "source": [
        "These two functions have the same interface -- they take the same parameters and do the same thing -- but they have different implementations."
      ]
    },
    {
      "cell_type": "markdown",
      "id": "3e3bae20",
      "metadata": {
        "tags": [],
        "id": "3e3bae20"
      },
      "source": [
        "## Docstrings\n",
        "\n",
        "A **docstring** is a string at the beginning of a function that explains the interface (\"doc\" is short for \"documentation\").\n",
        "Here is an example:"
      ]
    },
    {
      "cell_type": "code",
      "execution_count": 116,
      "id": "b68f3682",
      "metadata": {
        "id": "b68f3682"
      },
      "outputs": [],
      "source": [
        "def polyline(n, length, angle):\n",
        "    \"\"\"Draws line segments with the given length and angle between them.\n",
        "\n",
        "    n: integer number of line segments\n",
        "    length: length of the line segments\n",
        "    angle: angle between segments (in degrees)\n",
        "    \"\"\"\n",
        "    for i in range(n):\n",
        "        forward(length)\n",
        "        left(angle)"
      ]
    },
    {
      "cell_type": "markdown",
      "id": "55b60cbc",
      "metadata": {
        "id": "55b60cbc"
      },
      "source": [
        "By convention, docstrings are triple-quoted strings, also known as **multiline strings** because the triple quotes allow the string to span more than one line.\n",
        "\n",
        "A docstring should:\n",
        "\n",
        "* Explain concisely what the function does, without getting into the details of how it works,\n",
        "\n",
        "* Explain what effect each parameter has on the behavior of the function, and\n",
        "\n",
        "* Indicate what type each parameter should be, if it is not obvious.\n",
        "\n",
        "Writing this kind of documentation is an important part of interface design.\n",
        "A well-designed interface should be simple to explain; if you have a hard time explaining one of your functions, maybe the interface could be improved."
      ]
    },
    {
      "cell_type": "markdown",
      "id": "f1115940",
      "metadata": {
        "id": "f1115940"
      },
      "source": [
        "## Debugging\n",
        "\n",
        "An interface is like a contract between a function and a caller. The\n",
        "caller agrees to provide certain arguments and the function agrees to\n",
        "do certain work.\n",
        "\n",
        "For example, `polyline` requires three arguments: `n` has to be an integer; `length` should be a positive number; and `angle` has to be a number, which is understood to be in degrees.\n",
        "\n",
        "These requirements are called **preconditions** because they are supposed to be true before the function starts executing. Conversely, conditions at the end of the function are **postconditions**.\n",
        "Postconditions include the intended effect of the function (like drawing line segments) and any side effects (like moving the turtle or making other changes).\n",
        "\n",
        "Preconditions are the responsibility of the caller. If the caller violates a precondition and the function doesn't work correctly, the bug is in the caller, not the function.\n",
        "\n",
        "If the preconditions are satisfied and the postconditions are not, the bug is in the function. If your pre- and postconditions are clear, they can help with debugging."
      ]
    },
    {
      "cell_type": "markdown",
      "id": "a4d33a70",
      "metadata": {
        "id": "a4d33a70"
      },
      "source": [
        "## Glossary\n",
        "\n",
        "**interface design:**\n",
        "A process for designing the interface of a function, which includes the parameters it should take.\n",
        "\n",
        "**canvas:**\n",
        "A window used to display graphical elements including lines, circles, rectangles, and other shapes.\n",
        "\n",
        "**encapsulation:**\n",
        " The process of transforming a sequence of statements into a function definition.\n",
        "\n",
        "**generalization:**\n",
        " The process of replacing something unnecessarily specific (like a number) with something appropriately general (like a variable or parameter).\n",
        "\n",
        "**keyword argument:**\n",
        "An argument that includes the name of the parameter.\n",
        "\n",
        "**refactoring:**\n",
        " The process of modifying a working program to improve function interfaces and other qualities of the code.\n",
        "\n",
        "**development plan:**\n",
        "A process for writing programs.\n",
        "\n",
        "**docstring:**\n",
        " A string that appears at the top of a function definition to document the function's interface.\n",
        "\n",
        "**multiline string:**\n",
        "A string enclosed in triple quotes that can span more than one line of a program.\n",
        "\n",
        "**precondition:**\n",
        " A requirement that should be satisfied by the caller before a function starts.\n",
        "\n",
        "**postcondition:**\n",
        " A requirement that should be satisfied by the function before it ends."
      ]
    },
    {
      "cell_type": "markdown",
      "id": "0bfe2e19",
      "metadata": {
        "id": "0bfe2e19"
      },
      "source": [
        "## Exercises"
      ]
    },
    {
      "cell_type": "code",
      "execution_count": 117,
      "id": "9f94061e",
      "metadata": {
        "tags": [],
        "colab": {
          "base_uri": "https://localhost:8080/"
        },
        "id": "9f94061e",
        "outputId": "23a1ce73-9070-4ede-d936-f5fada96ad3b"
      },
      "outputs": [
        {
          "output_type": "stream",
          "name": "stdout",
          "text": [
            "Exception reporting mode: Verbose\n"
          ]
        }
      ],
      "source": [
        "# This cell tells Jupyter to provide detailed debugging information\n",
        "# when a runtime error occurs. Run it before working on the exercises.\n",
        "\n",
        "%xmode Verbose"
      ]
    },
    {
      "cell_type": "markdown",
      "id": "50ed5c38",
      "metadata": {
        "id": "50ed5c38"
      },
      "source": [
        "For the exercises below, there are a few more turtle functions you might want to use.\n",
        "\n",
        "* `penup` lifts the turtle's imaginary pen so it doesn't leave a trail when it moves.\n",
        "\n",
        "* `pendown` puts the pen back down.\n",
        "\n",
        "The following function uses `penup` and `pendown` to move the turtle without leaving a trail."
      ]
    },
    {
      "cell_type": "code",
      "execution_count": 118,
      "id": "6f9a0106",
      "metadata": {
        "id": "6f9a0106"
      },
      "outputs": [],
      "source": [
        "from jupyturtle import penup, pendown\n",
        "\n",
        "def jump(length):\n",
        "    \"\"\"Move forward length units without leaving a trail.\n",
        "\n",
        "    Postcondition: Leaves the pen down.\n",
        "    \"\"\"\n",
        "    penup()\n",
        "    forward(length)\n",
        "    pendown()"
      ]
    },
    {
      "cell_type": "markdown",
      "id": "c78c1e17",
      "metadata": {
        "id": "c78c1e17"
      },
      "source": [
        "### Exercise\n",
        "\n",
        "Write a function called `rectangle` that draws a rectangle with given side lengths.\n",
        "For example, here's a rectangle that's `80` units wide and `40` units tall."
      ]
    },
    {
      "cell_type": "code",
      "execution_count": 119,
      "id": "c54ba660",
      "metadata": {
        "id": "c54ba660"
      },
      "outputs": [],
      "source": [
        "# Solution goes here\n"
      ]
    },
    {
      "cell_type": "code",
      "execution_count": 120,
      "metadata": {
        "id": "MCkI_Xqd7e7O"
      },
      "outputs": [],
      "source": [
        "def rectangle(width, height):\n",
        "    for i in range(2):      # repeat twice (2 widths + 2 heights)\n",
        "        forward(width)\n",
        "        left(90)\n",
        "        forward(height)\n",
        "        left(90)\n"
      ],
      "id": "MCkI_Xqd7e7O"
    },
    {
      "cell_type": "markdown",
      "id": "4b05078c",
      "metadata": {
        "tags": [],
        "id": "4b05078c"
      },
      "source": [
        "You can use the following code to test your function."
      ]
    },
    {
      "cell_type": "code",
      "execution_count": 121,
      "id": "1311ee08",
      "metadata": {
        "tags": [],
        "colab": {
          "base_uri": "https://localhost:8080/",
          "height": 171
        },
        "id": "1311ee08",
        "outputId": "8f34feb9-554a-42e7-9420-03f80836c4e9"
      },
      "outputs": [
        {
          "output_type": "display_data",
          "data": {
            "text/plain": [
              "<IPython.core.display.HTML object>"
            ],
            "text/html": [
              "<svg width=\"300\" height=\"150\">\n",
              "    <rect width=\"100%\" height=\"100%\" fill=\"#F3F3F7\" />\n",
              "\n",
              "<line x1=\"150\" y1=\"75\" x2=\"230.0\" y2=\"75.0\"\n",
              "    stroke=\"#663399\" stroke-width=\"2\" />\n",
              "<line x1=\"230.0\" y1=\"75.0\" x2=\"230.0\" y2=\"35.0\"\n",
              "    stroke=\"#663399\" stroke-width=\"2\" />\n",
              "<line x1=\"230.0\" y1=\"35.0\" x2=\"150.0\" y2=\"35.0\"\n",
              "    stroke=\"#663399\" stroke-width=\"2\" />\n",
              "<line x1=\"150.0\" y1=\"35.0\" x2=\"150.0\" y2=\"75.0\"\n",
              "    stroke=\"#663399\" stroke-width=\"2\" />\n",
              "\n",
              "<g transform=\"rotate(-90.0,150.0,75.0) translate(150.0, 75.0)\">\n",
              "    <circle stroke=\"#63A375\" stroke-width=\"2\" fill=\"transparent\" r=\"5.5\" cx=\"0\" cy=\"0\"/>\n",
              "    <polygon points=\"0,12 2,9 -2,9\" style=\"fill:#63A375;stroke:#63A375;stroke-width:2\"/>\n",
              "</g>\n",
              "\n",
              "</svg>"
            ]
          },
          "metadata": {}
        }
      ],
      "source": [
        "make_turtle()\n",
        "rectangle(80, 40)"
      ]
    },
    {
      "cell_type": "markdown",
      "id": "8b8faaf6",
      "metadata": {
        "id": "8b8faaf6"
      },
      "source": [
        "### Exercise\n",
        "\n",
        "Write a function called `rhombus` that draws a rhombus with a given side length and a given interior angle. For example, here's a rhombus with side length `50` and an interior angle of `60` degrees."
      ]
    },
    {
      "cell_type": "code",
      "execution_count": 139,
      "id": "3db6f106",
      "metadata": {
        "id": "3db6f106"
      },
      "outputs": [],
      "source": [
        "def rhombus(side_length, interior_angle):\n",
        "    for i in range(2):\n",
        "        forward(side_length)\n",
        "        left(180 - interior_angle)  # turn to draw one interior angle\n",
        "        forward(side_length)\n",
        "        left(interior_angle)        # turn to draw the other interior angle\n"
      ]
    },
    {
      "cell_type": "markdown",
      "id": "7917956b",
      "metadata": {
        "tags": [],
        "id": "7917956b"
      },
      "source": [
        "You can use the following code to test your function."
      ]
    },
    {
      "cell_type": "code",
      "execution_count": 140,
      "id": "1d845de9",
      "metadata": {
        "tags": [],
        "colab": {
          "base_uri": "https://localhost:8080/",
          "height": 171
        },
        "id": "1d845de9",
        "outputId": "78d8f9e9-8845-401d-fac2-b3546b3d6b7c"
      },
      "outputs": [
        {
          "output_type": "display_data",
          "data": {
            "text/plain": [
              "<IPython.core.display.HTML object>"
            ],
            "text/html": [
              "<svg width=\"400\" height=\"150\">\n",
              "    <rect width=\"100%\" height=\"100%\" fill=\"#F3F3F7\" />\n",
              "\n",
              "<line x1=\"80.0\" y1=\"75.0\" x2=\"160.0\" y2=\"75.0\"\n",
              "    stroke=\"#663399\" stroke-width=\"2\" />\n",
              "<line x1=\"160.0\" y1=\"75.0\" x2=\"160.0\" y2=\"35.0\"\n",
              "    stroke=\"#663399\" stroke-width=\"2\" />\n",
              "<line x1=\"160.0\" y1=\"35.0\" x2=\"80.0\" y2=\"35.0\"\n",
              "    stroke=\"#663399\" stroke-width=\"2\" />\n",
              "<line x1=\"80.0\" y1=\"35.0\" x2=\"80.0\" y2=\"75.0\"\n",
              "    stroke=\"#663399\" stroke-width=\"2\" />\n",
              "<line x1=\"180.0\" y1=\"75.0\" x2=\"230.0\" y2=\"75.0\"\n",
              "    stroke=\"#663399\" stroke-width=\"2\" />\n",
              "<line x1=\"230.0\" y1=\"75.0\" x2=\"205.0\" y2=\"31.7\"\n",
              "    stroke=\"#663399\" stroke-width=\"2\" />\n",
              "<line x1=\"205.0\" y1=\"31.7\" x2=\"155.0\" y2=\"31.7\"\n",
              "    stroke=\"#663399\" stroke-width=\"2\" />\n",
              "<line x1=\"155.0\" y1=\"31.7\" x2=\"180.0\" y2=\"75.0\"\n",
              "    stroke=\"#663399\" stroke-width=\"2\" />\n",
              "<line x1=\"260.0\" y1=\"75.0\" x2=\"310.0\" y2=\"75.0\"\n",
              "    stroke=\"#663399\" stroke-width=\"2\" />\n",
              "<line x1=\"310.0\" y1=\"75.0\" x2=\"285.0\" y2=\"31.7\"\n",
              "    stroke=\"#663399\" stroke-width=\"2\" />\n",
              "<line x1=\"285.0\" y1=\"31.7\" x2=\"235.0\" y2=\"31.7\"\n",
              "    stroke=\"#663399\" stroke-width=\"2\" />\n",
              "<line x1=\"235.0\" y1=\"31.7\" x2=\"260.0\" y2=\"75.0\"\n",
              "    stroke=\"#663399\" stroke-width=\"2\" />\n",
              "\n",
              "<g transform=\"rotate(-90.0,260.0,75.0) translate(260.0, 75.0)\">\n",
              "    <circle stroke=\"#63A375\" stroke-width=\"2\" fill=\"transparent\" r=\"5.5\" cx=\"0\" cy=\"0\"/>\n",
              "    <polygon points=\"0,12 2,9 -2,9\" style=\"fill:#63A375;stroke:#63A375;stroke-width:2\"/>\n",
              "</g>\n",
              "\n",
              "</svg>"
            ]
          },
          "metadata": {}
        }
      ],
      "source": [
        "rhombus(50, 60)"
      ]
    },
    {
      "cell_type": "markdown",
      "id": "a9175a90",
      "metadata": {
        "id": "a9175a90"
      },
      "source": [
        "### Exercise\n",
        "\n",
        "Now write a more general function called `parallelogram` that draws a quadrilateral with parallel sides. Then rewrite `rectangle` and `rhombus` to use `parallelogram`."
      ]
    },
    {
      "cell_type": "code",
      "execution_count": 151,
      "id": "895005cb",
      "metadata": {
        "id": "895005cb"
      },
      "outputs": [],
      "source": [
        "# Solution goes here\n",
        "\n",
        "def jump(distance):\n",
        "    penup()       # lift pen so nothing is drawn\n",
        "    forward(distance)\n",
        "    pendown()     # put pen back down\n",
        "\n",
        "# General parallelogram: sides (width, height) and an interior angle (degrees)\n",
        "def parallelogram(width, height, angle):\n",
        "    for _ in range(2):\n",
        "        forward(width)\n",
        "        left(180 - angle)   # turn to the next side (exterior turn)\n",
        "        forward(height)\n",
        "        left(angle)         # complementary turn to close the corner\n",
        "\n",
        "# Rectangle is a parallelogram with 90° angle\n",
        "def rectangle(width, height):\n",
        "    parallelogram(width, height, 90)\n",
        "\n",
        "# Rhombus is a parallelogram with equal sides\n",
        "def rhombus(side, angle):\n",
        "    parallelogram(side, side, angle)\n"
      ]
    },
    {
      "cell_type": "code",
      "source": [
        "make_turtle(width=400)\n",
        "jump(-120)\n",
        "\n",
        "rectangle(80, 40)\n",
        "jump(100)\n",
        "rhombus(50, 60)\n",
        "jump(80)\n",
        "parallelogram(80, 50, 60)\n"
      ],
      "metadata": {
        "colab": {
          "base_uri": "https://localhost:8080/",
          "height": 171
        },
        "id": "QMi2uuZ7uNkW",
        "outputId": "b25832af-00b0-499d-ac49-6a408ac5d4e9"
      },
      "id": "QMi2uuZ7uNkW",
      "execution_count": 152,
      "outputs": [
        {
          "output_type": "display_data",
          "data": {
            "text/plain": [
              "<IPython.core.display.HTML object>"
            ],
            "text/html": [
              "<svg width=\"400\" height=\"150\">\n",
              "    <rect width=\"100%\" height=\"100%\" fill=\"#F3F3F7\" />\n",
              "\n",
              "<line x1=\"80.0\" y1=\"75.0\" x2=\"160.0\" y2=\"75.0\"\n",
              "    stroke=\"#663399\" stroke-width=\"2\" />\n",
              "<line x1=\"160.0\" y1=\"75.0\" x2=\"160.0\" y2=\"35.0\"\n",
              "    stroke=\"#663399\" stroke-width=\"2\" />\n",
              "<line x1=\"160.0\" y1=\"35.0\" x2=\"80.0\" y2=\"35.0\"\n",
              "    stroke=\"#663399\" stroke-width=\"2\" />\n",
              "<line x1=\"80.0\" y1=\"35.0\" x2=\"80.0\" y2=\"75.0\"\n",
              "    stroke=\"#663399\" stroke-width=\"2\" />\n",
              "<line x1=\"180.0\" y1=\"75.0\" x2=\"230.0\" y2=\"75.0\"\n",
              "    stroke=\"#663399\" stroke-width=\"2\" />\n",
              "<line x1=\"230.0\" y1=\"75.0\" x2=\"205.0\" y2=\"31.7\"\n",
              "    stroke=\"#663399\" stroke-width=\"2\" />\n",
              "<line x1=\"205.0\" y1=\"31.7\" x2=\"155.0\" y2=\"31.7\"\n",
              "    stroke=\"#663399\" stroke-width=\"2\" />\n",
              "<line x1=\"155.0\" y1=\"31.7\" x2=\"180.0\" y2=\"75.0\"\n",
              "    stroke=\"#663399\" stroke-width=\"2\" />\n",
              "<line x1=\"260.0\" y1=\"75.0\" x2=\"340.0\" y2=\"75.0\"\n",
              "    stroke=\"#663399\" stroke-width=\"2\" />\n",
              "<line x1=\"340.0\" y1=\"75.0\" x2=\"315.0\" y2=\"31.7\"\n",
              "    stroke=\"#663399\" stroke-width=\"2\" />\n",
              "<line x1=\"315.0\" y1=\"31.7\" x2=\"235.0\" y2=\"31.7\"\n",
              "    stroke=\"#663399\" stroke-width=\"2\" />\n",
              "<line x1=\"235.0\" y1=\"31.7\" x2=\"260.0\" y2=\"75.0\"\n",
              "    stroke=\"#663399\" stroke-width=\"2\" />\n",
              "\n",
              "<g transform=\"rotate(-90.0,260.0,75.0) translate(260.0, 75.0)\">\n",
              "    <circle stroke=\"#63A375\" stroke-width=\"2\" fill=\"transparent\" r=\"5.5\" cx=\"0\" cy=\"0\"/>\n",
              "    <polygon points=\"0,12 2,9 -2,9\" style=\"fill:#63A375;stroke:#63A375;stroke-width:2\"/>\n",
              "</g>\n",
              "\n",
              "</svg>"
            ]
          },
          "metadata": {}
        }
      ]
    },
    {
      "cell_type": "markdown",
      "id": "c03bd4a2",
      "metadata": {
        "tags": [],
        "id": "c03bd4a2"
      },
      "source": [
        "You can use the following code to test your functions."
      ]
    },
    {
      "cell_type": "markdown",
      "id": "991ab59d",
      "metadata": {
        "id": "991ab59d"
      },
      "source": [
        "### Exercise\n",
        "\n",
        "Write an appropriately general set of functions that can draw shapes like this.\n",
        "\n",
        "![](https://github.com/AllenDowney/ThinkPython/raw/v3/jupyturtle_pie.png)\n",
        "\n",
        "Hint: Write a function called `triangle` that draws one triangular segment, and then a function called `draw_pie` that uses `triangle`."
      ]
    },
    {
      "cell_type": "code",
      "execution_count": 153,
      "id": "8be6442e",
      "metadata": {
        "id": "8be6442e"
      },
      "outputs": [],
      "source": [
        "# Solution goes here\n",
        "def triangle(side):\n",
        "    for _ in range(3):\n",
        "        forward(side)\n",
        "        left(120)   # 360 / 3 = 120\n"
      ]
    },
    {
      "cell_type": "code",
      "execution_count": 154,
      "id": "be1b7ed8",
      "metadata": {
        "colab": {
          "base_uri": "https://localhost:8080/",
          "height": 171
        },
        "id": "be1b7ed8",
        "outputId": "0a7eee11-195c-4a15-bd11-d458a1ba1d7d"
      },
      "outputs": [
        {
          "output_type": "display_data",
          "data": {
            "text/plain": [
              "<IPython.core.display.HTML object>"
            ],
            "text/html": [
              "<svg width=\"400\" height=\"150\">\n",
              "    <rect width=\"100%\" height=\"100%\" fill=\"#F3F3F7\" />\n",
              "\n",
              "<line x1=\"200\" y1=\"75\" x2=\"300.0\" y2=\"75.0\"\n",
              "    stroke=\"#663399\" stroke-width=\"2\" />\n",
              "<line x1=\"300.0\" y1=\"75.0\" x2=\"250.0\" y2=\"-11.6\"\n",
              "    stroke=\"#663399\" stroke-width=\"2\" />\n",
              "<line x1=\"250.0\" y1=\"-11.6\" x2=\"200.0\" y2=\"75.0\"\n",
              "    stroke=\"#663399\" stroke-width=\"2\" />\n",
              "\n",
              "<g transform=\"rotate(-90.0,200.0,75.0) translate(200.0, 75.0)\">\n",
              "    <circle stroke=\"#63A375\" stroke-width=\"2\" fill=\"transparent\" r=\"5.5\" cx=\"0\" cy=\"0\"/>\n",
              "    <polygon points=\"0,12 2,9 -2,9\" style=\"fill:#63A375;stroke:#63A375;stroke-width:2\"/>\n",
              "</g>\n",
              "\n",
              "</svg>"
            ]
          },
          "metadata": {}
        }
      ],
      "source": [
        "# Solution goes here\n",
        "make_turtle(width=400)\n",
        "triangle(100)\n"
      ]
    },
    {
      "cell_type": "code",
      "source": [
        "def draw_pie(n, length):\n",
        "    for _ in range(n):\n",
        "        triangle(length)\n",
        "        left(360 / n)\n"
      ],
      "metadata": {
        "id": "qZLT8tywwjyQ"
      },
      "id": "qZLT8tywwjyQ",
      "execution_count": 156,
      "outputs": []
    },
    {
      "cell_type": "markdown",
      "id": "8702c0ad",
      "metadata": {
        "tags": [],
        "id": "8702c0ad"
      },
      "source": [
        "You can use the following code to test your functions."
      ]
    },
    {
      "cell_type": "code",
      "execution_count": 157,
      "id": "c519ca39",
      "metadata": {
        "tags": [],
        "colab": {
          "base_uri": "https://localhost:8080/",
          "height": 171
        },
        "id": "c519ca39",
        "outputId": "ed34aa98-5c1f-428f-9991-4c57270a56ca"
      },
      "outputs": [
        {
          "output_type": "display_data",
          "data": {
            "text/plain": [
              "<IPython.core.display.HTML object>"
            ],
            "text/html": [
              "<svg width=\"300\" height=\"150\">\n",
              "    <rect width=\"100%\" height=\"100%\" fill=\"#F3F3F7\" />\n",
              "\n",
              "<line x1=\"70.0\" y1=\"75.0\" x2=\"110.0\" y2=\"75.0\"\n",
              "    stroke=\"#663399\" stroke-width=\"2\" />\n",
              "<line x1=\"110.0\" y1=\"75.0\" x2=\"90.0\" y2=\"40.4\"\n",
              "    stroke=\"#663399\" stroke-width=\"2\" />\n",
              "<line x1=\"90.0\" y1=\"40.4\" x2=\"70.0\" y2=\"75.0\"\n",
              "    stroke=\"#663399\" stroke-width=\"2\" />\n",
              "<line x1=\"70.0\" y1=\"75.0\" x2=\"82.4\" y2=\"37.0\"\n",
              "    stroke=\"#663399\" stroke-width=\"2\" />\n",
              "<line x1=\"82.4\" y1=\"37.0\" x2=\"43.2\" y2=\"45.3\"\n",
              "    stroke=\"#663399\" stroke-width=\"2\" />\n",
              "<line x1=\"43.2\" y1=\"45.3\" x2=\"70.0\" y2=\"75.0\"\n",
              "    stroke=\"#663399\" stroke-width=\"2\" />\n",
              "<line x1=\"70.0\" y1=\"75.0\" x2=\"37.6\" y2=\"51.5\"\n",
              "    stroke=\"#663399\" stroke-width=\"2\" />\n",
              "<line x1=\"37.6\" y1=\"51.5\" x2=\"33.5\" y2=\"91.3\"\n",
              "    stroke=\"#663399\" stroke-width=\"2\" />\n",
              "<line x1=\"33.5\" y1=\"91.3\" x2=\"70.0\" y2=\"75.0\"\n",
              "    stroke=\"#663399\" stroke-width=\"2\" />\n",
              "<line x1=\"70.0\" y1=\"75.0\" x2=\"37.6\" y2=\"98.5\"\n",
              "    stroke=\"#663399\" stroke-width=\"2\" />\n",
              "<line x1=\"37.6\" y1=\"98.5\" x2=\"74.2\" y2=\"114.8\"\n",
              "    stroke=\"#663399\" stroke-width=\"2\" />\n",
              "<line x1=\"74.2\" y1=\"114.8\" x2=\"70.0\" y2=\"75.0\"\n",
              "    stroke=\"#663399\" stroke-width=\"2\" />\n",
              "<line x1=\"70.0\" y1=\"75.0\" x2=\"82.4\" y2=\"113.0\"\n",
              "    stroke=\"#663399\" stroke-width=\"2\" />\n",
              "<line x1=\"82.4\" y1=\"113.0\" x2=\"109.1\" y2=\"83.3\"\n",
              "    stroke=\"#663399\" stroke-width=\"2\" />\n",
              "<line x1=\"109.1\" y1=\"83.3\" x2=\"70.0\" y2=\"75.0\"\n",
              "    stroke=\"#663399\" stroke-width=\"2\" />\n",
              "<line x1=\"150.0\" y1=\"75.0\" x2=\"190.0\" y2=\"75.0\"\n",
              "    stroke=\"#663399\" stroke-width=\"2\" />\n",
              "<line x1=\"190.0\" y1=\"75.0\" x2=\"170.0\" y2=\"40.4\"\n",
              "    stroke=\"#663399\" stroke-width=\"2\" />\n",
              "<line x1=\"170.0\" y1=\"40.4\" x2=\"150.0\" y2=\"75.0\"\n",
              "    stroke=\"#663399\" stroke-width=\"2\" />\n",
              "<line x1=\"150.0\" y1=\"75.0\" x2=\"170.0\" y2=\"40.4\"\n",
              "    stroke=\"#663399\" stroke-width=\"2\" />\n",
              "<line x1=\"170.0\" y1=\"40.4\" x2=\"130.0\" y2=\"40.4\"\n",
              "    stroke=\"#663399\" stroke-width=\"2\" />\n",
              "<line x1=\"130.0\" y1=\"40.4\" x2=\"150.0\" y2=\"75.0\"\n",
              "    stroke=\"#663399\" stroke-width=\"2\" />\n",
              "<line x1=\"150.0\" y1=\"75.0\" x2=\"130.0\" y2=\"40.4\"\n",
              "    stroke=\"#663399\" stroke-width=\"2\" />\n",
              "<line x1=\"130.0\" y1=\"40.4\" x2=\"110.0\" y2=\"75.0\"\n",
              "    stroke=\"#663399\" stroke-width=\"2\" />\n",
              "<line x1=\"110.0\" y1=\"75.0\" x2=\"150.0\" y2=\"75.0\"\n",
              "    stroke=\"#663399\" stroke-width=\"2\" />\n",
              "<line x1=\"150.0\" y1=\"75.0\" x2=\"110.0\" y2=\"75.0\"\n",
              "    stroke=\"#663399\" stroke-width=\"2\" />\n",
              "<line x1=\"110.0\" y1=\"75.0\" x2=\"130.0\" y2=\"109.6\"\n",
              "    stroke=\"#663399\" stroke-width=\"2\" />\n",
              "<line x1=\"130.0\" y1=\"109.6\" x2=\"150.0\" y2=\"75.0\"\n",
              "    stroke=\"#663399\" stroke-width=\"2\" />\n",
              "<line x1=\"150.0\" y1=\"75.0\" x2=\"130.0\" y2=\"109.6\"\n",
              "    stroke=\"#663399\" stroke-width=\"2\" />\n",
              "<line x1=\"130.0\" y1=\"109.6\" x2=\"170.0\" y2=\"109.6\"\n",
              "    stroke=\"#663399\" stroke-width=\"2\" />\n",
              "<line x1=\"170.0\" y1=\"109.6\" x2=\"150.0\" y2=\"75.0\"\n",
              "    stroke=\"#663399\" stroke-width=\"2\" />\n",
              "<line x1=\"150.0\" y1=\"75.0\" x2=\"170.0\" y2=\"109.6\"\n",
              "    stroke=\"#663399\" stroke-width=\"2\" />\n",
              "<line x1=\"170.0\" y1=\"109.6\" x2=\"190.0\" y2=\"75.0\"\n",
              "    stroke=\"#663399\" stroke-width=\"2\" />\n",
              "<line x1=\"190.0\" y1=\"75.0\" x2=\"150.0\" y2=\"75.0\"\n",
              "    stroke=\"#663399\" stroke-width=\"2\" />\n",
              "<line x1=\"230.0\" y1=\"75.0\" x2=\"270.0\" y2=\"75.0\"\n",
              "    stroke=\"#663399\" stroke-width=\"2\" />\n",
              "<line x1=\"270.0\" y1=\"75.0\" x2=\"250.0\" y2=\"40.4\"\n",
              "    stroke=\"#663399\" stroke-width=\"2\" />\n",
              "<line x1=\"250.0\" y1=\"40.4\" x2=\"230.0\" y2=\"75.0\"\n",
              "    stroke=\"#663399\" stroke-width=\"2\" />\n",
              "<line x1=\"230.0\" y1=\"75.0\" x2=\"254.9\" y2=\"43.7\"\n",
              "    stroke=\"#663399\" stroke-width=\"2\" />\n",
              "<line x1=\"254.9\" y1=\"43.7\" x2=\"215.4\" y2=\"37.8\"\n",
              "    stroke=\"#663399\" stroke-width=\"2\" />\n",
              "<line x1=\"215.4\" y1=\"37.8\" x2=\"230.0\" y2=\"75.0\"\n",
              "    stroke=\"#663399\" stroke-width=\"2\" />\n",
              "<line x1=\"230.0\" y1=\"75.0\" x2=\"221.1\" y2=\"36.0\"\n",
              "    stroke=\"#663399\" stroke-width=\"2\" />\n",
              "<line x1=\"221.1\" y1=\"36.0\" x2=\"191.8\" y2=\"63.2\"\n",
              "    stroke=\"#663399\" stroke-width=\"2\" />\n",
              "<line x1=\"191.8\" y1=\"63.2\" x2=\"230.0\" y2=\"75.0\"\n",
              "    stroke=\"#663399\" stroke-width=\"2\" />\n",
              "<line x1=\"230.0\" y1=\"75.0\" x2=\"194.0\" y2=\"57.6\"\n",
              "    stroke=\"#663399\" stroke-width=\"2\" />\n",
              "<line x1=\"194.0\" y1=\"57.6\" x2=\"197.0\" y2=\"97.5\"\n",
              "    stroke=\"#663399\" stroke-width=\"2\" />\n",
              "<line x1=\"197.0\" y1=\"97.5\" x2=\"230.0\" y2=\"75.0\"\n",
              "    stroke=\"#663399\" stroke-width=\"2\" />\n",
              "<line x1=\"230.0\" y1=\"75.0\" x2=\"194.0\" y2=\"92.4\"\n",
              "    stroke=\"#663399\" stroke-width=\"2\" />\n",
              "<line x1=\"194.0\" y1=\"92.4\" x2=\"227.0\" y2=\"114.9\"\n",
              "    stroke=\"#663399\" stroke-width=\"2\" />\n",
              "<line x1=\"227.0\" y1=\"114.9\" x2=\"230.0\" y2=\"75.0\"\n",
              "    stroke=\"#663399\" stroke-width=\"2\" />\n",
              "<line x1=\"230.0\" y1=\"75.0\" x2=\"221.1\" y2=\"114.0\"\n",
              "    stroke=\"#663399\" stroke-width=\"2\" />\n",
              "<line x1=\"221.1\" y1=\"114.0\" x2=\"259.3\" y2=\"102.2\"\n",
              "    stroke=\"#663399\" stroke-width=\"2\" />\n",
              "<line x1=\"259.3\" y1=\"102.2\" x2=\"230.0\" y2=\"75.0\"\n",
              "    stroke=\"#663399\" stroke-width=\"2\" />\n",
              "<line x1=\"230.0\" y1=\"75.0\" x2=\"254.9\" y2=\"106.3\"\n",
              "    stroke=\"#663399\" stroke-width=\"2\" />\n",
              "<line x1=\"254.9\" y1=\"106.3\" x2=\"269.6\" y2=\"69.0\"\n",
              "    stroke=\"#663399\" stroke-width=\"2\" />\n",
              "<line x1=\"269.6\" y1=\"69.0\" x2=\"230.0\" y2=\"75.0\"\n",
              "    stroke=\"#663399\" stroke-width=\"2\" />\n",
              "\n",
              "<g transform=\"rotate(270.0,230.0,75.0) translate(230.0, 75.0)\">\n",
              "    <circle stroke=\"#63A375\" stroke-width=\"2\" fill=\"transparent\" r=\"5.5\" cx=\"0\" cy=\"0\"/>\n",
              "    <polygon points=\"0,12 2,9 -2,9\" style=\"fill:#63A375;stroke:#63A375;stroke-width:2\"/>\n",
              "</g>\n",
              "\n",
              "</svg>"
            ]
          },
          "metadata": {}
        }
      ],
      "source": [
        "turtle = make_turtle(delay=0)\n",
        "jump(-80)\n",
        "\n",
        "size = 40\n",
        "draw_pie(5, size)\n",
        "jump(2*size)\n",
        "draw_pie(6, size)\n",
        "jump(2*size)\n",
        "draw_pie(7, size)"
      ]
    },
    {
      "cell_type": "markdown",
      "id": "9c78b76f",
      "metadata": {
        "id": "9c78b76f"
      },
      "source": [
        "### Exercise\n",
        "\n",
        "Write an appropriately general set of functions that can draw flowers like this.\n",
        "\n",
        "![](https://github.com/AllenDowney/ThinkPython/raw/v3/jupyturtle_flower.png)\n",
        "\n",
        "Hint: Use `arc` to write a function called `petal` that draws one flower petal."
      ]
    },
    {
      "cell_type": "code",
      "execution_count": 170,
      "id": "0f0e7498",
      "metadata": {
        "colab": {
          "base_uri": "https://localhost:8080/",
          "height": 17,
          "referenced_widgets": [
            "f3b4949f35ae4137a5a9ff9e7a697776",
            "ba0bc39ba52f4c1db479a7a3e3ba3c74"
          ]
        },
        "id": "0f0e7498",
        "outputId": "ec4548eb-0a83-4c37-fdb5-246d8f439700"
      },
      "outputs": [
        {
          "output_type": "display_data",
          "data": {
            "text/plain": [
              "Turtle()"
            ],
            "application/vnd.jupyter.widget-view+json": {
              "version_major": 2,
              "version_minor": 0,
              "model_id": "f3b4949f35ae4137a5a9ff9e7a697776"
            }
          },
          "metadata": {}
        }
      ],
      "source": [
        "import math\n",
        "from mobilechelonian import Turtle\n",
        "\n",
        "t = Turtle()   # this creates the drawing canvas\n",
        "\n",
        "def arc(r, angle):\n",
        "    \"\"\"Draws an arc with radius r and angle (degrees).\"\"\"\n",
        "    arc_length = 2 * math.pi * r * abs(angle) / 360\n",
        "    n = int(arc_length / 4) + 1\n",
        "    step_length = arc_length / n\n",
        "    step_angle = angle / n\n",
        "\n",
        "    t.left(step_angle/2)\n",
        "    for _ in range(n):\n",
        "        t.forward(step_length)\n",
        "        t.left(step_angle)\n",
        "    t.right(step_angle/2)\n",
        "\n",
        "def petal(r, angle):\n",
        "    \"\"\"Draws a petal using two arcs.\"\"\"\n",
        "    for _ in range(2):\n",
        "        arc(r, angle)\n",
        "        t.left(180 - angle)\n",
        "\n",
        "def flower(n, r, angle):\n",
        "    \"\"\"Draws a flower with n petals.\"\"\"\n",
        "    for _ in range(n):\n",
        "        petal(r, angle)\n",
        "        t.left(360 / n)\n",
        "\n",
        "# --- draw flowers ---\n",
        "flower(6, 40, 60)    # 6-petal flower\n",
        "t.penup()\n",
        "t.forward(120)\n",
        "t.pendown()\n",
        "flower(10, 30, 80)   # 10-petal flower\n",
        "\n",
        "\n",
        "\n",
        "\n"
      ]
    },
    {
      "cell_type": "code",
      "execution_count": 171,
      "id": "6c0d0bff",
      "metadata": {
        "colab": {
          "base_uri": "https://localhost:8080/",
          "height": 171
        },
        "id": "6c0d0bff",
        "outputId": "85784354-0fad-4a06-c907-d6ac294f308f"
      },
      "outputs": [
        {
          "output_type": "display_data",
          "data": {
            "text/plain": [
              "<IPython.core.display.HTML object>"
            ],
            "text/html": [
              "<svg width=\"400\" height=\"150\">\n",
              "    <rect width=\"100%\" height=\"100%\" fill=\"#F3F3F7\" />\n",
              "\n",
              "\n",
              "<g transform=\"rotate(-90.0,250.0,75.0) translate(250.0, 75.0)\">\n",
              "    <circle stroke=\"#63A375\" stroke-width=\"2\" fill=\"transparent\" r=\"5.5\" cx=\"0\" cy=\"0\"/>\n",
              "    <polygon points=\"0,12 2,9 -2,9\" style=\"fill:#63A375;stroke:#63A375;stroke-width:2\"/>\n",
              "</g>\n",
              "\n",
              "</svg>"
            ]
          },
          "metadata": {}
        }
      ],
      "source": [
        "# Solution goes here\n",
        "make_turtle(width=400)\n",
        "jump(-100)\n",
        "\n",
        "flower(7, 60, 60)   # 7-petal flower\n",
        "jump(150)\n",
        "flower(10, 40, 80)  # 10-petal flower\n"
      ]
    },
    {
      "cell_type": "markdown",
      "id": "8fe06dea",
      "metadata": {
        "tags": [],
        "id": "8fe06dea"
      },
      "source": [
        "You can use the following code to test your functions.\n",
        "\n",
        "Because the solution draws a lot of small line segments, it tends to slow down as it runs.\n",
        "To avoid that, you can add the keyword argument `auto_render=False` to avoid drawing after every step, and then call the `render` function at the end to show the result.\n",
        "\n",
        "While you are debugging, you might want to remove `auto_render=False`."
      ]
    },
    {
      "cell_type": "code",
      "execution_count": 172,
      "id": "04193da5",
      "metadata": {
        "tags": [],
        "colab": {
          "base_uri": "https://localhost:8080/",
          "height": 171
        },
        "id": "04193da5",
        "outputId": "62f2f88a-6c26-4c17-df5b-80a1ee7229d1"
      },
      "outputs": [
        {
          "output_type": "display_data",
          "data": {
            "text/plain": [
              "<IPython.core.display.HTML object>"
            ],
            "text/html": [
              "<svg width=\"300\" height=\"150\">\n",
              "    <rect width=\"100%\" height=\"100%\" fill=\"#F3F3F7\" />\n",
              "\n",
              "\n",
              "<g transform=\"rotate(-90.0,210.0,75.0) translate(210.0, 75.0)\">\n",
              "    <circle stroke=\"#63A375\" stroke-width=\"2\" fill=\"transparent\" r=\"5.5\" cx=\"0\" cy=\"0\"/>\n",
              "    <polygon points=\"0,12 2,9 -2,9\" style=\"fill:#63A375;stroke:#63A375;stroke-width:2\"/>\n",
              "</g>\n",
              "\n",
              "</svg>"
            ]
          },
          "metadata": {}
        }
      ],
      "source": [
        "from jupyturtle import render\n",
        "\n",
        "turtle = make_turtle(auto_render=False)\n",
        "\n",
        "jump(-60)\n",
        "n = 7\n",
        "radius = 60\n",
        "angle = 60\n",
        "flower(n, radius, angle)\n",
        "\n",
        "jump(120)\n",
        "n = 9\n",
        "radius = 40\n",
        "angle = 85\n",
        "flower(n, radius, angle)\n",
        "\n",
        "render()"
      ]
    },
    {
      "cell_type": "code",
      "execution_count": null,
      "id": "4cfea3b0",
      "metadata": {
        "tags": [],
        "id": "4cfea3b0"
      },
      "outputs": [],
      "source": [
        "# Solution goes here"
      ]
    },
    {
      "cell_type": "markdown",
      "id": "9d9f35d1",
      "metadata": {
        "id": "9d9f35d1"
      },
      "source": [
        "### Ask a virtual assistant\n",
        "\n",
        "There are several modules like `jupyturtle` in Python, and the one we used in this chapter has been customized for this book.\n",
        "So if you ask a virtual assistant for help, it won't know which module to use.\n",
        "But if you give it a few examples to work with, it can probably figure it out.\n",
        "For example, try this prompt and see if it can write a function that draws a spiral:\n",
        "\n",
        "```\n",
        "The following program uses a turtle graphics module to draw a circle:\n",
        "\n",
        "from jupyturtle import make_turtle, forward, left\n",
        "import math\n",
        "\n",
        "def polygon(n, length):\n",
        "    angle = 360 / n\n",
        "    for i in range(n):\n",
        "        forward(length)\n",
        "        left(angle)\n",
        "        \n",
        "def circle(radius):\n",
        "    circumference = 2 * math.pi * radius\n",
        "    n = 30\n",
        "    length = circumference / n\n",
        "    polygon(n, length)\n",
        "    \n",
        "make_turtle(delay=0)\n",
        "circle(30)\n",
        "\n",
        "Write a function that draws a spiral.\n",
        "```"
      ]
    },
    {
      "cell_type": "markdown",
      "id": "7beb2afe",
      "metadata": {
        "id": "7beb2afe"
      },
      "source": [
        "Keep in mind that the result might use features we have not seen yet, and it might have errors.\n",
        "Copy the code from the VA and see if you can get it working.\n",
        "If you didn't get what you wanted, try modifying the prompt.\n"
      ]
    },
    {
      "cell_type": "code",
      "execution_count": 173,
      "id": "46d3151c",
      "metadata": {
        "colab": {
          "base_uri": "https://localhost:8080/",
          "height": 171
        },
        "id": "46d3151c",
        "outputId": "5b4da704-b2b4-4d6c-8b2a-8236725567f1"
      },
      "outputs": [
        {
          "output_type": "display_data",
          "data": {
            "text/plain": [
              "<IPython.core.display.HTML object>"
            ],
            "text/html": [
              "<svg width=\"300\" height=\"150\">\n",
              "    <rect width=\"100%\" height=\"100%\" fill=\"#F3F3F7\" />\n",
              "\n",
              "<line x1=\"150\" y1=\"75\" x2=\"153.0\" y2=\"75.0\"\n",
              "    stroke=\"#663399\" stroke-width=\"2\" />\n",
              "<line x1=\"153.0\" y1=\"75.0\" x2=\"158.2\" y2=\"72.0\"\n",
              "    stroke=\"#663399\" stroke-width=\"2\" />\n",
              "<line x1=\"158.2\" y1=\"72.0\" x2=\"162.7\" y2=\"64.2\"\n",
              "    stroke=\"#663399\" stroke-width=\"2\" />\n",
              "<line x1=\"162.7\" y1=\"64.2\" x2=\"162.7\" y2=\"52.2\"\n",
              "    stroke=\"#663399\" stroke-width=\"2\" />\n",
              "<line x1=\"162.7\" y1=\"52.2\" x2=\"155.2\" y2=\"39.2\"\n",
              "    stroke=\"#663399\" stroke-width=\"2\" />\n",
              "<line x1=\"155.2\" y1=\"39.2\" x2=\"139.6\" y2=\"30.2\"\n",
              "    stroke=\"#663399\" stroke-width=\"2\" />\n",
              "<line x1=\"139.6\" y1=\"30.2\" x2=\"118.6\" y2=\"30.2\"\n",
              "    stroke=\"#663399\" stroke-width=\"2\" />\n",
              "<line x1=\"118.6\" y1=\"30.2\" x2=\"97.8\" y2=\"42.2\"\n",
              "    stroke=\"#663399\" stroke-width=\"2\" />\n",
              "<line x1=\"97.8\" y1=\"42.2\" x2=\"84.3\" y2=\"65.6\"\n",
              "    stroke=\"#663399\" stroke-width=\"2\" />\n",
              "<line x1=\"84.3\" y1=\"65.6\" x2=\"84.3\" y2=\"95.6\"\n",
              "    stroke=\"#663399\" stroke-width=\"2\" />\n",
              "<line x1=\"84.3\" y1=\"95.6\" x2=\"100.8\" y2=\"124.2\"\n",
              "    stroke=\"#663399\" stroke-width=\"2\" />\n",
              "<line x1=\"100.8\" y1=\"124.2\" x2=\"132.0\" y2=\"142.2\"\n",
              "    stroke=\"#663399\" stroke-width=\"2\" />\n",
              "<line x1=\"132.0\" y1=\"142.2\" x2=\"171.0\" y2=\"142.2\"\n",
              "    stroke=\"#663399\" stroke-width=\"2\" />\n",
              "<line x1=\"171.0\" y1=\"142.2\" x2=\"207.4\" y2=\"121.2\"\n",
              "    stroke=\"#663399\" stroke-width=\"2\" />\n",
              "<line x1=\"207.4\" y1=\"121.2\" x2=\"229.9\" y2=\"82.2\"\n",
              "    stroke=\"#663399\" stroke-width=\"2\" />\n",
              "<line x1=\"229.9\" y1=\"82.2\" x2=\"229.9\" y2=\"34.2\"\n",
              "    stroke=\"#663399\" stroke-width=\"2\" />\n",
              "<line x1=\"229.9\" y1=\"34.2\" x2=\"204.4\" y2=\"-10.0\"\n",
              "    stroke=\"#663399\" stroke-width=\"2\" />\n",
              "<line x1=\"204.4\" y1=\"-10.0\" x2=\"157.6\" y2=\"-37.0\"\n",
              "    stroke=\"#663399\" stroke-width=\"2\" />\n",
              "<line x1=\"157.6\" y1=\"-37.0\" x2=\"100.6\" y2=\"-37.0\"\n",
              "    stroke=\"#663399\" stroke-width=\"2\" />\n",
              "<line x1=\"100.6\" y1=\"-37.0\" x2=\"48.6\" y2=\"-7.0\"\n",
              "    stroke=\"#663399\" stroke-width=\"2\" />\n",
              "<line x1=\"48.6\" y1=\"-7.0\" x2=\"17.1\" y2=\"47.6\"\n",
              "    stroke=\"#663399\" stroke-width=\"2\" />\n",
              "<line x1=\"17.1\" y1=\"47.6\" x2=\"17.1\" y2=\"113.6\"\n",
              "    stroke=\"#663399\" stroke-width=\"2\" />\n",
              "<line x1=\"17.1\" y1=\"113.6\" x2=\"51.6\" y2=\"173.4\"\n",
              "    stroke=\"#663399\" stroke-width=\"2\" />\n",
              "<line x1=\"51.6\" y1=\"173.4\" x2=\"114.0\" y2=\"209.4\"\n",
              "    stroke=\"#663399\" stroke-width=\"2\" />\n",
              "<line x1=\"114.0\" y1=\"209.4\" x2=\"189.0\" y2=\"209.4\"\n",
              "    stroke=\"#663399\" stroke-width=\"2\" />\n",
              "<line x1=\"189.0\" y1=\"209.4\" x2=\"256.5\" y2=\"170.4\"\n",
              "    stroke=\"#663399\" stroke-width=\"2\" />\n",
              "<line x1=\"256.5\" y1=\"170.4\" x2=\"297.0\" y2=\"100.2\"\n",
              "    stroke=\"#663399\" stroke-width=\"2\" />\n",
              "<line x1=\"297.0\" y1=\"100.2\" x2=\"297.0\" y2=\"16.2\"\n",
              "    stroke=\"#663399\" stroke-width=\"2\" />\n",
              "<line x1=\"297.0\" y1=\"16.2\" x2=\"253.5\" y2=\"-59.1\"\n",
              "    stroke=\"#663399\" stroke-width=\"2\" />\n",
              "<line x1=\"253.5\" y1=\"-59.1\" x2=\"175.6\" y2=\"-104.1\"\n",
              "    stroke=\"#663399\" stroke-width=\"2\" />\n",
              "<line x1=\"175.6\" y1=\"-104.1\" x2=\"82.6\" y2=\"-104.1\"\n",
              "    stroke=\"#663399\" stroke-width=\"2\" />\n",
              "<line x1=\"82.6\" y1=\"-104.1\" x2=\"-0.5\" y2=\"-56.1\"\n",
              "    stroke=\"#663399\" stroke-width=\"2\" />\n",
              "<line x1=\"-0.5\" y1=\"-56.1\" x2=\"-50.0\" y2=\"29.6\"\n",
              "    stroke=\"#663399\" stroke-width=\"2\" />\n",
              "<line x1=\"-50.0\" y1=\"29.6\" x2=\"-50.0\" y2=\"131.6\"\n",
              "    stroke=\"#663399\" stroke-width=\"2\" />\n",
              "<line x1=\"-50.0\" y1=\"131.6\" x2=\"2.5\" y2=\"222.5\"\n",
              "    stroke=\"#663399\" stroke-width=\"2\" />\n",
              "<line x1=\"2.5\" y1=\"222.5\" x2=\"96.0\" y2=\"276.5\"\n",
              "    stroke=\"#663399\" stroke-width=\"2\" />\n",
              "<line x1=\"96.0\" y1=\"276.5\" x2=\"207.0\" y2=\"276.5\"\n",
              "    stroke=\"#663399\" stroke-width=\"2\" />\n",
              "<line x1=\"207.0\" y1=\"276.5\" x2=\"305.7\" y2=\"219.5\"\n",
              "    stroke=\"#663399\" stroke-width=\"2\" />\n",
              "<line x1=\"305.7\" y1=\"219.5\" x2=\"364.2\" y2=\"118.2\"\n",
              "    stroke=\"#663399\" stroke-width=\"2\" />\n",
              "<line x1=\"364.2\" y1=\"118.2\" x2=\"364.2\" y2=\"-1.8\"\n",
              "    stroke=\"#663399\" stroke-width=\"2\" />\n",
              "<line x1=\"364.2\" y1=\"-1.8\" x2=\"302.7\" y2=\"-108.3\"\n",
              "    stroke=\"#663399\" stroke-width=\"2\" />\n",
              "<line x1=\"302.7\" y1=\"-108.3\" x2=\"193.6\" y2=\"-171.3\"\n",
              "    stroke=\"#663399\" stroke-width=\"2\" />\n",
              "<line x1=\"193.6\" y1=\"-171.3\" x2=\"64.6\" y2=\"-171.3\"\n",
              "    stroke=\"#663399\" stroke-width=\"2\" />\n",
              "<line x1=\"64.6\" y1=\"-171.3\" x2=\"-49.7\" y2=\"-105.3\"\n",
              "    stroke=\"#663399\" stroke-width=\"2\" />\n",
              "<line x1=\"-49.7\" y1=\"-105.3\" x2=\"-117.2\" y2=\"11.6\"\n",
              "    stroke=\"#663399\" stroke-width=\"2\" />\n",
              "<line x1=\"-117.2\" y1=\"11.6\" x2=\"-117.2\" y2=\"149.6\"\n",
              "    stroke=\"#663399\" stroke-width=\"2\" />\n",
              "<line x1=\"-117.2\" y1=\"149.6\" x2=\"-46.7\" y2=\"271.7\"\n",
              "    stroke=\"#663399\" stroke-width=\"2\" />\n",
              "<line x1=\"-46.7\" y1=\"271.7\" x2=\"78.0\" y2=\"343.7\"\n",
              "    stroke=\"#663399\" stroke-width=\"2\" />\n",
              "<line x1=\"78.0\" y1=\"343.7\" x2=\"225.0\" y2=\"343.7\"\n",
              "    stroke=\"#663399\" stroke-width=\"2\" />\n",
              "<line x1=\"225.0\" y1=\"343.7\" x2=\"354.9\" y2=\"268.7\"\n",
              "    stroke=\"#663399\" stroke-width=\"2\" />\n",
              "\n",
              "<g transform=\"rotate(210.0,354.9,268.7) translate(354.9, 268.7)\">\n",
              "    <circle stroke=\"#63A375\" stroke-width=\"2\" fill=\"transparent\" r=\"5.5\" cx=\"0\" cy=\"0\"/>\n",
              "    <polygon points=\"0,12 2,9 -2,9\" style=\"fill:#63A375;stroke:#63A375;stroke-width:2\"/>\n",
              "</g>\n",
              "\n",
              "</svg>"
            ]
          },
          "metadata": {}
        }
      ],
      "source": [
        "# Solution goes here\n",
        "from jupyturtle import make_turtle, forward, left\n",
        "\n",
        "def spiral(turns, step=5, angle=30):\n",
        "    \"\"\"\n",
        "    Draws a spiral.\n",
        "\n",
        "    :param turns: Number of steps in the spiral\n",
        "    :param step: Forward distance increment per step\n",
        "    :param angle: Turn angle per step\n",
        "    \"\"\"\n",
        "    length = 0\n",
        "    for _ in range(turns):\n",
        "        length += step\n",
        "        forward(length)\n",
        "        left(angle)\n",
        "\n",
        "# --- Use the turtle ---\n",
        "make_turtle(delay=0)\n",
        "spiral(50, step=3, angle=30)  # Draws a spiral\n"
      ]
    },
    {
      "cell_type": "code",
      "execution_count": null,
      "id": "186c7fbc",
      "metadata": {
        "id": "186c7fbc"
      },
      "outputs": [],
      "source": [
        "# Solution goes here"
      ]
    },
    {
      "cell_type": "markdown",
      "id": "a7f4edf8",
      "metadata": {
        "tags": [],
        "id": "a7f4edf8"
      },
      "source": [
        "[Think Python: 3rd Edition](https://allendowney.github.io/ThinkPython/index.html)\n",
        "\n",
        "Copyright 2024 [Allen B. Downey](https://allendowney.com)\n",
        "\n",
        "Code license: [MIT License](https://mit-license.org/)\n",
        "\n",
        "Text license: [Creative Commons Attribution-NonCommercial-ShareAlike 4.0 International](https://creativecommons.org/licenses/by-nc-sa/4.0/)"
      ]
    }
  ],
  "metadata": {
    "celltoolbar": "Tags",
    "kernelspec": {
      "display_name": "Python 3 (ipykernel)",
      "language": "python",
      "name": "python3"
    },
    "language_info": {
      "codemirror_mode": {
        "name": "ipython",
        "version": 3
      },
      "file_extension": ".py",
      "mimetype": "text/x-python",
      "name": "python",
      "nbconvert_exporter": "python",
      "pygments_lexer": "ipython3",
      "version": "3.10.11"
    },
    "colab": {
      "provenance": []
    },
    "widgets": {
      "application/vnd.jupyter.widget-state+json": {
        "f3b4949f35ae4137a5a9ff9e7a697776": {
          "model_module": "@jupyter-widgets/base",
          "model_name": "DOMWidgetModel",
          "model_module_version": "1.2.0",
          "state": {
            "_dom_classes": [],
            "_model_module": "@jupyter-widgets/base",
            "_model_module_version": "1.2.0",
            "_model_name": "DOMWidgetModel",
            "_view_count": null,
            "_view_module": "nbextensions/mobilechelonianjs/turtlewidget",
            "_view_module_version": "",
            "_view_name": "TurtleView",
            "layout": "IPY_MODEL_ba0bc39ba52f4c1db479a7a3e3ba3c74",
            "points": [
              {
                "p": 1,
                "lc": "black",
                "x": 200,
                "y": 200,
                "b": 0,
                "s": 1
              },
              {
                "p": 1,
                "lc": "black",
                "x": 200,
                "y": 200,
                "b": -2.727272727272727,
                "s": 1
              },
              {
                "p": 1,
                "lc": "black",
                "x": 203.8,
                "y": 199.8,
                "b": 0,
                "s": 1
              },
              {
                "p": 1,
                "lc": "black",
                "x": 203.8,
                "y": 199.8,
                "b": -5.454545454545454,
                "s": 1
              },
              {
                "p": 1,
                "lc": "black",
                "x": 207.60000000000002,
                "y": 199.3,
                "b": 0,
                "s": 1
              },
              {
                "p": 1,
                "lc": "black",
                "x": 207.60000000000002,
                "y": 199.3,
                "b": -5.454545454545454,
                "s": 1
              },
              {
                "p": 1,
                "lc": "black",
                "x": 211.3,
                "y": 198.4,
                "b": 0,
                "s": 1
              },
              {
                "p": 1,
                "lc": "black",
                "x": 211.3,
                "y": 198.4,
                "b": -5.454545454545454,
                "s": 1
              },
              {
                "p": 1,
                "lc": "black",
                "x": 214.9,
                "y": 197.20000000000002,
                "b": 0,
                "s": 1
              },
              {
                "p": 1,
                "lc": "black",
                "x": 214.9,
                "y": 197.20000000000002,
                "b": -5.454545454545454,
                "s": 1
              },
              {
                "p": 1,
                "lc": "black",
                "x": 218.4,
                "y": 195.60000000000002,
                "b": 0,
                "s": 1
              },
              {
                "p": 1,
                "lc": "black",
                "x": 218.4,
                "y": 195.60000000000002,
                "b": -5.454545454545454,
                "s": 1
              },
              {
                "p": 1,
                "lc": "black",
                "x": 221.70000000000002,
                "y": 193.70000000000002,
                "b": 0,
                "s": 1
              },
              {
                "p": 1,
                "lc": "black",
                "x": 221.70000000000002,
                "y": 193.70000000000002,
                "b": -5.454545454545454,
                "s": 1
              },
              {
                "p": 1,
                "lc": "black",
                "x": 224.8,
                "y": 191.50000000000003,
                "b": 0,
                "s": 1
              },
              {
                "p": 1,
                "lc": "black",
                "x": 224.8,
                "y": 191.50000000000003,
                "b": -5.454545454545454,
                "s": 1
              },
              {
                "p": 1,
                "lc": "black",
                "x": 227.70000000000002,
                "y": 189.00000000000003,
                "b": 0,
                "s": 1
              },
              {
                "p": 1,
                "lc": "black",
                "x": 227.70000000000002,
                "y": 189.00000000000003,
                "b": -5.454545454545454,
                "s": 1
              },
              {
                "p": 1,
                "lc": "black",
                "x": 230.3,
                "y": 186.20000000000002,
                "b": 0,
                "s": 1
              },
              {
                "p": 1,
                "lc": "black",
                "x": 230.3,
                "y": 186.20000000000002,
                "b": -5.454545454545454,
                "s": 1
              },
              {
                "p": 1,
                "lc": "black",
                "x": 232.70000000000002,
                "y": 183.20000000000002,
                "b": 0,
                "s": 1
              },
              {
                "p": 1,
                "lc": "black",
                "x": 232.70000000000002,
                "y": 183.20000000000002,
                "b": -5.454545454545454,
                "s": 1
              },
              {
                "p": 1,
                "lc": "black",
                "x": 234.8,
                "y": 180.00000000000003,
                "b": 0,
                "s": 1
              },
              {
                "p": 1,
                "lc": "black",
                "x": 234.8,
                "y": 180.00000000000003,
                "b": -5.454545454545454,
                "s": 1
              },
              {
                "p": 1,
                "lc": "black",
                "x": 234.8,
                "y": 180.00000000000003,
                "b": 2.727272727272727,
                "s": 1
              },
              {
                "p": 1,
                "lc": "black",
                "x": 234.8,
                "y": 180.00000000000003,
                "b": -120,
                "s": 1
              },
              {
                "p": 1,
                "lc": "black",
                "x": 234.8,
                "y": 180.00000000000003,
                "b": -2.727272727272727,
                "s": 1
              },
              {
                "p": 1,
                "lc": "black",
                "x": 231,
                "y": 180.20000000000002,
                "b": 0,
                "s": 1
              },
              {
                "p": 1,
                "lc": "black",
                "x": 231,
                "y": 180.20000000000002,
                "b": -5.454545454545454,
                "s": 1
              },
              {
                "p": 1,
                "lc": "black",
                "x": 227.2,
                "y": 180.70000000000002,
                "b": 0,
                "s": 1
              },
              {
                "p": 1,
                "lc": "black",
                "x": 227.2,
                "y": 180.70000000000002,
                "b": -5.454545454545454,
                "s": 1
              },
              {
                "p": 1,
                "lc": "black",
                "x": 223.5,
                "y": 181.60000000000002,
                "b": 0,
                "s": 1
              },
              {
                "p": 1,
                "lc": "black",
                "x": 223.5,
                "y": 181.60000000000002,
                "b": -5.454545454545454,
                "s": 1
              },
              {
                "p": 1,
                "lc": "black",
                "x": 219.9,
                "y": 182.8,
                "b": 0,
                "s": 1
              },
              {
                "p": 1,
                "lc": "black",
                "x": 219.9,
                "y": 182.8,
                "b": -5.454545454545454,
                "s": 1
              },
              {
                "p": 1,
                "lc": "black",
                "x": 216.4,
                "y": 184.4,
                "b": 0,
                "s": 1
              },
              {
                "p": 1,
                "lc": "black",
                "x": 216.4,
                "y": 184.4,
                "b": -5.454545454545454,
                "s": 1
              },
              {
                "p": 1,
                "lc": "black",
                "x": 213.1,
                "y": 186.3,
                "b": 0,
                "s": 1
              },
              {
                "p": 1,
                "lc": "black",
                "x": 213.1,
                "y": 186.3,
                "b": -5.454545454545454,
                "s": 1
              },
              {
                "p": 1,
                "lc": "black",
                "x": 210,
                "y": 188.5,
                "b": 0,
                "s": 1
              },
              {
                "p": 1,
                "lc": "black",
                "x": 210,
                "y": 188.5,
                "b": -5.454545454545454,
                "s": 1
              },
              {
                "p": 1,
                "lc": "black",
                "x": 207.1,
                "y": 191,
                "b": 0,
                "s": 1
              },
              {
                "p": 1,
                "lc": "black",
                "x": 207.1,
                "y": 191,
                "b": -5.454545454545454,
                "s": 1
              },
              {
                "p": 1,
                "lc": "black",
                "x": 204.5,
                "y": 193.8,
                "b": 0,
                "s": 1
              },
              {
                "p": 1,
                "lc": "black",
                "x": 204.5,
                "y": 193.8,
                "b": -5.454545454545454,
                "s": 1
              },
              {
                "p": 1,
                "lc": "black",
                "x": 202.1,
                "y": 196.8,
                "b": 0,
                "s": 1
              },
              {
                "p": 1,
                "lc": "black",
                "x": 202.1,
                "y": 196.8,
                "b": -5.454545454545454,
                "s": 1
              },
              {
                "p": 1,
                "lc": "black",
                "x": 200,
                "y": 200,
                "b": 0,
                "s": 1
              },
              {
                "p": 1,
                "lc": "black",
                "x": 200,
                "y": 200,
                "b": -5.454545454545454,
                "s": 1
              },
              {
                "p": 1,
                "lc": "black",
                "x": 200,
                "y": 200,
                "b": 2.727272727272727,
                "s": 1
              },
              {
                "p": 1,
                "lc": "black",
                "x": 200,
                "y": 200,
                "b": -120,
                "s": 1
              },
              {
                "p": 1,
                "lc": "black",
                "x": 200,
                "y": 200,
                "b": -60,
                "s": 1
              },
              {
                "p": 1,
                "lc": "black",
                "x": 200,
                "y": 200,
                "b": -2.727272727272727,
                "s": 1
              },
              {
                "p": 1,
                "lc": "black",
                "x": 201.7,
                "y": 196.6,
                "b": 0,
                "s": 1
              },
              {
                "p": 1,
                "lc": "black",
                "x": 201.7,
                "y": 196.6,
                "b": -5.454545454545454,
                "s": 1
              },
              {
                "p": 1,
                "lc": "black",
                "x": 203.1,
                "y": 193.1,
                "b": 0,
                "s": 1
              },
              {
                "p": 1,
                "lc": "black",
                "x": 203.1,
                "y": 193.1,
                "b": -5.454545454545454,
                "s": 1
              },
              {
                "p": 1,
                "lc": "black",
                "x": 204.2,
                "y": 189.4,
                "b": 0,
                "s": 1
              },
              {
                "p": 1,
                "lc": "black",
                "x": 204.2,
                "y": 189.4,
                "b": -5.454545454545454,
                "s": 1
              },
              {
                "p": 1,
                "lc": "black",
                "x": 204.89999999999998,
                "y": 185.70000000000002,
                "b": 0,
                "s": 1
              },
              {
                "p": 1,
                "lc": "black",
                "x": 204.89999999999998,
                "y": 185.70000000000002,
                "b": -5.454545454545454,
                "s": 1
              },
              {
                "p": 1,
                "lc": "black",
                "x": 205.29999999999998,
                "y": 181.9,
                "b": 0,
                "s": 1
              },
              {
                "p": 1,
                "lc": "black",
                "x": 205.29999999999998,
                "y": 181.9,
                "b": -5.454545454545454,
                "s": 1
              },
              {
                "p": 1,
                "lc": "black",
                "x": 205.29999999999998,
                "y": 178.1,
                "b": 0,
                "s": 1
              },
              {
                "p": 1,
                "lc": "black",
                "x": 205.29999999999998,
                "y": 178.1,
                "b": -5.454545454545454,
                "s": 1
              },
              {
                "p": 1,
                "lc": "black",
                "x": 204.89999999999998,
                "y": 174.29999999999998,
                "b": 0,
                "s": 1
              },
              {
                "p": 1,
                "lc": "black",
                "x": 204.89999999999998,
                "y": 174.29999999999998,
                "b": -5.454545454545454,
                "s": 1
              },
              {
                "p": 1,
                "lc": "black",
                "x": 204.2,
                "y": 170.6,
                "b": 0,
                "s": 1
              },
              {
                "p": 1,
                "lc": "black",
                "x": 204.2,
                "y": 170.6,
                "b": -5.454545454545454,
                "s": 1
              },
              {
                "p": 1,
                "lc": "black",
                "x": 203.1,
                "y": 166.9,
                "b": 0,
                "s": 1
              },
              {
                "p": 1,
                "lc": "black",
                "x": 203.1,
                "y": 166.9,
                "b": -5.454545454545454,
                "s": 1
              },
              {
                "p": 1,
                "lc": "black",
                "x": 201.7,
                "y": 163.4,
                "b": 0,
                "s": 1
              },
              {
                "p": 1,
                "lc": "black",
                "x": 201.7,
                "y": 163.4,
                "b": -5.454545454545454,
                "s": 1
              },
              {
                "p": 1,
                "lc": "black",
                "x": 200,
                "y": 160,
                "b": 0,
                "s": 1
              },
              {
                "p": 1,
                "lc": "black",
                "x": 200,
                "y": 160,
                "b": -5.454545454545454,
                "s": 1
              },
              {
                "p": 1,
                "lc": "black",
                "x": 200,
                "y": 160,
                "b": 2.727272727272727,
                "s": 1
              },
              {
                "p": 1,
                "lc": "black",
                "x": 200,
                "y": 160,
                "b": -120,
                "s": 1
              },
              {
                "p": 1,
                "lc": "black",
                "x": 200,
                "y": 160,
                "b": -2.727272727272727,
                "s": 1
              },
              {
                "p": 1,
                "lc": "black",
                "x": 198.3,
                "y": 163.4,
                "b": 0,
                "s": 1
              },
              {
                "p": 1,
                "lc": "black",
                "x": 198.3,
                "y": 163.4,
                "b": -5.454545454545454,
                "s": 1
              },
              {
                "p": 1,
                "lc": "black",
                "x": 196.9,
                "y": 166.9,
                "b": 0,
                "s": 1
              },
              {
                "p": 1,
                "lc": "black",
                "x": 196.9,
                "y": 166.9,
                "b": -5.454545454545454,
                "s": 1
              },
              {
                "p": 1,
                "lc": "black",
                "x": 195.8,
                "y": 170.6,
                "b": 0,
                "s": 1
              },
              {
                "p": 1,
                "lc": "black",
                "x": 195.8,
                "y": 170.6,
                "b": -5.454545454545454,
                "s": 1
              },
              {
                "p": 1,
                "lc": "black",
                "x": 195.10000000000002,
                "y": 174.29999999999998,
                "b": 0,
                "s": 1
              },
              {
                "p": 1,
                "lc": "black",
                "x": 195.10000000000002,
                "y": 174.29999999999998,
                "b": -5.454545454545454,
                "s": 1
              },
              {
                "p": 1,
                "lc": "black",
                "x": 194.70000000000002,
                "y": 178.1,
                "b": 0,
                "s": 1
              },
              {
                "p": 1,
                "lc": "black",
                "x": 194.70000000000002,
                "y": 178.1,
                "b": -5.454545454545454,
                "s": 1
              },
              {
                "p": 1,
                "lc": "black",
                "x": 194.70000000000002,
                "y": 181.9,
                "b": 0,
                "s": 1
              },
              {
                "p": 1,
                "lc": "black",
                "x": 194.70000000000002,
                "y": 181.9,
                "b": -5.454545454545454,
                "s": 1
              },
              {
                "p": 1,
                "lc": "black",
                "x": 195.10000000000002,
                "y": 185.70000000000002,
                "b": 0,
                "s": 1
              },
              {
                "p": 1,
                "lc": "black",
                "x": 195.10000000000002,
                "y": 185.70000000000002,
                "b": -5.454545454545454,
                "s": 1
              },
              {
                "p": 1,
                "lc": "black",
                "x": 195.8,
                "y": 189.4,
                "b": 0,
                "s": 1
              },
              {
                "p": 1,
                "lc": "black",
                "x": 195.8,
                "y": 189.4,
                "b": -5.454545454545454,
                "s": 1
              },
              {
                "p": 1,
                "lc": "black",
                "x": 196.9,
                "y": 193.1,
                "b": 0,
                "s": 1
              },
              {
                "p": 1,
                "lc": "black",
                "x": 196.9,
                "y": 193.1,
                "b": -5.454545454545454,
                "s": 1
              },
              {
                "p": 1,
                "lc": "black",
                "x": 198.3,
                "y": 196.6,
                "b": 0,
                "s": 1
              },
              {
                "p": 1,
                "lc": "black",
                "x": 198.3,
                "y": 196.6,
                "b": -5.454545454545454,
                "s": 1
              },
              {
                "p": 1,
                "lc": "black",
                "x": 200,
                "y": 200,
                "b": 0,
                "s": 1
              },
              {
                "p": 1,
                "lc": "black",
                "x": 200,
                "y": 200,
                "b": -5.454545454545454,
                "s": 1
              },
              {
                "p": 1,
                "lc": "black",
                "x": 200,
                "y": 200,
                "b": 2.727272727272727,
                "s": 1
              },
              {
                "p": 1,
                "lc": "black",
                "x": 200,
                "y": 200,
                "b": -120,
                "s": 1
              },
              {
                "p": 1,
                "lc": "black",
                "x": 200,
                "y": 200,
                "b": -60,
                "s": 1
              },
              {
                "p": 1,
                "lc": "black",
                "x": 200,
                "y": 200,
                "b": -2.727272727272727,
                "s": 1
              },
              {
                "p": 1,
                "lc": "black",
                "x": 197.9,
                "y": 196.8,
                "b": 0,
                "s": 1
              },
              {
                "p": 1,
                "lc": "black",
                "x": 197.9,
                "y": 196.8,
                "b": -5.454545454545454,
                "s": 1
              },
              {
                "p": 1,
                "lc": "black",
                "x": 195.5,
                "y": 193.8,
                "b": 0,
                "s": 1
              },
              {
                "p": 1,
                "lc": "black",
                "x": 195.5,
                "y": 193.8,
                "b": -5.454545454545454,
                "s": 1
              },
              {
                "p": 1,
                "lc": "black",
                "x": 192.9,
                "y": 191,
                "b": 0,
                "s": 1
              },
              {
                "p": 1,
                "lc": "black",
                "x": 192.9,
                "y": 191,
                "b": -5.454545454545454,
                "s": 1
              },
              {
                "p": 1,
                "lc": "black",
                "x": 190,
                "y": 188.5,
                "b": 0,
                "s": 1
              },
              {
                "p": 1,
                "lc": "black",
                "x": 190,
                "y": 188.5,
                "b": -5.454545454545454,
                "s": 1
              },
              {
                "p": 1,
                "lc": "black",
                "x": 186.9,
                "y": 186.3,
                "b": 0,
                "s": 1
              },
              {
                "p": 1,
                "lc": "black",
                "x": 186.9,
                "y": 186.3,
                "b": -5.454545454545454,
                "s": 1
              },
              {
                "p": 1,
                "lc": "black",
                "x": 183.6,
                "y": 184.4,
                "b": 0,
                "s": 1
              },
              {
                "p": 1,
                "lc": "black",
                "x": 183.6,
                "y": 184.4,
                "b": -5.454545454545454,
                "s": 1
              },
              {
                "p": 1,
                "lc": "black",
                "x": 180.1,
                "y": 182.8,
                "b": 0,
                "s": 1
              },
              {
                "p": 1,
                "lc": "black",
                "x": 180.1,
                "y": 182.8,
                "b": -5.454545454545454,
                "s": 1
              },
              {
                "p": 1,
                "lc": "black",
                "x": 176.5,
                "y": 181.60000000000002,
                "b": 0,
                "s": 1
              },
              {
                "p": 1,
                "lc": "black",
                "x": 176.5,
                "y": 181.60000000000002,
                "b": -5.454545454545454,
                "s": 1
              },
              {
                "p": 1,
                "lc": "black",
                "x": 172.8,
                "y": 180.70000000000002,
                "b": 0,
                "s": 1
              },
              {
                "p": 1,
                "lc": "black",
                "x": 172.8,
                "y": 180.70000000000002,
                "b": -5.454545454545454,
                "s": 1
              },
              {
                "p": 1,
                "lc": "black",
                "x": 169,
                "y": 180.20000000000002,
                "b": 0,
                "s": 1
              },
              {
                "p": 1,
                "lc": "black",
                "x": 169,
                "y": 180.20000000000002,
                "b": -5.454545454545454,
                "s": 1
              },
              {
                "p": 1,
                "lc": "black",
                "x": 165.2,
                "y": 180.00000000000003,
                "b": 0,
                "s": 1
              },
              {
                "p": 1,
                "lc": "black",
                "x": 165.2,
                "y": 180.00000000000003,
                "b": -5.454545454545454,
                "s": 1
              },
              {
                "p": 1,
                "lc": "black",
                "x": 165.2,
                "y": 180.00000000000003,
                "b": 2.727272727272727,
                "s": 1
              },
              {
                "p": 1,
                "lc": "black",
                "x": 165.2,
                "y": 180.00000000000003,
                "b": -120,
                "s": 1
              },
              {
                "p": 1,
                "lc": "black",
                "x": 165.2,
                "y": 180.00000000000003,
                "b": -2.727272727272727,
                "s": 1
              },
              {
                "p": 1,
                "lc": "black",
                "x": 167.29999999999998,
                "y": 183.20000000000002,
                "b": 0,
                "s": 1
              },
              {
                "p": 1,
                "lc": "black",
                "x": 167.29999999999998,
                "y": 183.20000000000002,
                "b": -5.454545454545454,
                "s": 1
              },
              {
                "p": 1,
                "lc": "black",
                "x": 169.7,
                "y": 186.20000000000002,
                "b": 0,
                "s": 1
              },
              {
                "p": 1,
                "lc": "black",
                "x": 169.7,
                "y": 186.20000000000002,
                "b": -5.454545454545454,
                "s": 1
              },
              {
                "p": 1,
                "lc": "black",
                "x": 172.29999999999998,
                "y": 189.00000000000003,
                "b": 0,
                "s": 1
              },
              {
                "p": 1,
                "lc": "black",
                "x": 172.29999999999998,
                "y": 189.00000000000003,
                "b": -5.454545454545454,
                "s": 1
              },
              {
                "p": 1,
                "lc": "black",
                "x": 175.2,
                "y": 191.50000000000003,
                "b": 0,
                "s": 1
              },
              {
                "p": 1,
                "lc": "black",
                "x": 175.2,
                "y": 191.50000000000003,
                "b": -5.454545454545454,
                "s": 1
              },
              {
                "p": 1,
                "lc": "black",
                "x": 178.29999999999998,
                "y": 193.70000000000002,
                "b": 0,
                "s": 1
              },
              {
                "p": 1,
                "lc": "black",
                "x": 178.29999999999998,
                "y": 193.70000000000002,
                "b": -5.454545454545454,
                "s": 1
              },
              {
                "p": 1,
                "lc": "black",
                "x": 181.6,
                "y": 195.60000000000002,
                "b": 0,
                "s": 1
              },
              {
                "p": 1,
                "lc": "black",
                "x": 181.6,
                "y": 195.60000000000002,
                "b": -5.454545454545454,
                "s": 1
              },
              {
                "p": 1,
                "lc": "black",
                "x": 185.1,
                "y": 197.20000000000002,
                "b": 0,
                "s": 1
              },
              {
                "p": 1,
                "lc": "black",
                "x": 185.1,
                "y": 197.20000000000002,
                "b": -5.454545454545454,
                "s": 1
              },
              {
                "p": 1,
                "lc": "black",
                "x": 188.7,
                "y": 198.4,
                "b": 0,
                "s": 1
              },
              {
                "p": 1,
                "lc": "black",
                "x": 188.7,
                "y": 198.4,
                "b": -5.454545454545454,
                "s": 1
              },
              {
                "p": 1,
                "lc": "black",
                "x": 192.39999999999998,
                "y": 199.3,
                "b": 0,
                "s": 1
              },
              {
                "p": 1,
                "lc": "black",
                "x": 192.39999999999998,
                "y": 199.3,
                "b": -5.454545454545454,
                "s": 1
              },
              {
                "p": 1,
                "lc": "black",
                "x": 196.2,
                "y": 199.8,
                "b": 0,
                "s": 1
              },
              {
                "p": 1,
                "lc": "black",
                "x": 196.2,
                "y": 199.8,
                "b": -5.454545454545454,
                "s": 1
              },
              {
                "p": 1,
                "lc": "black",
                "x": 200,
                "y": 200,
                "b": 0,
                "s": 1
              },
              {
                "p": 1,
                "lc": "black",
                "x": 200,
                "y": 200,
                "b": -5.454545454545454,
                "s": 1
              },
              {
                "p": 1,
                "lc": "black",
                "x": 200,
                "y": 200,
                "b": 2.727272727272727,
                "s": 1
              },
              {
                "p": 1,
                "lc": "black",
                "x": 200,
                "y": 200,
                "b": -120,
                "s": 1
              },
              {
                "p": 1,
                "lc": "black",
                "x": 200,
                "y": 200,
                "b": -60,
                "s": 1
              },
              {
                "p": 1,
                "lc": "black",
                "x": 200,
                "y": 200,
                "b": -2.727272727272727,
                "s": 1
              },
              {
                "p": 1,
                "lc": "black",
                "x": 196.2,
                "y": 200.2,
                "b": 0,
                "s": 1
              },
              {
                "p": 1,
                "lc": "black",
                "x": 196.2,
                "y": 200.2,
                "b": -5.454545454545454,
                "s": 1
              },
              {
                "p": 1,
                "lc": "black",
                "x": 192.39999999999998,
                "y": 200.7,
                "b": 0,
                "s": 1
              },
              {
                "p": 1,
                "lc": "black",
                "x": 192.39999999999998,
                "y": 200.7,
                "b": -5.454545454545454,
                "s": 1
              },
              {
                "p": 1,
                "lc": "black",
                "x": 188.7,
                "y": 201.6,
                "b": 0,
                "s": 1
              },
              {
                "p": 1,
                "lc": "black",
                "x": 188.7,
                "y": 201.6,
                "b": -5.454545454545454,
                "s": 1
              },
              {
                "p": 1,
                "lc": "black",
                "x": 185.1,
                "y": 202.79999999999998,
                "b": 0,
                "s": 1
              },
              {
                "p": 1,
                "lc": "black",
                "x": 185.1,
                "y": 202.79999999999998,
                "b": -5.454545454545454,
                "s": 1
              },
              {
                "p": 1,
                "lc": "black",
                "x": 181.6,
                "y": 204.39999999999998,
                "b": 0,
                "s": 1
              },
              {
                "p": 1,
                "lc": "black",
                "x": 181.6,
                "y": 204.39999999999998,
                "b": -5.454545454545454,
                "s": 1
              },
              {
                "p": 1,
                "lc": "black",
                "x": 178.29999999999998,
                "y": 206.29999999999998,
                "b": 0,
                "s": 1
              },
              {
                "p": 1,
                "lc": "black",
                "x": 178.29999999999998,
                "y": 206.29999999999998,
                "b": -5.454545454545454,
                "s": 1
              },
              {
                "p": 1,
                "lc": "black",
                "x": 175.2,
                "y": 208.49999999999997,
                "b": 0,
                "s": 1
              },
              {
                "p": 1,
                "lc": "black",
                "x": 175.2,
                "y": 208.49999999999997,
                "b": -5.454545454545454,
                "s": 1
              },
              {
                "p": 1,
                "lc": "black",
                "x": 172.29999999999998,
                "y": 210.99999999999997,
                "b": 0,
                "s": 1
              },
              {
                "p": 1,
                "lc": "black",
                "x": 172.29999999999998,
                "y": 210.99999999999997,
                "b": -5.454545454545454,
                "s": 1
              },
              {
                "p": 1,
                "lc": "black",
                "x": 169.7,
                "y": 213.79999999999998,
                "b": 0,
                "s": 1
              },
              {
                "p": 1,
                "lc": "black",
                "x": 169.7,
                "y": 213.79999999999998,
                "b": -5.454545454545454,
                "s": 1
              },
              {
                "p": 1,
                "lc": "black",
                "x": 167.29999999999998,
                "y": 216.79999999999998,
                "b": 0,
                "s": 1
              },
              {
                "p": 1,
                "lc": "black",
                "x": 167.29999999999998,
                "y": 216.79999999999998,
                "b": -5.454545454545454,
                "s": 1
              },
              {
                "p": 1,
                "lc": "black",
                "x": 165.2,
                "y": 219.99999999999997,
                "b": 0,
                "s": 1
              },
              {
                "p": 1,
                "lc": "black",
                "x": 165.2,
                "y": 219.99999999999997,
                "b": -5.454545454545454,
                "s": 1
              },
              {
                "p": 1,
                "lc": "black",
                "x": 165.2,
                "y": 219.99999999999997,
                "b": 2.727272727272727,
                "s": 1
              },
              {
                "p": 1,
                "lc": "black",
                "x": 165.2,
                "y": 219.99999999999997,
                "b": -120,
                "s": 1
              },
              {
                "p": 1,
                "lc": "black",
                "x": 165.2,
                "y": 219.99999999999997,
                "b": -2.727272727272727,
                "s": 1
              },
              {
                "p": 1,
                "lc": "black",
                "x": 169,
                "y": 219.79999999999998,
                "b": 0,
                "s": 1
              },
              {
                "p": 1,
                "lc": "black",
                "x": 169,
                "y": 219.79999999999998,
                "b": -5.454545454545454,
                "s": 1
              },
              {
                "p": 1,
                "lc": "black",
                "x": 172.8,
                "y": 219.29999999999998,
                "b": 0,
                "s": 1
              },
              {
                "p": 1,
                "lc": "black",
                "x": 172.8,
                "y": 219.29999999999998,
                "b": -5.454545454545454,
                "s": 1
              },
              {
                "p": 1,
                "lc": "black",
                "x": 176.5,
                "y": 218.39999999999998,
                "b": 0,
                "s": 1
              },
              {
                "p": 1,
                "lc": "black",
                "x": 176.5,
                "y": 218.39999999999998,
                "b": -5.454545454545454,
                "s": 1
              },
              {
                "p": 1,
                "lc": "black",
                "x": 180.1,
                "y": 217.2,
                "b": 0,
                "s": 1
              },
              {
                "p": 1,
                "lc": "black",
                "x": 180.1,
                "y": 217.2,
                "b": -5.454545454545454,
                "s": 1
              },
              {
                "p": 1,
                "lc": "black",
                "x": 183.6,
                "y": 215.6,
                "b": 0,
                "s": 1
              },
              {
                "p": 1,
                "lc": "black",
                "x": 183.6,
                "y": 215.6,
                "b": -5.454545454545454,
                "s": 1
              },
              {
                "p": 1,
                "lc": "black",
                "x": 186.9,
                "y": 213.7,
                "b": 0,
                "s": 1
              },
              {
                "p": 1,
                "lc": "black",
                "x": 186.9,
                "y": 213.7,
                "b": -5.454545454545454,
                "s": 1
              },
              {
                "p": 1,
                "lc": "black",
                "x": 190,
                "y": 211.5,
                "b": 0,
                "s": 1
              },
              {
                "p": 1,
                "lc": "black",
                "x": 190,
                "y": 211.5,
                "b": -5.454545454545454,
                "s": 1
              },
              {
                "p": 1,
                "lc": "black",
                "x": 192.9,
                "y": 209,
                "b": 0,
                "s": 1
              },
              {
                "p": 1,
                "lc": "black",
                "x": 192.9,
                "y": 209,
                "b": -5.454545454545454,
                "s": 1
              },
              {
                "p": 1,
                "lc": "black",
                "x": 195.5,
                "y": 206.2,
                "b": 0,
                "s": 1
              },
              {
                "p": 1,
                "lc": "black",
                "x": 195.5,
                "y": 206.2,
                "b": -5.454545454545454,
                "s": 1
              },
              {
                "p": 1,
                "lc": "black",
                "x": 197.9,
                "y": 203.2,
                "b": 0,
                "s": 1
              },
              {
                "p": 1,
                "lc": "black",
                "x": 197.9,
                "y": 203.2,
                "b": -5.454545454545454,
                "s": 1
              },
              {
                "p": 1,
                "lc": "black",
                "x": 200,
                "y": 200,
                "b": 0,
                "s": 1
              },
              {
                "p": 1,
                "lc": "black",
                "x": 200,
                "y": 200,
                "b": -5.454545454545454,
                "s": 1
              },
              {
                "p": 1,
                "lc": "black",
                "x": 200,
                "y": 200,
                "b": 2.727272727272727,
                "s": 1
              },
              {
                "p": 1,
                "lc": "black",
                "x": 200,
                "y": 200,
                "b": -120,
                "s": 1
              },
              {
                "p": 1,
                "lc": "black",
                "x": 200,
                "y": 200,
                "b": -60,
                "s": 1
              },
              {
                "p": 1,
                "lc": "black",
                "x": 200,
                "y": 200,
                "b": -2.727272727272727,
                "s": 1
              },
              {
                "p": 1,
                "lc": "black",
                "x": 198.3,
                "y": 203.4,
                "b": 0,
                "s": 1
              },
              {
                "p": 1,
                "lc": "black",
                "x": 198.3,
                "y": 203.4,
                "b": -5.454545454545454,
                "s": 1
              },
              {
                "p": 1,
                "lc": "black",
                "x": 196.9,
                "y": 206.9,
                "b": 0,
                "s": 1
              },
              {
                "p": 1,
                "lc": "black",
                "x": 196.9,
                "y": 206.9,
                "b": -5.454545454545454,
                "s": 1
              },
              {
                "p": 1,
                "lc": "black",
                "x": 195.8,
                "y": 210.6,
                "b": 0,
                "s": 1
              },
              {
                "p": 1,
                "lc": "black",
                "x": 195.8,
                "y": 210.6,
                "b": -5.454545454545454,
                "s": 1
              },
              {
                "p": 1,
                "lc": "black",
                "x": 195.10000000000002,
                "y": 214.29999999999998,
                "b": 0,
                "s": 1
              },
              {
                "p": 1,
                "lc": "black",
                "x": 195.10000000000002,
                "y": 214.29999999999998,
                "b": -5.454545454545454,
                "s": 1
              },
              {
                "p": 1,
                "lc": "black",
                "x": 194.70000000000002,
                "y": 218.1,
                "b": 0,
                "s": 1
              },
              {
                "p": 1,
                "lc": "black",
                "x": 194.70000000000002,
                "y": 218.1,
                "b": -5.454545454545454,
                "s": 1
              },
              {
                "p": 1,
                "lc": "black",
                "x": 194.70000000000002,
                "y": 221.9,
                "b": 0,
                "s": 1
              },
              {
                "p": 1,
                "lc": "black",
                "x": 194.70000000000002,
                "y": 221.9,
                "b": -5.454545454545454,
                "s": 1
              },
              {
                "p": 1,
                "lc": "black",
                "x": 195.10000000000002,
                "y": 225.70000000000002,
                "b": 0,
                "s": 1
              },
              {
                "p": 1,
                "lc": "black",
                "x": 195.10000000000002,
                "y": 225.70000000000002,
                "b": -5.454545454545454,
                "s": 1
              },
              {
                "p": 1,
                "lc": "black",
                "x": 195.8,
                "y": 229.4,
                "b": 0,
                "s": 1
              },
              {
                "p": 1,
                "lc": "black",
                "x": 195.8,
                "y": 229.4,
                "b": -5.454545454545454,
                "s": 1
              },
              {
                "p": 1,
                "lc": "black",
                "x": 196.9,
                "y": 233.1,
                "b": 0,
                "s": 1
              },
              {
                "p": 1,
                "lc": "black",
                "x": 196.9,
                "y": 233.1,
                "b": -5.454545454545454,
                "s": 1
              },
              {
                "p": 1,
                "lc": "black",
                "x": 198.3,
                "y": 236.6,
                "b": 0,
                "s": 1
              },
              {
                "p": 1,
                "lc": "black",
                "x": 198.3,
                "y": 236.6,
                "b": -5.454545454545454,
                "s": 1
              },
              {
                "p": 1,
                "lc": "black",
                "x": 200,
                "y": 240,
                "b": 0,
                "s": 1
              },
              {
                "p": 1,
                "lc": "black",
                "x": 200,
                "y": 240,
                "b": -5.454545454545454,
                "s": 1
              },
              {
                "p": 1,
                "lc": "black",
                "x": 200,
                "y": 240,
                "b": 2.727272727272727,
                "s": 1
              },
              {
                "p": 1,
                "lc": "black",
                "x": 200,
                "y": 240,
                "b": -120,
                "s": 1
              },
              {
                "p": 1,
                "lc": "black",
                "x": 200,
                "y": 240,
                "b": -2.727272727272727,
                "s": 1
              },
              {
                "p": 1,
                "lc": "black",
                "x": 201.7,
                "y": 236.6,
                "b": 0,
                "s": 1
              },
              {
                "p": 1,
                "lc": "black",
                "x": 201.7,
                "y": 236.6,
                "b": -5.454545454545454,
                "s": 1
              },
              {
                "p": 1,
                "lc": "black",
                "x": 203.1,
                "y": 233.1,
                "b": 0,
                "s": 1
              },
              {
                "p": 1,
                "lc": "black",
                "x": 203.1,
                "y": 233.1,
                "b": -5.454545454545454,
                "s": 1
              },
              {
                "p": 1,
                "lc": "black",
                "x": 204.2,
                "y": 229.4,
                "b": 0,
                "s": 1
              },
              {
                "p": 1,
                "lc": "black",
                "x": 204.2,
                "y": 229.4,
                "b": -5.454545454545454,
                "s": 1
              },
              {
                "p": 1,
                "lc": "black",
                "x": 204.89999999999998,
                "y": 225.70000000000002,
                "b": 0,
                "s": 1
              },
              {
                "p": 1,
                "lc": "black",
                "x": 204.89999999999998,
                "y": 225.70000000000002,
                "b": -5.454545454545454,
                "s": 1
              },
              {
                "p": 1,
                "lc": "black",
                "x": 205.29999999999998,
                "y": 221.9,
                "b": 0,
                "s": 1
              },
              {
                "p": 1,
                "lc": "black",
                "x": 205.29999999999998,
                "y": 221.9,
                "b": -5.454545454545454,
                "s": 1
              },
              {
                "p": 1,
                "lc": "black",
                "x": 205.29999999999998,
                "y": 218.1,
                "b": 0,
                "s": 1
              },
              {
                "p": 1,
                "lc": "black",
                "x": 205.29999999999998,
                "y": 218.1,
                "b": -5.454545454545454,
                "s": 1
              },
              {
                "p": 1,
                "lc": "black",
                "x": 204.89999999999998,
                "y": 214.29999999999998,
                "b": 0,
                "s": 1
              },
              {
                "p": 1,
                "lc": "black",
                "x": 204.89999999999998,
                "y": 214.29999999999998,
                "b": -5.454545454545454,
                "s": 1
              },
              {
                "p": 1,
                "lc": "black",
                "x": 204.2,
                "y": 210.6,
                "b": 0,
                "s": 1
              },
              {
                "p": 1,
                "lc": "black",
                "x": 204.2,
                "y": 210.6,
                "b": -5.454545454545454,
                "s": 1
              },
              {
                "p": 1,
                "lc": "black",
                "x": 203.1,
                "y": 206.9,
                "b": 0,
                "s": 1
              },
              {
                "p": 1,
                "lc": "black",
                "x": 203.1,
                "y": 206.9,
                "b": -5.454545454545454,
                "s": 1
              },
              {
                "p": 1,
                "lc": "black",
                "x": 201.7,
                "y": 203.4,
                "b": 0,
                "s": 1
              },
              {
                "p": 1,
                "lc": "black",
                "x": 201.7,
                "y": 203.4,
                "b": -5.454545454545454,
                "s": 1
              },
              {
                "p": 1,
                "lc": "black",
                "x": 200,
                "y": 200,
                "b": 0,
                "s": 1
              },
              {
                "p": 1,
                "lc": "black",
                "x": 200,
                "y": 200,
                "b": -5.454545454545454,
                "s": 1
              },
              {
                "p": 1,
                "lc": "black",
                "x": 200,
                "y": 200,
                "b": 2.727272727272727,
                "s": 1
              },
              {
                "p": 1,
                "lc": "black",
                "x": 200,
                "y": 200,
                "b": -120,
                "s": 1
              },
              {
                "p": 1,
                "lc": "black",
                "x": 200,
                "y": 200,
                "b": -60,
                "s": 1
              },
              {
                "p": 1,
                "lc": "black",
                "x": 200,
                "y": 200,
                "b": -2.727272727272727,
                "s": 1
              },
              {
                "p": 1,
                "lc": "black",
                "x": 202.1,
                "y": 203.2,
                "b": 0,
                "s": 1
              },
              {
                "p": 1,
                "lc": "black",
                "x": 202.1,
                "y": 203.2,
                "b": -5.454545454545454,
                "s": 1
              },
              {
                "p": 1,
                "lc": "black",
                "x": 204.5,
                "y": 206.2,
                "b": 0,
                "s": 1
              },
              {
                "p": 1,
                "lc": "black",
                "x": 204.5,
                "y": 206.2,
                "b": -5.454545454545454,
                "s": 1
              },
              {
                "p": 1,
                "lc": "black",
                "x": 207.1,
                "y": 209,
                "b": 0,
                "s": 1
              },
              {
                "p": 1,
                "lc": "black",
                "x": 207.1,
                "y": 209,
                "b": -5.454545454545454,
                "s": 1
              },
              {
                "p": 1,
                "lc": "black",
                "x": 210,
                "y": 211.5,
                "b": 0,
                "s": 1
              },
              {
                "p": 1,
                "lc": "black",
                "x": 210,
                "y": 211.5,
                "b": -5.454545454545454,
                "s": 1
              },
              {
                "p": 1,
                "lc": "black",
                "x": 213.1,
                "y": 213.7,
                "b": 0,
                "s": 1
              },
              {
                "p": 1,
                "lc": "black",
                "x": 213.1,
                "y": 213.7,
                "b": -5.454545454545454,
                "s": 1
              },
              {
                "p": 1,
                "lc": "black",
                "x": 216.4,
                "y": 215.6,
                "b": 0,
                "s": 1
              },
              {
                "p": 1,
                "lc": "black",
                "x": 216.4,
                "y": 215.6,
                "b": -5.454545454545454,
                "s": 1
              },
              {
                "p": 1,
                "lc": "black",
                "x": 219.9,
                "y": 217.2,
                "b": 0,
                "s": 1
              },
              {
                "p": 1,
                "lc": "black",
                "x": 219.9,
                "y": 217.2,
                "b": -5.454545454545454,
                "s": 1
              },
              {
                "p": 1,
                "lc": "black",
                "x": 223.5,
                "y": 218.39999999999998,
                "b": 0,
                "s": 1
              },
              {
                "p": 1,
                "lc": "black",
                "x": 223.5,
                "y": 218.39999999999998,
                "b": -5.454545454545454,
                "s": 1
              },
              {
                "p": 1,
                "lc": "black",
                "x": 227.2,
                "y": 219.29999999999998,
                "b": 0,
                "s": 1
              },
              {
                "p": 1,
                "lc": "black",
                "x": 227.2,
                "y": 219.29999999999998,
                "b": -5.454545454545454,
                "s": 1
              },
              {
                "p": 1,
                "lc": "black",
                "x": 231,
                "y": 219.79999999999998,
                "b": 0,
                "s": 1
              },
              {
                "p": 1,
                "lc": "black",
                "x": 231,
                "y": 219.79999999999998,
                "b": -5.454545454545454,
                "s": 1
              },
              {
                "p": 1,
                "lc": "black",
                "x": 234.8,
                "y": 219.99999999999997,
                "b": 0,
                "s": 1
              },
              {
                "p": 1,
                "lc": "black",
                "x": 234.8,
                "y": 219.99999999999997,
                "b": -5.454545454545454,
                "s": 1
              },
              {
                "p": 1,
                "lc": "black",
                "x": 234.8,
                "y": 219.99999999999997,
                "b": 2.727272727272727,
                "s": 1
              },
              {
                "p": 1,
                "lc": "black",
                "x": 234.8,
                "y": 219.99999999999997,
                "b": -120,
                "s": 1
              },
              {
                "p": 1,
                "lc": "black",
                "x": 234.8,
                "y": 219.99999999999997,
                "b": -2.727272727272727,
                "s": 1
              },
              {
                "p": 1,
                "lc": "black",
                "x": 232.70000000000002,
                "y": 216.79999999999998,
                "b": 0,
                "s": 1
              },
              {
                "p": 1,
                "lc": "black",
                "x": 232.70000000000002,
                "y": 216.79999999999998,
                "b": -5.454545454545454,
                "s": 1
              },
              {
                "p": 1,
                "lc": "black",
                "x": 230.3,
                "y": 213.79999999999998,
                "b": 0,
                "s": 1
              },
              {
                "p": 1,
                "lc": "black",
                "x": 230.3,
                "y": 213.79999999999998,
                "b": -5.454545454545454,
                "s": 1
              },
              {
                "p": 1,
                "lc": "black",
                "x": 227.70000000000002,
                "y": 210.99999999999997,
                "b": 0,
                "s": 1
              },
              {
                "p": 1,
                "lc": "black",
                "x": 227.70000000000002,
                "y": 210.99999999999997,
                "b": -5.454545454545454,
                "s": 1
              },
              {
                "p": 1,
                "lc": "black",
                "x": 224.8,
                "y": 208.49999999999997,
                "b": 0,
                "s": 1
              },
              {
                "p": 1,
                "lc": "black",
                "x": 224.8,
                "y": 208.49999999999997,
                "b": -5.454545454545454,
                "s": 1
              },
              {
                "p": 1,
                "lc": "black",
                "x": 221.70000000000002,
                "y": 206.29999999999998,
                "b": 0,
                "s": 1
              },
              {
                "p": 1,
                "lc": "black",
                "x": 221.70000000000002,
                "y": 206.29999999999998,
                "b": -5.454545454545454,
                "s": 1
              },
              {
                "p": 1,
                "lc": "black",
                "x": 218.4,
                "y": 204.39999999999998,
                "b": 0,
                "s": 1
              },
              {
                "p": 1,
                "lc": "black",
                "x": 218.4,
                "y": 204.39999999999998,
                "b": -5.454545454545454,
                "s": 1
              },
              {
                "p": 1,
                "lc": "black",
                "x": 214.9,
                "y": 202.79999999999998,
                "b": 0,
                "s": 1
              },
              {
                "p": 1,
                "lc": "black",
                "x": 214.9,
                "y": 202.79999999999998,
                "b": -5.454545454545454,
                "s": 1
              },
              {
                "p": 1,
                "lc": "black",
                "x": 211.3,
                "y": 201.6,
                "b": 0,
                "s": 1
              },
              {
                "p": 1,
                "lc": "black",
                "x": 211.3,
                "y": 201.6,
                "b": -5.454545454545454,
                "s": 1
              },
              {
                "p": 1,
                "lc": "black",
                "x": 207.60000000000002,
                "y": 200.7,
                "b": 0,
                "s": 1
              },
              {
                "p": 1,
                "lc": "black",
                "x": 207.60000000000002,
                "y": 200.7,
                "b": -5.454545454545454,
                "s": 1
              },
              {
                "p": 1,
                "lc": "black",
                "x": 203.8,
                "y": 200.2,
                "b": 0,
                "s": 1
              },
              {
                "p": 1,
                "lc": "black",
                "x": 203.8,
                "y": 200.2,
                "b": -5.454545454545454,
                "s": 1
              },
              {
                "p": 1,
                "lc": "black",
                "x": 200,
                "y": 200,
                "b": 0,
                "s": 1
              },
              {
                "p": 1,
                "lc": "black",
                "x": 200,
                "y": 200,
                "b": -5.454545454545454,
                "s": 1
              },
              {
                "p": 1,
                "lc": "black",
                "x": 200,
                "y": 200,
                "b": 2.727272727272727,
                "s": 1
              },
              {
                "p": 1,
                "lc": "black",
                "x": 200,
                "y": 200,
                "b": -120,
                "s": 1
              },
              {
                "p": 1,
                "lc": "black",
                "x": 200,
                "y": 200,
                "b": -60,
                "s": 1
              },
              {
                "p": 0,
                "lc": "black",
                "x": 320,
                "y": 200,
                "b": 0,
                "s": 1
              },
              {
                "p": 1,
                "lc": "black",
                "x": 320,
                "y": 200,
                "b": -3.6363636363636362,
                "s": 1
              },
              {
                "p": 1,
                "lc": "black",
                "x": 323.8,
                "y": 199.8,
                "b": 0,
                "s": 1
              },
              {
                "p": 1,
                "lc": "black",
                "x": 323.8,
                "y": 199.8,
                "b": -7.2727272727272725,
                "s": 1
              },
              {
                "p": 1,
                "lc": "black",
                "x": 327.5,
                "y": 199.10000000000002,
                "b": 0,
                "s": 1
              },
              {
                "p": 1,
                "lc": "black",
                "x": 327.5,
                "y": 199.10000000000002,
                "b": -7.2727272727272725,
                "s": 1
              },
              {
                "p": 1,
                "lc": "black",
                "x": 331.1,
                "y": 197.90000000000003,
                "b": 0,
                "s": 1
              },
              {
                "p": 1,
                "lc": "black",
                "x": 331.1,
                "y": 197.90000000000003,
                "b": -7.2727272727272725,
                "s": 1
              },
              {
                "p": 1,
                "lc": "black",
                "x": 334.5,
                "y": 196.30000000000004,
                "b": 0,
                "s": 1
              },
              {
                "p": 1,
                "lc": "black",
                "x": 334.5,
                "y": 196.30000000000004,
                "b": -7.2727272727272725,
                "s": 1
              },
              {
                "p": 1,
                "lc": "black",
                "x": 337.7,
                "y": 194.20000000000005,
                "b": 0,
                "s": 1
              },
              {
                "p": 1,
                "lc": "black",
                "x": 337.7,
                "y": 194.20000000000005,
                "b": -7.2727272727272725,
                "s": 1
              },
              {
                "p": 1,
                "lc": "black",
                "x": 340.59999999999997,
                "y": 191.80000000000004,
                "b": 0,
                "s": 1
              },
              {
                "p": 1,
                "lc": "black",
                "x": 340.59999999999997,
                "y": 191.80000000000004,
                "b": -7.2727272727272725,
                "s": 1
              },
              {
                "p": 1,
                "lc": "black",
                "x": 343.2,
                "y": 189.00000000000003,
                "b": 0,
                "s": 1
              },
              {
                "p": 1,
                "lc": "black",
                "x": 343.2,
                "y": 189.00000000000003,
                "b": -7.2727272727272725,
                "s": 1
              },
              {
                "p": 1,
                "lc": "black",
                "x": 345.4,
                "y": 185.90000000000003,
                "b": 0,
                "s": 1
              },
              {
                "p": 1,
                "lc": "black",
                "x": 345.4,
                "y": 185.90000000000003,
                "b": -7.2727272727272725,
                "s": 1
              },
              {
                "p": 1,
                "lc": "black",
                "x": 347.2,
                "y": 182.50000000000003,
                "b": 0,
                "s": 1
              },
              {
                "p": 1,
                "lc": "black",
                "x": 347.2,
                "y": 182.50000000000003,
                "b": -7.2727272727272725,
                "s": 1
              },
              {
                "p": 1,
                "lc": "black",
                "x": 348.59999999999997,
                "y": 178.90000000000003,
                "b": 0,
                "s": 1
              },
              {
                "p": 1,
                "lc": "black",
                "x": 348.59999999999997,
                "y": 178.90000000000003,
                "b": -7.2727272727272725,
                "s": 1
              },
              {
                "p": 1,
                "lc": "black",
                "x": 349.49999999999994,
                "y": 175.20000000000005,
                "b": 0,
                "s": 1
              },
              {
                "p": 1,
                "lc": "black",
                "x": 349.49999999999994,
                "y": 175.20000000000005,
                "b": -7.2727272727272725,
                "s": 1
              },
              {
                "p": 1,
                "lc": "black",
                "x": 349.49999999999994,
                "y": 175.20000000000005,
                "b": 3.6363636363636362,
                "s": 1
              },
              {
                "p": 1,
                "lc": "black",
                "x": 349.49999999999994,
                "y": 175.20000000000005,
                "b": -100,
                "s": 1
              },
              {
                "p": 1,
                "lc": "black",
                "x": 349.49999999999994,
                "y": 175.20000000000005,
                "b": -3.6363636363636362,
                "s": 1
              },
              {
                "p": 1,
                "lc": "black",
                "x": 345.69999999999993,
                "y": 175.40000000000003,
                "b": 0,
                "s": 1
              },
              {
                "p": 1,
                "lc": "black",
                "x": 345.69999999999993,
                "y": 175.40000000000003,
                "b": -7.2727272727272725,
                "s": 1
              },
              {
                "p": 1,
                "lc": "black",
                "x": 341.99999999999994,
                "y": 176.10000000000002,
                "b": 0,
                "s": 1
              },
              {
                "p": 1,
                "lc": "black",
                "x": 341.99999999999994,
                "y": 176.10000000000002,
                "b": -7.2727272727272725,
                "s": 1
              },
              {
                "p": 1,
                "lc": "black",
                "x": 338.3999999999999,
                "y": 177.3,
                "b": 0,
                "s": 1
              },
              {
                "p": 1,
                "lc": "black",
                "x": 338.3999999999999,
                "y": 177.3,
                "b": -7.2727272727272725,
                "s": 1
              },
              {
                "p": 1,
                "lc": "black",
                "x": 334.99999999999994,
                "y": 178.9,
                "b": 0,
                "s": 1
              },
              {
                "p": 1,
                "lc": "black",
                "x": 334.99999999999994,
                "y": 178.9,
                "b": -7.2727272727272725,
                "s": 1
              },
              {
                "p": 1,
                "lc": "black",
                "x": 331.79999999999995,
                "y": 181,
                "b": 0,
                "s": 1
              },
              {
                "p": 1,
                "lc": "black",
                "x": 331.79999999999995,
                "y": 181,
                "b": -7.2727272727272725,
                "s": 1
              },
              {
                "p": 1,
                "lc": "black",
                "x": 328.9,
                "y": 183.4,
                "b": 0,
                "s": 1
              },
              {
                "p": 1,
                "lc": "black",
                "x": 328.9,
                "y": 183.4,
                "b": -7.2727272727272725,
                "s": 1
              },
              {
                "p": 1,
                "lc": "black",
                "x": 326.29999999999995,
                "y": 186.20000000000002,
                "b": 0,
                "s": 1
              },
              {
                "p": 1,
                "lc": "black",
                "x": 326.29999999999995,
                "y": 186.20000000000002,
                "b": -7.2727272727272725,
                "s": 1
              },
              {
                "p": 1,
                "lc": "black",
                "x": 324.09999999999997,
                "y": 189.3,
                "b": 0,
                "s": 1
              },
              {
                "p": 1,
                "lc": "black",
                "x": 324.09999999999997,
                "y": 189.3,
                "b": -7.2727272727272725,
                "s": 1
              },
              {
                "p": 1,
                "lc": "black",
                "x": 322.29999999999995,
                "y": 192.70000000000002,
                "b": 0,
                "s": 1
              },
              {
                "p": 1,
                "lc": "black",
                "x": 322.29999999999995,
                "y": 192.70000000000002,
                "b": -7.2727272727272725,
                "s": 1
              },
              {
                "p": 1,
                "lc": "black",
                "x": 320.9,
                "y": 196.3,
                "b": 0,
                "s": 1
              },
              {
                "p": 1,
                "lc": "black",
                "x": 320.9,
                "y": 196.3,
                "b": -7.2727272727272725,
                "s": 1
              },
              {
                "p": 1,
                "lc": "black",
                "x": 320,
                "y": 200,
                "b": 0,
                "s": 1
              },
              {
                "p": 1,
                "lc": "black",
                "x": 320,
                "y": 200,
                "b": -7.2727272727272725,
                "s": 1
              },
              {
                "p": 1,
                "lc": "black",
                "x": 320,
                "y": 200,
                "b": 3.6363636363636362,
                "s": 1
              },
              {
                "p": 1,
                "lc": "black",
                "x": 320,
                "y": 200,
                "b": -100,
                "s": 1
              },
              {
                "p": 1,
                "lc": "black",
                "x": 320,
                "y": 200,
                "b": -36,
                "s": 1
              },
              {
                "p": 1,
                "lc": "black",
                "x": 320,
                "y": 200,
                "b": -3.6363636363636362,
                "s": 1
              },
              {
                "p": 1,
                "lc": "black",
                "x": 322.9,
                "y": 197.6,
                "b": 0,
                "s": 1
              },
              {
                "p": 1,
                "lc": "black",
                "x": 322.9,
                "y": 197.6,
                "b": -7.2727272727272725,
                "s": 1
              },
              {
                "p": 1,
                "lc": "black",
                "x": 325.5,
                "y": 194.79999999999998,
                "b": 0,
                "s": 1
              },
              {
                "p": 1,
                "lc": "black",
                "x": 325.5,
                "y": 194.79999999999998,
                "b": -7.2727272727272725,
                "s": 1
              },
              {
                "p": 1,
                "lc": "black",
                "x": 327.7,
                "y": 191.7,
                "b": 0,
                "s": 1
              },
              {
                "p": 1,
                "lc": "black",
                "x": 327.7,
                "y": 191.7,
                "b": -7.2727272727272725,
                "s": 1
              },
              {
                "p": 1,
                "lc": "black",
                "x": 329.5,
                "y": 188.39999999999998,
                "b": 0,
                "s": 1
              },
              {
                "p": 1,
                "lc": "black",
                "x": 329.5,
                "y": 188.39999999999998,
                "b": -7.2727272727272725,
                "s": 1
              },
              {
                "p": 1,
                "lc": "black",
                "x": 330.9,
                "y": 184.89999999999998,
                "b": 0,
                "s": 1
              },
              {
                "p": 1,
                "lc": "black",
                "x": 330.9,
                "y": 184.89999999999998,
                "b": -7.2727272727272725,
                "s": 1
              },
              {
                "p": 1,
                "lc": "black",
                "x": 331.79999999999995,
                "y": 181.2,
                "b": 0,
                "s": 1
              },
              {
                "p": 1,
                "lc": "black",
                "x": 331.79999999999995,
                "y": 181.2,
                "b": -7.2727272727272725,
                "s": 1
              },
              {
                "p": 1,
                "lc": "black",
                "x": 332.19999999999993,
                "y": 177.39999999999998,
                "b": 0,
                "s": 1
              },
              {
                "p": 1,
                "lc": "black",
                "x": 332.19999999999993,
                "y": 177.39999999999998,
                "b": -7.2727272727272725,
                "s": 1
              },
              {
                "p": 1,
                "lc": "black",
                "x": 332.19999999999993,
                "y": 173.59999999999997,
                "b": 0,
                "s": 1
              },
              {
                "p": 1,
                "lc": "black",
                "x": 332.19999999999993,
                "y": 173.59999999999997,
                "b": -7.2727272727272725,
                "s": 1
              },
              {
                "p": 1,
                "lc": "black",
                "x": 331.69999999999993,
                "y": 169.79999999999995,
                "b": 0,
                "s": 1
              },
              {
                "p": 1,
                "lc": "black",
                "x": 331.69999999999993,
                "y": 169.79999999999995,
                "b": -7.2727272727272725,
                "s": 1
              },
              {
                "p": 1,
                "lc": "black",
                "x": 330.69999999999993,
                "y": 166.09999999999997,
                "b": 0,
                "s": 1
              },
              {
                "p": 1,
                "lc": "black",
                "x": 330.69999999999993,
                "y": 166.09999999999997,
                "b": -7.2727272727272725,
                "s": 1
              },
              {
                "p": 1,
                "lc": "black",
                "x": 329.29999999999995,
                "y": 162.59999999999997,
                "b": 0,
                "s": 1
              },
              {
                "p": 1,
                "lc": "black",
                "x": 329.29999999999995,
                "y": 162.59999999999997,
                "b": -7.2727272727272725,
                "s": 1
              },
              {
                "p": 1,
                "lc": "black",
                "x": 329.29999999999995,
                "y": 162.59999999999997,
                "b": 3.6363636363636362,
                "s": 1
              },
              {
                "p": 1,
                "lc": "black",
                "x": 329.29999999999995,
                "y": 162.59999999999997,
                "b": -100,
                "s": 1
              },
              {
                "p": 1,
                "lc": "black",
                "x": 329.29999999999995,
                "y": 162.59999999999997,
                "b": -3.6363636363636362,
                "s": 1
              },
              {
                "p": 1,
                "lc": "black",
                "x": 326.4,
                "y": 164.99999999999997,
                "b": 0,
                "s": 1
              },
              {
                "p": 1,
                "lc": "black",
                "x": 326.4,
                "y": 164.99999999999997,
                "b": -7.2727272727272725,
                "s": 1
              },
              {
                "p": 1,
                "lc": "black",
                "x": 323.79999999999995,
                "y": 167.79999999999998,
                "b": 0,
                "s": 1
              },
              {
                "p": 1,
                "lc": "black",
                "x": 323.79999999999995,
                "y": 167.79999999999998,
                "b": -7.2727272727272725,
                "s": 1
              },
              {
                "p": 1,
                "lc": "black",
                "x": 321.59999999999997,
                "y": 170.89999999999998,
                "b": 0,
                "s": 1
              },
              {
                "p": 1,
                "lc": "black",
                "x": 321.59999999999997,
                "y": 170.89999999999998,
                "b": -7.2727272727272725,
                "s": 1
              },
              {
                "p": 1,
                "lc": "black",
                "x": 319.79999999999995,
                "y": 174.2,
                "b": 0,
                "s": 1
              },
              {
                "p": 1,
                "lc": "black",
                "x": 319.79999999999995,
                "y": 174.2,
                "b": -7.2727272727272725,
                "s": 1
              },
              {
                "p": 1,
                "lc": "black",
                "x": 318.4,
                "y": 177.7,
                "b": 0,
                "s": 1
              },
              {
                "p": 1,
                "lc": "black",
                "x": 318.4,
                "y": 177.7,
                "b": -7.2727272727272725,
                "s": 1
              },
              {
                "p": 1,
                "lc": "black",
                "x": 317.5,
                "y": 181.39999999999998,
                "b": 0,
                "s": 1
              },
              {
                "p": 1,
                "lc": "black",
                "x": 317.5,
                "y": 181.39999999999998,
                "b": -7.2727272727272725,
                "s": 1
              },
              {
                "p": 1,
                "lc": "black",
                "x": 317.1,
                "y": 185.2,
                "b": 0,
                "s": 1
              },
              {
                "p": 1,
                "lc": "black",
                "x": 317.1,
                "y": 185.2,
                "b": -7.2727272727272725,
                "s": 1
              },
              {
                "p": 1,
                "lc": "black",
                "x": 317.1,
                "y": 189,
                "b": 0,
                "s": 1
              },
              {
                "p": 1,
                "lc": "black",
                "x": 317.1,
                "y": 189,
                "b": -7.2727272727272725,
                "s": 1
              },
              {
                "p": 1,
                "lc": "black",
                "x": 317.6,
                "y": 192.8,
                "b": 0,
                "s": 1
              },
              {
                "p": 1,
                "lc": "black",
                "x": 317.6,
                "y": 192.8,
                "b": -7.2727272727272725,
                "s": 1
              },
              {
                "p": 1,
                "lc": "black",
                "x": 318.6,
                "y": 196.5,
                "b": 0,
                "s": 1
              },
              {
                "p": 1,
                "lc": "black",
                "x": 318.6,
                "y": 196.5,
                "b": -7.2727272727272725,
                "s": 1
              },
              {
                "p": 1,
                "lc": "black",
                "x": 320,
                "y": 200,
                "b": 0,
                "s": 1
              },
              {
                "p": 1,
                "lc": "black",
                "x": 320,
                "y": 200,
                "b": -7.2727272727272725,
                "s": 1
              },
              {
                "p": 1,
                "lc": "black",
                "x": 320,
                "y": 200,
                "b": 3.6363636363636362,
                "s": 1
              },
              {
                "p": 1,
                "lc": "black",
                "x": 320,
                "y": 200,
                "b": -100,
                "s": 1
              },
              {
                "p": 1,
                "lc": "black",
                "x": 320,
                "y": 200,
                "b": -36,
                "s": 1
              },
              {
                "p": 1,
                "lc": "black",
                "x": 320,
                "y": 200,
                "b": -3.6363636363636362,
                "s": 1
              },
              {
                "p": 1,
                "lc": "black",
                "x": 320.9,
                "y": 196.3,
                "b": 0,
                "s": 1
              },
              {
                "p": 1,
                "lc": "black",
                "x": 320.9,
                "y": 196.3,
                "b": -7.2727272727272725,
                "s": 1
              },
              {
                "p": 1,
                "lc": "black",
                "x": 321.4,
                "y": 192.5,
                "b": 0,
                "s": 1
              },
              {
                "p": 1,
                "lc": "black",
                "x": 321.4,
                "y": 192.5,
                "b": -7.2727272727272725,
                "s": 1
              },
              {
                "p": 1,
                "lc": "black",
                "x": 321.4,
                "y": 188.7,
                "b": 0,
                "s": 1
              },
              {
                "p": 1,
                "lc": "black",
                "x": 321.4,
                "y": 188.7,
                "b": -7.2727272727272725,
                "s": 1
              },
              {
                "p": 1,
                "lc": "black",
                "x": 320.9,
                "y": 184.89999999999998,
                "b": 0,
                "s": 1
              },
              {
                "p": 1,
                "lc": "black",
                "x": 320.9,
                "y": 184.89999999999998,
                "b": -7.2727272727272725,
                "s": 1
              },
              {
                "p": 1,
                "lc": "black",
                "x": 319.9,
                "y": 181.2,
                "b": 0,
                "s": 1
              },
              {
                "p": 1,
                "lc": "black",
                "x": 319.9,
                "y": 181.2,
                "b": -7.2727272727272725,
                "s": 1
              },
              {
                "p": 1,
                "lc": "black",
                "x": 318.5,
                "y": 177.7,
                "b": 0,
                "s": 1
              },
              {
                "p": 1,
                "lc": "black",
                "x": 318.5,
                "y": 177.7,
                "b": -7.2727272727272725,
                "s": 1
              },
              {
                "p": 1,
                "lc": "black",
                "x": 316.6,
                "y": 174.39999999999998,
                "b": 0,
                "s": 1
              },
              {
                "p": 1,
                "lc": "black",
                "x": 316.6,
                "y": 174.39999999999998,
                "b": -7.2727272727272725,
                "s": 1
              },
              {
                "p": 1,
                "lc": "black",
                "x": 314.3,
                "y": 171.29999999999998,
                "b": 0,
                "s": 1
              },
              {
                "p": 1,
                "lc": "black",
                "x": 314.3,
                "y": 171.29999999999998,
                "b": -7.2727272727272725,
                "s": 1
              },
              {
                "p": 1,
                "lc": "black",
                "x": 311.7,
                "y": 168.6,
                "b": 0,
                "s": 1
              },
              {
                "p": 1,
                "lc": "black",
                "x": 311.7,
                "y": 168.6,
                "b": -7.2727272727272725,
                "s": 1
              },
              {
                "p": 1,
                "lc": "black",
                "x": 308.7,
                "y": 166.2,
                "b": 0,
                "s": 1
              },
              {
                "p": 1,
                "lc": "black",
                "x": 308.7,
                "y": 166.2,
                "b": -7.2727272727272725,
                "s": 1
              },
              {
                "p": 1,
                "lc": "black",
                "x": 305.5,
                "y": 164.2,
                "b": 0,
                "s": 1
              },
              {
                "p": 1,
                "lc": "black",
                "x": 305.5,
                "y": 164.2,
                "b": -7.2727272727272725,
                "s": 1
              },
              {
                "p": 1,
                "lc": "black",
                "x": 305.5,
                "y": 164.2,
                "b": 3.6363636363636362,
                "s": 1
              },
              {
                "p": 1,
                "lc": "black",
                "x": 305.5,
                "y": 164.2,
                "b": -100,
                "s": 1
              },
              {
                "p": 1,
                "lc": "black",
                "x": 305.5,
                "y": 164.2,
                "b": -3.6363636363636362,
                "s": 1
              },
              {
                "p": 1,
                "lc": "black",
                "x": 304.6,
                "y": 167.89999999999998,
                "b": 0,
                "s": 1
              },
              {
                "p": 1,
                "lc": "black",
                "x": 304.6,
                "y": 167.89999999999998,
                "b": -7.2727272727272725,
                "s": 1
              },
              {
                "p": 1,
                "lc": "black",
                "x": 304.1,
                "y": 171.7,
                "b": 0,
                "s": 1
              },
              {
                "p": 1,
                "lc": "black",
                "x": 304.1,
                "y": 171.7,
                "b": -7.2727272727272725,
                "s": 1
              },
              {
                "p": 1,
                "lc": "black",
                "x": 304.1,
                "y": 175.5,
                "b": 0,
                "s": 1
              },
              {
                "p": 1,
                "lc": "black",
                "x": 304.1,
                "y": 175.5,
                "b": -7.2727272727272725,
                "s": 1
              },
              {
                "p": 1,
                "lc": "black",
                "x": 304.6,
                "y": 179.3,
                "b": 0,
                "s": 1
              },
              {
                "p": 1,
                "lc": "black",
                "x": 304.6,
                "y": 179.3,
                "b": -7.2727272727272725,
                "s": 1
              },
              {
                "p": 1,
                "lc": "black",
                "x": 305.6,
                "y": 183,
                "b": 0,
                "s": 1
              },
              {
                "p": 1,
                "lc": "black",
                "x": 305.6,
                "y": 183,
                "b": -7.2727272727272725,
                "s": 1
              },
              {
                "p": 1,
                "lc": "black",
                "x": 307,
                "y": 186.5,
                "b": 0,
                "s": 1
              },
              {
                "p": 1,
                "lc": "black",
                "x": 307,
                "y": 186.5,
                "b": -7.2727272727272725,
                "s": 1
              },
              {
                "p": 1,
                "lc": "black",
                "x": 308.9,
                "y": 189.8,
                "b": 0,
                "s": 1
              },
              {
                "p": 1,
                "lc": "black",
                "x": 308.9,
                "y": 189.8,
                "b": -7.2727272727272725,
                "s": 1
              },
              {
                "p": 1,
                "lc": "black",
                "x": 311.2,
                "y": 192.9,
                "b": 0,
                "s": 1
              },
              {
                "p": 1,
                "lc": "black",
                "x": 311.2,
                "y": 192.9,
                "b": -7.2727272727272725,
                "s": 1
              },
              {
                "p": 1,
                "lc": "black",
                "x": 313.8,
                "y": 195.6,
                "b": 0,
                "s": 1
              },
              {
                "p": 1,
                "lc": "black",
                "x": 313.8,
                "y": 195.6,
                "b": -7.2727272727272725,
                "s": 1
              },
              {
                "p": 1,
                "lc": "black",
                "x": 316.8,
                "y": 198,
                "b": 0,
                "s": 1
              },
              {
                "p": 1,
                "lc": "black",
                "x": 316.8,
                "y": 198,
                "b": -7.2727272727272725,
                "s": 1
              },
              {
                "p": 1,
                "lc": "black",
                "x": 320,
                "y": 200,
                "b": 0,
                "s": 1
              },
              {
                "p": 1,
                "lc": "black",
                "x": 320,
                "y": 200,
                "b": -7.2727272727272725,
                "s": 1
              },
              {
                "p": 1,
                "lc": "black",
                "x": 320,
                "y": 200,
                "b": 3.6363636363636362,
                "s": 1
              },
              {
                "p": 1,
                "lc": "black",
                "x": 320,
                "y": 200,
                "b": -100,
                "s": 1
              },
              {
                "p": 1,
                "lc": "black",
                "x": 320,
                "y": 200,
                "b": -36,
                "s": 1
              },
              {
                "p": 1,
                "lc": "black",
                "x": 320,
                "y": 200,
                "b": -3.6363636363636362,
                "s": 1
              },
              {
                "p": 1,
                "lc": "black",
                "x": 318.6,
                "y": 196.5,
                "b": 0,
                "s": 1
              },
              {
                "p": 1,
                "lc": "black",
                "x": 318.6,
                "y": 196.5,
                "b": -7.2727272727272725,
                "s": 1
              },
              {
                "p": 1,
                "lc": "black",
                "x": 316.8,
                "y": 193.2,
                "b": 0,
                "s": 1
              },
              {
                "p": 1,
                "lc": "black",
                "x": 316.8,
                "y": 193.2,
                "b": -7.2727272727272725,
                "s": 1
              },
              {
                "p": 1,
                "lc": "black",
                "x": 314.6,
                "y": 190.1,
                "b": 0,
                "s": 1
              },
              {
                "p": 1,
                "lc": "black",
                "x": 314.6,
                "y": 190.1,
                "b": -7.2727272727272725,
                "s": 1
              },
              {
                "p": 1,
                "lc": "black",
                "x": 312,
                "y": 187.29999999999998,
                "b": 0,
                "s": 1
              },
              {
                "p": 1,
                "lc": "black",
                "x": 312,
                "y": 187.29999999999998,
                "b": -7.2727272727272725,
                "s": 1
              },
              {
                "p": 1,
                "lc": "black",
                "x": 309.1,
                "y": 184.89999999999998,
                "b": 0,
                "s": 1
              },
              {
                "p": 1,
                "lc": "black",
                "x": 309.1,
                "y": 184.89999999999998,
                "b": -7.2727272727272725,
                "s": 1
              },
              {
                "p": 1,
                "lc": "black",
                "x": 305.90000000000003,
                "y": 182.89999999999998,
                "b": 0,
                "s": 1
              },
              {
                "p": 1,
                "lc": "black",
                "x": 305.90000000000003,
                "y": 182.89999999999998,
                "b": -7.2727272727272725,
                "s": 1
              },
              {
                "p": 1,
                "lc": "black",
                "x": 302.40000000000003,
                "y": 181.29999999999998,
                "b": 0,
                "s": 1
              },
              {
                "p": 1,
                "lc": "black",
                "x": 302.40000000000003,
                "y": 181.29999999999998,
                "b": -7.2727272727272725,
                "s": 1
              },
              {
                "p": 1,
                "lc": "black",
                "x": 298.8,
                "y": 180.2,
                "b": 0,
                "s": 1
              },
              {
                "p": 1,
                "lc": "black",
                "x": 298.8,
                "y": 180.2,
                "b": -7.2727272727272725,
                "s": 1
              },
              {
                "p": 1,
                "lc": "black",
                "x": 295.1,
                "y": 179.5,
                "b": 0,
                "s": 1
              },
              {
                "p": 1,
                "lc": "black",
                "x": 295.1,
                "y": 179.5,
                "b": -7.2727272727272725,
                "s": 1
              },
              {
                "p": 1,
                "lc": "black",
                "x": 291.3,
                "y": 179.3,
                "b": 0,
                "s": 1
              },
              {
                "p": 1,
                "lc": "black",
                "x": 291.3,
                "y": 179.3,
                "b": -7.2727272727272725,
                "s": 1
              },
              {
                "p": 1,
                "lc": "black",
                "x": 287.5,
                "y": 179.60000000000002,
                "b": 0,
                "s": 1
              },
              {
                "p": 1,
                "lc": "black",
                "x": 287.5,
                "y": 179.60000000000002,
                "b": -7.2727272727272725,
                "s": 1
              },
              {
                "p": 1,
                "lc": "black",
                "x": 287.5,
                "y": 179.60000000000002,
                "b": 3.6363636363636362,
                "s": 1
              },
              {
                "p": 1,
                "lc": "black",
                "x": 287.5,
                "y": 179.60000000000002,
                "b": -100,
                "s": 1
              },
              {
                "p": 1,
                "lc": "black",
                "x": 287.5,
                "y": 179.60000000000002,
                "b": -3.6363636363636362,
                "s": 1
              },
              {
                "p": 1,
                "lc": "black",
                "x": 288.9,
                "y": 183.10000000000002,
                "b": 0,
                "s": 1
              },
              {
                "p": 1,
                "lc": "black",
                "x": 288.9,
                "y": 183.10000000000002,
                "b": -7.2727272727272725,
                "s": 1
              },
              {
                "p": 1,
                "lc": "black",
                "x": 290.7,
                "y": 186.40000000000003,
                "b": 0,
                "s": 1
              },
              {
                "p": 1,
                "lc": "black",
                "x": 290.7,
                "y": 186.40000000000003,
                "b": -7.2727272727272725,
                "s": 1
              },
              {
                "p": 1,
                "lc": "black",
                "x": 292.9,
                "y": 189.50000000000003,
                "b": 0,
                "s": 1
              },
              {
                "p": 1,
                "lc": "black",
                "x": 292.9,
                "y": 189.50000000000003,
                "b": -7.2727272727272725,
                "s": 1
              },
              {
                "p": 1,
                "lc": "black",
                "x": 295.5,
                "y": 192.30000000000004,
                "b": 0,
                "s": 1
              },
              {
                "p": 1,
                "lc": "black",
                "x": 295.5,
                "y": 192.30000000000004,
                "b": -7.2727272727272725,
                "s": 1
              },
              {
                "p": 1,
                "lc": "black",
                "x": 298.4,
                "y": 194.70000000000005,
                "b": 0,
                "s": 1
              },
              {
                "p": 1,
                "lc": "black",
                "x": 298.4,
                "y": 194.70000000000005,
                "b": -7.2727272727272725,
                "s": 1
              },
              {
                "p": 1,
                "lc": "black",
                "x": 301.59999999999997,
                "y": 196.70000000000005,
                "b": 0,
                "s": 1
              },
              {
                "p": 1,
                "lc": "black",
                "x": 301.59999999999997,
                "y": 196.70000000000005,
                "b": -7.2727272727272725,
                "s": 1
              },
              {
                "p": 1,
                "lc": "black",
                "x": 305.09999999999997,
                "y": 198.30000000000004,
                "b": 0,
                "s": 1
              },
              {
                "p": 1,
                "lc": "black",
                "x": 305.09999999999997,
                "y": 198.30000000000004,
                "b": -7.2727272727272725,
                "s": 1
              },
              {
                "p": 1,
                "lc": "black",
                "x": 308.7,
                "y": 199.40000000000003,
                "b": 0,
                "s": 1
              },
              {
                "p": 1,
                "lc": "black",
                "x": 308.7,
                "y": 199.40000000000003,
                "b": -7.2727272727272725,
                "s": 1
              },
              {
                "p": 1,
                "lc": "black",
                "x": 312.4,
                "y": 200.10000000000002,
                "b": 0,
                "s": 1
              },
              {
                "p": 1,
                "lc": "black",
                "x": 312.4,
                "y": 200.10000000000002,
                "b": -7.2727272727272725,
                "s": 1
              },
              {
                "p": 1,
                "lc": "black",
                "x": 316.2,
                "y": 200.3,
                "b": 0,
                "s": 1
              },
              {
                "p": 1,
                "lc": "black",
                "x": 316.2,
                "y": 200.3,
                "b": -7.2727272727272725,
                "s": 1
              },
              {
                "p": 1,
                "lc": "black",
                "x": 320,
                "y": 200,
                "b": 0,
                "s": 1
              },
              {
                "p": 1,
                "lc": "black",
                "x": 320,
                "y": 200,
                "b": -7.2727272727272725,
                "s": 1
              },
              {
                "p": 1,
                "lc": "black",
                "x": 320,
                "y": 200,
                "b": 3.6363636363636362,
                "s": 1
              },
              {
                "p": 1,
                "lc": "black",
                "x": 320,
                "y": 200,
                "b": -100,
                "s": 1
              },
              {
                "p": 1,
                "lc": "black",
                "x": 320,
                "y": 200,
                "b": -36,
                "s": 1
              },
              {
                "p": 1,
                "lc": "black",
                "x": 320,
                "y": 200,
                "b": -3.6363636363636362,
                "s": 1
              },
              {
                "p": 1,
                "lc": "black",
                "x": 316.8,
                "y": 198,
                "b": 0,
                "s": 1
              },
              {
                "p": 1,
                "lc": "black",
                "x": 316.8,
                "y": 198,
                "b": -7.2727272727272725,
                "s": 1
              },
              {
                "p": 1,
                "lc": "black",
                "x": 313.40000000000003,
                "y": 196.4,
                "b": 0,
                "s": 1
              },
              {
                "p": 1,
                "lc": "black",
                "x": 313.40000000000003,
                "y": 196.4,
                "b": -7.2727272727272725,
                "s": 1
              },
              {
                "p": 1,
                "lc": "black",
                "x": 309.8,
                "y": 195.20000000000002,
                "b": 0,
                "s": 1
              },
              {
                "p": 1,
                "lc": "black",
                "x": 309.8,
                "y": 195.20000000000002,
                "b": -7.2727272727272725,
                "s": 1
              },
              {
                "p": 1,
                "lc": "black",
                "x": 306.1,
                "y": 194.50000000000003,
                "b": 0,
                "s": 1
              },
              {
                "p": 1,
                "lc": "black",
                "x": 306.1,
                "y": 194.50000000000003,
                "b": -7.2727272727272725,
                "s": 1
              },
              {
                "p": 1,
                "lc": "black",
                "x": 302.3,
                "y": 194.30000000000004,
                "b": 0,
                "s": 1
              },
              {
                "p": 1,
                "lc": "black",
                "x": 302.3,
                "y": 194.30000000000004,
                "b": -7.2727272727272725,
                "s": 1
              },
              {
                "p": 1,
                "lc": "black",
                "x": 298.5,
                "y": 194.60000000000005,
                "b": 0,
                "s": 1
              },
              {
                "p": 1,
                "lc": "black",
                "x": 298.5,
                "y": 194.60000000000005,
                "b": -7.2727272727272725,
                "s": 1
              },
              {
                "p": 1,
                "lc": "black",
                "x": 294.8,
                "y": 195.30000000000004,
                "b": 0,
                "s": 1
              },
              {
                "p": 1,
                "lc": "black",
                "x": 294.8,
                "y": 195.30000000000004,
                "b": -7.2727272727272725,
                "s": 1
              },
              {
                "p": 1,
                "lc": "black",
                "x": 291.2,
                "y": 196.50000000000003,
                "b": 0,
                "s": 1
              },
              {
                "p": 1,
                "lc": "black",
                "x": 291.2,
                "y": 196.50000000000003,
                "b": -7.2727272727272725,
                "s": 1
              },
              {
                "p": 1,
                "lc": "black",
                "x": 287.8,
                "y": 198.20000000000002,
                "b": 0,
                "s": 1
              },
              {
                "p": 1,
                "lc": "black",
                "x": 287.8,
                "y": 198.20000000000002,
                "b": -7.2727272727272725,
                "s": 1
              },
              {
                "p": 1,
                "lc": "black",
                "x": 284.6,
                "y": 200.3,
                "b": 0,
                "s": 1
              },
              {
                "p": 1,
                "lc": "black",
                "x": 284.6,
                "y": 200.3,
                "b": -7.2727272727272725,
                "s": 1
              },
              {
                "p": 1,
                "lc": "black",
                "x": 281.70000000000005,
                "y": 202.8,
                "b": 0,
                "s": 1
              },
              {
                "p": 1,
                "lc": "black",
                "x": 281.70000000000005,
                "y": 202.8,
                "b": -7.2727272727272725,
                "s": 1
              },
              {
                "p": 1,
                "lc": "black",
                "x": 281.70000000000005,
                "y": 202.8,
                "b": 3.6363636363636362,
                "s": 1
              },
              {
                "p": 1,
                "lc": "black",
                "x": 281.70000000000005,
                "y": 202.8,
                "b": -100,
                "s": 1
              },
              {
                "p": 1,
                "lc": "black",
                "x": 281.70000000000005,
                "y": 202.8,
                "b": -3.6363636363636362,
                "s": 1
              },
              {
                "p": 1,
                "lc": "black",
                "x": 284.90000000000003,
                "y": 204.8,
                "b": 0,
                "s": 1
              },
              {
                "p": 1,
                "lc": "black",
                "x": 284.90000000000003,
                "y": 204.8,
                "b": -7.2727272727272725,
                "s": 1
              },
              {
                "p": 1,
                "lc": "black",
                "x": 288.3,
                "y": 206.4,
                "b": 0,
                "s": 1
              },
              {
                "p": 1,
                "lc": "black",
                "x": 288.3,
                "y": 206.4,
                "b": -7.2727272727272725,
                "s": 1
              },
              {
                "p": 1,
                "lc": "black",
                "x": 291.90000000000003,
                "y": 207.6,
                "b": 0,
                "s": 1
              },
              {
                "p": 1,
                "lc": "black",
                "x": 291.90000000000003,
                "y": 207.6,
                "b": -7.2727272727272725,
                "s": 1
              },
              {
                "p": 1,
                "lc": "black",
                "x": 295.6,
                "y": 208.29999999999998,
                "b": 0,
                "s": 1
              },
              {
                "p": 1,
                "lc": "black",
                "x": 295.6,
                "y": 208.29999999999998,
                "b": -7.2727272727272725,
                "s": 1
              },
              {
                "p": 1,
                "lc": "black",
                "x": 299.40000000000003,
                "y": 208.49999999999997,
                "b": 0,
                "s": 1
              },
              {
                "p": 1,
                "lc": "black",
                "x": 299.40000000000003,
                "y": 208.49999999999997,
                "b": -7.2727272727272725,
                "s": 1
              },
              {
                "p": 1,
                "lc": "black",
                "x": 303.20000000000005,
                "y": 208.19999999999996,
                "b": 0,
                "s": 1
              },
              {
                "p": 1,
                "lc": "black",
                "x": 303.20000000000005,
                "y": 208.19999999999996,
                "b": -7.2727272727272725,
                "s": 1
              },
              {
                "p": 1,
                "lc": "black",
                "x": 306.90000000000003,
                "y": 207.49999999999997,
                "b": 0,
                "s": 1
              },
              {
                "p": 1,
                "lc": "black",
                "x": 306.90000000000003,
                "y": 207.49999999999997,
                "b": -7.2727272727272725,
                "s": 1
              },
              {
                "p": 1,
                "lc": "black",
                "x": 310.50000000000006,
                "y": 206.29999999999998,
                "b": 0,
                "s": 1
              },
              {
                "p": 1,
                "lc": "black",
                "x": 310.50000000000006,
                "y": 206.29999999999998,
                "b": -7.2727272727272725,
                "s": 1
              },
              {
                "p": 1,
                "lc": "black",
                "x": 313.90000000000003,
                "y": 204.6,
                "b": 0,
                "s": 1
              },
              {
                "p": 1,
                "lc": "black",
                "x": 313.90000000000003,
                "y": 204.6,
                "b": -7.2727272727272725,
                "s": 1
              },
              {
                "p": 1,
                "lc": "black",
                "x": 317.1,
                "y": 202.5,
                "b": 0,
                "s": 1
              },
              {
                "p": 1,
                "lc": "black",
                "x": 317.1,
                "y": 202.5,
                "b": -7.2727272727272725,
                "s": 1
              },
              {
                "p": 1,
                "lc": "black",
                "x": 320,
                "y": 200,
                "b": 0,
                "s": 1
              },
              {
                "p": 1,
                "lc": "black",
                "x": 320,
                "y": 200,
                "b": -7.2727272727272725,
                "s": 1
              },
              {
                "p": 1,
                "lc": "black",
                "x": 320,
                "y": 200,
                "b": 3.6363636363636362,
                "s": 1
              },
              {
                "p": 1,
                "lc": "black",
                "x": 320,
                "y": 200,
                "b": -100,
                "s": 1
              },
              {
                "p": 1,
                "lc": "black",
                "x": 320,
                "y": 200,
                "b": -36,
                "s": 1
              },
              {
                "p": 1,
                "lc": "black",
                "x": 320,
                "y": 200,
                "b": -3.6363636363636362,
                "s": 1
              },
              {
                "p": 1,
                "lc": "black",
                "x": 316.2,
                "y": 200.2,
                "b": 0,
                "s": 1
              },
              {
                "p": 1,
                "lc": "black",
                "x": 316.2,
                "y": 200.2,
                "b": -7.2727272727272725,
                "s": 1
              },
              {
                "p": 1,
                "lc": "black",
                "x": 312.5,
                "y": 200.89999999999998,
                "b": 0,
                "s": 1
              },
              {
                "p": 1,
                "lc": "black",
                "x": 312.5,
                "y": 200.89999999999998,
                "b": -7.2727272727272725,
                "s": 1
              },
              {
                "p": 1,
                "lc": "black",
                "x": 308.9,
                "y": 202.09999999999997,
                "b": 0,
                "s": 1
              },
              {
                "p": 1,
                "lc": "black",
                "x": 308.9,
                "y": 202.09999999999997,
                "b": -7.2727272727272725,
                "s": 1
              },
              {
                "p": 1,
                "lc": "black",
                "x": 305.5,
                "y": 203.69999999999996,
                "b": 0,
                "s": 1
              },
              {
                "p": 1,
                "lc": "black",
                "x": 305.5,
                "y": 203.69999999999996,
                "b": -7.2727272727272725,
                "s": 1
              },
              {
                "p": 1,
                "lc": "black",
                "x": 302.3,
                "y": 205.79999999999995,
                "b": 0,
                "s": 1
              },
              {
                "p": 1,
                "lc": "black",
                "x": 302.3,
                "y": 205.79999999999995,
                "b": -7.2727272727272725,
                "s": 1
              },
              {
                "p": 1,
                "lc": "black",
                "x": 299.40000000000003,
                "y": 208.19999999999996,
                "b": 0,
                "s": 1
              },
              {
                "p": 1,
                "lc": "black",
                "x": 299.40000000000003,
                "y": 208.19999999999996,
                "b": -7.2727272727272725,
                "s": 1
              },
              {
                "p": 1,
                "lc": "black",
                "x": 296.8,
                "y": 210.99999999999997,
                "b": 0,
                "s": 1
              },
              {
                "p": 1,
                "lc": "black",
                "x": 296.8,
                "y": 210.99999999999997,
                "b": -7.2727272727272725,
                "s": 1
              },
              {
                "p": 1,
                "lc": "black",
                "x": 294.6,
                "y": 214.09999999999997,
                "b": 0,
                "s": 1
              },
              {
                "p": 1,
                "lc": "black",
                "x": 294.6,
                "y": 214.09999999999997,
                "b": -7.2727272727272725,
                "s": 1
              },
              {
                "p": 1,
                "lc": "black",
                "x": 292.8,
                "y": 217.49999999999997,
                "b": 0,
                "s": 1
              },
              {
                "p": 1,
                "lc": "black",
                "x": 292.8,
                "y": 217.49999999999997,
                "b": -7.2727272727272725,
                "s": 1
              },
              {
                "p": 1,
                "lc": "black",
                "x": 291.40000000000003,
                "y": 221.09999999999997,
                "b": 0,
                "s": 1
              },
              {
                "p": 1,
                "lc": "black",
                "x": 291.40000000000003,
                "y": 221.09999999999997,
                "b": -7.2727272727272725,
                "s": 1
              },
              {
                "p": 1,
                "lc": "black",
                "x": 290.50000000000006,
                "y": 224.79999999999995,
                "b": 0,
                "s": 1
              },
              {
                "p": 1,
                "lc": "black",
                "x": 290.50000000000006,
                "y": 224.79999999999995,
                "b": -7.2727272727272725,
                "s": 1
              },
              {
                "p": 1,
                "lc": "black",
                "x": 290.50000000000006,
                "y": 224.79999999999995,
                "b": 3.6363636363636362,
                "s": 1
              },
              {
                "p": 1,
                "lc": "black",
                "x": 290.50000000000006,
                "y": 224.79999999999995,
                "b": -100,
                "s": 1
              },
              {
                "p": 1,
                "lc": "black",
                "x": 290.50000000000006,
                "y": 224.79999999999995,
                "b": -3.6363636363636362,
                "s": 1
              },
              {
                "p": 1,
                "lc": "black",
                "x": 294.30000000000007,
                "y": 224.59999999999997,
                "b": 0,
                "s": 1
              },
              {
                "p": 1,
                "lc": "black",
                "x": 294.30000000000007,
                "y": 224.59999999999997,
                "b": -7.2727272727272725,
                "s": 1
              },
              {
                "p": 1,
                "lc": "black",
                "x": 298.00000000000006,
                "y": 223.89999999999998,
                "b": 0,
                "s": 1
              },
              {
                "p": 1,
                "lc": "black",
                "x": 298.00000000000006,
                "y": 223.89999999999998,
                "b": -7.2727272727272725,
                "s": 1
              },
              {
                "p": 1,
                "lc": "black",
                "x": 301.6000000000001,
                "y": 222.7,
                "b": 0,
                "s": 1
              },
              {
                "p": 1,
                "lc": "black",
                "x": 301.6000000000001,
                "y": 222.7,
                "b": -7.2727272727272725,
                "s": 1
              },
              {
                "p": 1,
                "lc": "black",
                "x": 305.00000000000006,
                "y": 221.1,
                "b": 0,
                "s": 1
              },
              {
                "p": 1,
                "lc": "black",
                "x": 305.00000000000006,
                "y": 221.1,
                "b": -7.2727272727272725,
                "s": 1
              },
              {
                "p": 1,
                "lc": "black",
                "x": 308.20000000000005,
                "y": 219,
                "b": 0,
                "s": 1
              },
              {
                "p": 1,
                "lc": "black",
                "x": 308.20000000000005,
                "y": 219,
                "b": -7.2727272727272725,
                "s": 1
              },
              {
                "p": 1,
                "lc": "black",
                "x": 311.1,
                "y": 216.6,
                "b": 0,
                "s": 1
              },
              {
                "p": 1,
                "lc": "black",
                "x": 311.1,
                "y": 216.6,
                "b": -7.2727272727272725,
                "s": 1
              },
              {
                "p": 1,
                "lc": "black",
                "x": 313.70000000000005,
                "y": 213.79999999999998,
                "b": 0,
                "s": 1
              },
              {
                "p": 1,
                "lc": "black",
                "x": 313.70000000000005,
                "y": 213.79999999999998,
                "b": -7.2727272727272725,
                "s": 1
              },
              {
                "p": 1,
                "lc": "black",
                "x": 315.90000000000003,
                "y": 210.7,
                "b": 0,
                "s": 1
              },
              {
                "p": 1,
                "lc": "black",
                "x": 315.90000000000003,
                "y": 210.7,
                "b": -7.2727272727272725,
                "s": 1
              },
              {
                "p": 1,
                "lc": "black",
                "x": 317.70000000000005,
                "y": 207.29999999999998,
                "b": 0,
                "s": 1
              },
              {
                "p": 1,
                "lc": "black",
                "x": 317.70000000000005,
                "y": 207.29999999999998,
                "b": -7.2727272727272725,
                "s": 1
              },
              {
                "p": 1,
                "lc": "black",
                "x": 319.1,
                "y": 203.7,
                "b": 0,
                "s": 1
              },
              {
                "p": 1,
                "lc": "black",
                "x": 319.1,
                "y": 203.7,
                "b": -7.2727272727272725,
                "s": 1
              },
              {
                "p": 1,
                "lc": "black",
                "x": 320,
                "y": 200,
                "b": 0,
                "s": 1
              },
              {
                "p": 1,
                "lc": "black",
                "x": 320,
                "y": 200,
                "b": -7.2727272727272725,
                "s": 1
              },
              {
                "p": 1,
                "lc": "black",
                "x": 320,
                "y": 200,
                "b": 3.6363636363636362,
                "s": 1
              },
              {
                "p": 1,
                "lc": "black",
                "x": 320,
                "y": 200,
                "b": -100,
                "s": 1
              },
              {
                "p": 1,
                "lc": "black",
                "x": 320,
                "y": 200,
                "b": -36,
                "s": 1
              },
              {
                "p": 1,
                "lc": "black",
                "x": 320,
                "y": 200,
                "b": -3.6363636363636362,
                "s": 1
              },
              {
                "p": 1,
                "lc": "black",
                "x": 317.1,
                "y": 202.4,
                "b": 0,
                "s": 1
              },
              {
                "p": 1,
                "lc": "black",
                "x": 317.1,
                "y": 202.4,
                "b": -7.2727272727272725,
                "s": 1
              },
              {
                "p": 1,
                "lc": "black",
                "x": 314.5,
                "y": 205.20000000000002,
                "b": 0,
                "s": 1
              },
              {
                "p": 1,
                "lc": "black",
                "x": 314.5,
                "y": 205.20000000000002,
                "b": -7.2727272727272725,
                "s": 1
              },
              {
                "p": 1,
                "lc": "black",
                "x": 312.3,
                "y": 208.3,
                "b": 0,
                "s": 1
              },
              {
                "p": 1,
                "lc": "black",
                "x": 312.3,
                "y": 208.3,
                "b": -7.2727272727272725,
                "s": 1
              },
              {
                "p": 1,
                "lc": "black",
                "x": 310.5,
                "y": 211.60000000000002,
                "b": 0,
                "s": 1
              },
              {
                "p": 1,
                "lc": "black",
                "x": 310.5,
                "y": 211.60000000000002,
                "b": -7.2727272727272725,
                "s": 1
              },
              {
                "p": 1,
                "lc": "black",
                "x": 309.1,
                "y": 215.10000000000002,
                "b": 0,
                "s": 1
              },
              {
                "p": 1,
                "lc": "black",
                "x": 309.1,
                "y": 215.10000000000002,
                "b": -7.2727272727272725,
                "s": 1
              },
              {
                "p": 1,
                "lc": "black",
                "x": 308.20000000000005,
                "y": 218.8,
                "b": 0,
                "s": 1
              },
              {
                "p": 1,
                "lc": "black",
                "x": 308.20000000000005,
                "y": 218.8,
                "b": -7.2727272727272725,
                "s": 1
              },
              {
                "p": 1,
                "lc": "black",
                "x": 307.80000000000007,
                "y": 222.60000000000002,
                "b": 0,
                "s": 1
              },
              {
                "p": 1,
                "lc": "black",
                "x": 307.80000000000007,
                "y": 222.60000000000002,
                "b": -7.2727272727272725,
                "s": 1
              },
              {
                "p": 1,
                "lc": "black",
                "x": 307.80000000000007,
                "y": 226.40000000000003,
                "b": 0,
                "s": 1
              },
              {
                "p": 1,
                "lc": "black",
                "x": 307.80000000000007,
                "y": 226.40000000000003,
                "b": -7.2727272727272725,
                "s": 1
              },
              {
                "p": 1,
                "lc": "black",
                "x": 308.30000000000007,
                "y": 230.20000000000005,
                "b": 0,
                "s": 1
              },
              {
                "p": 1,
                "lc": "black",
                "x": 308.30000000000007,
                "y": 230.20000000000005,
                "b": -7.2727272727272725,
                "s": 1
              },
              {
                "p": 1,
                "lc": "black",
                "x": 309.30000000000007,
                "y": 233.90000000000003,
                "b": 0,
                "s": 1
              },
              {
                "p": 1,
                "lc": "black",
                "x": 309.30000000000007,
                "y": 233.90000000000003,
                "b": -7.2727272727272725,
                "s": 1
              },
              {
                "p": 1,
                "lc": "black",
                "x": 310.70000000000005,
                "y": 237.40000000000003,
                "b": 0,
                "s": 1
              },
              {
                "p": 1,
                "lc": "black",
                "x": 310.70000000000005,
                "y": 237.40000000000003,
                "b": -7.2727272727272725,
                "s": 1
              },
              {
                "p": 1,
                "lc": "black",
                "x": 310.70000000000005,
                "y": 237.40000000000003,
                "b": 3.6363636363636362,
                "s": 1
              },
              {
                "p": 1,
                "lc": "black",
                "x": 310.70000000000005,
                "y": 237.40000000000003,
                "b": -100,
                "s": 1
              },
              {
                "p": 1,
                "lc": "black",
                "x": 310.70000000000005,
                "y": 237.40000000000003,
                "b": -3.6363636363636362,
                "s": 1
              },
              {
                "p": 1,
                "lc": "black",
                "x": 313.6,
                "y": 235.00000000000003,
                "b": 0,
                "s": 1
              },
              {
                "p": 1,
                "lc": "black",
                "x": 313.6,
                "y": 235.00000000000003,
                "b": -7.2727272727272725,
                "s": 1
              },
              {
                "p": 1,
                "lc": "black",
                "x": 316.20000000000005,
                "y": 232.20000000000002,
                "b": 0,
                "s": 1
              },
              {
                "p": 1,
                "lc": "black",
                "x": 316.20000000000005,
                "y": 232.20000000000002,
                "b": -7.2727272727272725,
                "s": 1
              },
              {
                "p": 1,
                "lc": "black",
                "x": 318.40000000000003,
                "y": 229.10000000000002,
                "b": 0,
                "s": 1
              },
              {
                "p": 1,
                "lc": "black",
                "x": 318.40000000000003,
                "y": 229.10000000000002,
                "b": -7.2727272727272725,
                "s": 1
              },
              {
                "p": 1,
                "lc": "black",
                "x": 320.20000000000005,
                "y": 225.8,
                "b": 0,
                "s": 1
              },
              {
                "p": 1,
                "lc": "black",
                "x": 320.20000000000005,
                "y": 225.8,
                "b": -7.2727272727272725,
                "s": 1
              },
              {
                "p": 1,
                "lc": "black",
                "x": 321.6,
                "y": 222.3,
                "b": 0,
                "s": 1
              },
              {
                "p": 1,
                "lc": "black",
                "x": 321.6,
                "y": 222.3,
                "b": -7.2727272727272725,
                "s": 1
              },
              {
                "p": 1,
                "lc": "black",
                "x": 322.5,
                "y": 218.60000000000002,
                "b": 0,
                "s": 1
              },
              {
                "p": 1,
                "lc": "black",
                "x": 322.5,
                "y": 218.60000000000002,
                "b": -7.2727272727272725,
                "s": 1
              },
              {
                "p": 1,
                "lc": "black",
                "x": 322.9,
                "y": 214.8,
                "b": 0,
                "s": 1
              },
              {
                "p": 1,
                "lc": "black",
                "x": 322.9,
                "y": 214.8,
                "b": -7.2727272727272725,
                "s": 1
              },
              {
                "p": 1,
                "lc": "black",
                "x": 322.9,
                "y": 211,
                "b": 0,
                "s": 1
              },
              {
                "p": 1,
                "lc": "black",
                "x": 322.9,
                "y": 211,
                "b": -7.2727272727272725,
                "s": 1
              },
              {
                "p": 1,
                "lc": "black",
                "x": 322.4,
                "y": 207.2,
                "b": 0,
                "s": 1
              },
              {
                "p": 1,
                "lc": "black",
                "x": 322.4,
                "y": 207.2,
                "b": -7.2727272727272725,
                "s": 1
              },
              {
                "p": 1,
                "lc": "black",
                "x": 321.4,
                "y": 203.5,
                "b": 0,
                "s": 1
              },
              {
                "p": 1,
                "lc": "black",
                "x": 321.4,
                "y": 203.5,
                "b": -7.2727272727272725,
                "s": 1
              },
              {
                "p": 1,
                "lc": "black",
                "x": 320,
                "y": 200,
                "b": 0,
                "s": 1
              },
              {
                "p": 1,
                "lc": "black",
                "x": 320,
                "y": 200,
                "b": -7.2727272727272725,
                "s": 1
              },
              {
                "p": 1,
                "lc": "black",
                "x": 320,
                "y": 200,
                "b": 3.6363636363636362,
                "s": 1
              },
              {
                "p": 1,
                "lc": "black",
                "x": 320,
                "y": 200,
                "b": -100,
                "s": 1
              },
              {
                "p": 1,
                "lc": "black",
                "x": 320,
                "y": 200,
                "b": -36,
                "s": 1
              },
              {
                "p": 1,
                "lc": "black",
                "x": 320,
                "y": 200,
                "b": -3.6363636363636362,
                "s": 1
              },
              {
                "p": 1,
                "lc": "black",
                "x": 319.1,
                "y": 203.7,
                "b": 0,
                "s": 1
              },
              {
                "p": 1,
                "lc": "black",
                "x": 319.1,
                "y": 203.7,
                "b": -7.2727272727272725,
                "s": 1
              },
              {
                "p": 1,
                "lc": "black",
                "x": 318.6,
                "y": 207.5,
                "b": 0,
                "s": 1
              },
              {
                "p": 1,
                "lc": "black",
                "x": 318.6,
                "y": 207.5,
                "b": -7.2727272727272725,
                "s": 1
              },
              {
                "p": 1,
                "lc": "black",
                "x": 318.6,
                "y": 211.3,
                "b": 0,
                "s": 1
              },
              {
                "p": 1,
                "lc": "black",
                "x": 318.6,
                "y": 211.3,
                "b": -7.2727272727272725,
                "s": 1
              },
              {
                "p": 1,
                "lc": "black",
                "x": 319.1,
                "y": 215.10000000000002,
                "b": 0,
                "s": 1
              },
              {
                "p": 1,
                "lc": "black",
                "x": 319.1,
                "y": 215.10000000000002,
                "b": -7.2727272727272725,
                "s": 1
              },
              {
                "p": 1,
                "lc": "black",
                "x": 320.1,
                "y": 218.8,
                "b": 0,
                "s": 1
              },
              {
                "p": 1,
                "lc": "black",
                "x": 320.1,
                "y": 218.8,
                "b": -7.2727272727272725,
                "s": 1
              },
              {
                "p": 1,
                "lc": "black",
                "x": 321.5,
                "y": 222.3,
                "b": 0,
                "s": 1
              },
              {
                "p": 1,
                "lc": "black",
                "x": 321.5,
                "y": 222.3,
                "b": -7.2727272727272725,
                "s": 1
              },
              {
                "p": 1,
                "lc": "black",
                "x": 323.4,
                "y": 225.60000000000002,
                "b": 0,
                "s": 1
              },
              {
                "p": 1,
                "lc": "black",
                "x": 323.4,
                "y": 225.60000000000002,
                "b": -7.2727272727272725,
                "s": 1
              },
              {
                "p": 1,
                "lc": "black",
                "x": 325.7,
                "y": 228.70000000000002,
                "b": 0,
                "s": 1
              },
              {
                "p": 1,
                "lc": "black",
                "x": 325.7,
                "y": 228.70000000000002,
                "b": -7.2727272727272725,
                "s": 1
              },
              {
                "p": 1,
                "lc": "black",
                "x": 328.3,
                "y": 231.4,
                "b": 0,
                "s": 1
              },
              {
                "p": 1,
                "lc": "black",
                "x": 328.3,
                "y": 231.4,
                "b": -7.2727272727272725,
                "s": 1
              },
              {
                "p": 1,
                "lc": "black",
                "x": 331.3,
                "y": 233.8,
                "b": 0,
                "s": 1
              },
              {
                "p": 1,
                "lc": "black",
                "x": 331.3,
                "y": 233.8,
                "b": -7.2727272727272725,
                "s": 1
              },
              {
                "p": 1,
                "lc": "black",
                "x": 334.5,
                "y": 235.8,
                "b": 0,
                "s": 1
              },
              {
                "p": 1,
                "lc": "black",
                "x": 334.5,
                "y": 235.8,
                "b": -7.2727272727272725,
                "s": 1
              },
              {
                "p": 1,
                "lc": "black",
                "x": 334.5,
                "y": 235.8,
                "b": 3.6363636363636362,
                "s": 1
              },
              {
                "p": 1,
                "lc": "black",
                "x": 334.5,
                "y": 235.8,
                "b": -100,
                "s": 1
              },
              {
                "p": 1,
                "lc": "black",
                "x": 334.5,
                "y": 235.8,
                "b": -3.6363636363636362,
                "s": 1
              },
              {
                "p": 1,
                "lc": "black",
                "x": 335.4,
                "y": 232.10000000000002,
                "b": 0,
                "s": 1
              },
              {
                "p": 1,
                "lc": "black",
                "x": 335.4,
                "y": 232.10000000000002,
                "b": -7.2727272727272725,
                "s": 1
              },
              {
                "p": 1,
                "lc": "black",
                "x": 335.9,
                "y": 228.3,
                "b": 0,
                "s": 1
              },
              {
                "p": 1,
                "lc": "black",
                "x": 335.9,
                "y": 228.3,
                "b": -7.2727272727272725,
                "s": 1
              },
              {
                "p": 1,
                "lc": "black",
                "x": 335.9,
                "y": 224.5,
                "b": 0,
                "s": 1
              },
              {
                "p": 1,
                "lc": "black",
                "x": 335.9,
                "y": 224.5,
                "b": -7.2727272727272725,
                "s": 1
              },
              {
                "p": 1,
                "lc": "black",
                "x": 335.4,
                "y": 220.7,
                "b": 0,
                "s": 1
              },
              {
                "p": 1,
                "lc": "black",
                "x": 335.4,
                "y": 220.7,
                "b": -7.2727272727272725,
                "s": 1
              },
              {
                "p": 1,
                "lc": "black",
                "x": 334.4,
                "y": 217,
                "b": 0,
                "s": 1
              },
              {
                "p": 1,
                "lc": "black",
                "x": 334.4,
                "y": 217,
                "b": -7.2727272727272725,
                "s": 1
              },
              {
                "p": 1,
                "lc": "black",
                "x": 333,
                "y": 213.5,
                "b": 0,
                "s": 1
              },
              {
                "p": 1,
                "lc": "black",
                "x": 333,
                "y": 213.5,
                "b": -7.2727272727272725,
                "s": 1
              },
              {
                "p": 1,
                "lc": "black",
                "x": 331.1,
                "y": 210.2,
                "b": 0,
                "s": 1
              },
              {
                "p": 1,
                "lc": "black",
                "x": 331.1,
                "y": 210.2,
                "b": -7.2727272727272725,
                "s": 1
              },
              {
                "p": 1,
                "lc": "black",
                "x": 328.8,
                "y": 207.1,
                "b": 0,
                "s": 1
              },
              {
                "p": 1,
                "lc": "black",
                "x": 328.8,
                "y": 207.1,
                "b": -7.2727272727272725,
                "s": 1
              },
              {
                "p": 1,
                "lc": "black",
                "x": 326.2,
                "y": 204.4,
                "b": 0,
                "s": 1
              },
              {
                "p": 1,
                "lc": "black",
                "x": 326.2,
                "y": 204.4,
                "b": -7.2727272727272725,
                "s": 1
              },
              {
                "p": 1,
                "lc": "black",
                "x": 323.2,
                "y": 202,
                "b": 0,
                "s": 1
              },
              {
                "p": 1,
                "lc": "black",
                "x": 323.2,
                "y": 202,
                "b": -7.2727272727272725,
                "s": 1
              },
              {
                "p": 1,
                "lc": "black",
                "x": 320,
                "y": 200,
                "b": 0,
                "s": 1
              },
              {
                "p": 1,
                "lc": "black",
                "x": 320,
                "y": 200,
                "b": -7.2727272727272725,
                "s": 1
              },
              {
                "p": 1,
                "lc": "black",
                "x": 320,
                "y": 200,
                "b": 3.6363636363636362,
                "s": 1
              },
              {
                "p": 1,
                "lc": "black",
                "x": 320,
                "y": 200,
                "b": -100,
                "s": 1
              },
              {
                "p": 1,
                "lc": "black",
                "x": 320,
                "y": 200,
                "b": -36,
                "s": 1
              },
              {
                "p": 1,
                "lc": "black",
                "x": 320,
                "y": 200,
                "b": -3.6363636363636362,
                "s": 1
              },
              {
                "p": 1,
                "lc": "black",
                "x": 321.4,
                "y": 203.5,
                "b": 0,
                "s": 1
              },
              {
                "p": 1,
                "lc": "black",
                "x": 321.4,
                "y": 203.5,
                "b": -7.2727272727272725,
                "s": 1
              },
              {
                "p": 1,
                "lc": "black",
                "x": 323.2,
                "y": 206.8,
                "b": 0,
                "s": 1
              },
              {
                "p": 1,
                "lc": "black",
                "x": 323.2,
                "y": 206.8,
                "b": -7.2727272727272725,
                "s": 1
              },
              {
                "p": 1,
                "lc": "black",
                "x": 325.4,
                "y": 209.9,
                "b": 0,
                "s": 1
              },
              {
                "p": 1,
                "lc": "black",
                "x": 325.4,
                "y": 209.9,
                "b": -7.2727272727272725,
                "s": 1
              },
              {
                "p": 1,
                "lc": "black",
                "x": 328,
                "y": 212.70000000000002,
                "b": 0,
                "s": 1
              },
              {
                "p": 1,
                "lc": "black",
                "x": 328,
                "y": 212.70000000000002,
                "b": -7.2727272727272725,
                "s": 1
              },
              {
                "p": 1,
                "lc": "black",
                "x": 330.9,
                "y": 215.10000000000002,
                "b": 0,
                "s": 1
              },
              {
                "p": 1,
                "lc": "black",
                "x": 330.9,
                "y": 215.10000000000002,
                "b": -7.2727272727272725,
                "s": 1
              },
              {
                "p": 1,
                "lc": "black",
                "x": 334.09999999999997,
                "y": 217.10000000000002,
                "b": 0,
                "s": 1
              },
              {
                "p": 1,
                "lc": "black",
                "x": 334.09999999999997,
                "y": 217.10000000000002,
                "b": -7.2727272727272725,
                "s": 1
              },
              {
                "p": 1,
                "lc": "black",
                "x": 337.59999999999997,
                "y": 218.70000000000002,
                "b": 0,
                "s": 1
              },
              {
                "p": 1,
                "lc": "black",
                "x": 337.59999999999997,
                "y": 218.70000000000002,
                "b": -7.2727272727272725,
                "s": 1
              },
              {
                "p": 1,
                "lc": "black",
                "x": 341.2,
                "y": 219.8,
                "b": 0,
                "s": 1
              },
              {
                "p": 1,
                "lc": "black",
                "x": 341.2,
                "y": 219.8,
                "b": -7.2727272727272725,
                "s": 1
              },
              {
                "p": 1,
                "lc": "black",
                "x": 344.9,
                "y": 220.5,
                "b": 0,
                "s": 1
              },
              {
                "p": 1,
                "lc": "black",
                "x": 344.9,
                "y": 220.5,
                "b": -7.2727272727272725,
                "s": 1
              },
              {
                "p": 1,
                "lc": "black",
                "x": 348.7,
                "y": 220.7,
                "b": 0,
                "s": 1
              },
              {
                "p": 1,
                "lc": "black",
                "x": 348.7,
                "y": 220.7,
                "b": -7.2727272727272725,
                "s": 1
              },
              {
                "p": 1,
                "lc": "black",
                "x": 352.5,
                "y": 220.39999999999998,
                "b": 0,
                "s": 1
              },
              {
                "p": 1,
                "lc": "black",
                "x": 352.5,
                "y": 220.39999999999998,
                "b": -7.2727272727272725,
                "s": 1
              },
              {
                "p": 1,
                "lc": "black",
                "x": 352.5,
                "y": 220.39999999999998,
                "b": 3.6363636363636362,
                "s": 1
              },
              {
                "p": 1,
                "lc": "black",
                "x": 352.5,
                "y": 220.39999999999998,
                "b": -100,
                "s": 1
              },
              {
                "p": 1,
                "lc": "black",
                "x": 352.5,
                "y": 220.39999999999998,
                "b": -3.6363636363636362,
                "s": 1
              },
              {
                "p": 1,
                "lc": "black",
                "x": 351.1,
                "y": 216.89999999999998,
                "b": 0,
                "s": 1
              },
              {
                "p": 1,
                "lc": "black",
                "x": 351.1,
                "y": 216.89999999999998,
                "b": -7.2727272727272725,
                "s": 1
              },
              {
                "p": 1,
                "lc": "black",
                "x": 349.3,
                "y": 213.59999999999997,
                "b": 0,
                "s": 1
              },
              {
                "p": 1,
                "lc": "black",
                "x": 349.3,
                "y": 213.59999999999997,
                "b": -7.2727272727272725,
                "s": 1
              },
              {
                "p": 1,
                "lc": "black",
                "x": 347.1,
                "y": 210.49999999999997,
                "b": 0,
                "s": 1
              },
              {
                "p": 1,
                "lc": "black",
                "x": 347.1,
                "y": 210.49999999999997,
                "b": -7.2727272727272725,
                "s": 1
              },
              {
                "p": 1,
                "lc": "black",
                "x": 344.5,
                "y": 207.69999999999996,
                "b": 0,
                "s": 1
              },
              {
                "p": 1,
                "lc": "black",
                "x": 344.5,
                "y": 207.69999999999996,
                "b": -7.2727272727272725,
                "s": 1
              },
              {
                "p": 1,
                "lc": "black",
                "x": 341.6,
                "y": 205.29999999999995,
                "b": 0,
                "s": 1
              },
              {
                "p": 1,
                "lc": "black",
                "x": 341.6,
                "y": 205.29999999999995,
                "b": -7.2727272727272725,
                "s": 1
              },
              {
                "p": 1,
                "lc": "black",
                "x": 338.40000000000003,
                "y": 203.29999999999995,
                "b": 0,
                "s": 1
              },
              {
                "p": 1,
                "lc": "black",
                "x": 338.40000000000003,
                "y": 203.29999999999995,
                "b": -7.2727272727272725,
                "s": 1
              },
              {
                "p": 1,
                "lc": "black",
                "x": 334.90000000000003,
                "y": 201.69999999999996,
                "b": 0,
                "s": 1
              },
              {
                "p": 1,
                "lc": "black",
                "x": 334.90000000000003,
                "y": 201.69999999999996,
                "b": -7.2727272727272725,
                "s": 1
              },
              {
                "p": 1,
                "lc": "black",
                "x": 331.3,
                "y": 200.59999999999997,
                "b": 0,
                "s": 1
              },
              {
                "p": 1,
                "lc": "black",
                "x": 331.3,
                "y": 200.59999999999997,
                "b": -7.2727272727272725,
                "s": 1
              },
              {
                "p": 1,
                "lc": "black",
                "x": 327.6,
                "y": 199.89999999999998,
                "b": 0,
                "s": 1
              },
              {
                "p": 1,
                "lc": "black",
                "x": 327.6,
                "y": 199.89999999999998,
                "b": -7.2727272727272725,
                "s": 1
              },
              {
                "p": 1,
                "lc": "black",
                "x": 323.8,
                "y": 199.7,
                "b": 0,
                "s": 1
              },
              {
                "p": 1,
                "lc": "black",
                "x": 323.8,
                "y": 199.7,
                "b": -7.2727272727272725,
                "s": 1
              },
              {
                "p": 1,
                "lc": "black",
                "x": 320,
                "y": 200,
                "b": 0,
                "s": 1
              },
              {
                "p": 1,
                "lc": "black",
                "x": 320,
                "y": 200,
                "b": -7.2727272727272725,
                "s": 1
              },
              {
                "p": 1,
                "lc": "black",
                "x": 320,
                "y": 200,
                "b": 3.6363636363636362,
                "s": 1
              },
              {
                "p": 1,
                "lc": "black",
                "x": 320,
                "y": 200,
                "b": -100,
                "s": 1
              },
              {
                "p": 1,
                "lc": "black",
                "x": 320,
                "y": 200,
                "b": -36,
                "s": 1
              },
              {
                "p": 1,
                "lc": "black",
                "x": 320,
                "y": 200,
                "b": -3.6363636363636362,
                "s": 1
              },
              {
                "p": 1,
                "lc": "black",
                "x": 323.2,
                "y": 202,
                "b": 0,
                "s": 1
              },
              {
                "p": 1,
                "lc": "black",
                "x": 323.2,
                "y": 202,
                "b": -7.2727272727272725,
                "s": 1
              },
              {
                "p": 1,
                "lc": "black",
                "x": 326.59999999999997,
                "y": 203.6,
                "b": 0,
                "s": 1
              },
              {
                "p": 1,
                "lc": "black",
                "x": 326.59999999999997,
                "y": 203.6,
                "b": -7.2727272727272725,
                "s": 1
              },
              {
                "p": 1,
                "lc": "black",
                "x": 330.2,
                "y": 204.79999999999998,
                "b": 0,
                "s": 1
              },
              {
                "p": 1,
                "lc": "black",
                "x": 330.2,
                "y": 204.79999999999998,
                "b": -7.2727272727272725,
                "s": 1
              },
              {
                "p": 1,
                "lc": "black",
                "x": 333.9,
                "y": 205.49999999999997,
                "b": 0,
                "s": 1
              },
              {
                "p": 1,
                "lc": "black",
                "x": 333.9,
                "y": 205.49999999999997,
                "b": -7.2727272727272725,
                "s": 1
              },
              {
                "p": 1,
                "lc": "black",
                "x": 337.7,
                "y": 205.69999999999996,
                "b": 0,
                "s": 1
              },
              {
                "p": 1,
                "lc": "black",
                "x": 337.7,
                "y": 205.69999999999996,
                "b": -7.2727272727272725,
                "s": 1
              },
              {
                "p": 1,
                "lc": "black",
                "x": 341.5,
                "y": 205.39999999999995,
                "b": 0,
                "s": 1
              },
              {
                "p": 1,
                "lc": "black",
                "x": 341.5,
                "y": 205.39999999999995,
                "b": -7.2727272727272725,
                "s": 1
              },
              {
                "p": 1,
                "lc": "black",
                "x": 345.2,
                "y": 204.69999999999996,
                "b": 0,
                "s": 1
              },
              {
                "p": 1,
                "lc": "black",
                "x": 345.2,
                "y": 204.69999999999996,
                "b": -7.2727272727272725,
                "s": 1
              },
              {
                "p": 1,
                "lc": "black",
                "x": 348.8,
                "y": 203.49999999999997,
                "b": 0,
                "s": 1
              },
              {
                "p": 1,
                "lc": "black",
                "x": 348.8,
                "y": 203.49999999999997,
                "b": -7.2727272727272725,
                "s": 1
              },
              {
                "p": 1,
                "lc": "black",
                "x": 352.2,
                "y": 201.79999999999998,
                "b": 0,
                "s": 1
              },
              {
                "p": 1,
                "lc": "black",
                "x": 352.2,
                "y": 201.79999999999998,
                "b": -7.2727272727272725,
                "s": 1
              },
              {
                "p": 1,
                "lc": "black",
                "x": 355.4,
                "y": 199.7,
                "b": 0,
                "s": 1
              },
              {
                "p": 1,
                "lc": "black",
                "x": 355.4,
                "y": 199.7,
                "b": -7.2727272727272725,
                "s": 1
              },
              {
                "p": 1,
                "lc": "black",
                "x": 358.29999999999995,
                "y": 197.2,
                "b": 0,
                "s": 1
              },
              {
                "p": 1,
                "lc": "black",
                "x": 358.29999999999995,
                "y": 197.2,
                "b": -7.2727272727272725,
                "s": 1
              },
              {
                "p": 1,
                "lc": "black",
                "x": 358.29999999999995,
                "y": 197.2,
                "b": 3.6363636363636362,
                "s": 1
              },
              {
                "p": 1,
                "lc": "black",
                "x": 358.29999999999995,
                "y": 197.2,
                "b": -100,
                "s": 1
              },
              {
                "p": 1,
                "lc": "black",
                "x": 358.29999999999995,
                "y": 197.2,
                "b": -3.6363636363636362,
                "s": 1
              },
              {
                "p": 1,
                "lc": "black",
                "x": 355.09999999999997,
                "y": 195.2,
                "b": 0,
                "s": 1
              },
              {
                "p": 1,
                "lc": "black",
                "x": 355.09999999999997,
                "y": 195.2,
                "b": -7.2727272727272725,
                "s": 1
              },
              {
                "p": 1,
                "lc": "black",
                "x": 351.7,
                "y": 193.6,
                "b": 0,
                "s": 1
              },
              {
                "p": 1,
                "lc": "black",
                "x": 351.7,
                "y": 193.6,
                "b": -7.2727272727272725,
                "s": 1
              },
              {
                "p": 1,
                "lc": "black",
                "x": 348.09999999999997,
                "y": 192.4,
                "b": 0,
                "s": 1
              },
              {
                "p": 1,
                "lc": "black",
                "x": 348.09999999999997,
                "y": 192.4,
                "b": -7.2727272727272725,
                "s": 1
              },
              {
                "p": 1,
                "lc": "black",
                "x": 344.4,
                "y": 191.70000000000002,
                "b": 0,
                "s": 1
              },
              {
                "p": 1,
                "lc": "black",
                "x": 344.4,
                "y": 191.70000000000002,
                "b": -7.2727272727272725,
                "s": 1
              },
              {
                "p": 1,
                "lc": "black",
                "x": 340.59999999999997,
                "y": 191.50000000000003,
                "b": 0,
                "s": 1
              },
              {
                "p": 1,
                "lc": "black",
                "x": 340.59999999999997,
                "y": 191.50000000000003,
                "b": -7.2727272727272725,
                "s": 1
              },
              {
                "p": 1,
                "lc": "black",
                "x": 336.79999999999995,
                "y": 191.80000000000004,
                "b": 0,
                "s": 1
              },
              {
                "p": 1,
                "lc": "black",
                "x": 336.79999999999995,
                "y": 191.80000000000004,
                "b": -7.2727272727272725,
                "s": 1
              },
              {
                "p": 1,
                "lc": "black",
                "x": 333.09999999999997,
                "y": 192.50000000000003,
                "b": 0,
                "s": 1
              },
              {
                "p": 1,
                "lc": "black",
                "x": 333.09999999999997,
                "y": 192.50000000000003,
                "b": -7.2727272727272725,
                "s": 1
              },
              {
                "p": 1,
                "lc": "black",
                "x": 329.49999999999994,
                "y": 193.70000000000002,
                "b": 0,
                "s": 1
              },
              {
                "p": 1,
                "lc": "black",
                "x": 329.49999999999994,
                "y": 193.70000000000002,
                "b": -7.2727272727272725,
                "s": 1
              },
              {
                "p": 1,
                "lc": "black",
                "x": 326.09999999999997,
                "y": 195.4,
                "b": 0,
                "s": 1
              },
              {
                "p": 1,
                "lc": "black",
                "x": 326.09999999999997,
                "y": 195.4,
                "b": -7.2727272727272725,
                "s": 1
              },
              {
                "p": 1,
                "lc": "black",
                "x": 322.9,
                "y": 197.5,
                "b": 0,
                "s": 1
              },
              {
                "p": 1,
                "lc": "black",
                "x": 322.9,
                "y": 197.5,
                "b": -7.2727272727272725,
                "s": 1
              },
              {
                "p": 1,
                "lc": "black",
                "x": 320,
                "y": 200,
                "b": 0,
                "s": 1
              },
              {
                "p": 1,
                "lc": "black",
                "x": 320,
                "y": 200,
                "b": -7.2727272727272725,
                "s": 1
              },
              {
                "p": 1,
                "lc": "black",
                "x": 320,
                "y": 200,
                "b": 3.6363636363636362,
                "s": 1
              },
              {
                "p": 1,
                "lc": "black",
                "x": 320,
                "y": 200,
                "b": -100,
                "s": 1
              },
              {
                "p": 1,
                "lc": "black",
                "x": 320,
                "y": 200,
                "b": -36,
                "s": 1
              },
              {
                "p": 1,
                "lc": "black",
                "x": 320,
                "y": 200,
                "b": -1.875,
                "s": 1
              },
              {
                "p": 1,
                "lc": "black",
                "x": 323.9,
                "y": 199.9,
                "b": 0,
                "s": 1
              },
              {
                "p": 1,
                "lc": "black",
                "x": 323.9,
                "y": 199.9,
                "b": -3.75,
                "s": 1
              },
              {
                "p": 1,
                "lc": "black",
                "x": 327.79999999999995,
                "y": 199.5,
                "b": 0,
                "s": 1
              },
              {
                "p": 1,
                "lc": "black",
                "x": 327.79999999999995,
                "y": 199.5,
                "b": -3.75,
                "s": 1
              },
              {
                "p": 1,
                "lc": "black",
                "x": 331.69999999999993,
                "y": 198.9,
                "b": 0,
                "s": 1
              },
              {
                "p": 1,
                "lc": "black",
                "x": 331.69999999999993,
                "y": 198.9,
                "b": -3.75,
                "s": 1
              },
              {
                "p": 1,
                "lc": "black",
                "x": 335.49999999999994,
                "y": 198,
                "b": 0,
                "s": 1
              },
              {
                "p": 1,
                "lc": "black",
                "x": 335.49999999999994,
                "y": 198,
                "b": -3.75,
                "s": 1
              },
              {
                "p": 1,
                "lc": "black",
                "x": 339.29999999999995,
                "y": 196.9,
                "b": 0,
                "s": 1
              },
              {
                "p": 1,
                "lc": "black",
                "x": 339.29999999999995,
                "y": 196.9,
                "b": -3.75,
                "s": 1
              },
              {
                "p": 1,
                "lc": "black",
                "x": 342.99999999999994,
                "y": 195.5,
                "b": 0,
                "s": 1
              },
              {
                "p": 1,
                "lc": "black",
                "x": 342.99999999999994,
                "y": 195.5,
                "b": -3.75,
                "s": 1
              },
              {
                "p": 1,
                "lc": "black",
                "x": 346.59999999999997,
                "y": 193.9,
                "b": 0,
                "s": 1
              },
              {
                "p": 1,
                "lc": "black",
                "x": 346.59999999999997,
                "y": 193.9,
                "b": -3.75,
                "s": 1
              },
              {
                "p": 1,
                "lc": "black",
                "x": 350.09999999999997,
                "y": 192,
                "b": 0,
                "s": 1
              },
              {
                "p": 1,
                "lc": "black",
                "x": 350.09999999999997,
                "y": 192,
                "b": -3.75,
                "s": 1
              },
              {
                "p": 1,
                "lc": "black",
                "x": 353.4,
                "y": 189.9,
                "b": 0,
                "s": 1
              },
              {
                "p": 1,
                "lc": "black",
                "x": 353.4,
                "y": 189.9,
                "b": -3.75,
                "s": 1
              },
              {
                "p": 1,
                "lc": "black",
                "x": 356.59999999999997,
                "y": 187.6,
                "b": 0,
                "s": 1
              },
              {
                "p": 1,
                "lc": "black",
                "x": 356.59999999999997,
                "y": 187.6,
                "b": -3.75,
                "s": 1
              },
              {
                "p": 1,
                "lc": "black",
                "x": 359.59999999999997,
                "y": 185.1,
                "b": 0,
                "s": 1
              },
              {
                "p": 1,
                "lc": "black",
                "x": 359.59999999999997,
                "y": 185.1,
                "b": -3.75,
                "s": 1
              },
              {
                "p": 1,
                "lc": "black",
                "x": 362.49999999999994,
                "y": 182.4,
                "b": 0,
                "s": 1
              },
              {
                "p": 1,
                "lc": "black",
                "x": 362.49999999999994,
                "y": 182.4,
                "b": -3.75,
                "s": 1
              },
              {
                "p": 1,
                "lc": "black",
                "x": 365.19999999999993,
                "y": 179.5,
                "b": 0,
                "s": 1
              },
              {
                "p": 1,
                "lc": "black",
                "x": 365.19999999999993,
                "y": 179.5,
                "b": -3.75,
                "s": 1
              },
              {
                "p": 1,
                "lc": "black",
                "x": 367.69999999999993,
                "y": 176.5,
                "b": 0,
                "s": 1
              },
              {
                "p": 1,
                "lc": "black",
                "x": 367.69999999999993,
                "y": 176.5,
                "b": -3.75,
                "s": 1
              },
              {
                "p": 1,
                "lc": "black",
                "x": 369.99999999999994,
                "y": 173.3,
                "b": 0,
                "s": 1
              },
              {
                "p": 1,
                "lc": "black",
                "x": 369.99999999999994,
                "y": 173.3,
                "b": -3.75,
                "s": 1
              },
              {
                "p": 1,
                "lc": "black",
                "x": 372.09999999999997,
                "y": 170,
                "b": 0,
                "s": 1
              },
              {
                "p": 1,
                "lc": "black",
                "x": 372.09999999999997,
                "y": 170,
                "b": -3.75,
                "s": 1
              },
              {
                "p": 1,
                "lc": "black",
                "x": 372.09999999999997,
                "y": 170,
                "b": 1.875,
                "s": 1
              },
              {
                "p": 1,
                "lc": "black",
                "x": 372.09999999999997,
                "y": 170,
                "b": -120,
                "s": 1
              },
              {
                "p": 1,
                "lc": "black",
                "x": 372.09999999999997,
                "y": 170,
                "b": -1.875,
                "s": 1
              },
              {
                "p": 1,
                "lc": "black",
                "x": 368.2,
                "y": 170.1,
                "b": 0,
                "s": 1
              },
              {
                "p": 1,
                "lc": "black",
                "x": 368.2,
                "y": 170.1,
                "b": -3.75,
                "s": 1
              },
              {
                "p": 1,
                "lc": "black",
                "x": 364.3,
                "y": 170.5,
                "b": 0,
                "s": 1
              },
              {
                "p": 1,
                "lc": "black",
                "x": 364.3,
                "y": 170.5,
                "b": -3.75,
                "s": 1
              },
              {
                "p": 1,
                "lc": "black",
                "x": 360.40000000000003,
                "y": 171.1,
                "b": 0,
                "s": 1
              },
              {
                "p": 1,
                "lc": "black",
                "x": 360.40000000000003,
                "y": 171.1,
                "b": -3.75,
                "s": 1
              },
              {
                "p": 1,
                "lc": "black",
                "x": 356.6,
                "y": 172,
                "b": 0,
                "s": 1
              },
              {
                "p": 1,
                "lc": "black",
                "x": 356.6,
                "y": 172,
                "b": -3.75,
                "s": 1
              },
              {
                "p": 1,
                "lc": "black",
                "x": 352.8,
                "y": 173.1,
                "b": 0,
                "s": 1
              },
              {
                "p": 1,
                "lc": "black",
                "x": 352.8,
                "y": 173.1,
                "b": -3.75,
                "s": 1
              },
              {
                "p": 1,
                "lc": "black",
                "x": 349.1,
                "y": 174.5,
                "b": 0,
                "s": 1
              },
              {
                "p": 1,
                "lc": "black",
                "x": 349.1,
                "y": 174.5,
                "b": -3.75,
                "s": 1
              },
              {
                "p": 1,
                "lc": "black",
                "x": 345.5,
                "y": 176.1,
                "b": 0,
                "s": 1
              },
              {
                "p": 1,
                "lc": "black",
                "x": 345.5,
                "y": 176.1,
                "b": -3.75,
                "s": 1
              },
              {
                "p": 1,
                "lc": "black",
                "x": 342,
                "y": 178,
                "b": 0,
                "s": 1
              },
              {
                "p": 1,
                "lc": "black",
                "x": 342,
                "y": 178,
                "b": -3.75,
                "s": 1
              },
              {
                "p": 1,
                "lc": "black",
                "x": 338.7,
                "y": 180.1,
                "b": 0,
                "s": 1
              },
              {
                "p": 1,
                "lc": "black",
                "x": 338.7,
                "y": 180.1,
                "b": -3.75,
                "s": 1
              },
              {
                "p": 1,
                "lc": "black",
                "x": 335.5,
                "y": 182.4,
                "b": 0,
                "s": 1
              },
              {
                "p": 1,
                "lc": "black",
                "x": 335.5,
                "y": 182.4,
                "b": -3.75,
                "s": 1
              },
              {
                "p": 1,
                "lc": "black",
                "x": 332.5,
                "y": 184.9,
                "b": 0,
                "s": 1
              },
              {
                "p": 1,
                "lc": "black",
                "x": 332.5,
                "y": 184.9,
                "b": -3.75,
                "s": 1
              },
              {
                "p": 1,
                "lc": "black",
                "x": 329.6,
                "y": 187.6,
                "b": 0,
                "s": 1
              },
              {
                "p": 1,
                "lc": "black",
                "x": 329.6,
                "y": 187.6,
                "b": -3.75,
                "s": 1
              },
              {
                "p": 1,
                "lc": "black",
                "x": 326.90000000000003,
                "y": 190.5,
                "b": 0,
                "s": 1
              },
              {
                "p": 1,
                "lc": "black",
                "x": 326.90000000000003,
                "y": 190.5,
                "b": -3.75,
                "s": 1
              },
              {
                "p": 1,
                "lc": "black",
                "x": 324.40000000000003,
                "y": 193.5,
                "b": 0,
                "s": 1
              },
              {
                "p": 1,
                "lc": "black",
                "x": 324.40000000000003,
                "y": 193.5,
                "b": -3.75,
                "s": 1
              },
              {
                "p": 1,
                "lc": "black",
                "x": 322.1,
                "y": 196.7,
                "b": 0,
                "s": 1
              },
              {
                "p": 1,
                "lc": "black",
                "x": 322.1,
                "y": 196.7,
                "b": -3.75,
                "s": 1
              },
              {
                "p": 1,
                "lc": "black",
                "x": 320,
                "y": 200,
                "b": 0,
                "s": 1
              },
              {
                "p": 1,
                "lc": "black",
                "x": 320,
                "y": 200,
                "b": -3.75,
                "s": 1
              },
              {
                "p": 1,
                "lc": "black",
                "x": 320,
                "y": 200,
                "b": 1.875,
                "s": 1
              },
              {
                "p": 1,
                "lc": "black",
                "x": 320,
                "y": 200,
                "b": -120,
                "s": 1
              },
              {
                "p": 1,
                "lc": "black",
                "x": 320,
                "y": 200,
                "b": -51.42857142857143,
                "s": 1
              },
              {
                "p": 1,
                "lc": "black",
                "x": 320,
                "y": 200,
                "b": -1.875,
                "s": 1
              },
              {
                "p": 1,
                "lc": "black",
                "x": 322.3,
                "y": 196.9,
                "b": 0,
                "s": 1
              },
              {
                "p": 1,
                "lc": "black",
                "x": 322.3,
                "y": 196.9,
                "b": -3.75,
                "s": 1
              },
              {
                "p": 1,
                "lc": "black",
                "x": 324.40000000000003,
                "y": 193.6,
                "b": 0,
                "s": 1
              },
              {
                "p": 1,
                "lc": "black",
                "x": 324.40000000000003,
                "y": 193.6,
                "b": -3.75,
                "s": 1
              },
              {
                "p": 1,
                "lc": "black",
                "x": 326.3,
                "y": 190.2,
                "b": 0,
                "s": 1
              },
              {
                "p": 1,
                "lc": "black",
                "x": 326.3,
                "y": 190.2,
                "b": -3.75,
                "s": 1
              },
              {
                "p": 1,
                "lc": "black",
                "x": 328,
                "y": 186.7,
                "b": 0,
                "s": 1
              },
              {
                "p": 1,
                "lc": "black",
                "x": 328,
                "y": 186.7,
                "b": -3.75,
                "s": 1
              },
              {
                "p": 1,
                "lc": "black",
                "x": 329.5,
                "y": 183.1,
                "b": 0,
                "s": 1
              },
              {
                "p": 1,
                "lc": "black",
                "x": 329.5,
                "y": 183.1,
                "b": -3.75,
                "s": 1
              },
              {
                "p": 1,
                "lc": "black",
                "x": 330.7,
                "y": 179.4,
                "b": 0,
                "s": 1
              },
              {
                "p": 1,
                "lc": "black",
                "x": 330.7,
                "y": 179.4,
                "b": -3.75,
                "s": 1
              },
              {
                "p": 1,
                "lc": "black",
                "x": 331.7,
                "y": 175.6,
                "b": 0,
                "s": 1
              },
              {
                "p": 1,
                "lc": "black",
                "x": 331.7,
                "y": 175.6,
                "b": -3.75,
                "s": 1
              },
              {
                "p": 1,
                "lc": "black",
                "x": 332.4,
                "y": 171.7,
                "b": 0,
                "s": 1
              },
              {
                "p": 1,
                "lc": "black",
                "x": 332.4,
                "y": 171.7,
                "b": -3.75,
                "s": 1
              },
              {
                "p": 1,
                "lc": "black",
                "x": 332.9,
                "y": 167.79999999999998,
                "b": 0,
                "s": 1
              },
              {
                "p": 1,
                "lc": "black",
                "x": 332.9,
                "y": 167.79999999999998,
                "b": -3.75,
                "s": 1
              },
              {
                "p": 1,
                "lc": "black",
                "x": 333.09999999999997,
                "y": 163.89999999999998,
                "b": 0,
                "s": 1
              },
              {
                "p": 1,
                "lc": "black",
                "x": 333.09999999999997,
                "y": 163.89999999999998,
                "b": -3.75,
                "s": 1
              },
              {
                "p": 1,
                "lc": "black",
                "x": 332.99999999999994,
                "y": 159.99999999999997,
                "b": 0,
                "s": 1
              },
              {
                "p": 1,
                "lc": "black",
                "x": 332.99999999999994,
                "y": 159.99999999999997,
                "b": -3.75,
                "s": 1
              },
              {
                "p": 1,
                "lc": "black",
                "x": 332.69999999999993,
                "y": 156.09999999999997,
                "b": 0,
                "s": 1
              },
              {
                "p": 1,
                "lc": "black",
                "x": 332.69999999999993,
                "y": 156.09999999999997,
                "b": -3.75,
                "s": 1
              },
              {
                "p": 1,
                "lc": "black",
                "x": 332.0999999999999,
                "y": 152.19999999999996,
                "b": 0,
                "s": 1
              },
              {
                "p": 1,
                "lc": "black",
                "x": 332.0999999999999,
                "y": 152.19999999999996,
                "b": -3.75,
                "s": 1
              },
              {
                "p": 1,
                "lc": "black",
                "x": 331.2999999999999,
                "y": 148.39999999999995,
                "b": 0,
                "s": 1
              },
              {
                "p": 1,
                "lc": "black",
                "x": 331.2999999999999,
                "y": 148.39999999999995,
                "b": -3.75,
                "s": 1
              },
              {
                "p": 1,
                "lc": "black",
                "x": 330.1999999999999,
                "y": 144.59999999999994,
                "b": 0,
                "s": 1
              },
              {
                "p": 1,
                "lc": "black",
                "x": 330.1999999999999,
                "y": 144.59999999999994,
                "b": -3.75,
                "s": 1
              },
              {
                "p": 1,
                "lc": "black",
                "x": 328.89999999999986,
                "y": 140.89999999999995,
                "b": 0,
                "s": 1
              },
              {
                "p": 1,
                "lc": "black",
                "x": 328.89999999999986,
                "y": 140.89999999999995,
                "b": -3.75,
                "s": 1
              },
              {
                "p": 1,
                "lc": "black",
                "x": 328.89999999999986,
                "y": 140.89999999999995,
                "b": 1.875,
                "s": 1
              },
              {
                "p": 1,
                "lc": "black",
                "x": 328.89999999999986,
                "y": 140.89999999999995,
                "b": -120,
                "s": 1
              },
              {
                "p": 1,
                "lc": "black",
                "x": 328.89999999999986,
                "y": 140.89999999999995,
                "b": -1.875,
                "s": 1
              },
              {
                "p": 1,
                "lc": "black",
                "x": 326.59999999999985,
                "y": 143.99999999999994,
                "b": 0,
                "s": 1
              },
              {
                "p": 1,
                "lc": "black",
                "x": 326.59999999999985,
                "y": 143.99999999999994,
                "b": -3.75,
                "s": 1
              },
              {
                "p": 1,
                "lc": "black",
                "x": 324.49999999999983,
                "y": 147.29999999999995,
                "b": 0,
                "s": 1
              },
              {
                "p": 1,
                "lc": "black",
                "x": 324.49999999999983,
                "y": 147.29999999999995,
                "b": -3.75,
                "s": 1
              },
              {
                "p": 1,
                "lc": "black",
                "x": 322.59999999999985,
                "y": 150.69999999999996,
                "b": 0,
                "s": 1
              },
              {
                "p": 1,
                "lc": "black",
                "x": 322.59999999999985,
                "y": 150.69999999999996,
                "b": -3.75,
                "s": 1
              },
              {
                "p": 1,
                "lc": "black",
                "x": 320.89999999999986,
                "y": 154.19999999999996,
                "b": 0,
                "s": 1
              },
              {
                "p": 1,
                "lc": "black",
                "x": 320.89999999999986,
                "y": 154.19999999999996,
                "b": -3.75,
                "s": 1
              },
              {
                "p": 1,
                "lc": "black",
                "x": 319.39999999999986,
                "y": 157.79999999999995,
                "b": 0,
                "s": 1
              },
              {
                "p": 1,
                "lc": "black",
                "x": 319.39999999999986,
                "y": 157.79999999999995,
                "b": -3.75,
                "s": 1
              },
              {
                "p": 1,
                "lc": "black",
                "x": 318.1999999999999,
                "y": 161.49999999999994,
                "b": 0,
                "s": 1
              },
              {
                "p": 1,
                "lc": "black",
                "x": 318.1999999999999,
                "y": 161.49999999999994,
                "b": -3.75,
                "s": 1
              },
              {
                "p": 1,
                "lc": "black",
                "x": 317.1999999999999,
                "y": 165.29999999999995,
                "b": 0,
                "s": 1
              },
              {
                "p": 1,
                "lc": "black",
                "x": 317.1999999999999,
                "y": 165.29999999999995,
                "b": -3.75,
                "s": 1
              },
              {
                "p": 1,
                "lc": "black",
                "x": 316.4999999999999,
                "y": 169.19999999999996,
                "b": 0,
                "s": 1
              },
              {
                "p": 1,
                "lc": "black",
                "x": 316.4999999999999,
                "y": 169.19999999999996,
                "b": -3.75,
                "s": 1
              },
              {
                "p": 1,
                "lc": "black",
                "x": 315.9999999999999,
                "y": 173.09999999999997,
                "b": 0,
                "s": 1
              },
              {
                "p": 1,
                "lc": "black",
                "x": 315.9999999999999,
                "y": 173.09999999999997,
                "b": -3.75,
                "s": 1
              },
              {
                "p": 1,
                "lc": "black",
                "x": 315.7999999999999,
                "y": 176.99999999999997,
                "b": 0,
                "s": 1
              },
              {
                "p": 1,
                "lc": "black",
                "x": 315.7999999999999,
                "y": 176.99999999999997,
                "b": -3.75,
                "s": 1
              },
              {
                "p": 1,
                "lc": "black",
                "x": 315.8999999999999,
                "y": 180.89999999999998,
                "b": 0,
                "s": 1
              },
              {
                "p": 1,
                "lc": "black",
                "x": 315.8999999999999,
                "y": 180.89999999999998,
                "b": -3.75,
                "s": 1
              },
              {
                "p": 1,
                "lc": "black",
                "x": 316.19999999999993,
                "y": 184.79999999999998,
                "b": 0,
                "s": 1
              },
              {
                "p": 1,
                "lc": "black",
                "x": 316.19999999999993,
                "y": 184.79999999999998,
                "b": -3.75,
                "s": 1
              },
              {
                "p": 1,
                "lc": "black",
                "x": 316.79999999999995,
                "y": 188.7,
                "b": 0,
                "s": 1
              },
              {
                "p": 1,
                "lc": "black",
                "x": 316.79999999999995,
                "y": 188.7,
                "b": -3.75,
                "s": 1
              },
              {
                "p": 1,
                "lc": "black",
                "x": 317.59999999999997,
                "y": 192.5,
                "b": 0,
                "s": 1
              },
              {
                "p": 1,
                "lc": "black",
                "x": 317.59999999999997,
                "y": 192.5,
                "b": -3.75,
                "s": 1
              },
              {
                "p": 1,
                "lc": "black",
                "x": 318.7,
                "y": 196.3,
                "b": 0,
                "s": 1
              },
              {
                "p": 1,
                "lc": "black",
                "x": 318.7,
                "y": 196.3,
                "b": -3.75,
                "s": 1
              },
              {
                "p": 1,
                "lc": "black",
                "x": 320,
                "y": 200,
                "b": 0,
                "s": 1
              },
              {
                "p": 1,
                "lc": "black",
                "x": 320,
                "y": 200,
                "b": -3.75,
                "s": 1
              },
              {
                "p": 1,
                "lc": "black",
                "x": 320,
                "y": 200,
                "b": 1.875,
                "s": 1
              },
              {
                "p": 1,
                "lc": "black",
                "x": 320,
                "y": 200,
                "b": -120,
                "s": 1
              },
              {
                "p": 1,
                "lc": "black",
                "x": 320,
                "y": 200,
                "b": -51.42857142857143,
                "s": 1
              },
              {
                "p": 1,
                "lc": "black",
                "x": 320,
                "y": 200,
                "b": -1.875,
                "s": 1
              },
              {
                "p": 1,
                "lc": "black",
                "x": 319,
                "y": 196.2,
                "b": 0,
                "s": 1
              },
              {
                "p": 1,
                "lc": "black",
                "x": 319,
                "y": 196.2,
                "b": -3.75,
                "s": 1
              },
              {
                "p": 1,
                "lc": "black",
                "x": 317.8,
                "y": 192.5,
                "b": 0,
                "s": 1
              },
              {
                "p": 1,
                "lc": "black",
                "x": 317.8,
                "y": 192.5,
                "b": -3.75,
                "s": 1
              },
              {
                "p": 1,
                "lc": "black",
                "x": 316.3,
                "y": 188.9,
                "b": 0,
                "s": 1
              },
              {
                "p": 1,
                "lc": "black",
                "x": 316.3,
                "y": 188.9,
                "b": -3.75,
                "s": 1
              },
              {
                "p": 1,
                "lc": "black",
                "x": 314.6,
                "y": 185.4,
                "b": 0,
                "s": 1
              },
              {
                "p": 1,
                "lc": "black",
                "x": 314.6,
                "y": 185.4,
                "b": -3.75,
                "s": 1
              },
              {
                "p": 1,
                "lc": "black",
                "x": 312.70000000000005,
                "y": 182,
                "b": 0,
                "s": 1
              },
              {
                "p": 1,
                "lc": "black",
                "x": 312.70000000000005,
                "y": 182,
                "b": -3.75,
                "s": 1
              },
              {
                "p": 1,
                "lc": "black",
                "x": 310.50000000000006,
                "y": 178.7,
                "b": 0,
                "s": 1
              },
              {
                "p": 1,
                "lc": "black",
                "x": 310.50000000000006,
                "y": 178.7,
                "b": -3.75,
                "s": 1
              },
              {
                "p": 1,
                "lc": "black",
                "x": 308.1000000000001,
                "y": 175.6,
                "b": 0,
                "s": 1
              },
              {
                "p": 1,
                "lc": "black",
                "x": 308.1000000000001,
                "y": 175.6,
                "b": -3.75,
                "s": 1
              },
              {
                "p": 1,
                "lc": "black",
                "x": 305.50000000000006,
                "y": 172.6,
                "b": 0,
                "s": 1
              },
              {
                "p": 1,
                "lc": "black",
                "x": 305.50000000000006,
                "y": 172.6,
                "b": -3.75,
                "s": 1
              },
              {
                "p": 1,
                "lc": "black",
                "x": 302.70000000000005,
                "y": 169.79999999999998,
                "b": 0,
                "s": 1
              },
              {
                "p": 1,
                "lc": "black",
                "x": 302.70000000000005,
                "y": 169.79999999999998,
                "b": -3.75,
                "s": 1
              },
              {
                "p": 1,
                "lc": "black",
                "x": 299.80000000000007,
                "y": 167.2,
                "b": 0,
                "s": 1
              },
              {
                "p": 1,
                "lc": "black",
                "x": 299.80000000000007,
                "y": 167.2,
                "b": -3.75,
                "s": 1
              },
              {
                "p": 1,
                "lc": "black",
                "x": 296.70000000000005,
                "y": 164.79999999999998,
                "b": 0,
                "s": 1
              },
              {
                "p": 1,
                "lc": "black",
                "x": 296.70000000000005,
                "y": 164.79999999999998,
                "b": -3.75,
                "s": 1
              },
              {
                "p": 1,
                "lc": "black",
                "x": 293.40000000000003,
                "y": 162.6,
                "b": 0,
                "s": 1
              },
              {
                "p": 1,
                "lc": "black",
                "x": 293.40000000000003,
                "y": 162.6,
                "b": -3.75,
                "s": 1
              },
              {
                "p": 1,
                "lc": "black",
                "x": 290.00000000000006,
                "y": 160.6,
                "b": 0,
                "s": 1
              },
              {
                "p": 1,
                "lc": "black",
                "x": 290.00000000000006,
                "y": 160.6,
                "b": -3.75,
                "s": 1
              },
              {
                "p": 1,
                "lc": "black",
                "x": 286.50000000000006,
                "y": 158.79999999999998,
                "b": 0,
                "s": 1
              },
              {
                "p": 1,
                "lc": "black",
                "x": 286.50000000000006,
                "y": 158.79999999999998,
                "b": -3.75,
                "s": 1
              },
              {
                "p": 1,
                "lc": "black",
                "x": 282.90000000000003,
                "y": 157.29999999999998,
                "b": 0,
                "s": 1
              },
              {
                "p": 1,
                "lc": "black",
                "x": 282.90000000000003,
                "y": 157.29999999999998,
                "b": -3.75,
                "s": 1
              },
              {
                "p": 1,
                "lc": "black",
                "x": 279.20000000000005,
                "y": 155.99999999999997,
                "b": 0,
                "s": 1
              },
              {
                "p": 1,
                "lc": "black",
                "x": 279.20000000000005,
                "y": 155.99999999999997,
                "b": -3.75,
                "s": 1
              },
              {
                "p": 1,
                "lc": "black",
                "x": 279.20000000000005,
                "y": 155.99999999999997,
                "b": 1.875,
                "s": 1
              },
              {
                "p": 1,
                "lc": "black",
                "x": 279.20000000000005,
                "y": 155.99999999999997,
                "b": -120,
                "s": 1
              },
              {
                "p": 1,
                "lc": "black",
                "x": 279.20000000000005,
                "y": 155.99999999999997,
                "b": -1.875,
                "s": 1
              },
              {
                "p": 1,
                "lc": "black",
                "x": 280.20000000000005,
                "y": 159.79999999999998,
                "b": 0,
                "s": 1
              },
              {
                "p": 1,
                "lc": "black",
                "x": 280.20000000000005,
                "y": 159.79999999999998,
                "b": -3.75,
                "s": 1
              },
              {
                "p": 1,
                "lc": "black",
                "x": 281.40000000000003,
                "y": 163.49999999999997,
                "b": 0,
                "s": 1
              },
              {
                "p": 1,
                "lc": "black",
                "x": 281.40000000000003,
                "y": 163.49999999999997,
                "b": -3.75,
                "s": 1
              },
              {
                "p": 1,
                "lc": "black",
                "x": 282.90000000000003,
                "y": 167.09999999999997,
                "b": 0,
                "s": 1
              },
              {
                "p": 1,
                "lc": "black",
                "x": 282.90000000000003,
                "y": 167.09999999999997,
                "b": -3.75,
                "s": 1
              },
              {
                "p": 1,
                "lc": "black",
                "x": 284.6,
                "y": 170.59999999999997,
                "b": 0,
                "s": 1
              },
              {
                "p": 1,
                "lc": "black",
                "x": 284.6,
                "y": 170.59999999999997,
                "b": -3.75,
                "s": 1
              },
              {
                "p": 1,
                "lc": "black",
                "x": 286.5,
                "y": 173.99999999999997,
                "b": 0,
                "s": 1
              },
              {
                "p": 1,
                "lc": "black",
                "x": 286.5,
                "y": 173.99999999999997,
                "b": -3.75,
                "s": 1
              },
              {
                "p": 1,
                "lc": "black",
                "x": 288.7,
                "y": 177.29999999999998,
                "b": 0,
                "s": 1
              },
              {
                "p": 1,
                "lc": "black",
                "x": 288.7,
                "y": 177.29999999999998,
                "b": -3.75,
                "s": 1
              },
              {
                "p": 1,
                "lc": "black",
                "x": 291.09999999999997,
                "y": 180.39999999999998,
                "b": 0,
                "s": 1
              },
              {
                "p": 1,
                "lc": "black",
                "x": 291.09999999999997,
                "y": 180.39999999999998,
                "b": -3.75,
                "s": 1
              },
              {
                "p": 1,
                "lc": "black",
                "x": 293.7,
                "y": 183.39999999999998,
                "b": 0,
                "s": 1
              },
              {
                "p": 1,
                "lc": "black",
                "x": 293.7,
                "y": 183.39999999999998,
                "b": -3.75,
                "s": 1
              },
              {
                "p": 1,
                "lc": "black",
                "x": 296.5,
                "y": 186.2,
                "b": 0,
                "s": 1
              },
              {
                "p": 1,
                "lc": "black",
                "x": 296.5,
                "y": 186.2,
                "b": -3.75,
                "s": 1
              },
              {
                "p": 1,
                "lc": "black",
                "x": 299.4,
                "y": 188.79999999999998,
                "b": 0,
                "s": 1
              },
              {
                "p": 1,
                "lc": "black",
                "x": 299.4,
                "y": 188.79999999999998,
                "b": -3.75,
                "s": 1
              },
              {
                "p": 1,
                "lc": "black",
                "x": 302.5,
                "y": 191.2,
                "b": 0,
                "s": 1
              },
              {
                "p": 1,
                "lc": "black",
                "x": 302.5,
                "y": 191.2,
                "b": -3.75,
                "s": 1
              },
              {
                "p": 1,
                "lc": "black",
                "x": 305.8,
                "y": 193.39999999999998,
                "b": 0,
                "s": 1
              },
              {
                "p": 1,
                "lc": "black",
                "x": 305.8,
                "y": 193.39999999999998,
                "b": -3.75,
                "s": 1
              },
              {
                "p": 1,
                "lc": "black",
                "x": 309.2,
                "y": 195.39999999999998,
                "b": 0,
                "s": 1
              },
              {
                "p": 1,
                "lc": "black",
                "x": 309.2,
                "y": 195.39999999999998,
                "b": -3.75,
                "s": 1
              },
              {
                "p": 1,
                "lc": "black",
                "x": 312.7,
                "y": 197.2,
                "b": 0,
                "s": 1
              },
              {
                "p": 1,
                "lc": "black",
                "x": 312.7,
                "y": 197.2,
                "b": -3.75,
                "s": 1
              },
              {
                "p": 1,
                "lc": "black",
                "x": 316.3,
                "y": 198.7,
                "b": 0,
                "s": 1
              },
              {
                "p": 1,
                "lc": "black",
                "x": 316.3,
                "y": 198.7,
                "b": -3.75,
                "s": 1
              },
              {
                "p": 1,
                "lc": "black",
                "x": 320,
                "y": 200,
                "b": 0,
                "s": 1
              },
              {
                "p": 1,
                "lc": "black",
                "x": 320,
                "y": 200,
                "b": -3.75,
                "s": 1
              },
              {
                "p": 1,
                "lc": "black",
                "x": 320,
                "y": 200,
                "b": 1.875,
                "s": 1
              },
              {
                "p": 1,
                "lc": "black",
                "x": 320,
                "y": 200,
                "b": -120,
                "s": 1
              },
              {
                "p": 1,
                "lc": "black",
                "x": 320,
                "y": 200,
                "b": -51.42857142857143,
                "s": 1
              },
              {
                "p": 1,
                "lc": "black",
                "x": 320,
                "y": 200,
                "b": -1.875,
                "s": 1
              },
              {
                "p": 1,
                "lc": "black",
                "x": 316.4,
                "y": 198.4,
                "b": 0,
                "s": 1
              },
              {
                "p": 1,
                "lc": "black",
                "x": 316.4,
                "y": 198.4,
                "b": -3.75,
                "s": 1
              },
              {
                "p": 1,
                "lc": "black",
                "x": 312.7,
                "y": 197.1,
                "b": 0,
                "s": 1
              },
              {
                "p": 1,
                "lc": "black",
                "x": 312.7,
                "y": 197.1,
                "b": -3.75,
                "s": 1
              },
              {
                "p": 1,
                "lc": "black",
                "x": 308.9,
                "y": 196,
                "b": 0,
                "s": 1
              },
              {
                "p": 1,
                "lc": "black",
                "x": 308.9,
                "y": 196,
                "b": -3.75,
                "s": 1
              },
              {
                "p": 1,
                "lc": "black",
                "x": 305.09999999999997,
                "y": 195.1,
                "b": 0,
                "s": 1
              },
              {
                "p": 1,
                "lc": "black",
                "x": 305.09999999999997,
                "y": 195.1,
                "b": -3.75,
                "s": 1
              },
              {
                "p": 1,
                "lc": "black",
                "x": 301.2,
                "y": 194.5,
                "b": 0,
                "s": 1
              },
              {
                "p": 1,
                "lc": "black",
                "x": 301.2,
                "y": 194.5,
                "b": -3.75,
                "s": 1
              },
              {
                "p": 1,
                "lc": "black",
                "x": 297.3,
                "y": 194.2,
                "b": 0,
                "s": 1
              },
              {
                "p": 1,
                "lc": "black",
                "x": 297.3,
                "y": 194.2,
                "b": -3.75,
                "s": 1
              },
              {
                "p": 1,
                "lc": "black",
                "x": 293.40000000000003,
                "y": 194.1,
                "b": 0,
                "s": 1
              },
              {
                "p": 1,
                "lc": "black",
                "x": 293.40000000000003,
                "y": 194.1,
                "b": -3.75,
                "s": 1
              },
              {
                "p": 1,
                "lc": "black",
                "x": 289.50000000000006,
                "y": 194.29999999999998,
                "b": 0,
                "s": 1
              },
              {
                "p": 1,
                "lc": "black",
                "x": 289.50000000000006,
                "y": 194.29999999999998,
                "b": -3.75,
                "s": 1
              },
              {
                "p": 1,
                "lc": "black",
                "x": 285.6000000000001,
                "y": 194.7,
                "b": 0,
                "s": 1
              },
              {
                "p": 1,
                "lc": "black",
                "x": 285.6000000000001,
                "y": 194.7,
                "b": -3.75,
                "s": 1
              },
              {
                "p": 1,
                "lc": "black",
                "x": 281.7000000000001,
                "y": 195.39999999999998,
                "b": 0,
                "s": 1
              },
              {
                "p": 1,
                "lc": "black",
                "x": 281.7000000000001,
                "y": 195.39999999999998,
                "b": -3.75,
                "s": 1
              },
              {
                "p": 1,
                "lc": "black",
                "x": 277.9000000000001,
                "y": 196.29999999999998,
                "b": 0,
                "s": 1
              },
              {
                "p": 1,
                "lc": "black",
                "x": 277.9000000000001,
                "y": 196.29999999999998,
                "b": -3.75,
                "s": 1
              },
              {
                "p": 1,
                "lc": "black",
                "x": 274.2000000000001,
                "y": 197.49999999999997,
                "b": 0,
                "s": 1
              },
              {
                "p": 1,
                "lc": "black",
                "x": 274.2000000000001,
                "y": 197.49999999999997,
                "b": -3.75,
                "s": 1
              },
              {
                "p": 1,
                "lc": "black",
                "x": 270.5000000000001,
                "y": 198.89999999999998,
                "b": 0,
                "s": 1
              },
              {
                "p": 1,
                "lc": "black",
                "x": 270.5000000000001,
                "y": 198.89999999999998,
                "b": -3.75,
                "s": 1
              },
              {
                "p": 1,
                "lc": "black",
                "x": 266.9000000000001,
                "y": 200.59999999999997,
                "b": 0,
                "s": 1
              },
              {
                "p": 1,
                "lc": "black",
                "x": 266.9000000000001,
                "y": 200.59999999999997,
                "b": -3.75,
                "s": 1
              },
              {
                "p": 1,
                "lc": "black",
                "x": 263.5000000000001,
                "y": 202.49999999999997,
                "b": 0,
                "s": 1
              },
              {
                "p": 1,
                "lc": "black",
                "x": 263.5000000000001,
                "y": 202.49999999999997,
                "b": -3.75,
                "s": 1
              },
              {
                "p": 1,
                "lc": "black",
                "x": 260.2000000000001,
                "y": 204.59999999999997,
                "b": 0,
                "s": 1
              },
              {
                "p": 1,
                "lc": "black",
                "x": 260.2000000000001,
                "y": 204.59999999999997,
                "b": -3.75,
                "s": 1
              },
              {
                "p": 1,
                "lc": "black",
                "x": 260.2000000000001,
                "y": 204.59999999999997,
                "b": 1.875,
                "s": 1
              },
              {
                "p": 1,
                "lc": "black",
                "x": 260.2000000000001,
                "y": 204.59999999999997,
                "b": -120,
                "s": 1
              },
              {
                "p": 1,
                "lc": "black",
                "x": 260.2000000000001,
                "y": 204.59999999999997,
                "b": -1.875,
                "s": 1
              },
              {
                "p": 1,
                "lc": "black",
                "x": 263.8000000000001,
                "y": 206.19999999999996,
                "b": 0,
                "s": 1
              },
              {
                "p": 1,
                "lc": "black",
                "x": 263.8000000000001,
                "y": 206.19999999999996,
                "b": -3.75,
                "s": 1
              },
              {
                "p": 1,
                "lc": "black",
                "x": 267.5000000000001,
                "y": 207.49999999999997,
                "b": 0,
                "s": 1
              },
              {
                "p": 1,
                "lc": "black",
                "x": 267.5000000000001,
                "y": 207.49999999999997,
                "b": -3.75,
                "s": 1
              },
              {
                "p": 1,
                "lc": "black",
                "x": 271.3000000000001,
                "y": 208.59999999999997,
                "b": 0,
                "s": 1
              },
              {
                "p": 1,
                "lc": "black",
                "x": 271.3000000000001,
                "y": 208.59999999999997,
                "b": -3.75,
                "s": 1
              },
              {
                "p": 1,
                "lc": "black",
                "x": 275.10000000000014,
                "y": 209.49999999999997,
                "b": 0,
                "s": 1
              },
              {
                "p": 1,
                "lc": "black",
                "x": 275.10000000000014,
                "y": 209.49999999999997,
                "b": -3.75,
                "s": 1
              },
              {
                "p": 1,
                "lc": "black",
                "x": 279.0000000000001,
                "y": 210.09999999999997,
                "b": 0,
                "s": 1
              },
              {
                "p": 1,
                "lc": "black",
                "x": 279.0000000000001,
                "y": 210.09999999999997,
                "b": -3.75,
                "s": 1
              },
              {
                "p": 1,
                "lc": "black",
                "x": 282.9000000000001,
                "y": 210.39999999999998,
                "b": 0,
                "s": 1
              },
              {
                "p": 1,
                "lc": "black",
                "x": 282.9000000000001,
                "y": 210.39999999999998,
                "b": -3.75,
                "s": 1
              },
              {
                "p": 1,
                "lc": "black",
                "x": 286.80000000000007,
                "y": 210.49999999999997,
                "b": 0,
                "s": 1
              },
              {
                "p": 1,
                "lc": "black",
                "x": 286.80000000000007,
                "y": 210.49999999999997,
                "b": -3.75,
                "s": 1
              },
              {
                "p": 1,
                "lc": "black",
                "x": 290.70000000000005,
                "y": 210.29999999999998,
                "b": 0,
                "s": 1
              },
              {
                "p": 1,
                "lc": "black",
                "x": 290.70000000000005,
                "y": 210.29999999999998,
                "b": -3.75,
                "s": 1
              },
              {
                "p": 1,
                "lc": "black",
                "x": 294.6,
                "y": 209.89999999999998,
                "b": 0,
                "s": 1
              },
              {
                "p": 1,
                "lc": "black",
                "x": 294.6,
                "y": 209.89999999999998,
                "b": -3.75,
                "s": 1
              },
              {
                "p": 1,
                "lc": "black",
                "x": 298.5,
                "y": 209.2,
                "b": 0,
                "s": 1
              },
              {
                "p": 1,
                "lc": "black",
                "x": 298.5,
                "y": 209.2,
                "b": -3.75,
                "s": 1
              },
              {
                "p": 1,
                "lc": "black",
                "x": 302.3,
                "y": 208.29999999999998,
                "b": 0,
                "s": 1
              },
              {
                "p": 1,
                "lc": "black",
                "x": 302.3,
                "y": 208.29999999999998,
                "b": -3.75,
                "s": 1
              },
              {
                "p": 1,
                "lc": "black",
                "x": 306,
                "y": 207.1,
                "b": 0,
                "s": 1
              },
              {
                "p": 1,
                "lc": "black",
                "x": 306,
                "y": 207.1,
                "b": -3.75,
                "s": 1
              },
              {
                "p": 1,
                "lc": "black",
                "x": 309.7,
                "y": 205.7,
                "b": 0,
                "s": 1
              },
              {
                "p": 1,
                "lc": "black",
                "x": 309.7,
                "y": 205.7,
                "b": -3.75,
                "s": 1
              },
              {
                "p": 1,
                "lc": "black",
                "x": 313.3,
                "y": 204,
                "b": 0,
                "s": 1
              },
              {
                "p": 1,
                "lc": "black",
                "x": 313.3,
                "y": 204,
                "b": -3.75,
                "s": 1
              },
              {
                "p": 1,
                "lc": "black",
                "x": 316.7,
                "y": 202.1,
                "b": 0,
                "s": 1
              },
              {
                "p": 1,
                "lc": "black",
                "x": 316.7,
                "y": 202.1,
                "b": -3.75,
                "s": 1
              },
              {
                "p": 1,
                "lc": "black",
                "x": 320,
                "y": 200,
                "b": 0,
                "s": 1
              },
              {
                "p": 1,
                "lc": "black",
                "x": 320,
                "y": 200,
                "b": -3.75,
                "s": 1
              },
              {
                "p": 1,
                "lc": "black",
                "x": 320,
                "y": 200,
                "b": 1.875,
                "s": 1
              },
              {
                "p": 1,
                "lc": "black",
                "x": 320,
                "y": 200,
                "b": -120,
                "s": 1
              },
              {
                "p": 1,
                "lc": "black",
                "x": 320,
                "y": 200,
                "b": -51.42857142857143,
                "s": 1
              },
              {
                "p": 1,
                "lc": "black",
                "x": 320,
                "y": 200,
                "b": -1.875,
                "s": 1
              },
              {
                "p": 1,
                "lc": "black",
                "x": 316.5,
                "y": 201.8,
                "b": 0,
                "s": 1
              },
              {
                "p": 1,
                "lc": "black",
                "x": 316.5,
                "y": 201.8,
                "b": -3.75,
                "s": 1
              },
              {
                "p": 1,
                "lc": "black",
                "x": 313.1,
                "y": 203.8,
                "b": 0,
                "s": 1
              },
              {
                "p": 1,
                "lc": "black",
                "x": 313.1,
                "y": 203.8,
                "b": -3.75,
                "s": 1
              },
              {
                "p": 1,
                "lc": "black",
                "x": 309.90000000000003,
                "y": 206.10000000000002,
                "b": 0,
                "s": 1
              },
              {
                "p": 1,
                "lc": "black",
                "x": 309.90000000000003,
                "y": 206.10000000000002,
                "b": -3.75,
                "s": 1
              },
              {
                "p": 1,
                "lc": "black",
                "x": 306.8,
                "y": 208.60000000000002,
                "b": 0,
                "s": 1
              },
              {
                "p": 1,
                "lc": "black",
                "x": 306.8,
                "y": 208.60000000000002,
                "b": -3.75,
                "s": 1
              },
              {
                "p": 1,
                "lc": "black",
                "x": 303.90000000000003,
                "y": 211.3,
                "b": 0,
                "s": 1
              },
              {
                "p": 1,
                "lc": "black",
                "x": 303.90000000000003,
                "y": 211.3,
                "b": -3.75,
                "s": 1
              },
              {
                "p": 1,
                "lc": "black",
                "x": 301.20000000000005,
                "y": 214.10000000000002,
                "b": 0,
                "s": 1
              },
              {
                "p": 1,
                "lc": "black",
                "x": 301.20000000000005,
                "y": 214.10000000000002,
                "b": -3.75,
                "s": 1
              },
              {
                "p": 1,
                "lc": "black",
                "x": 298.70000000000005,
                "y": 217.10000000000002,
                "b": 0,
                "s": 1
              },
              {
                "p": 1,
                "lc": "black",
                "x": 298.70000000000005,
                "y": 217.10000000000002,
                "b": -3.75,
                "s": 1
              },
              {
                "p": 1,
                "lc": "black",
                "x": 296.40000000000003,
                "y": 220.3,
                "b": 0,
                "s": 1
              },
              {
                "p": 1,
                "lc": "black",
                "x": 296.40000000000003,
                "y": 220.3,
                "b": -3.75,
                "s": 1
              },
              {
                "p": 1,
                "lc": "black",
                "x": 294.3,
                "y": 223.60000000000002,
                "b": 0,
                "s": 1
              },
              {
                "p": 1,
                "lc": "black",
                "x": 294.3,
                "y": 223.60000000000002,
                "b": -3.75,
                "s": 1
              },
              {
                "p": 1,
                "lc": "black",
                "x": 292.40000000000003,
                "y": 227.00000000000003,
                "b": 0,
                "s": 1
              },
              {
                "p": 1,
                "lc": "black",
                "x": 292.40000000000003,
                "y": 227.00000000000003,
                "b": -3.75,
                "s": 1
              },
              {
                "p": 1,
                "lc": "black",
                "x": 290.70000000000005,
                "y": 230.60000000000002,
                "b": 0,
                "s": 1
              },
              {
                "p": 1,
                "lc": "black",
                "x": 290.70000000000005,
                "y": 230.60000000000002,
                "b": -3.75,
                "s": 1
              },
              {
                "p": 1,
                "lc": "black",
                "x": 289.30000000000007,
                "y": 234.3,
                "b": 0,
                "s": 1
              },
              {
                "p": 1,
                "lc": "black",
                "x": 289.30000000000007,
                "y": 234.3,
                "b": -3.75,
                "s": 1
              },
              {
                "p": 1,
                "lc": "black",
                "x": 288.1000000000001,
                "y": 238,
                "b": 0,
                "s": 1
              },
              {
                "p": 1,
                "lc": "black",
                "x": 288.1000000000001,
                "y": 238,
                "b": -3.75,
                "s": 1
              },
              {
                "p": 1,
                "lc": "black",
                "x": 287.2000000000001,
                "y": 241.8,
                "b": 0,
                "s": 1
              },
              {
                "p": 1,
                "lc": "black",
                "x": 287.2000000000001,
                "y": 241.8,
                "b": -3.75,
                "s": 1
              },
              {
                "p": 1,
                "lc": "black",
                "x": 286.5000000000001,
                "y": 245.70000000000002,
                "b": 0,
                "s": 1
              },
              {
                "p": 1,
                "lc": "black",
                "x": 286.5000000000001,
                "y": 245.70000000000002,
                "b": -3.75,
                "s": 1
              },
              {
                "p": 1,
                "lc": "black",
                "x": 286.10000000000014,
                "y": 249.60000000000002,
                "b": 0,
                "s": 1
              },
              {
                "p": 1,
                "lc": "black",
                "x": 286.10000000000014,
                "y": 249.60000000000002,
                "b": -3.75,
                "s": 1
              },
              {
                "p": 1,
                "lc": "black",
                "x": 286.10000000000014,
                "y": 249.60000000000002,
                "b": 1.875,
                "s": 1
              },
              {
                "p": 1,
                "lc": "black",
                "x": 286.10000000000014,
                "y": 249.60000000000002,
                "b": -120,
                "s": 1
              },
              {
                "p": 1,
                "lc": "black",
                "x": 286.10000000000014,
                "y": 249.60000000000002,
                "b": -1.875,
                "s": 1
              },
              {
                "p": 1,
                "lc": "black",
                "x": 289.60000000000014,
                "y": 247.8,
                "b": 0,
                "s": 1
              },
              {
                "p": 1,
                "lc": "black",
                "x": 289.60000000000014,
                "y": 247.8,
                "b": -3.75,
                "s": 1
              },
              {
                "p": 1,
                "lc": "black",
                "x": 293.0000000000001,
                "y": 245.8,
                "b": 0,
                "s": 1
              },
              {
                "p": 1,
                "lc": "black",
                "x": 293.0000000000001,
                "y": 245.8,
                "b": -3.75,
                "s": 1
              },
              {
                "p": 1,
                "lc": "black",
                "x": 296.2000000000001,
                "y": 243.5,
                "b": 0,
                "s": 1
              },
              {
                "p": 1,
                "lc": "black",
                "x": 296.2000000000001,
                "y": 243.5,
                "b": -3.75,
                "s": 1
              },
              {
                "p": 1,
                "lc": "black",
                "x": 299.3000000000001,
                "y": 241,
                "b": 0,
                "s": 1
              },
              {
                "p": 1,
                "lc": "black",
                "x": 299.3000000000001,
                "y": 241,
                "b": -3.75,
                "s": 1
              },
              {
                "p": 1,
                "lc": "black",
                "x": 302.2000000000001,
                "y": 238.3,
                "b": 0,
                "s": 1
              },
              {
                "p": 1,
                "lc": "black",
                "x": 302.2000000000001,
                "y": 238.3,
                "b": -3.75,
                "s": 1
              },
              {
                "p": 1,
                "lc": "black",
                "x": 304.9000000000001,
                "y": 235.5,
                "b": 0,
                "s": 1
              },
              {
                "p": 1,
                "lc": "black",
                "x": 304.9000000000001,
                "y": 235.5,
                "b": -3.75,
                "s": 1
              },
              {
                "p": 1,
                "lc": "black",
                "x": 307.4000000000001,
                "y": 232.5,
                "b": 0,
                "s": 1
              },
              {
                "p": 1,
                "lc": "black",
                "x": 307.4000000000001,
                "y": 232.5,
                "b": -3.75,
                "s": 1
              },
              {
                "p": 1,
                "lc": "black",
                "x": 309.7000000000001,
                "y": 229.3,
                "b": 0,
                "s": 1
              },
              {
                "p": 1,
                "lc": "black",
                "x": 309.7000000000001,
                "y": 229.3,
                "b": -3.75,
                "s": 1
              },
              {
                "p": 1,
                "lc": "black",
                "x": 311.8000000000001,
                "y": 226,
                "b": 0,
                "s": 1
              },
              {
                "p": 1,
                "lc": "black",
                "x": 311.8000000000001,
                "y": 226,
                "b": -3.75,
                "s": 1
              },
              {
                "p": 1,
                "lc": "black",
                "x": 313.7000000000001,
                "y": 222.6,
                "b": 0,
                "s": 1
              },
              {
                "p": 1,
                "lc": "black",
                "x": 313.7000000000001,
                "y": 222.6,
                "b": -3.75,
                "s": 1
              },
              {
                "p": 1,
                "lc": "black",
                "x": 315.4000000000001,
                "y": 219,
                "b": 0,
                "s": 1
              },
              {
                "p": 1,
                "lc": "black",
                "x": 315.4000000000001,
                "y": 219,
                "b": -3.75,
                "s": 1
              },
              {
                "p": 1,
                "lc": "black",
                "x": 316.80000000000007,
                "y": 215.3,
                "b": 0,
                "s": 1
              },
              {
                "p": 1,
                "lc": "black",
                "x": 316.80000000000007,
                "y": 215.3,
                "b": -3.75,
                "s": 1
              },
              {
                "p": 1,
                "lc": "black",
                "x": 318.00000000000006,
                "y": 211.60000000000002,
                "b": 0,
                "s": 1
              },
              {
                "p": 1,
                "lc": "black",
                "x": 318.00000000000006,
                "y": 211.60000000000002,
                "b": -3.75,
                "s": 1
              },
              {
                "p": 1,
                "lc": "black",
                "x": 318.90000000000003,
                "y": 207.8,
                "b": 0,
                "s": 1
              },
              {
                "p": 1,
                "lc": "black",
                "x": 318.90000000000003,
                "y": 207.8,
                "b": -3.75,
                "s": 1
              },
              {
                "p": 1,
                "lc": "black",
                "x": 319.6,
                "y": 203.9,
                "b": 0,
                "s": 1
              },
              {
                "p": 1,
                "lc": "black",
                "x": 319.6,
                "y": 203.9,
                "b": -3.75,
                "s": 1
              },
              {
                "p": 1,
                "lc": "black",
                "x": 320,
                "y": 200,
                "b": 0,
                "s": 1
              },
              {
                "p": 1,
                "lc": "black",
                "x": 320,
                "y": 200,
                "b": -3.75,
                "s": 1
              },
              {
                "p": 1,
                "lc": "black",
                "x": 320,
                "y": 200,
                "b": 1.875,
                "s": 1
              },
              {
                "p": 1,
                "lc": "black",
                "x": 320,
                "y": 200,
                "b": -120,
                "s": 1
              },
              {
                "p": 1,
                "lc": "black",
                "x": 320,
                "y": 200,
                "b": -51.42857142857143,
                "s": 1
              },
              {
                "p": 1,
                "lc": "black",
                "x": 320,
                "y": 200,
                "b": -1.875,
                "s": 1
              },
              {
                "p": 1,
                "lc": "black",
                "x": 319.3,
                "y": 203.9,
                "b": 0,
                "s": 1
              },
              {
                "p": 1,
                "lc": "black",
                "x": 319.3,
                "y": 203.9,
                "b": -3.75,
                "s": 1
              },
              {
                "p": 1,
                "lc": "black",
                "x": 318.8,
                "y": 207.8,
                "b": 0,
                "s": 1
              },
              {
                "p": 1,
                "lc": "black",
                "x": 318.8,
                "y": 207.8,
                "b": -3.75,
                "s": 1
              },
              {
                "p": 1,
                "lc": "black",
                "x": 318.6,
                "y": 211.70000000000002,
                "b": 0,
                "s": 1
              },
              {
                "p": 1,
                "lc": "black",
                "x": 318.6,
                "y": 211.70000000000002,
                "b": -3.75,
                "s": 1
              },
              {
                "p": 1,
                "lc": "black",
                "x": 318.6,
                "y": 215.60000000000002,
                "b": 0,
                "s": 1
              },
              {
                "p": 1,
                "lc": "black",
                "x": 318.6,
                "y": 215.60000000000002,
                "b": -3.75,
                "s": 1
              },
              {
                "p": 1,
                "lc": "black",
                "x": 318.90000000000003,
                "y": 219.50000000000003,
                "b": 0,
                "s": 1
              },
              {
                "p": 1,
                "lc": "black",
                "x": 318.90000000000003,
                "y": 219.50000000000003,
                "b": -3.75,
                "s": 1
              },
              {
                "p": 1,
                "lc": "black",
                "x": 319.40000000000003,
                "y": 223.40000000000003,
                "b": 0,
                "s": 1
              },
              {
                "p": 1,
                "lc": "black",
                "x": 319.40000000000003,
                "y": 223.40000000000003,
                "b": -3.75,
                "s": 1
              },
              {
                "p": 1,
                "lc": "black",
                "x": 320.20000000000005,
                "y": 227.20000000000005,
                "b": 0,
                "s": 1
              },
              {
                "p": 1,
                "lc": "black",
                "x": 320.20000000000005,
                "y": 227.20000000000005,
                "b": -3.75,
                "s": 1
              },
              {
                "p": 1,
                "lc": "black",
                "x": 321.20000000000005,
                "y": 231.00000000000006,
                "b": 0,
                "s": 1
              },
              {
                "p": 1,
                "lc": "black",
                "x": 321.20000000000005,
                "y": 231.00000000000006,
                "b": -3.75,
                "s": 1
              },
              {
                "p": 1,
                "lc": "black",
                "x": 322.50000000000006,
                "y": 234.70000000000005,
                "b": 0,
                "s": 1
              },
              {
                "p": 1,
                "lc": "black",
                "x": 322.50000000000006,
                "y": 234.70000000000005,
                "b": -3.75,
                "s": 1
              },
              {
                "p": 1,
                "lc": "black",
                "x": 324.00000000000006,
                "y": 238.30000000000004,
                "b": 0,
                "s": 1
              },
              {
                "p": 1,
                "lc": "black",
                "x": 324.00000000000006,
                "y": 238.30000000000004,
                "b": -3.75,
                "s": 1
              },
              {
                "p": 1,
                "lc": "black",
                "x": 325.80000000000007,
                "y": 241.80000000000004,
                "b": 0,
                "s": 1
              },
              {
                "p": 1,
                "lc": "black",
                "x": 325.80000000000007,
                "y": 241.80000000000004,
                "b": -3.75,
                "s": 1
              },
              {
                "p": 1,
                "lc": "black",
                "x": 327.80000000000007,
                "y": 245.20000000000005,
                "b": 0,
                "s": 1
              },
              {
                "p": 1,
                "lc": "black",
                "x": 327.80000000000007,
                "y": 245.20000000000005,
                "b": -3.75,
                "s": 1
              },
              {
                "p": 1,
                "lc": "black",
                "x": 330.00000000000006,
                "y": 248.50000000000006,
                "b": 0,
                "s": 1
              },
              {
                "p": 1,
                "lc": "black",
                "x": 330.00000000000006,
                "y": 248.50000000000006,
                "b": -3.75,
                "s": 1
              },
              {
                "p": 1,
                "lc": "black",
                "x": 332.40000000000003,
                "y": 251.60000000000005,
                "b": 0,
                "s": 1
              },
              {
                "p": 1,
                "lc": "black",
                "x": 332.40000000000003,
                "y": 251.60000000000005,
                "b": -3.75,
                "s": 1
              },
              {
                "p": 1,
                "lc": "black",
                "x": 335.00000000000006,
                "y": 254.50000000000006,
                "b": 0,
                "s": 1
              },
              {
                "p": 1,
                "lc": "black",
                "x": 335.00000000000006,
                "y": 254.50000000000006,
                "b": -3.75,
                "s": 1
              },
              {
                "p": 1,
                "lc": "black",
                "x": 337.80000000000007,
                "y": 257.30000000000007,
                "b": 0,
                "s": 1
              },
              {
                "p": 1,
                "lc": "black",
                "x": 337.80000000000007,
                "y": 257.30000000000007,
                "b": -3.75,
                "s": 1
              },
              {
                "p": 1,
                "lc": "black",
                "x": 337.80000000000007,
                "y": 257.30000000000007,
                "b": 1.875,
                "s": 1
              },
              {
                "p": 1,
                "lc": "black",
                "x": 337.80000000000007,
                "y": 257.30000000000007,
                "b": -120,
                "s": 1
              },
              {
                "p": 1,
                "lc": "black",
                "x": 337.80000000000007,
                "y": 257.30000000000007,
                "b": -1.875,
                "s": 1
              },
              {
                "p": 1,
                "lc": "black",
                "x": 338.50000000000006,
                "y": 253.40000000000006,
                "b": 0,
                "s": 1
              },
              {
                "p": 1,
                "lc": "black",
                "x": 338.50000000000006,
                "y": 253.40000000000006,
                "b": -3.75,
                "s": 1
              },
              {
                "p": 1,
                "lc": "black",
                "x": 339.00000000000006,
                "y": 249.50000000000006,
                "b": 0,
                "s": 1
              },
              {
                "p": 1,
                "lc": "black",
                "x": 339.00000000000006,
                "y": 249.50000000000006,
                "b": -3.75,
                "s": 1
              },
              {
                "p": 1,
                "lc": "black",
                "x": 339.20000000000005,
                "y": 245.60000000000005,
                "b": 0,
                "s": 1
              },
              {
                "p": 1,
                "lc": "black",
                "x": 339.20000000000005,
                "y": 245.60000000000005,
                "b": -3.75,
                "s": 1
              },
              {
                "p": 1,
                "lc": "black",
                "x": 339.20000000000005,
                "y": 241.70000000000005,
                "b": 0,
                "s": 1
              },
              {
                "p": 1,
                "lc": "black",
                "x": 339.20000000000005,
                "y": 241.70000000000005,
                "b": -3.75,
                "s": 1
              },
              {
                "p": 1,
                "lc": "black",
                "x": 338.90000000000003,
                "y": 237.80000000000004,
                "b": 0,
                "s": 1
              },
              {
                "p": 1,
                "lc": "black",
                "x": 338.90000000000003,
                "y": 237.80000000000004,
                "b": -3.75,
                "s": 1
              },
              {
                "p": 1,
                "lc": "black",
                "x": 338.40000000000003,
                "y": 233.90000000000003,
                "b": 0,
                "s": 1
              },
              {
                "p": 1,
                "lc": "black",
                "x": 338.40000000000003,
                "y": 233.90000000000003,
                "b": -3.75,
                "s": 1
              },
              {
                "p": 1,
                "lc": "black",
                "x": 337.6,
                "y": 230.10000000000002,
                "b": 0,
                "s": 1
              },
              {
                "p": 1,
                "lc": "black",
                "x": 337.6,
                "y": 230.10000000000002,
                "b": -3.75,
                "s": 1
              },
              {
                "p": 1,
                "lc": "black",
                "x": 336.6,
                "y": 226.3,
                "b": 0,
                "s": 1
              },
              {
                "p": 1,
                "lc": "black",
                "x": 336.6,
                "y": 226.3,
                "b": -3.75,
                "s": 1
              },
              {
                "p": 1,
                "lc": "black",
                "x": 335.3,
                "y": 222.60000000000002,
                "b": 0,
                "s": 1
              },
              {
                "p": 1,
                "lc": "black",
                "x": 335.3,
                "y": 222.60000000000002,
                "b": -3.75,
                "s": 1
              },
              {
                "p": 1,
                "lc": "black",
                "x": 333.8,
                "y": 219.00000000000003,
                "b": 0,
                "s": 1
              },
              {
                "p": 1,
                "lc": "black",
                "x": 333.8,
                "y": 219.00000000000003,
                "b": -3.75,
                "s": 1
              },
              {
                "p": 1,
                "lc": "black",
                "x": 332,
                "y": 215.50000000000003,
                "b": 0,
                "s": 1
              },
              {
                "p": 1,
                "lc": "black",
                "x": 332,
                "y": 215.50000000000003,
                "b": -3.75,
                "s": 1
              },
              {
                "p": 1,
                "lc": "black",
                "x": 330,
                "y": 212.10000000000002,
                "b": 0,
                "s": 1
              },
              {
                "p": 1,
                "lc": "black",
                "x": 330,
                "y": 212.10000000000002,
                "b": -3.75,
                "s": 1
              },
              {
                "p": 1,
                "lc": "black",
                "x": 327.8,
                "y": 208.8,
                "b": 0,
                "s": 1
              },
              {
                "p": 1,
                "lc": "black",
                "x": 327.8,
                "y": 208.8,
                "b": -3.75,
                "s": 1
              },
              {
                "p": 1,
                "lc": "black",
                "x": 325.40000000000003,
                "y": 205.70000000000002,
                "b": 0,
                "s": 1
              },
              {
                "p": 1,
                "lc": "black",
                "x": 325.40000000000003,
                "y": 205.70000000000002,
                "b": -3.75,
                "s": 1
              },
              {
                "p": 1,
                "lc": "black",
                "x": 322.8,
                "y": 202.8,
                "b": 0,
                "s": 1
              },
              {
                "p": 1,
                "lc": "black",
                "x": 322.8,
                "y": 202.8,
                "b": -3.75,
                "s": 1
              },
              {
                "p": 1,
                "lc": "black",
                "x": 320,
                "y": 200,
                "b": 0,
                "s": 1
              },
              {
                "p": 1,
                "lc": "black",
                "x": 320,
                "y": 200,
                "b": -3.75,
                "s": 1
              },
              {
                "p": 1,
                "lc": "black",
                "x": 320,
                "y": 200,
                "b": 1.875,
                "s": 1
              },
              {
                "p": 1,
                "lc": "black",
                "x": 320,
                "y": 200,
                "b": -120,
                "s": 1
              },
              {
                "p": 1,
                "lc": "black",
                "x": 320,
                "y": 200,
                "b": -51.42857142857143,
                "s": 1
              },
              {
                "p": 1,
                "lc": "black",
                "x": 320,
                "y": 200,
                "b": -1.875,
                "s": 1
              },
              {
                "p": 1,
                "lc": "black",
                "x": 322.5,
                "y": 203,
                "b": 0,
                "s": 1
              },
              {
                "p": 1,
                "lc": "black",
                "x": 322.5,
                "y": 203,
                "b": -3.75,
                "s": 1
              },
              {
                "p": 1,
                "lc": "black",
                "x": 325.2,
                "y": 205.8,
                "b": 0,
                "s": 1
              },
              {
                "p": 1,
                "lc": "black",
                "x": 325.2,
                "y": 205.8,
                "b": -3.75,
                "s": 1
              },
              {
                "p": 1,
                "lc": "black",
                "x": 328.09999999999997,
                "y": 208.4,
                "b": 0,
                "s": 1
              },
              {
                "p": 1,
                "lc": "black",
                "x": 328.09999999999997,
                "y": 208.4,
                "b": -3.75,
                "s": 1
              },
              {
                "p": 1,
                "lc": "black",
                "x": 331.2,
                "y": 210.8,
                "b": 0,
                "s": 1
              },
              {
                "p": 1,
                "lc": "black",
                "x": 331.2,
                "y": 210.8,
                "b": -3.75,
                "s": 1
              },
              {
                "p": 1,
                "lc": "black",
                "x": 334.4,
                "y": 213,
                "b": 0,
                "s": 1
              },
              {
                "p": 1,
                "lc": "black",
                "x": 334.4,
                "y": 213,
                "b": -3.75,
                "s": 1
              },
              {
                "p": 1,
                "lc": "black",
                "x": 337.79999999999995,
                "y": 215,
                "b": 0,
                "s": 1
              },
              {
                "p": 1,
                "lc": "black",
                "x": 337.79999999999995,
                "y": 215,
                "b": -3.75,
                "s": 1
              },
              {
                "p": 1,
                "lc": "black",
                "x": 341.29999999999995,
                "y": 216.8,
                "b": 0,
                "s": 1
              },
              {
                "p": 1,
                "lc": "black",
                "x": 341.29999999999995,
                "y": 216.8,
                "b": -3.75,
                "s": 1
              },
              {
                "p": 1,
                "lc": "black",
                "x": 344.9,
                "y": 218.4,
                "b": 0,
                "s": 1
              },
              {
                "p": 1,
                "lc": "black",
                "x": 344.9,
                "y": 218.4,
                "b": -3.75,
                "s": 1
              },
              {
                "p": 1,
                "lc": "black",
                "x": 348.59999999999997,
                "y": 219.70000000000002,
                "b": 0,
                "s": 1
              },
              {
                "p": 1,
                "lc": "black",
                "x": 348.59999999999997,
                "y": 219.70000000000002,
                "b": -3.75,
                "s": 1
              },
              {
                "p": 1,
                "lc": "black",
                "x": 352.4,
                "y": 220.8,
                "b": 0,
                "s": 1
              },
              {
                "p": 1,
                "lc": "black",
                "x": 352.4,
                "y": 220.8,
                "b": -3.75,
                "s": 1
              },
              {
                "p": 1,
                "lc": "black",
                "x": 356.2,
                "y": 221.60000000000002,
                "b": 0,
                "s": 1
              },
              {
                "p": 1,
                "lc": "black",
                "x": 356.2,
                "y": 221.60000000000002,
                "b": -3.75,
                "s": 1
              },
              {
                "p": 1,
                "lc": "black",
                "x": 360.09999999999997,
                "y": 222.20000000000002,
                "b": 0,
                "s": 1
              },
              {
                "p": 1,
                "lc": "black",
                "x": 360.09999999999997,
                "y": 222.20000000000002,
                "b": -3.75,
                "s": 1
              },
              {
                "p": 1,
                "lc": "black",
                "x": 363.99999999999994,
                "y": 222.50000000000003,
                "b": 0,
                "s": 1
              },
              {
                "p": 1,
                "lc": "black",
                "x": 363.99999999999994,
                "y": 222.50000000000003,
                "b": -3.75,
                "s": 1
              },
              {
                "p": 1,
                "lc": "black",
                "x": 367.8999999999999,
                "y": 222.60000000000002,
                "b": 0,
                "s": 1
              },
              {
                "p": 1,
                "lc": "black",
                "x": 367.8999999999999,
                "y": 222.60000000000002,
                "b": -3.75,
                "s": 1
              },
              {
                "p": 1,
                "lc": "black",
                "x": 371.7999999999999,
                "y": 222.40000000000003,
                "b": 0,
                "s": 1
              },
              {
                "p": 1,
                "lc": "black",
                "x": 371.7999999999999,
                "y": 222.40000000000003,
                "b": -3.75,
                "s": 1
              },
              {
                "p": 1,
                "lc": "black",
                "x": 375.6999999999999,
                "y": 221.90000000000003,
                "b": 0,
                "s": 1
              },
              {
                "p": 1,
                "lc": "black",
                "x": 375.6999999999999,
                "y": 221.90000000000003,
                "b": -3.75,
                "s": 1
              },
              {
                "p": 1,
                "lc": "black",
                "x": 375.6999999999999,
                "y": 221.90000000000003,
                "b": 1.875,
                "s": 1
              },
              {
                "p": 1,
                "lc": "black",
                "x": 375.6999999999999,
                "y": 221.90000000000003,
                "b": -120,
                "s": 1
              },
              {
                "p": 1,
                "lc": "black",
                "x": 375.6999999999999,
                "y": 221.90000000000003,
                "b": -1.875,
                "s": 1
              },
              {
                "p": 1,
                "lc": "black",
                "x": 373.1999999999999,
                "y": 218.90000000000003,
                "b": 0,
                "s": 1
              },
              {
                "p": 1,
                "lc": "black",
                "x": 373.1999999999999,
                "y": 218.90000000000003,
                "b": -3.75,
                "s": 1
              },
              {
                "p": 1,
                "lc": "black",
                "x": 370.4999999999999,
                "y": 216.10000000000002,
                "b": 0,
                "s": 1
              },
              {
                "p": 1,
                "lc": "black",
                "x": 370.4999999999999,
                "y": 216.10000000000002,
                "b": -3.75,
                "s": 1
              },
              {
                "p": 1,
                "lc": "black",
                "x": 367.5999999999999,
                "y": 213.50000000000003,
                "b": 0,
                "s": 1
              },
              {
                "p": 1,
                "lc": "black",
                "x": 367.5999999999999,
                "y": 213.50000000000003,
                "b": -3.75,
                "s": 1
              },
              {
                "p": 1,
                "lc": "black",
                "x": 364.4999999999999,
                "y": 211.10000000000002,
                "b": 0,
                "s": 1
              },
              {
                "p": 1,
                "lc": "black",
                "x": 364.4999999999999,
                "y": 211.10000000000002,
                "b": -3.75,
                "s": 1
              },
              {
                "p": 1,
                "lc": "black",
                "x": 361.2999999999999,
                "y": 208.90000000000003,
                "b": 0,
                "s": 1
              },
              {
                "p": 1,
                "lc": "black",
                "x": 361.2999999999999,
                "y": 208.90000000000003,
                "b": -3.75,
                "s": 1
              },
              {
                "p": 1,
                "lc": "black",
                "x": 357.8999999999999,
                "y": 206.90000000000003,
                "b": 0,
                "s": 1
              },
              {
                "p": 1,
                "lc": "black",
                "x": 357.8999999999999,
                "y": 206.90000000000003,
                "b": -3.75,
                "s": 1
              },
              {
                "p": 1,
                "lc": "black",
                "x": 354.3999999999999,
                "y": 205.10000000000002,
                "b": 0,
                "s": 1
              },
              {
                "p": 1,
                "lc": "black",
                "x": 354.3999999999999,
                "y": 205.10000000000002,
                "b": -3.75,
                "s": 1
              },
              {
                "p": 1,
                "lc": "black",
                "x": 350.7999999999999,
                "y": 203.50000000000003,
                "b": 0,
                "s": 1
              },
              {
                "p": 1,
                "lc": "black",
                "x": 350.7999999999999,
                "y": 203.50000000000003,
                "b": -3.75,
                "s": 1
              },
              {
                "p": 1,
                "lc": "black",
                "x": 347.0999999999999,
                "y": 202.20000000000002,
                "b": 0,
                "s": 1
              },
              {
                "p": 1,
                "lc": "black",
                "x": 347.0999999999999,
                "y": 202.20000000000002,
                "b": -3.75,
                "s": 1
              },
              {
                "p": 1,
                "lc": "black",
                "x": 343.2999999999999,
                "y": 201.10000000000002,
                "b": 0,
                "s": 1
              },
              {
                "p": 1,
                "lc": "black",
                "x": 343.2999999999999,
                "y": 201.10000000000002,
                "b": -3.75,
                "s": 1
              },
              {
                "p": 1,
                "lc": "black",
                "x": 339.4999999999999,
                "y": 200.3,
                "b": 0,
                "s": 1
              },
              {
                "p": 1,
                "lc": "black",
                "x": 339.4999999999999,
                "y": 200.3,
                "b": -3.75,
                "s": 1
              },
              {
                "p": 1,
                "lc": "black",
                "x": 335.5999999999999,
                "y": 199.70000000000002,
                "b": 0,
                "s": 1
              },
              {
                "p": 1,
                "lc": "black",
                "x": 335.5999999999999,
                "y": 199.70000000000002,
                "b": -3.75,
                "s": 1
              },
              {
                "p": 1,
                "lc": "black",
                "x": 331.69999999999993,
                "y": 199.4,
                "b": 0,
                "s": 1
              },
              {
                "p": 1,
                "lc": "black",
                "x": 331.69999999999993,
                "y": 199.4,
                "b": -3.75,
                "s": 1
              },
              {
                "p": 1,
                "lc": "black",
                "x": 327.79999999999995,
                "y": 199.3,
                "b": 0,
                "s": 1
              },
              {
                "p": 1,
                "lc": "black",
                "x": 327.79999999999995,
                "y": 199.3,
                "b": -3.75,
                "s": 1
              },
              {
                "p": 1,
                "lc": "black",
                "x": 323.9,
                "y": 199.5,
                "b": 0,
                "s": 1
              },
              {
                "p": 1,
                "lc": "black",
                "x": 323.9,
                "y": 199.5,
                "b": -3.75,
                "s": 1
              },
              {
                "p": 1,
                "lc": "black",
                "x": 320,
                "y": 200,
                "b": 0,
                "s": 1
              },
              {
                "p": 1,
                "lc": "black",
                "x": 320,
                "y": 200,
                "b": -3.75,
                "s": 1
              },
              {
                "p": 1,
                "lc": "black",
                "x": 320,
                "y": 200,
                "b": 1.875,
                "s": 1
              },
              {
                "p": 1,
                "lc": "black",
                "x": 320,
                "y": 200,
                "b": -120,
                "s": 1
              },
              {
                "p": 1,
                "lc": "black",
                "x": 320,
                "y": 200,
                "b": -51.42857142857143,
                "s": 1
              },
              {
                "p": 1,
                "lc": "black",
                "x": 320,
                "y": 200,
                "b": -2.857142857142857,
                "s": 1
              },
              {
                "p": 1,
                "lc": "black",
                "x": 324,
                "y": 199.8,
                "b": 0,
                "s": 1
              },
              {
                "p": 1,
                "lc": "black",
                "x": 324,
                "y": 199.8,
                "b": -5.714285714285714,
                "s": 1
              },
              {
                "p": 1,
                "lc": "black",
                "x": 327.9,
                "y": 199.20000000000002,
                "b": 0,
                "s": 1
              },
              {
                "p": 1,
                "lc": "black",
                "x": 327.9,
                "y": 199.20000000000002,
                "b": -5.714285714285714,
                "s": 1
              },
              {
                "p": 1,
                "lc": "black",
                "x": 331.79999999999995,
                "y": 198.20000000000002,
                "b": 0,
                "s": 1
              },
              {
                "p": 1,
                "lc": "black",
                "x": 331.79999999999995,
                "y": 198.20000000000002,
                "b": -5.714285714285714,
                "s": 1
              },
              {
                "p": 1,
                "lc": "black",
                "x": 335.49999999999994,
                "y": 196.8,
                "b": 0,
                "s": 1
              },
              {
                "p": 1,
                "lc": "black",
                "x": 335.49999999999994,
                "y": 196.8,
                "b": -5.714285714285714,
                "s": 1
              },
              {
                "p": 1,
                "lc": "black",
                "x": 339.09999999999997,
                "y": 195.10000000000002,
                "b": 0,
                "s": 1
              },
              {
                "p": 1,
                "lc": "black",
                "x": 339.09999999999997,
                "y": 195.10000000000002,
                "b": -5.714285714285714,
                "s": 1
              },
              {
                "p": 1,
                "lc": "black",
                "x": 342.49999999999994,
                "y": 193.00000000000003,
                "b": 0,
                "s": 1
              },
              {
                "p": 1,
                "lc": "black",
                "x": 342.49999999999994,
                "y": 193.00000000000003,
                "b": -5.714285714285714,
                "s": 1
              },
              {
                "p": 1,
                "lc": "black",
                "x": 345.69999999999993,
                "y": 190.60000000000002,
                "b": 0,
                "s": 1
              },
              {
                "p": 1,
                "lc": "black",
                "x": 345.69999999999993,
                "y": 190.60000000000002,
                "b": -5.714285714285714,
                "s": 1
              },
              {
                "p": 1,
                "lc": "black",
                "x": 348.5999999999999,
                "y": 187.90000000000003,
                "b": 0,
                "s": 1
              },
              {
                "p": 1,
                "lc": "black",
                "x": 348.5999999999999,
                "y": 187.90000000000003,
                "b": -5.714285714285714,
                "s": 1
              },
              {
                "p": 1,
                "lc": "black",
                "x": 351.19999999999993,
                "y": 184.90000000000003,
                "b": 0,
                "s": 1
              },
              {
                "p": 1,
                "lc": "black",
                "x": 351.19999999999993,
                "y": 184.90000000000003,
                "b": -5.714285714285714,
                "s": 1
              },
              {
                "p": 1,
                "lc": "black",
                "x": 353.49999999999994,
                "y": 181.70000000000005,
                "b": 0,
                "s": 1
              },
              {
                "p": 1,
                "lc": "black",
                "x": 353.49999999999994,
                "y": 181.70000000000005,
                "b": -5.714285714285714,
                "s": 1
              },
              {
                "p": 1,
                "lc": "black",
                "x": 355.49999999999994,
                "y": 178.20000000000005,
                "b": 0,
                "s": 1
              },
              {
                "p": 1,
                "lc": "black",
                "x": 355.49999999999994,
                "y": 178.20000000000005,
                "b": -5.714285714285714,
                "s": 1
              },
              {
                "p": 1,
                "lc": "black",
                "x": 357.09999999999997,
                "y": 174.60000000000005,
                "b": 0,
                "s": 1
              },
              {
                "p": 1,
                "lc": "black",
                "x": 357.09999999999997,
                "y": 174.60000000000005,
                "b": -5.714285714285714,
                "s": 1
              },
              {
                "p": 1,
                "lc": "black",
                "x": 358.4,
                "y": 170.80000000000004,
                "b": 0,
                "s": 1
              },
              {
                "p": 1,
                "lc": "black",
                "x": 358.4,
                "y": 170.80000000000004,
                "b": -5.714285714285714,
                "s": 1
              },
              {
                "p": 1,
                "lc": "black",
                "x": 359.29999999999995,
                "y": 166.90000000000003,
                "b": 0,
                "s": 1
              },
              {
                "p": 1,
                "lc": "black",
                "x": 359.29999999999995,
                "y": 166.90000000000003,
                "b": -5.714285714285714,
                "s": 1
              },
              {
                "p": 1,
                "lc": "black",
                "x": 359.29999999999995,
                "y": 166.90000000000003,
                "b": 2.857142857142857,
                "s": 1
              },
              {
                "p": 1,
                "lc": "black",
                "x": 359.29999999999995,
                "y": 166.90000000000003,
                "b": -100,
                "s": 1
              },
              {
                "p": 1,
                "lc": "black",
                "x": 359.29999999999995,
                "y": 166.90000000000003,
                "b": -2.857142857142857,
                "s": 1
              },
              {
                "p": 1,
                "lc": "black",
                "x": 355.29999999999995,
                "y": 167.10000000000002,
                "b": 0,
                "s": 1
              },
              {
                "p": 1,
                "lc": "black",
                "x": 355.29999999999995,
                "y": 167.10000000000002,
                "b": -5.714285714285714,
                "s": 1
              },
              {
                "p": 1,
                "lc": "black",
                "x": 351.4,
                "y": 167.70000000000002,
                "b": 0,
                "s": 1
              },
              {
                "p": 1,
                "lc": "black",
                "x": 351.4,
                "y": 167.70000000000002,
                "b": -5.714285714285714,
                "s": 1
              },
              {
                "p": 1,
                "lc": "black",
                "x": 347.5,
                "y": 168.70000000000002,
                "b": 0,
                "s": 1
              },
              {
                "p": 1,
                "lc": "black",
                "x": 347.5,
                "y": 168.70000000000002,
                "b": -5.714285714285714,
                "s": 1
              },
              {
                "p": 1,
                "lc": "black",
                "x": 343.8,
                "y": 170.10000000000002,
                "b": 0,
                "s": 1
              },
              {
                "p": 1,
                "lc": "black",
                "x": 343.8,
                "y": 170.10000000000002,
                "b": -5.714285714285714,
                "s": 1
              },
              {
                "p": 1,
                "lc": "black",
                "x": 340.2,
                "y": 171.8,
                "b": 0,
                "s": 1
              },
              {
                "p": 1,
                "lc": "black",
                "x": 340.2,
                "y": 171.8,
                "b": -5.714285714285714,
                "s": 1
              },
              {
                "p": 1,
                "lc": "black",
                "x": 336.8,
                "y": 173.9,
                "b": 0,
                "s": 1
              },
              {
                "p": 1,
                "lc": "black",
                "x": 336.8,
                "y": 173.9,
                "b": -5.714285714285714,
                "s": 1
              },
              {
                "p": 1,
                "lc": "black",
                "x": 333.6,
                "y": 176.3,
                "b": 0,
                "s": 1
              },
              {
                "p": 1,
                "lc": "black",
                "x": 333.6,
                "y": 176.3,
                "b": -5.714285714285714,
                "s": 1
              },
              {
                "p": 1,
                "lc": "black",
                "x": 330.70000000000005,
                "y": 179,
                "b": 0,
                "s": 1
              },
              {
                "p": 1,
                "lc": "black",
                "x": 330.70000000000005,
                "y": 179,
                "b": -5.714285714285714,
                "s": 1
              },
              {
                "p": 1,
                "lc": "black",
                "x": 328.1,
                "y": 182,
                "b": 0,
                "s": 1
              },
              {
                "p": 1,
                "lc": "black",
                "x": 328.1,
                "y": 182,
                "b": -5.714285714285714,
                "s": 1
              },
              {
                "p": 1,
                "lc": "black",
                "x": 325.8,
                "y": 185.2,
                "b": 0,
                "s": 1
              },
              {
                "p": 1,
                "lc": "black",
                "x": 325.8,
                "y": 185.2,
                "b": -5.714285714285714,
                "s": 1
              },
              {
                "p": 1,
                "lc": "black",
                "x": 323.8,
                "y": 188.7,
                "b": 0,
                "s": 1
              },
              {
                "p": 1,
                "lc": "black",
                "x": 323.8,
                "y": 188.7,
                "b": -5.714285714285714,
                "s": 1
              },
              {
                "p": 1,
                "lc": "black",
                "x": 322.2,
                "y": 192.29999999999998,
                "b": 0,
                "s": 1
              },
              {
                "p": 1,
                "lc": "black",
                "x": 322.2,
                "y": 192.29999999999998,
                "b": -5.714285714285714,
                "s": 1
              },
              {
                "p": 1,
                "lc": "black",
                "x": 320.9,
                "y": 196.1,
                "b": 0,
                "s": 1
              },
              {
                "p": 1,
                "lc": "black",
                "x": 320.9,
                "y": 196.1,
                "b": -5.714285714285714,
                "s": 1
              },
              {
                "p": 1,
                "lc": "black",
                "x": 320,
                "y": 200,
                "b": 0,
                "s": 1
              },
              {
                "p": 1,
                "lc": "black",
                "x": 320,
                "y": 200,
                "b": -5.714285714285714,
                "s": 1
              },
              {
                "p": 1,
                "lc": "black",
                "x": 320,
                "y": 200,
                "b": 2.857142857142857,
                "s": 1
              },
              {
                "p": 1,
                "lc": "black",
                "x": 320,
                "y": 200,
                "b": -100,
                "s": 1
              },
              {
                "p": 1,
                "lc": "black",
                "x": 320,
                "y": 200,
                "b": -36,
                "s": 1
              },
              {
                "p": 1,
                "lc": "black",
                "x": 320,
                "y": 200,
                "b": -2.857142857142857,
                "s": 1
              },
              {
                "p": 1,
                "lc": "black",
                "x": 323.1,
                "y": 197.5,
                "b": 0,
                "s": 1
              },
              {
                "p": 1,
                "lc": "black",
                "x": 323.1,
                "y": 197.5,
                "b": -5.714285714285714,
                "s": 1
              },
              {
                "p": 1,
                "lc": "black",
                "x": 325.90000000000003,
                "y": 194.7,
                "b": 0,
                "s": 1
              },
              {
                "p": 1,
                "lc": "black",
                "x": 325.90000000000003,
                "y": 194.7,
                "b": -5.714285714285714,
                "s": 1
              },
              {
                "p": 1,
                "lc": "black",
                "x": 328.40000000000003,
                "y": 191.6,
                "b": 0,
                "s": 1
              },
              {
                "p": 1,
                "lc": "black",
                "x": 328.40000000000003,
                "y": 191.6,
                "b": -5.714285714285714,
                "s": 1
              },
              {
                "p": 1,
                "lc": "black",
                "x": 330.6,
                "y": 188.29999999999998,
                "b": 0,
                "s": 1
              },
              {
                "p": 1,
                "lc": "black",
                "x": 330.6,
                "y": 188.29999999999998,
                "b": -5.714285714285714,
                "s": 1
              },
              {
                "p": 1,
                "lc": "black",
                "x": 332.5,
                "y": 184.79999999999998,
                "b": 0,
                "s": 1
              },
              {
                "p": 1,
                "lc": "black",
                "x": 332.5,
                "y": 184.79999999999998,
                "b": -5.714285714285714,
                "s": 1
              },
              {
                "p": 1,
                "lc": "black",
                "x": 334,
                "y": 181.1,
                "b": 0,
                "s": 1
              },
              {
                "p": 1,
                "lc": "black",
                "x": 334,
                "y": 181.1,
                "b": -5.714285714285714,
                "s": 1
              },
              {
                "p": 1,
                "lc": "black",
                "x": 335.2,
                "y": 177.29999999999998,
                "b": 0,
                "s": 1
              },
              {
                "p": 1,
                "lc": "black",
                "x": 335.2,
                "y": 177.29999999999998,
                "b": -5.714285714285714,
                "s": 1
              },
              {
                "p": 1,
                "lc": "black",
                "x": 336,
                "y": 173.39999999999998,
                "b": 0,
                "s": 1
              },
              {
                "p": 1,
                "lc": "black",
                "x": 336,
                "y": 173.39999999999998,
                "b": -5.714285714285714,
                "s": 1
              },
              {
                "p": 1,
                "lc": "black",
                "x": 336.4,
                "y": 169.39999999999998,
                "b": 0,
                "s": 1
              },
              {
                "p": 1,
                "lc": "black",
                "x": 336.4,
                "y": 169.39999999999998,
                "b": -5.714285714285714,
                "s": 1
              },
              {
                "p": 1,
                "lc": "black",
                "x": 336.4,
                "y": 165.39999999999998,
                "b": 0,
                "s": 1
              },
              {
                "p": 1,
                "lc": "black",
                "x": 336.4,
                "y": 165.39999999999998,
                "b": -5.714285714285714,
                "s": 1
              },
              {
                "p": 1,
                "lc": "black",
                "x": 336,
                "y": 161.39999999999998,
                "b": 0,
                "s": 1
              },
              {
                "p": 1,
                "lc": "black",
                "x": 336,
                "y": 161.39999999999998,
                "b": -5.714285714285714,
                "s": 1
              },
              {
                "p": 1,
                "lc": "black",
                "x": 335.2,
                "y": 157.49999999999997,
                "b": 0,
                "s": 1
              },
              {
                "p": 1,
                "lc": "black",
                "x": 335.2,
                "y": 157.49999999999997,
                "b": -5.714285714285714,
                "s": 1
              },
              {
                "p": 1,
                "lc": "black",
                "x": 334,
                "y": 153.69999999999996,
                "b": 0,
                "s": 1
              },
              {
                "p": 1,
                "lc": "black",
                "x": 334,
                "y": 153.69999999999996,
                "b": -5.714285714285714,
                "s": 1
              },
              {
                "p": 1,
                "lc": "black",
                "x": 332.4,
                "y": 149.99999999999997,
                "b": 0,
                "s": 1
              },
              {
                "p": 1,
                "lc": "black",
                "x": 332.4,
                "y": 149.99999999999997,
                "b": -5.714285714285714,
                "s": 1
              },
              {
                "p": 1,
                "lc": "black",
                "x": 332.4,
                "y": 149.99999999999997,
                "b": 2.857142857142857,
                "s": 1
              },
              {
                "p": 1,
                "lc": "black",
                "x": 332.4,
                "y": 149.99999999999997,
                "b": -100,
                "s": 1
              },
              {
                "p": 1,
                "lc": "black",
                "x": 332.4,
                "y": 149.99999999999997,
                "b": -2.857142857142857,
                "s": 1
              },
              {
                "p": 1,
                "lc": "black",
                "x": 329.29999999999995,
                "y": 152.49999999999997,
                "b": 0,
                "s": 1
              },
              {
                "p": 1,
                "lc": "black",
                "x": 329.29999999999995,
                "y": 152.49999999999997,
                "b": -5.714285714285714,
                "s": 1
              },
              {
                "p": 1,
                "lc": "black",
                "x": 326.49999999999994,
                "y": 155.29999999999998,
                "b": 0,
                "s": 1
              },
              {
                "p": 1,
                "lc": "black",
                "x": 326.49999999999994,
                "y": 155.29999999999998,
                "b": -5.714285714285714,
                "s": 1
              },
              {
                "p": 1,
                "lc": "black",
                "x": 323.99999999999994,
                "y": 158.39999999999998,
                "b": 0,
                "s": 1
              },
              {
                "p": 1,
                "lc": "black",
                "x": 323.99999999999994,
                "y": 158.39999999999998,
                "b": -5.714285714285714,
                "s": 1
              },
              {
                "p": 1,
                "lc": "black",
                "x": 321.79999999999995,
                "y": 161.7,
                "b": 0,
                "s": 1
              },
              {
                "p": 1,
                "lc": "black",
                "x": 321.79999999999995,
                "y": 161.7,
                "b": -5.714285714285714,
                "s": 1
              },
              {
                "p": 1,
                "lc": "black",
                "x": 319.9,
                "y": 165.2,
                "b": 0,
                "s": 1
              },
              {
                "p": 1,
                "lc": "black",
                "x": 319.9,
                "y": 165.2,
                "b": -5.714285714285714,
                "s": 1
              },
              {
                "p": 1,
                "lc": "black",
                "x": 318.4,
                "y": 168.89999999999998,
                "b": 0,
                "s": 1
              },
              {
                "p": 1,
                "lc": "black",
                "x": 318.4,
                "y": 168.89999999999998,
                "b": -5.714285714285714,
                "s": 1
              },
              {
                "p": 1,
                "lc": "black",
                "x": 317.2,
                "y": 172.7,
                "b": 0,
                "s": 1
              },
              {
                "p": 1,
                "lc": "black",
                "x": 317.2,
                "y": 172.7,
                "b": -5.714285714285714,
                "s": 1
              },
              {
                "p": 1,
                "lc": "black",
                "x": 316.4,
                "y": 176.6,
                "b": 0,
                "s": 1
              },
              {
                "p": 1,
                "lc": "black",
                "x": 316.4,
                "y": 176.6,
                "b": -5.714285714285714,
                "s": 1
              },
              {
                "p": 1,
                "lc": "black",
                "x": 316,
                "y": 180.6,
                "b": 0,
                "s": 1
              },
              {
                "p": 1,
                "lc": "black",
                "x": 316,
                "y": 180.6,
                "b": -5.714285714285714,
                "s": 1
              },
              {
                "p": 1,
                "lc": "black",
                "x": 316,
                "y": 184.6,
                "b": 0,
                "s": 1
              },
              {
                "p": 1,
                "lc": "black",
                "x": 316,
                "y": 184.6,
                "b": -5.714285714285714,
                "s": 1
              },
              {
                "p": 1,
                "lc": "black",
                "x": 316.4,
                "y": 188.6,
                "b": 0,
                "s": 1
              },
              {
                "p": 1,
                "lc": "black",
                "x": 316.4,
                "y": 188.6,
                "b": -5.714285714285714,
                "s": 1
              },
              {
                "p": 1,
                "lc": "black",
                "x": 317.2,
                "y": 192.5,
                "b": 0,
                "s": 1
              },
              {
                "p": 1,
                "lc": "black",
                "x": 317.2,
                "y": 192.5,
                "b": -5.714285714285714,
                "s": 1
              },
              {
                "p": 1,
                "lc": "black",
                "x": 318.4,
                "y": 196.3,
                "b": 0,
                "s": 1
              },
              {
                "p": 1,
                "lc": "black",
                "x": 318.4,
                "y": 196.3,
                "b": -5.714285714285714,
                "s": 1
              },
              {
                "p": 1,
                "lc": "black",
                "x": 320,
                "y": 200,
                "b": 0,
                "s": 1
              },
              {
                "p": 1,
                "lc": "black",
                "x": 320,
                "y": 200,
                "b": -5.714285714285714,
                "s": 1
              },
              {
                "p": 1,
                "lc": "black",
                "x": 320,
                "y": 200,
                "b": 2.857142857142857,
                "s": 1
              },
              {
                "p": 1,
                "lc": "black",
                "x": 320,
                "y": 200,
                "b": -100,
                "s": 1
              },
              {
                "p": 1,
                "lc": "black",
                "x": 320,
                "y": 200,
                "b": -36,
                "s": 1
              },
              {
                "p": 1,
                "lc": "black",
                "x": 320,
                "y": 200,
                "b": -2.857142857142857,
                "s": 1
              },
              {
                "p": 1,
                "lc": "black",
                "x": 321,
                "y": 196.1,
                "b": 0,
                "s": 1
              },
              {
                "p": 1,
                "lc": "black",
                "x": 321,
                "y": 196.1,
                "b": -5.714285714285714,
                "s": 1
              },
              {
                "p": 1,
                "lc": "black",
                "x": 321.7,
                "y": 192.2,
                "b": 0,
                "s": 1
              },
              {
                "p": 1,
                "lc": "black",
                "x": 321.7,
                "y": 192.2,
                "b": -5.714285714285714,
                "s": 1
              },
              {
                "p": 1,
                "lc": "black",
                "x": 322,
                "y": 188.2,
                "b": 0,
                "s": 1
              },
              {
                "p": 1,
                "lc": "black",
                "x": 322,
                "y": 188.2,
                "b": -5.714285714285714,
                "s": 1
              },
              {
                "p": 1,
                "lc": "black",
                "x": 321.9,
                "y": 184.2,
                "b": 0,
                "s": 1
              },
              {
                "p": 1,
                "lc": "black",
                "x": 321.9,
                "y": 184.2,
                "b": -5.714285714285714,
                "s": 1
              },
              {
                "p": 1,
                "lc": "black",
                "x": 321.4,
                "y": 180.2,
                "b": 0,
                "s": 1
              },
              {
                "p": 1,
                "lc": "black",
                "x": 321.4,
                "y": 180.2,
                "b": -5.714285714285714,
                "s": 1
              },
              {
                "p": 1,
                "lc": "black",
                "x": 320.5,
                "y": 176.29999999999998,
                "b": 0,
                "s": 1
              },
              {
                "p": 1,
                "lc": "black",
                "x": 320.5,
                "y": 176.29999999999998,
                "b": -5.714285714285714,
                "s": 1
              },
              {
                "p": 1,
                "lc": "black",
                "x": 319.2,
                "y": 172.49999999999997,
                "b": 0,
                "s": 1
              },
              {
                "p": 1,
                "lc": "black",
                "x": 319.2,
                "y": 172.49999999999997,
                "b": -5.714285714285714,
                "s": 1
              },
              {
                "p": 1,
                "lc": "black",
                "x": 317.5,
                "y": 168.89999999999998,
                "b": 0,
                "s": 1
              },
              {
                "p": 1,
                "lc": "black",
                "x": 317.5,
                "y": 168.89999999999998,
                "b": -5.714285714285714,
                "s": 1
              },
              {
                "p": 1,
                "lc": "black",
                "x": 315.5,
                "y": 165.49999999999997,
                "b": 0,
                "s": 1
              },
              {
                "p": 1,
                "lc": "black",
                "x": 315.5,
                "y": 165.49999999999997,
                "b": -5.714285714285714,
                "s": 1
              },
              {
                "p": 1,
                "lc": "black",
                "x": 313.1,
                "y": 162.29999999999998,
                "b": 0,
                "s": 1
              },
              {
                "p": 1,
                "lc": "black",
                "x": 313.1,
                "y": 162.29999999999998,
                "b": -5.714285714285714,
                "s": 1
              },
              {
                "p": 1,
                "lc": "black",
                "x": 310.40000000000003,
                "y": 159.29999999999998,
                "b": 0,
                "s": 1
              },
              {
                "p": 1,
                "lc": "black",
                "x": 310.40000000000003,
                "y": 159.29999999999998,
                "b": -5.714285714285714,
                "s": 1
              },
              {
                "p": 1,
                "lc": "black",
                "x": 307.40000000000003,
                "y": 156.6,
                "b": 0,
                "s": 1
              },
              {
                "p": 1,
                "lc": "black",
                "x": 307.40000000000003,
                "y": 156.6,
                "b": -5.714285714285714,
                "s": 1
              },
              {
                "p": 1,
                "lc": "black",
                "x": 304.20000000000005,
                "y": 154.2,
                "b": 0,
                "s": 1
              },
              {
                "p": 1,
                "lc": "black",
                "x": 304.20000000000005,
                "y": 154.2,
                "b": -5.714285714285714,
                "s": 1
              },
              {
                "p": 1,
                "lc": "black",
                "x": 300.80000000000007,
                "y": 152.2,
                "b": 0,
                "s": 1
              },
              {
                "p": 1,
                "lc": "black",
                "x": 300.80000000000007,
                "y": 152.2,
                "b": -5.714285714285714,
                "s": 1
              },
              {
                "p": 1,
                "lc": "black",
                "x": 300.80000000000007,
                "y": 152.2,
                "b": 2.857142857142857,
                "s": 1
              },
              {
                "p": 1,
                "lc": "black",
                "x": 300.80000000000007,
                "y": 152.2,
                "b": -100,
                "s": 1
              },
              {
                "p": 1,
                "lc": "black",
                "x": 300.80000000000007,
                "y": 152.2,
                "b": -2.857142857142857,
                "s": 1
              },
              {
                "p": 1,
                "lc": "black",
                "x": 299.80000000000007,
                "y": 156.1,
                "b": 0,
                "s": 1
              },
              {
                "p": 1,
                "lc": "black",
                "x": 299.80000000000007,
                "y": 156.1,
                "b": -5.714285714285714,
                "s": 1
              },
              {
                "p": 1,
                "lc": "black",
                "x": 299.1000000000001,
                "y": 160,
                "b": 0,
                "s": 1
              },
              {
                "p": 1,
                "lc": "black",
                "x": 299.1000000000001,
                "y": 160,
                "b": -5.714285714285714,
                "s": 1
              },
              {
                "p": 1,
                "lc": "black",
                "x": 298.80000000000007,
                "y": 164,
                "b": 0,
                "s": 1
              },
              {
                "p": 1,
                "lc": "black",
                "x": 298.80000000000007,
                "y": 164,
                "b": -5.714285714285714,
                "s": 1
              },
              {
                "p": 1,
                "lc": "black",
                "x": 298.9000000000001,
                "y": 168,
                "b": 0,
                "s": 1
              },
              {
                "p": 1,
                "lc": "black",
                "x": 298.9000000000001,
                "y": 168,
                "b": -5.714285714285714,
                "s": 1
              },
              {
                "p": 1,
                "lc": "black",
                "x": 299.4000000000001,
                "y": 172,
                "b": 0,
                "s": 1
              },
              {
                "p": 1,
                "lc": "black",
                "x": 299.4000000000001,
                "y": 172,
                "b": -5.714285714285714,
                "s": 1
              },
              {
                "p": 1,
                "lc": "black",
                "x": 300.30000000000007,
                "y": 175.9,
                "b": 0,
                "s": 1
              },
              {
                "p": 1,
                "lc": "black",
                "x": 300.30000000000007,
                "y": 175.9,
                "b": -5.714285714285714,
                "s": 1
              },
              {
                "p": 1,
                "lc": "black",
                "x": 301.6000000000001,
                "y": 179.70000000000002,
                "b": 0,
                "s": 1
              },
              {
                "p": 1,
                "lc": "black",
                "x": 301.6000000000001,
                "y": 179.70000000000002,
                "b": -5.714285714285714,
                "s": 1
              },
              {
                "p": 1,
                "lc": "black",
                "x": 303.30000000000007,
                "y": 183.3,
                "b": 0,
                "s": 1
              },
              {
                "p": 1,
                "lc": "black",
                "x": 303.30000000000007,
                "y": 183.3,
                "b": -5.714285714285714,
                "s": 1
              },
              {
                "p": 1,
                "lc": "black",
                "x": 305.30000000000007,
                "y": 186.70000000000002,
                "b": 0,
                "s": 1
              },
              {
                "p": 1,
                "lc": "black",
                "x": 305.30000000000007,
                "y": 186.70000000000002,
                "b": -5.714285714285714,
                "s": 1
              },
              {
                "p": 1,
                "lc": "black",
                "x": 307.70000000000005,
                "y": 189.9,
                "b": 0,
                "s": 1
              },
              {
                "p": 1,
                "lc": "black",
                "x": 307.70000000000005,
                "y": 189.9,
                "b": -5.714285714285714,
                "s": 1
              },
              {
                "p": 1,
                "lc": "black",
                "x": 310.40000000000003,
                "y": 192.9,
                "b": 0,
                "s": 1
              },
              {
                "p": 1,
                "lc": "black",
                "x": 310.40000000000003,
                "y": 192.9,
                "b": -5.714285714285714,
                "s": 1
              },
              {
                "p": 1,
                "lc": "black",
                "x": 313.40000000000003,
                "y": 195.6,
                "b": 0,
                "s": 1
              },
              {
                "p": 1,
                "lc": "black",
                "x": 313.40000000000003,
                "y": 195.6,
                "b": -5.714285714285714,
                "s": 1
              },
              {
                "p": 1,
                "lc": "black",
                "x": 316.6,
                "y": 198,
                "b": 0,
                "s": 1
              },
              {
                "p": 1,
                "lc": "black",
                "x": 316.6,
                "y": 198,
                "b": -5.714285714285714,
                "s": 1
              },
              {
                "p": 1,
                "lc": "black",
                "x": 320,
                "y": 200,
                "b": 0,
                "s": 1
              },
              {
                "p": 1,
                "lc": "black",
                "x": 320,
                "y": 200,
                "b": -5.714285714285714,
                "s": 1
              },
              {
                "p": 1,
                "lc": "black",
                "x": 320,
                "y": 200,
                "b": 2.857142857142857,
                "s": 1
              },
              {
                "p": 1,
                "lc": "black",
                "x": 320,
                "y": 200,
                "b": -100,
                "s": 1
              },
              {
                "p": 1,
                "lc": "black",
                "x": 320,
                "y": 200,
                "b": -36,
                "s": 1
              },
              {
                "p": 1,
                "lc": "black",
                "x": 320,
                "y": 200,
                "b": -2.857142857142857,
                "s": 1
              },
              {
                "p": 1,
                "lc": "black",
                "x": 318.6,
                "y": 196.3,
                "b": 0,
                "s": 1
              },
              {
                "p": 1,
                "lc": "black",
                "x": 318.6,
                "y": 196.3,
                "b": -5.714285714285714,
                "s": 1
              },
              {
                "p": 1,
                "lc": "black",
                "x": 316.8,
                "y": 192.70000000000002,
                "b": 0,
                "s": 1
              },
              {
                "p": 1,
                "lc": "black",
                "x": 316.8,
                "y": 192.70000000000002,
                "b": -5.714285714285714,
                "s": 1
              },
              {
                "p": 1,
                "lc": "black",
                "x": 314.7,
                "y": 189.3,
                "b": 0,
                "s": 1
              },
              {
                "p": 1,
                "lc": "black",
                "x": 314.7,
                "y": 189.3,
                "b": -5.714285714285714,
                "s": 1
              },
              {
                "p": 1,
                "lc": "black",
                "x": 312.2,
                "y": 186.20000000000002,
                "b": 0,
                "s": 1
              },
              {
                "p": 1,
                "lc": "black",
                "x": 312.2,
                "y": 186.20000000000002,
                "b": -5.714285714285714,
                "s": 1
              },
              {
                "p": 1,
                "lc": "black",
                "x": 309.4,
                "y": 183.3,
                "b": 0,
                "s": 1
              },
              {
                "p": 1,
                "lc": "black",
                "x": 309.4,
                "y": 183.3,
                "b": -5.714285714285714,
                "s": 1
              },
              {
                "p": 1,
                "lc": "black",
                "x": 306.4,
                "y": 180.70000000000002,
                "b": 0,
                "s": 1
              },
              {
                "p": 1,
                "lc": "black",
                "x": 306.4,
                "y": 180.70000000000002,
                "b": -5.714285714285714,
                "s": 1
              },
              {
                "p": 1,
                "lc": "black",
                "x": 303.09999999999997,
                "y": 178.4,
                "b": 0,
                "s": 1
              },
              {
                "p": 1,
                "lc": "black",
                "x": 303.09999999999997,
                "y": 178.4,
                "b": -5.714285714285714,
                "s": 1
              },
              {
                "p": 1,
                "lc": "black",
                "x": 299.59999999999997,
                "y": 176.5,
                "b": 0,
                "s": 1
              },
              {
                "p": 1,
                "lc": "black",
                "x": 299.59999999999997,
                "y": 176.5,
                "b": -5.714285714285714,
                "s": 1
              },
              {
                "p": 1,
                "lc": "black",
                "x": 295.9,
                "y": 174.9,
                "b": 0,
                "s": 1
              },
              {
                "p": 1,
                "lc": "black",
                "x": 295.9,
                "y": 174.9,
                "b": -5.714285714285714,
                "s": 1
              },
              {
                "p": 1,
                "lc": "black",
                "x": 292.09999999999997,
                "y": 173.70000000000002,
                "b": 0,
                "s": 1
              },
              {
                "p": 1,
                "lc": "black",
                "x": 292.09999999999997,
                "y": 173.70000000000002,
                "b": -5.714285714285714,
                "s": 1
              },
              {
                "p": 1,
                "lc": "black",
                "x": 288.2,
                "y": 172.9,
                "b": 0,
                "s": 1
              },
              {
                "p": 1,
                "lc": "black",
                "x": 288.2,
                "y": 172.9,
                "b": -5.714285714285714,
                "s": 1
              },
              {
                "p": 1,
                "lc": "black",
                "x": 284.2,
                "y": 172.5,
                "b": 0,
                "s": 1
              },
              {
                "p": 1,
                "lc": "black",
                "x": 284.2,
                "y": 172.5,
                "b": -5.714285714285714,
                "s": 1
              },
              {
                "p": 1,
                "lc": "black",
                "x": 280.2,
                "y": 172.5,
                "b": 0,
                "s": 1
              },
              {
                "p": 1,
                "lc": "black",
                "x": 280.2,
                "y": 172.5,
                "b": -5.714285714285714,
                "s": 1
              },
              {
                "p": 1,
                "lc": "black",
                "x": 276.2,
                "y": 172.9,
                "b": 0,
                "s": 1
              },
              {
                "p": 1,
                "lc": "black",
                "x": 276.2,
                "y": 172.9,
                "b": -5.714285714285714,
                "s": 1
              },
              {
                "p": 1,
                "lc": "black",
                "x": 276.2,
                "y": 172.9,
                "b": 2.857142857142857,
                "s": 1
              },
              {
                "p": 1,
                "lc": "black",
                "x": 276.2,
                "y": 172.9,
                "b": -100,
                "s": 1
              },
              {
                "p": 1,
                "lc": "black",
                "x": 276.2,
                "y": 172.9,
                "b": -2.857142857142857,
                "s": 1
              },
              {
                "p": 1,
                "lc": "black",
                "x": 277.59999999999997,
                "y": 176.6,
                "b": 0,
                "s": 1
              },
              {
                "p": 1,
                "lc": "black",
                "x": 277.59999999999997,
                "y": 176.6,
                "b": -5.714285714285714,
                "s": 1
              },
              {
                "p": 1,
                "lc": "black",
                "x": 279.4,
                "y": 180.2,
                "b": 0,
                "s": 1
              },
              {
                "p": 1,
                "lc": "black",
                "x": 279.4,
                "y": 180.2,
                "b": -5.714285714285714,
                "s": 1
              },
              {
                "p": 1,
                "lc": "black",
                "x": 281.5,
                "y": 183.6,
                "b": 0,
                "s": 1
              },
              {
                "p": 1,
                "lc": "black",
                "x": 281.5,
                "y": 183.6,
                "b": -5.714285714285714,
                "s": 1
              },
              {
                "p": 1,
                "lc": "black",
                "x": 284,
                "y": 186.7,
                "b": 0,
                "s": 1
              },
              {
                "p": 1,
                "lc": "black",
                "x": 284,
                "y": 186.7,
                "b": -5.714285714285714,
                "s": 1
              },
              {
                "p": 1,
                "lc": "black",
                "x": 286.8,
                "y": 189.6,
                "b": 0,
                "s": 1
              },
              {
                "p": 1,
                "lc": "black",
                "x": 286.8,
                "y": 189.6,
                "b": -5.714285714285714,
                "s": 1
              },
              {
                "p": 1,
                "lc": "black",
                "x": 289.8,
                "y": 192.2,
                "b": 0,
                "s": 1
              },
              {
                "p": 1,
                "lc": "black",
                "x": 289.8,
                "y": 192.2,
                "b": -5.714285714285714,
                "s": 1
              },
              {
                "p": 1,
                "lc": "black",
                "x": 293.1,
                "y": 194.5,
                "b": 0,
                "s": 1
              },
              {
                "p": 1,
                "lc": "black",
                "x": 293.1,
                "y": 194.5,
                "b": -5.714285714285714,
                "s": 1
              },
              {
                "p": 1,
                "lc": "black",
                "x": 296.6,
                "y": 196.4,
                "b": 0,
                "s": 1
              },
              {
                "p": 1,
                "lc": "black",
                "x": 296.6,
                "y": 196.4,
                "b": -5.714285714285714,
                "s": 1
              },
              {
                "p": 1,
                "lc": "black",
                "x": 300.3,
                "y": 198,
                "b": 0,
                "s": 1
              },
              {
                "p": 1,
                "lc": "black",
                "x": 300.3,
                "y": 198,
                "b": -5.714285714285714,
                "s": 1
              },
              {
                "p": 1,
                "lc": "black",
                "x": 304.1,
                "y": 199.2,
                "b": 0,
                "s": 1
              },
              {
                "p": 1,
                "lc": "black",
                "x": 304.1,
                "y": 199.2,
                "b": -5.714285714285714,
                "s": 1
              },
              {
                "p": 1,
                "lc": "black",
                "x": 308,
                "y": 200,
                "b": 0,
                "s": 1
              },
              {
                "p": 1,
                "lc": "black",
                "x": 308,
                "y": 200,
                "b": -5.714285714285714,
                "s": 1
              },
              {
                "p": 1,
                "lc": "black",
                "x": 312,
                "y": 200.4,
                "b": 0,
                "s": 1
              },
              {
                "p": 1,
                "lc": "black",
                "x": 312,
                "y": 200.4,
                "b": -5.714285714285714,
                "s": 1
              },
              {
                "p": 1,
                "lc": "black",
                "x": 316,
                "y": 200.4,
                "b": 0,
                "s": 1
              },
              {
                "p": 1,
                "lc": "black",
                "x": 316,
                "y": 200.4,
                "b": -5.714285714285714,
                "s": 1
              },
              {
                "p": 1,
                "lc": "black",
                "x": 320,
                "y": 200,
                "b": 0,
                "s": 1
              },
              {
                "p": 1,
                "lc": "black",
                "x": 320,
                "y": 200,
                "b": -5.714285714285714,
                "s": 1
              },
              {
                "p": 1,
                "lc": "black",
                "x": 320,
                "y": 200,
                "b": 2.857142857142857,
                "s": 1
              },
              {
                "p": 1,
                "lc": "black",
                "x": 320,
                "y": 200,
                "b": -100,
                "s": 1
              },
              {
                "p": 1,
                "lc": "black",
                "x": 320,
                "y": 200,
                "b": -36,
                "s": 1
              },
              {
                "p": 1,
                "lc": "black",
                "x": 320,
                "y": 200,
                "b": -2.857142857142857,
                "s": 1
              },
              {
                "p": 1,
                "lc": "black",
                "x": 316.7,
                "y": 197.8,
                "b": 0,
                "s": 1
              },
              {
                "p": 1,
                "lc": "black",
                "x": 316.7,
                "y": 197.8,
                "b": -5.714285714285714,
                "s": 1
              },
              {
                "p": 1,
                "lc": "black",
                "x": 313.2,
                "y": 196,
                "b": 0,
                "s": 1
              },
              {
                "p": 1,
                "lc": "black",
                "x": 313.2,
                "y": 196,
                "b": -5.714285714285714,
                "s": 1
              },
              {
                "p": 1,
                "lc": "black",
                "x": 309.5,
                "y": 194.5,
                "b": 0,
                "s": 1
              },
              {
                "p": 1,
                "lc": "black",
                "x": 309.5,
                "y": 194.5,
                "b": -5.714285714285714,
                "s": 1
              },
              {
                "p": 1,
                "lc": "black",
                "x": 305.7,
                "y": 193.4,
                "b": 0,
                "s": 1
              },
              {
                "p": 1,
                "lc": "black",
                "x": 305.7,
                "y": 193.4,
                "b": -5.714285714285714,
                "s": 1
              },
              {
                "p": 1,
                "lc": "black",
                "x": 301.8,
                "y": 192.70000000000002,
                "b": 0,
                "s": 1
              },
              {
                "p": 1,
                "lc": "black",
                "x": 301.8,
                "y": 192.70000000000002,
                "b": -5.714285714285714,
                "s": 1
              },
              {
                "p": 1,
                "lc": "black",
                "x": 297.8,
                "y": 192.4,
                "b": 0,
                "s": 1
              },
              {
                "p": 1,
                "lc": "black",
                "x": 297.8,
                "y": 192.4,
                "b": -5.714285714285714,
                "s": 1
              },
              {
                "p": 1,
                "lc": "black",
                "x": 293.8,
                "y": 192.5,
                "b": 0,
                "s": 1
              },
              {
                "p": 1,
                "lc": "black",
                "x": 293.8,
                "y": 192.5,
                "b": -5.714285714285714,
                "s": 1
              },
              {
                "p": 1,
                "lc": "black",
                "x": 289.8,
                "y": 193,
                "b": 0,
                "s": 1
              },
              {
                "p": 1,
                "lc": "black",
                "x": 289.8,
                "y": 193,
                "b": -5.714285714285714,
                "s": 1
              },
              {
                "p": 1,
                "lc": "black",
                "x": 285.90000000000003,
                "y": 193.9,
                "b": 0,
                "s": 1
              },
              {
                "p": 1,
                "lc": "black",
                "x": 285.90000000000003,
                "y": 193.9,
                "b": -5.714285714285714,
                "s": 1
              },
              {
                "p": 1,
                "lc": "black",
                "x": 282.1,
                "y": 195.20000000000002,
                "b": 0,
                "s": 1
              },
              {
                "p": 1,
                "lc": "black",
                "x": 282.1,
                "y": 195.20000000000002,
                "b": -5.714285714285714,
                "s": 1
              },
              {
                "p": 1,
                "lc": "black",
                "x": 278.5,
                "y": 196.8,
                "b": 0,
                "s": 1
              },
              {
                "p": 1,
                "lc": "black",
                "x": 278.5,
                "y": 196.8,
                "b": -5.714285714285714,
                "s": 1
              },
              {
                "p": 1,
                "lc": "black",
                "x": 275,
                "y": 198.8,
                "b": 0,
                "s": 1
              },
              {
                "p": 1,
                "lc": "black",
                "x": 275,
                "y": 198.8,
                "b": -5.714285714285714,
                "s": 1
              },
              {
                "p": 1,
                "lc": "black",
                "x": 271.7,
                "y": 201.10000000000002,
                "b": 0,
                "s": 1
              },
              {
                "p": 1,
                "lc": "black",
                "x": 271.7,
                "y": 201.10000000000002,
                "b": -5.714285714285714,
                "s": 1
              },
              {
                "p": 1,
                "lc": "black",
                "x": 268.7,
                "y": 203.70000000000002,
                "b": 0,
                "s": 1
              },
              {
                "p": 1,
                "lc": "black",
                "x": 268.7,
                "y": 203.70000000000002,
                "b": -5.714285714285714,
                "s": 1
              },
              {
                "p": 1,
                "lc": "black",
                "x": 268.7,
                "y": 203.70000000000002,
                "b": 2.857142857142857,
                "s": 1
              },
              {
                "p": 1,
                "lc": "black",
                "x": 268.7,
                "y": 203.70000000000002,
                "b": -100,
                "s": 1
              },
              {
                "p": 1,
                "lc": "black",
                "x": 268.7,
                "y": 203.70000000000002,
                "b": -2.857142857142857,
                "s": 1
              },
              {
                "p": 1,
                "lc": "black",
                "x": 272,
                "y": 205.9,
                "b": 0,
                "s": 1
              },
              {
                "p": 1,
                "lc": "black",
                "x": 272,
                "y": 205.9,
                "b": -5.714285714285714,
                "s": 1
              },
              {
                "p": 1,
                "lc": "black",
                "x": 275.5,
                "y": 207.70000000000002,
                "b": 0,
                "s": 1
              },
              {
                "p": 1,
                "lc": "black",
                "x": 275.5,
                "y": 207.70000000000002,
                "b": -5.714285714285714,
                "s": 1
              },
              {
                "p": 1,
                "lc": "black",
                "x": 279.2,
                "y": 209.20000000000002,
                "b": 0,
                "s": 1
              },
              {
                "p": 1,
                "lc": "black",
                "x": 279.2,
                "y": 209.20000000000002,
                "b": -5.714285714285714,
                "s": 1
              },
              {
                "p": 1,
                "lc": "black",
                "x": 283,
                "y": 210.3,
                "b": 0,
                "s": 1
              },
              {
                "p": 1,
                "lc": "black",
                "x": 283,
                "y": 210.3,
                "b": -5.714285714285714,
                "s": 1
              },
              {
                "p": 1,
                "lc": "black",
                "x": 286.9,
                "y": 211,
                "b": 0,
                "s": 1
              },
              {
                "p": 1,
                "lc": "black",
                "x": 286.9,
                "y": 211,
                "b": -5.714285714285714,
                "s": 1
              },
              {
                "p": 1,
                "lc": "black",
                "x": 290.9,
                "y": 211.3,
                "b": 0,
                "s": 1
              },
              {
                "p": 1,
                "lc": "black",
                "x": 290.9,
                "y": 211.3,
                "b": -5.714285714285714,
                "s": 1
              },
              {
                "p": 1,
                "lc": "black",
                "x": 294.9,
                "y": 211.20000000000002,
                "b": 0,
                "s": 1
              },
              {
                "p": 1,
                "lc": "black",
                "x": 294.9,
                "y": 211.20000000000002,
                "b": -5.714285714285714,
                "s": 1
              },
              {
                "p": 1,
                "lc": "black",
                "x": 298.9,
                "y": 210.70000000000002,
                "b": 0,
                "s": 1
              },
              {
                "p": 1,
                "lc": "black",
                "x": 298.9,
                "y": 210.70000000000002,
                "b": -5.714285714285714,
                "s": 1
              },
              {
                "p": 1,
                "lc": "black",
                "x": 302.79999999999995,
                "y": 209.8,
                "b": 0,
                "s": 1
              },
              {
                "p": 1,
                "lc": "black",
                "x": 302.79999999999995,
                "y": 209.8,
                "b": -5.714285714285714,
                "s": 1
              },
              {
                "p": 1,
                "lc": "black",
                "x": 306.59999999999997,
                "y": 208.5,
                "b": 0,
                "s": 1
              },
              {
                "p": 1,
                "lc": "black",
                "x": 306.59999999999997,
                "y": 208.5,
                "b": -5.714285714285714,
                "s": 1
              },
              {
                "p": 1,
                "lc": "black",
                "x": 310.2,
                "y": 206.9,
                "b": 0,
                "s": 1
              },
              {
                "p": 1,
                "lc": "black",
                "x": 310.2,
                "y": 206.9,
                "b": -5.714285714285714,
                "s": 1
              },
              {
                "p": 1,
                "lc": "black",
                "x": 313.7,
                "y": 204.9,
                "b": 0,
                "s": 1
              },
              {
                "p": 1,
                "lc": "black",
                "x": 313.7,
                "y": 204.9,
                "b": -5.714285714285714,
                "s": 1
              },
              {
                "p": 1,
                "lc": "black",
                "x": 317,
                "y": 202.6,
                "b": 0,
                "s": 1
              },
              {
                "p": 1,
                "lc": "black",
                "x": 317,
                "y": 202.6,
                "b": -5.714285714285714,
                "s": 1
              },
              {
                "p": 1,
                "lc": "black",
                "x": 320,
                "y": 200,
                "b": 0,
                "s": 1
              },
              {
                "p": 1,
                "lc": "black",
                "x": 320,
                "y": 200,
                "b": -5.714285714285714,
                "s": 1
              },
              {
                "p": 1,
                "lc": "black",
                "x": 320,
                "y": 200,
                "b": 2.857142857142857,
                "s": 1
              },
              {
                "p": 1,
                "lc": "black",
                "x": 320,
                "y": 200,
                "b": -100,
                "s": 1
              },
              {
                "p": 1,
                "lc": "black",
                "x": 320,
                "y": 200,
                "b": -36,
                "s": 1
              },
              {
                "p": 1,
                "lc": "black",
                "x": 320,
                "y": 200,
                "b": -2.857142857142857,
                "s": 1
              },
              {
                "p": 1,
                "lc": "black",
                "x": 316,
                "y": 200.2,
                "b": 0,
                "s": 1
              },
              {
                "p": 1,
                "lc": "black",
                "x": 316,
                "y": 200.2,
                "b": -5.714285714285714,
                "s": 1
              },
              {
                "p": 1,
                "lc": "black",
                "x": 312.1,
                "y": 200.79999999999998,
                "b": 0,
                "s": 1
              },
              {
                "p": 1,
                "lc": "black",
                "x": 312.1,
                "y": 200.79999999999998,
                "b": -5.714285714285714,
                "s": 1
              },
              {
                "p": 1,
                "lc": "black",
                "x": 308.20000000000005,
                "y": 201.79999999999998,
                "b": 0,
                "s": 1
              },
              {
                "p": 1,
                "lc": "black",
                "x": 308.20000000000005,
                "y": 201.79999999999998,
                "b": -5.714285714285714,
                "s": 1
              },
              {
                "p": 1,
                "lc": "black",
                "x": 304.50000000000006,
                "y": 203.2,
                "b": 0,
                "s": 1
              },
              {
                "p": 1,
                "lc": "black",
                "x": 304.50000000000006,
                "y": 203.2,
                "b": -5.714285714285714,
                "s": 1
              },
              {
                "p": 1,
                "lc": "black",
                "x": 300.90000000000003,
                "y": 204.89999999999998,
                "b": 0,
                "s": 1
              },
              {
                "p": 1,
                "lc": "black",
                "x": 300.90000000000003,
                "y": 204.89999999999998,
                "b": -5.714285714285714,
                "s": 1
              },
              {
                "p": 1,
                "lc": "black",
                "x": 297.50000000000006,
                "y": 206.99999999999997,
                "b": 0,
                "s": 1
              },
              {
                "p": 1,
                "lc": "black",
                "x": 297.50000000000006,
                "y": 206.99999999999997,
                "b": -5.714285714285714,
                "s": 1
              },
              {
                "p": 1,
                "lc": "black",
                "x": 294.30000000000007,
                "y": 209.39999999999998,
                "b": 0,
                "s": 1
              },
              {
                "p": 1,
                "lc": "black",
                "x": 294.30000000000007,
                "y": 209.39999999999998,
                "b": -5.714285714285714,
                "s": 1
              },
              {
                "p": 1,
                "lc": "black",
                "x": 291.4000000000001,
                "y": 212.09999999999997,
                "b": 0,
                "s": 1
              },
              {
                "p": 1,
                "lc": "black",
                "x": 291.4000000000001,
                "y": 212.09999999999997,
                "b": -5.714285714285714,
                "s": 1
              },
              {
                "p": 1,
                "lc": "black",
                "x": 288.80000000000007,
                "y": 215.09999999999997,
                "b": 0,
                "s": 1
              },
              {
                "p": 1,
                "lc": "black",
                "x": 288.80000000000007,
                "y": 215.09999999999997,
                "b": -5.714285714285714,
                "s": 1
              },
              {
                "p": 1,
                "lc": "black",
                "x": 286.50000000000006,
                "y": 218.29999999999995,
                "b": 0,
                "s": 1
              },
              {
                "p": 1,
                "lc": "black",
                "x": 286.50000000000006,
                "y": 218.29999999999995,
                "b": -5.714285714285714,
                "s": 1
              },
              {
                "p": 1,
                "lc": "black",
                "x": 284.50000000000006,
                "y": 221.79999999999995,
                "b": 0,
                "s": 1
              },
              {
                "p": 1,
                "lc": "black",
                "x": 284.50000000000006,
                "y": 221.79999999999995,
                "b": -5.714285714285714,
                "s": 1
              },
              {
                "p": 1,
                "lc": "black",
                "x": 282.90000000000003,
                "y": 225.39999999999995,
                "b": 0,
                "s": 1
              },
              {
                "p": 1,
                "lc": "black",
                "x": 282.90000000000003,
                "y": 225.39999999999995,
                "b": -5.714285714285714,
                "s": 1
              },
              {
                "p": 1,
                "lc": "black",
                "x": 281.6,
                "y": 229.19999999999996,
                "b": 0,
                "s": 1
              },
              {
                "p": 1,
                "lc": "black",
                "x": 281.6,
                "y": 229.19999999999996,
                "b": -5.714285714285714,
                "s": 1
              },
              {
                "p": 1,
                "lc": "black",
                "x": 280.70000000000005,
                "y": 233.09999999999997,
                "b": 0,
                "s": 1
              },
              {
                "p": 1,
                "lc": "black",
                "x": 280.70000000000005,
                "y": 233.09999999999997,
                "b": -5.714285714285714,
                "s": 1
              },
              {
                "p": 1,
                "lc": "black",
                "x": 280.70000000000005,
                "y": 233.09999999999997,
                "b": 2.857142857142857,
                "s": 1
              },
              {
                "p": 1,
                "lc": "black",
                "x": 280.70000000000005,
                "y": 233.09999999999997,
                "b": -100,
                "s": 1
              },
              {
                "p": 1,
                "lc": "black",
                "x": 280.70000000000005,
                "y": 233.09999999999997,
                "b": -2.857142857142857,
                "s": 1
              },
              {
                "p": 1,
                "lc": "black",
                "x": 284.70000000000005,
                "y": 232.89999999999998,
                "b": 0,
                "s": 1
              },
              {
                "p": 1,
                "lc": "black",
                "x": 284.70000000000005,
                "y": 232.89999999999998,
                "b": -5.714285714285714,
                "s": 1
              },
              {
                "p": 1,
                "lc": "black",
                "x": 288.6,
                "y": 232.29999999999998,
                "b": 0,
                "s": 1
              },
              {
                "p": 1,
                "lc": "black",
                "x": 288.6,
                "y": 232.29999999999998,
                "b": -5.714285714285714,
                "s": 1
              },
              {
                "p": 1,
                "lc": "black",
                "x": 292.5,
                "y": 231.29999999999998,
                "b": 0,
                "s": 1
              },
              {
                "p": 1,
                "lc": "black",
                "x": 292.5,
                "y": 231.29999999999998,
                "b": -5.714285714285714,
                "s": 1
              },
              {
                "p": 1,
                "lc": "black",
                "x": 296.2,
                "y": 229.89999999999998,
                "b": 0,
                "s": 1
              },
              {
                "p": 1,
                "lc": "black",
                "x": 296.2,
                "y": 229.89999999999998,
                "b": -5.714285714285714,
                "s": 1
              },
              {
                "p": 1,
                "lc": "black",
                "x": 299.8,
                "y": 228.2,
                "b": 0,
                "s": 1
              },
              {
                "p": 1,
                "lc": "black",
                "x": 299.8,
                "y": 228.2,
                "b": -5.714285714285714,
                "s": 1
              },
              {
                "p": 1,
                "lc": "black",
                "x": 303.2,
                "y": 226.1,
                "b": 0,
                "s": 1
              },
              {
                "p": 1,
                "lc": "black",
                "x": 303.2,
                "y": 226.1,
                "b": -5.714285714285714,
                "s": 1
              },
              {
                "p": 1,
                "lc": "black",
                "x": 306.4,
                "y": 223.7,
                "b": 0,
                "s": 1
              },
              {
                "p": 1,
                "lc": "black",
                "x": 306.4,
                "y": 223.7,
                "b": -5.714285714285714,
                "s": 1
              },
              {
                "p": 1,
                "lc": "black",
                "x": 309.29999999999995,
                "y": 221,
                "b": 0,
                "s": 1
              },
              {
                "p": 1,
                "lc": "black",
                "x": 309.29999999999995,
                "y": 221,
                "b": -5.714285714285714,
                "s": 1
              },
              {
                "p": 1,
                "lc": "black",
                "x": 311.9,
                "y": 218,
                "b": 0,
                "s": 1
              },
              {
                "p": 1,
                "lc": "black",
                "x": 311.9,
                "y": 218,
                "b": -5.714285714285714,
                "s": 1
              },
              {
                "p": 1,
                "lc": "black",
                "x": 314.2,
                "y": 214.8,
                "b": 0,
                "s": 1
              },
              {
                "p": 1,
                "lc": "black",
                "x": 314.2,
                "y": 214.8,
                "b": -5.714285714285714,
                "s": 1
              },
              {
                "p": 1,
                "lc": "black",
                "x": 316.2,
                "y": 211.3,
                "b": 0,
                "s": 1
              },
              {
                "p": 1,
                "lc": "black",
                "x": 316.2,
                "y": 211.3,
                "b": -5.714285714285714,
                "s": 1
              },
              {
                "p": 1,
                "lc": "black",
                "x": 317.8,
                "y": 207.70000000000002,
                "b": 0,
                "s": 1
              },
              {
                "p": 1,
                "lc": "black",
                "x": 317.8,
                "y": 207.70000000000002,
                "b": -5.714285714285714,
                "s": 1
              },
              {
                "p": 1,
                "lc": "black",
                "x": 319.1,
                "y": 203.9,
                "b": 0,
                "s": 1
              },
              {
                "p": 1,
                "lc": "black",
                "x": 319.1,
                "y": 203.9,
                "b": -5.714285714285714,
                "s": 1
              },
              {
                "p": 1,
                "lc": "black",
                "x": 320,
                "y": 200,
                "b": 0,
                "s": 1
              },
              {
                "p": 1,
                "lc": "black",
                "x": 320,
                "y": 200,
                "b": -5.714285714285714,
                "s": 1
              },
              {
                "p": 1,
                "lc": "black",
                "x": 320,
                "y": 200,
                "b": 2.857142857142857,
                "s": 1
              },
              {
                "p": 1,
                "lc": "black",
                "x": 320,
                "y": 200,
                "b": -100,
                "s": 1
              },
              {
                "p": 1,
                "lc": "black",
                "x": 320,
                "y": 200,
                "b": -36,
                "s": 1
              },
              {
                "p": 1,
                "lc": "black",
                "x": 320,
                "y": 200,
                "b": -2.857142857142857,
                "s": 1
              },
              {
                "p": 1,
                "lc": "black",
                "x": 316.9,
                "y": 202.5,
                "b": 0,
                "s": 1
              },
              {
                "p": 1,
                "lc": "black",
                "x": 316.9,
                "y": 202.5,
                "b": -5.714285714285714,
                "s": 1
              },
              {
                "p": 1,
                "lc": "black",
                "x": 314.09999999999997,
                "y": 205.3,
                "b": 0,
                "s": 1
              },
              {
                "p": 1,
                "lc": "black",
                "x": 314.09999999999997,
                "y": 205.3,
                "b": -5.714285714285714,
                "s": 1
              },
              {
                "p": 1,
                "lc": "black",
                "x": 311.59999999999997,
                "y": 208.4,
                "b": 0,
                "s": 1
              },
              {
                "p": 1,
                "lc": "black",
                "x": 311.59999999999997,
                "y": 208.4,
                "b": -5.714285714285714,
                "s": 1
              },
              {
                "p": 1,
                "lc": "black",
                "x": 309.4,
                "y": 211.70000000000002,
                "b": 0,
                "s": 1
              },
              {
                "p": 1,
                "lc": "black",
                "x": 309.4,
                "y": 211.70000000000002,
                "b": -5.714285714285714,
                "s": 1
              },
              {
                "p": 1,
                "lc": "black",
                "x": 307.5,
                "y": 215.20000000000002,
                "b": 0,
                "s": 1
              },
              {
                "p": 1,
                "lc": "black",
                "x": 307.5,
                "y": 215.20000000000002,
                "b": -5.714285714285714,
                "s": 1
              },
              {
                "p": 1,
                "lc": "black",
                "x": 306,
                "y": 218.9,
                "b": 0,
                "s": 1
              },
              {
                "p": 1,
                "lc": "black",
                "x": 306,
                "y": 218.9,
                "b": -5.714285714285714,
                "s": 1
              },
              {
                "p": 1,
                "lc": "black",
                "x": 304.8,
                "y": 222.70000000000002,
                "b": 0,
                "s": 1
              },
              {
                "p": 1,
                "lc": "black",
                "x": 304.8,
                "y": 222.70000000000002,
                "b": -5.714285714285714,
                "s": 1
              },
              {
                "p": 1,
                "lc": "black",
                "x": 304,
                "y": 226.60000000000002,
                "b": 0,
                "s": 1
              },
              {
                "p": 1,
                "lc": "black",
                "x": 304,
                "y": 226.60000000000002,
                "b": -5.714285714285714,
                "s": 1
              },
              {
                "p": 1,
                "lc": "black",
                "x": 303.6,
                "y": 230.60000000000002,
                "b": 0,
                "s": 1
              },
              {
                "p": 1,
                "lc": "black",
                "x": 303.6,
                "y": 230.60000000000002,
                "b": -5.714285714285714,
                "s": 1
              },
              {
                "p": 1,
                "lc": "black",
                "x": 303.6,
                "y": 234.60000000000002,
                "b": 0,
                "s": 1
              },
              {
                "p": 1,
                "lc": "black",
                "x": 303.6,
                "y": 234.60000000000002,
                "b": -5.714285714285714,
                "s": 1
              },
              {
                "p": 1,
                "lc": "black",
                "x": 304,
                "y": 238.60000000000002,
                "b": 0,
                "s": 1
              },
              {
                "p": 1,
                "lc": "black",
                "x": 304,
                "y": 238.60000000000002,
                "b": -5.714285714285714,
                "s": 1
              },
              {
                "p": 1,
                "lc": "black",
                "x": 304.8,
                "y": 242.50000000000003,
                "b": 0,
                "s": 1
              },
              {
                "p": 1,
                "lc": "black",
                "x": 304.8,
                "y": 242.50000000000003,
                "b": -5.714285714285714,
                "s": 1
              },
              {
                "p": 1,
                "lc": "black",
                "x": 306,
                "y": 246.30000000000004,
                "b": 0,
                "s": 1
              },
              {
                "p": 1,
                "lc": "black",
                "x": 306,
                "y": 246.30000000000004,
                "b": -5.714285714285714,
                "s": 1
              },
              {
                "p": 1,
                "lc": "black",
                "x": 307.6,
                "y": 250.00000000000003,
                "b": 0,
                "s": 1
              },
              {
                "p": 1,
                "lc": "black",
                "x": 307.6,
                "y": 250.00000000000003,
                "b": -5.714285714285714,
                "s": 1
              },
              {
                "p": 1,
                "lc": "black",
                "x": 307.6,
                "y": 250.00000000000003,
                "b": 2.857142857142857,
                "s": 1
              },
              {
                "p": 1,
                "lc": "black",
                "x": 307.6,
                "y": 250.00000000000003,
                "b": -100,
                "s": 1
              },
              {
                "p": 1,
                "lc": "black",
                "x": 307.6,
                "y": 250.00000000000003,
                "b": -2.857142857142857,
                "s": 1
              },
              {
                "p": 1,
                "lc": "black",
                "x": 310.70000000000005,
                "y": 247.50000000000003,
                "b": 0,
                "s": 1
              },
              {
                "p": 1,
                "lc": "black",
                "x": 310.70000000000005,
                "y": 247.50000000000003,
                "b": -5.714285714285714,
                "s": 1
              },
              {
                "p": 1,
                "lc": "black",
                "x": 313.50000000000006,
                "y": 244.70000000000002,
                "b": 0,
                "s": 1
              },
              {
                "p": 1,
                "lc": "black",
                "x": 313.50000000000006,
                "y": 244.70000000000002,
                "b": -5.714285714285714,
                "s": 1
              },
              {
                "p": 1,
                "lc": "black",
                "x": 316.00000000000006,
                "y": 241.60000000000002,
                "b": 0,
                "s": 1
              },
              {
                "p": 1,
                "lc": "black",
                "x": 316.00000000000006,
                "y": 241.60000000000002,
                "b": -5.714285714285714,
                "s": 1
              },
              {
                "p": 1,
                "lc": "black",
                "x": 318.20000000000005,
                "y": 238.3,
                "b": 0,
                "s": 1
              },
              {
                "p": 1,
                "lc": "black",
                "x": 318.20000000000005,
                "y": 238.3,
                "b": -5.714285714285714,
                "s": 1
              },
              {
                "p": 1,
                "lc": "black",
                "x": 320.1,
                "y": 234.8,
                "b": 0,
                "s": 1
              },
              {
                "p": 1,
                "lc": "black",
                "x": 320.1,
                "y": 234.8,
                "b": -5.714285714285714,
                "s": 1
              },
              {
                "p": 1,
                "lc": "black",
                "x": 321.6,
                "y": 231.10000000000002,
                "b": 0,
                "s": 1
              },
              {
                "p": 1,
                "lc": "black",
                "x": 321.6,
                "y": 231.10000000000002,
                "b": -5.714285714285714,
                "s": 1
              },
              {
                "p": 1,
                "lc": "black",
                "x": 322.8,
                "y": 227.3,
                "b": 0,
                "s": 1
              },
              {
                "p": 1,
                "lc": "black",
                "x": 322.8,
                "y": 227.3,
                "b": -5.714285714285714,
                "s": 1
              },
              {
                "p": 1,
                "lc": "black",
                "x": 323.6,
                "y": 223.4,
                "b": 0,
                "s": 1
              },
              {
                "p": 1,
                "lc": "black",
                "x": 323.6,
                "y": 223.4,
                "b": -5.714285714285714,
                "s": 1
              },
              {
                "p": 1,
                "lc": "black",
                "x": 324,
                "y": 219.4,
                "b": 0,
                "s": 1
              },
              {
                "p": 1,
                "lc": "black",
                "x": 324,
                "y": 219.4,
                "b": -5.714285714285714,
                "s": 1
              },
              {
                "p": 1,
                "lc": "black",
                "x": 324,
                "y": 215.4,
                "b": 0,
                "s": 1
              },
              {
                "p": 1,
                "lc": "black",
                "x": 324,
                "y": 215.4,
                "b": -5.714285714285714,
                "s": 1
              },
              {
                "p": 1,
                "lc": "black",
                "x": 323.6,
                "y": 211.4,
                "b": 0,
                "s": 1
              },
              {
                "p": 1,
                "lc": "black",
                "x": 323.6,
                "y": 211.4,
                "b": -5.714285714285714,
                "s": 1
              },
              {
                "p": 1,
                "lc": "black",
                "x": 322.8,
                "y": 207.5,
                "b": 0,
                "s": 1
              },
              {
                "p": 1,
                "lc": "black",
                "x": 322.8,
                "y": 207.5,
                "b": -5.714285714285714,
                "s": 1
              },
              {
                "p": 1,
                "lc": "black",
                "x": 321.6,
                "y": 203.7,
                "b": 0,
                "s": 1
              },
              {
                "p": 1,
                "lc": "black",
                "x": 321.6,
                "y": 203.7,
                "b": -5.714285714285714,
                "s": 1
              },
              {
                "p": 1,
                "lc": "black",
                "x": 320,
                "y": 200,
                "b": 0,
                "s": 1
              },
              {
                "p": 1,
                "lc": "black",
                "x": 320,
                "y": 200,
                "b": -5.714285714285714,
                "s": 1
              },
              {
                "p": 1,
                "lc": "black",
                "x": 320,
                "y": 200,
                "b": 2.857142857142857,
                "s": 1
              },
              {
                "p": 1,
                "lc": "black",
                "x": 320,
                "y": 200,
                "b": -100,
                "s": 1
              },
              {
                "p": 1,
                "lc": "black",
                "x": 320,
                "y": 200,
                "b": -36,
                "s": 1
              },
              {
                "p": 1,
                "lc": "black",
                "x": 320,
                "y": 200,
                "b": -2.857142857142857,
                "s": 1
              },
              {
                "p": 1,
                "lc": "black",
                "x": 319,
                "y": 203.9,
                "b": 0,
                "s": 1
              },
              {
                "p": 1,
                "lc": "black",
                "x": 319,
                "y": 203.9,
                "b": -5.714285714285714,
                "s": 1
              },
              {
                "p": 1,
                "lc": "black",
                "x": 318.3,
                "y": 207.8,
                "b": 0,
                "s": 1
              },
              {
                "p": 1,
                "lc": "black",
                "x": 318.3,
                "y": 207.8,
                "b": -5.714285714285714,
                "s": 1
              },
              {
                "p": 1,
                "lc": "black",
                "x": 318,
                "y": 211.8,
                "b": 0,
                "s": 1
              },
              {
                "p": 1,
                "lc": "black",
                "x": 318,
                "y": 211.8,
                "b": -5.714285714285714,
                "s": 1
              },
              {
                "p": 1,
                "lc": "black",
                "x": 318.1,
                "y": 215.8,
                "b": 0,
                "s": 1
              },
              {
                "p": 1,
                "lc": "black",
                "x": 318.1,
                "y": 215.8,
                "b": -5.714285714285714,
                "s": 1
              },
              {
                "p": 1,
                "lc": "black",
                "x": 318.6,
                "y": 219.8,
                "b": 0,
                "s": 1
              },
              {
                "p": 1,
                "lc": "black",
                "x": 318.6,
                "y": 219.8,
                "b": -5.714285714285714,
                "s": 1
              },
              {
                "p": 1,
                "lc": "black",
                "x": 319.5,
                "y": 223.70000000000002,
                "b": 0,
                "s": 1
              },
              {
                "p": 1,
                "lc": "black",
                "x": 319.5,
                "y": 223.70000000000002,
                "b": -5.714285714285714,
                "s": 1
              },
              {
                "p": 1,
                "lc": "black",
                "x": 320.8,
                "y": 227.50000000000003,
                "b": 0,
                "s": 1
              },
              {
                "p": 1,
                "lc": "black",
                "x": 320.8,
                "y": 227.50000000000003,
                "b": -5.714285714285714,
                "s": 1
              },
              {
                "p": 1,
                "lc": "black",
                "x": 322.5,
                "y": 231.10000000000002,
                "b": 0,
                "s": 1
              },
              {
                "p": 1,
                "lc": "black",
                "x": 322.5,
                "y": 231.10000000000002,
                "b": -5.714285714285714,
                "s": 1
              },
              {
                "p": 1,
                "lc": "black",
                "x": 324.5,
                "y": 234.50000000000003,
                "b": 0,
                "s": 1
              },
              {
                "p": 1,
                "lc": "black",
                "x": 324.5,
                "y": 234.50000000000003,
                "b": -5.714285714285714,
                "s": 1
              },
              {
                "p": 1,
                "lc": "black",
                "x": 326.9,
                "y": 237.70000000000002,
                "b": 0,
                "s": 1
              },
              {
                "p": 1,
                "lc": "black",
                "x": 326.9,
                "y": 237.70000000000002,
                "b": -5.714285714285714,
                "s": 1
              },
              {
                "p": 1,
                "lc": "black",
                "x": 329.59999999999997,
                "y": 240.70000000000002,
                "b": 0,
                "s": 1
              },
              {
                "p": 1,
                "lc": "black",
                "x": 329.59999999999997,
                "y": 240.70000000000002,
                "b": -5.714285714285714,
                "s": 1
              },
              {
                "p": 1,
                "lc": "black",
                "x": 332.59999999999997,
                "y": 243.4,
                "b": 0,
                "s": 1
              },
              {
                "p": 1,
                "lc": "black",
                "x": 332.59999999999997,
                "y": 243.4,
                "b": -5.714285714285714,
                "s": 1
              },
              {
                "p": 1,
                "lc": "black",
                "x": 335.79999999999995,
                "y": 245.8,
                "b": 0,
                "s": 1
              },
              {
                "p": 1,
                "lc": "black",
                "x": 335.79999999999995,
                "y": 245.8,
                "b": -5.714285714285714,
                "s": 1
              },
              {
                "p": 1,
                "lc": "black",
                "x": 339.19999999999993,
                "y": 247.8,
                "b": 0,
                "s": 1
              },
              {
                "p": 1,
                "lc": "black",
                "x": 339.19999999999993,
                "y": 247.8,
                "b": -5.714285714285714,
                "s": 1
              },
              {
                "p": 1,
                "lc": "black",
                "x": 339.19999999999993,
                "y": 247.8,
                "b": 2.857142857142857,
                "s": 1
              },
              {
                "p": 1,
                "lc": "black",
                "x": 339.19999999999993,
                "y": 247.8,
                "b": -100,
                "s": 1
              },
              {
                "p": 1,
                "lc": "black",
                "x": 339.19999999999993,
                "y": 247.8,
                "b": -2.857142857142857,
                "s": 1
              },
              {
                "p": 1,
                "lc": "black",
                "x": 340.19999999999993,
                "y": 243.9,
                "b": 0,
                "s": 1
              },
              {
                "p": 1,
                "lc": "black",
                "x": 340.19999999999993,
                "y": 243.9,
                "b": -5.714285714285714,
                "s": 1
              },
              {
                "p": 1,
                "lc": "black",
                "x": 340.8999999999999,
                "y": 240,
                "b": 0,
                "s": 1
              },
              {
                "p": 1,
                "lc": "black",
                "x": 340.8999999999999,
                "y": 240,
                "b": -5.714285714285714,
                "s": 1
              },
              {
                "p": 1,
                "lc": "black",
                "x": 341.19999999999993,
                "y": 236,
                "b": 0,
                "s": 1
              },
              {
                "p": 1,
                "lc": "black",
                "x": 341.19999999999993,
                "y": 236,
                "b": -5.714285714285714,
                "s": 1
              },
              {
                "p": 1,
                "lc": "black",
                "x": 341.0999999999999,
                "y": 232,
                "b": 0,
                "s": 1
              },
              {
                "p": 1,
                "lc": "black",
                "x": 341.0999999999999,
                "y": 232,
                "b": -5.714285714285714,
                "s": 1
              },
              {
                "p": 1,
                "lc": "black",
                "x": 340.5999999999999,
                "y": 228,
                "b": 0,
                "s": 1
              },
              {
                "p": 1,
                "lc": "black",
                "x": 340.5999999999999,
                "y": 228,
                "b": -5.714285714285714,
                "s": 1
              },
              {
                "p": 1,
                "lc": "black",
                "x": 339.69999999999993,
                "y": 224.1,
                "b": 0,
                "s": 1
              },
              {
                "p": 1,
                "lc": "black",
                "x": 339.69999999999993,
                "y": 224.1,
                "b": -5.714285714285714,
                "s": 1
              },
              {
                "p": 1,
                "lc": "black",
                "x": 338.3999999999999,
                "y": 220.29999999999998,
                "b": 0,
                "s": 1
              },
              {
                "p": 1,
                "lc": "black",
                "x": 338.3999999999999,
                "y": 220.29999999999998,
                "b": -5.714285714285714,
                "s": 1
              },
              {
                "p": 1,
                "lc": "black",
                "x": 336.69999999999993,
                "y": 216.7,
                "b": 0,
                "s": 1
              },
              {
                "p": 1,
                "lc": "black",
                "x": 336.69999999999993,
                "y": 216.7,
                "b": -5.714285714285714,
                "s": 1
              },
              {
                "p": 1,
                "lc": "black",
                "x": 334.69999999999993,
                "y": 213.29999999999998,
                "b": 0,
                "s": 1
              },
              {
                "p": 1,
                "lc": "black",
                "x": 334.69999999999993,
                "y": 213.29999999999998,
                "b": -5.714285714285714,
                "s": 1
              },
              {
                "p": 1,
                "lc": "black",
                "x": 332.29999999999995,
                "y": 210.1,
                "b": 0,
                "s": 1
              },
              {
                "p": 1,
                "lc": "black",
                "x": 332.29999999999995,
                "y": 210.1,
                "b": -5.714285714285714,
                "s": 1
              },
              {
                "p": 1,
                "lc": "black",
                "x": 329.59999999999997,
                "y": 207.1,
                "b": 0,
                "s": 1
              },
              {
                "p": 1,
                "lc": "black",
                "x": 329.59999999999997,
                "y": 207.1,
                "b": -5.714285714285714,
                "s": 1
              },
              {
                "p": 1,
                "lc": "black",
                "x": 326.59999999999997,
                "y": 204.4,
                "b": 0,
                "s": 1
              },
              {
                "p": 1,
                "lc": "black",
                "x": 326.59999999999997,
                "y": 204.4,
                "b": -5.714285714285714,
                "s": 1
              },
              {
                "p": 1,
                "lc": "black",
                "x": 323.4,
                "y": 202,
                "b": 0,
                "s": 1
              },
              {
                "p": 1,
                "lc": "black",
                "x": 323.4,
                "y": 202,
                "b": -5.714285714285714,
                "s": 1
              },
              {
                "p": 1,
                "lc": "black",
                "x": 320,
                "y": 200,
                "b": 0,
                "s": 1
              },
              {
                "p": 1,
                "lc": "black",
                "x": 320,
                "y": 200,
                "b": -5.714285714285714,
                "s": 1
              },
              {
                "p": 1,
                "lc": "black",
                "x": 320,
                "y": 200,
                "b": 2.857142857142857,
                "s": 1
              },
              {
                "p": 1,
                "lc": "black",
                "x": 320,
                "y": 200,
                "b": -100,
                "s": 1
              },
              {
                "p": 1,
                "lc": "black",
                "x": 320,
                "y": 200,
                "b": -36,
                "s": 1
              },
              {
                "p": 1,
                "lc": "black",
                "x": 320,
                "y": 200,
                "b": -2.857142857142857,
                "s": 1
              },
              {
                "p": 1,
                "lc": "black",
                "x": 321.4,
                "y": 203.7,
                "b": 0,
                "s": 1
              },
              {
                "p": 1,
                "lc": "black",
                "x": 321.4,
                "y": 203.7,
                "b": -5.714285714285714,
                "s": 1
              },
              {
                "p": 1,
                "lc": "black",
                "x": 323.2,
                "y": 207.29999999999998,
                "b": 0,
                "s": 1
              },
              {
                "p": 1,
                "lc": "black",
                "x": 323.2,
                "y": 207.29999999999998,
                "b": -5.714285714285714,
                "s": 1
              },
              {
                "p": 1,
                "lc": "black",
                "x": 325.3,
                "y": 210.7,
                "b": 0,
                "s": 1
              },
              {
                "p": 1,
                "lc": "black",
                "x": 325.3,
                "y": 210.7,
                "b": -5.714285714285714,
                "s": 1
              },
              {
                "p": 1,
                "lc": "black",
                "x": 327.8,
                "y": 213.79999999999998,
                "b": 0,
                "s": 1
              },
              {
                "p": 1,
                "lc": "black",
                "x": 327.8,
                "y": 213.79999999999998,
                "b": -5.714285714285714,
                "s": 1
              },
              {
                "p": 1,
                "lc": "black",
                "x": 330.6,
                "y": 216.7,
                "b": 0,
                "s": 1
              },
              {
                "p": 1,
                "lc": "black",
                "x": 330.6,
                "y": 216.7,
                "b": -5.714285714285714,
                "s": 1
              },
              {
                "p": 1,
                "lc": "black",
                "x": 333.6,
                "y": 219.29999999999998,
                "b": 0,
                "s": 1
              },
              {
                "p": 1,
                "lc": "black",
                "x": 333.6,
                "y": 219.29999999999998,
                "b": -5.714285714285714,
                "s": 1
              },
              {
                "p": 1,
                "lc": "black",
                "x": 336.90000000000003,
                "y": 221.6,
                "b": 0,
                "s": 1
              },
              {
                "p": 1,
                "lc": "black",
                "x": 336.90000000000003,
                "y": 221.6,
                "b": -5.714285714285714,
                "s": 1
              },
              {
                "p": 1,
                "lc": "black",
                "x": 340.40000000000003,
                "y": 223.5,
                "b": 0,
                "s": 1
              },
              {
                "p": 1,
                "lc": "black",
                "x": 340.40000000000003,
                "y": 223.5,
                "b": -5.714285714285714,
                "s": 1
              },
              {
                "p": 1,
                "lc": "black",
                "x": 344.1,
                "y": 225.1,
                "b": 0,
                "s": 1
              },
              {
                "p": 1,
                "lc": "black",
                "x": 344.1,
                "y": 225.1,
                "b": -5.714285714285714,
                "s": 1
              },
              {
                "p": 1,
                "lc": "black",
                "x": 347.90000000000003,
                "y": 226.29999999999998,
                "b": 0,
                "s": 1
              },
              {
                "p": 1,
                "lc": "black",
                "x": 347.90000000000003,
                "y": 226.29999999999998,
                "b": -5.714285714285714,
                "s": 1
              },
              {
                "p": 1,
                "lc": "black",
                "x": 351.8,
                "y": 227.1,
                "b": 0,
                "s": 1
              },
              {
                "p": 1,
                "lc": "black",
                "x": 351.8,
                "y": 227.1,
                "b": -5.714285714285714,
                "s": 1
              },
              {
                "p": 1,
                "lc": "black",
                "x": 355.8,
                "y": 227.5,
                "b": 0,
                "s": 1
              },
              {
                "p": 1,
                "lc": "black",
                "x": 355.8,
                "y": 227.5,
                "b": -5.714285714285714,
                "s": 1
              },
              {
                "p": 1,
                "lc": "black",
                "x": 359.8,
                "y": 227.5,
                "b": 0,
                "s": 1
              },
              {
                "p": 1,
                "lc": "black",
                "x": 359.8,
                "y": 227.5,
                "b": -5.714285714285714,
                "s": 1
              },
              {
                "p": 1,
                "lc": "black",
                "x": 363.8,
                "y": 227.1,
                "b": 0,
                "s": 1
              },
              {
                "p": 1,
                "lc": "black",
                "x": 363.8,
                "y": 227.1,
                "b": -5.714285714285714,
                "s": 1
              },
              {
                "p": 1,
                "lc": "black",
                "x": 363.8,
                "y": 227.1,
                "b": 2.857142857142857,
                "s": 1
              },
              {
                "p": 1,
                "lc": "black",
                "x": 363.8,
                "y": 227.1,
                "b": -100,
                "s": 1
              },
              {
                "p": 1,
                "lc": "black",
                "x": 363.8,
                "y": 227.1,
                "b": -2.857142857142857,
                "s": 1
              },
              {
                "p": 1,
                "lc": "black",
                "x": 362.40000000000003,
                "y": 223.4,
                "b": 0,
                "s": 1
              },
              {
                "p": 1,
                "lc": "black",
                "x": 362.40000000000003,
                "y": 223.4,
                "b": -5.714285714285714,
                "s": 1
              },
              {
                "p": 1,
                "lc": "black",
                "x": 360.6,
                "y": 219.8,
                "b": 0,
                "s": 1
              },
              {
                "p": 1,
                "lc": "black",
                "x": 360.6,
                "y": 219.8,
                "b": -5.714285714285714,
                "s": 1
              },
              {
                "p": 1,
                "lc": "black",
                "x": 358.5,
                "y": 216.4,
                "b": 0,
                "s": 1
              },
              {
                "p": 1,
                "lc": "black",
                "x": 358.5,
                "y": 216.4,
                "b": -5.714285714285714,
                "s": 1
              },
              {
                "p": 1,
                "lc": "black",
                "x": 356,
                "y": 213.3,
                "b": 0,
                "s": 1
              },
              {
                "p": 1,
                "lc": "black",
                "x": 356,
                "y": 213.3,
                "b": -5.714285714285714,
                "s": 1
              },
              {
                "p": 1,
                "lc": "black",
                "x": 353.2,
                "y": 210.4,
                "b": 0,
                "s": 1
              },
              {
                "p": 1,
                "lc": "black",
                "x": 353.2,
                "y": 210.4,
                "b": -5.714285714285714,
                "s": 1
              },
              {
                "p": 1,
                "lc": "black",
                "x": 350.2,
                "y": 207.8,
                "b": 0,
                "s": 1
              },
              {
                "p": 1,
                "lc": "black",
                "x": 350.2,
                "y": 207.8,
                "b": -5.714285714285714,
                "s": 1
              },
              {
                "p": 1,
                "lc": "black",
                "x": 346.9,
                "y": 205.5,
                "b": 0,
                "s": 1
              },
              {
                "p": 1,
                "lc": "black",
                "x": 346.9,
                "y": 205.5,
                "b": -5.714285714285714,
                "s": 1
              },
              {
                "p": 1,
                "lc": "black",
                "x": 343.4,
                "y": 203.6,
                "b": 0,
                "s": 1
              },
              {
                "p": 1,
                "lc": "black",
                "x": 343.4,
                "y": 203.6,
                "b": -5.714285714285714,
                "s": 1
              },
              {
                "p": 1,
                "lc": "black",
                "x": 339.7,
                "y": 202,
                "b": 0,
                "s": 1
              },
              {
                "p": 1,
                "lc": "black",
                "x": 339.7,
                "y": 202,
                "b": -5.714285714285714,
                "s": 1
              },
              {
                "p": 1,
                "lc": "black",
                "x": 335.9,
                "y": 200.8,
                "b": 0,
                "s": 1
              },
              {
                "p": 1,
                "lc": "black",
                "x": 335.9,
                "y": 200.8,
                "b": -5.714285714285714,
                "s": 1
              },
              {
                "p": 1,
                "lc": "black",
                "x": 332,
                "y": 200,
                "b": 0,
                "s": 1
              },
              {
                "p": 1,
                "lc": "black",
                "x": 332,
                "y": 200,
                "b": -5.714285714285714,
                "s": 1
              },
              {
                "p": 1,
                "lc": "black",
                "x": 328,
                "y": 199.6,
                "b": 0,
                "s": 1
              },
              {
                "p": 1,
                "lc": "black",
                "x": 328,
                "y": 199.6,
                "b": -5.714285714285714,
                "s": 1
              },
              {
                "p": 1,
                "lc": "black",
                "x": 324,
                "y": 199.6,
                "b": 0,
                "s": 1
              },
              {
                "p": 1,
                "lc": "black",
                "x": 324,
                "y": 199.6,
                "b": -5.714285714285714,
                "s": 1
              },
              {
                "p": 1,
                "lc": "black",
                "x": 320,
                "y": 200,
                "b": 0,
                "s": 1
              },
              {
                "p": 1,
                "lc": "black",
                "x": 320,
                "y": 200,
                "b": -5.714285714285714,
                "s": 1
              },
              {
                "p": 1,
                "lc": "black",
                "x": 320,
                "y": 200,
                "b": 2.857142857142857,
                "s": 1
              },
              {
                "p": 1,
                "lc": "black",
                "x": 320,
                "y": 200,
                "b": -100,
                "s": 1
              },
              {
                "p": 1,
                "lc": "black",
                "x": 320,
                "y": 200,
                "b": -36,
                "s": 1
              },
              {
                "p": 1,
                "lc": "black",
                "x": 320,
                "y": 200,
                "b": -2.857142857142857,
                "s": 1
              },
              {
                "p": 1,
                "lc": "black",
                "x": 323.3,
                "y": 202.2,
                "b": 0,
                "s": 1
              },
              {
                "p": 1,
                "lc": "black",
                "x": 323.3,
                "y": 202.2,
                "b": -5.714285714285714,
                "s": 1
              },
              {
                "p": 1,
                "lc": "black",
                "x": 326.8,
                "y": 204,
                "b": 0,
                "s": 1
              },
              {
                "p": 1,
                "lc": "black",
                "x": 326.8,
                "y": 204,
                "b": -5.714285714285714,
                "s": 1
              },
              {
                "p": 1,
                "lc": "black",
                "x": 330.5,
                "y": 205.5,
                "b": 0,
                "s": 1
              },
              {
                "p": 1,
                "lc": "black",
                "x": 330.5,
                "y": 205.5,
                "b": -5.714285714285714,
                "s": 1
              },
              {
                "p": 1,
                "lc": "black",
                "x": 334.3,
                "y": 206.6,
                "b": 0,
                "s": 1
              },
              {
                "p": 1,
                "lc": "black",
                "x": 334.3,
                "y": 206.6,
                "b": -5.714285714285714,
                "s": 1
              },
              {
                "p": 1,
                "lc": "black",
                "x": 338.2,
                "y": 207.29999999999998,
                "b": 0,
                "s": 1
              },
              {
                "p": 1,
                "lc": "black",
                "x": 338.2,
                "y": 207.29999999999998,
                "b": -5.714285714285714,
                "s": 1
              },
              {
                "p": 1,
                "lc": "black",
                "x": 342.2,
                "y": 207.6,
                "b": 0,
                "s": 1
              },
              {
                "p": 1,
                "lc": "black",
                "x": 342.2,
                "y": 207.6,
                "b": -5.714285714285714,
                "s": 1
              },
              {
                "p": 1,
                "lc": "black",
                "x": 346.2,
                "y": 207.5,
                "b": 0,
                "s": 1
              },
              {
                "p": 1,
                "lc": "black",
                "x": 346.2,
                "y": 207.5,
                "b": -5.714285714285714,
                "s": 1
              },
              {
                "p": 1,
                "lc": "black",
                "x": 350.2,
                "y": 207,
                "b": 0,
                "s": 1
              },
              {
                "p": 1,
                "lc": "black",
                "x": 350.2,
                "y": 207,
                "b": -5.714285714285714,
                "s": 1
              },
              {
                "p": 1,
                "lc": "black",
                "x": 354.09999999999997,
                "y": 206.1,
                "b": 0,
                "s": 1
              },
              {
                "p": 1,
                "lc": "black",
                "x": 354.09999999999997,
                "y": 206.1,
                "b": -5.714285714285714,
                "s": 1
              },
              {
                "p": 1,
                "lc": "black",
                "x": 357.9,
                "y": 204.79999999999998,
                "b": 0,
                "s": 1
              },
              {
                "p": 1,
                "lc": "black",
                "x": 357.9,
                "y": 204.79999999999998,
                "b": -5.714285714285714,
                "s": 1
              },
              {
                "p": 1,
                "lc": "black",
                "x": 361.5,
                "y": 203.2,
                "b": 0,
                "s": 1
              },
              {
                "p": 1,
                "lc": "black",
                "x": 361.5,
                "y": 203.2,
                "b": -5.714285714285714,
                "s": 1
              },
              {
                "p": 1,
                "lc": "black",
                "x": 365,
                "y": 201.2,
                "b": 0,
                "s": 1
              },
              {
                "p": 1,
                "lc": "black",
                "x": 365,
                "y": 201.2,
                "b": -5.714285714285714,
                "s": 1
              },
              {
                "p": 1,
                "lc": "black",
                "x": 368.3,
                "y": 198.89999999999998,
                "b": 0,
                "s": 1
              },
              {
                "p": 1,
                "lc": "black",
                "x": 368.3,
                "y": 198.89999999999998,
                "b": -5.714285714285714,
                "s": 1
              },
              {
                "p": 1,
                "lc": "black",
                "x": 371.3,
                "y": 196.29999999999998,
                "b": 0,
                "s": 1
              },
              {
                "p": 1,
                "lc": "black",
                "x": 371.3,
                "y": 196.29999999999998,
                "b": -5.714285714285714,
                "s": 1
              },
              {
                "p": 1,
                "lc": "black",
                "x": 371.3,
                "y": 196.29999999999998,
                "b": 2.857142857142857,
                "s": 1
              },
              {
                "p": 1,
                "lc": "black",
                "x": 371.3,
                "y": 196.29999999999998,
                "b": -100,
                "s": 1
              },
              {
                "p": 1,
                "lc": "black",
                "x": 371.3,
                "y": 196.29999999999998,
                "b": -2.857142857142857,
                "s": 1
              },
              {
                "p": 1,
                "lc": "black",
                "x": 368,
                "y": 194.1,
                "b": 0,
                "s": 1
              },
              {
                "p": 1,
                "lc": "black",
                "x": 368,
                "y": 194.1,
                "b": -5.714285714285714,
                "s": 1
              },
              {
                "p": 1,
                "lc": "black",
                "x": 364.5,
                "y": 192.29999999999998,
                "b": 0,
                "s": 1
              },
              {
                "p": 1,
                "lc": "black",
                "x": 364.5,
                "y": 192.29999999999998,
                "b": -5.714285714285714,
                "s": 1
              },
              {
                "p": 1,
                "lc": "black",
                "x": 360.8,
                "y": 190.79999999999998,
                "b": 0,
                "s": 1
              },
              {
                "p": 1,
                "lc": "black",
                "x": 360.8,
                "y": 190.79999999999998,
                "b": -5.714285714285714,
                "s": 1
              },
              {
                "p": 1,
                "lc": "black",
                "x": 357,
                "y": 189.7,
                "b": 0,
                "s": 1
              },
              {
                "p": 1,
                "lc": "black",
                "x": 357,
                "y": 189.7,
                "b": -5.714285714285714,
                "s": 1
              },
              {
                "p": 1,
                "lc": "black",
                "x": 353.1,
                "y": 189,
                "b": 0,
                "s": 1
              },
              {
                "p": 1,
                "lc": "black",
                "x": 353.1,
                "y": 189,
                "b": -5.714285714285714,
                "s": 1
              },
              {
                "p": 1,
                "lc": "black",
                "x": 349.1,
                "y": 188.7,
                "b": 0,
                "s": 1
              },
              {
                "p": 1,
                "lc": "black",
                "x": 349.1,
                "y": 188.7,
                "b": -5.714285714285714,
                "s": 1
              },
              {
                "p": 1,
                "lc": "black",
                "x": 345.1,
                "y": 188.79999999999998,
                "b": 0,
                "s": 1
              },
              {
                "p": 1,
                "lc": "black",
                "x": 345.1,
                "y": 188.79999999999998,
                "b": -5.714285714285714,
                "s": 1
              },
              {
                "p": 1,
                "lc": "black",
                "x": 341.1,
                "y": 189.29999999999998,
                "b": 0,
                "s": 1
              },
              {
                "p": 1,
                "lc": "black",
                "x": 341.1,
                "y": 189.29999999999998,
                "b": -5.714285714285714,
                "s": 1
              },
              {
                "p": 1,
                "lc": "black",
                "x": 337.20000000000005,
                "y": 190.2,
                "b": 0,
                "s": 1
              },
              {
                "p": 1,
                "lc": "black",
                "x": 337.20000000000005,
                "y": 190.2,
                "b": -5.714285714285714,
                "s": 1
              },
              {
                "p": 1,
                "lc": "black",
                "x": 333.40000000000003,
                "y": 191.5,
                "b": 0,
                "s": 1
              },
              {
                "p": 1,
                "lc": "black",
                "x": 333.40000000000003,
                "y": 191.5,
                "b": -5.714285714285714,
                "s": 1
              },
              {
                "p": 1,
                "lc": "black",
                "x": 329.8,
                "y": 193.1,
                "b": 0,
                "s": 1
              },
              {
                "p": 1,
                "lc": "black",
                "x": 329.8,
                "y": 193.1,
                "b": -5.714285714285714,
                "s": 1
              },
              {
                "p": 1,
                "lc": "black",
                "x": 326.3,
                "y": 195.1,
                "b": 0,
                "s": 1
              },
              {
                "p": 1,
                "lc": "black",
                "x": 326.3,
                "y": 195.1,
                "b": -5.714285714285714,
                "s": 1
              },
              {
                "p": 1,
                "lc": "black",
                "x": 323,
                "y": 197.4,
                "b": 0,
                "s": 1
              },
              {
                "p": 1,
                "lc": "black",
                "x": 323,
                "y": 197.4,
                "b": -5.714285714285714,
                "s": 1
              },
              {
                "p": 1,
                "lc": "black",
                "x": 320,
                "y": 200,
                "b": 0,
                "s": 1
              },
              {
                "p": 1,
                "lc": "black",
                "x": 320,
                "y": 200,
                "b": -5.714285714285714,
                "s": 1
              },
              {
                "p": 1,
                "lc": "black",
                "x": 320,
                "y": 200,
                "b": 2.857142857142857,
                "s": 1
              },
              {
                "p": 1,
                "lc": "black",
                "x": 320,
                "y": 200,
                "b": -100,
                "s": 1
              },
              {
                "p": 1,
                "lc": "black",
                "x": 320,
                "y": 200,
                "b": -36,
                "s": 1
              },
              {
                "p": 1,
                "lc": "black",
                "x": 320,
                "y": 200,
                "b": -1.875,
                "s": 1
              },
              {
                "p": 1,
                "lc": "black",
                "x": 323.9,
                "y": 199.9,
                "b": 0,
                "s": 1
              },
              {
                "p": 1,
                "lc": "black",
                "x": 323.9,
                "y": 199.9,
                "b": -3.75,
                "s": 1
              },
              {
                "p": 1,
                "lc": "black",
                "x": 327.79999999999995,
                "y": 199.5,
                "b": 0,
                "s": 1
              },
              {
                "p": 1,
                "lc": "black",
                "x": 327.79999999999995,
                "y": 199.5,
                "b": -3.75,
                "s": 1
              },
              {
                "p": 1,
                "lc": "black",
                "x": 331.69999999999993,
                "y": 198.9,
                "b": 0,
                "s": 1
              },
              {
                "p": 1,
                "lc": "black",
                "x": 331.69999999999993,
                "y": 198.9,
                "b": -3.75,
                "s": 1
              },
              {
                "p": 1,
                "lc": "black",
                "x": 335.49999999999994,
                "y": 198,
                "b": 0,
                "s": 1
              },
              {
                "p": 1,
                "lc": "black",
                "x": 335.49999999999994,
                "y": 198,
                "b": -3.75,
                "s": 1
              },
              {
                "p": 1,
                "lc": "black",
                "x": 339.29999999999995,
                "y": 196.9,
                "b": 0,
                "s": 1
              },
              {
                "p": 1,
                "lc": "black",
                "x": 339.29999999999995,
                "y": 196.9,
                "b": -3.75,
                "s": 1
              },
              {
                "p": 1,
                "lc": "black",
                "x": 342.99999999999994,
                "y": 195.5,
                "b": 0,
                "s": 1
              },
              {
                "p": 1,
                "lc": "black",
                "x": 342.99999999999994,
                "y": 195.5,
                "b": -3.75,
                "s": 1
              },
              {
                "p": 1,
                "lc": "black",
                "x": 346.59999999999997,
                "y": 193.9,
                "b": 0,
                "s": 1
              },
              {
                "p": 1,
                "lc": "black",
                "x": 346.59999999999997,
                "y": 193.9,
                "b": -3.75,
                "s": 1
              },
              {
                "p": 1,
                "lc": "black",
                "x": 350.09999999999997,
                "y": 192,
                "b": 0,
                "s": 1
              },
              {
                "p": 1,
                "lc": "black",
                "x": 350.09999999999997,
                "y": 192,
                "b": -3.75,
                "s": 1
              },
              {
                "p": 1,
                "lc": "black",
                "x": 353.4,
                "y": 189.9,
                "b": 0,
                "s": 1
              },
              {
                "p": 1,
                "lc": "black",
                "x": 353.4,
                "y": 189.9,
                "b": -3.75,
                "s": 1
              },
              {
                "p": 1,
                "lc": "black",
                "x": 356.59999999999997,
                "y": 187.6,
                "b": 0,
                "s": 1
              },
              {
                "p": 1,
                "lc": "black",
                "x": 356.59999999999997,
                "y": 187.6,
                "b": -3.75,
                "s": 1
              },
              {
                "p": 1,
                "lc": "black",
                "x": 359.59999999999997,
                "y": 185.1,
                "b": 0,
                "s": 1
              },
              {
                "p": 1,
                "lc": "black",
                "x": 359.59999999999997,
                "y": 185.1,
                "b": -3.75,
                "s": 1
              },
              {
                "p": 1,
                "lc": "black",
                "x": 362.49999999999994,
                "y": 182.4,
                "b": 0,
                "s": 1
              },
              {
                "p": 1,
                "lc": "black",
                "x": 362.49999999999994,
                "y": 182.4,
                "b": -3.75,
                "s": 1
              },
              {
                "p": 1,
                "lc": "black",
                "x": 365.19999999999993,
                "y": 179.5,
                "b": 0,
                "s": 1
              },
              {
                "p": 1,
                "lc": "black",
                "x": 365.19999999999993,
                "y": 179.5,
                "b": -3.75,
                "s": 1
              },
              {
                "p": 1,
                "lc": "black",
                "x": 367.69999999999993,
                "y": 176.5,
                "b": 0,
                "s": 1
              },
              {
                "p": 1,
                "lc": "black",
                "x": 367.69999999999993,
                "y": 176.5,
                "b": -3.75,
                "s": 1
              },
              {
                "p": 1,
                "lc": "black",
                "x": 369.99999999999994,
                "y": 173.3,
                "b": 0,
                "s": 1
              },
              {
                "p": 1,
                "lc": "black",
                "x": 369.99999999999994,
                "y": 173.3,
                "b": -3.75,
                "s": 1
              },
              {
                "p": 1,
                "lc": "black",
                "x": 372.09999999999997,
                "y": 170,
                "b": 0,
                "s": 1
              },
              {
                "p": 1,
                "lc": "black",
                "x": 372.09999999999997,
                "y": 170,
                "b": -3.75,
                "s": 1
              },
              {
                "p": 1,
                "lc": "black",
                "x": 372.09999999999997,
                "y": 170,
                "b": 1.875,
                "s": 1
              },
              {
                "p": 1,
                "lc": "black",
                "x": 372.09999999999997,
                "y": 170,
                "b": -120,
                "s": 1
              },
              {
                "p": 1,
                "lc": "black",
                "x": 372.09999999999997,
                "y": 170,
                "b": -1.875,
                "s": 1
              },
              {
                "p": 1,
                "lc": "black",
                "x": 368.2,
                "y": 170.1,
                "b": 0,
                "s": 1
              },
              {
                "p": 1,
                "lc": "black",
                "x": 368.2,
                "y": 170.1,
                "b": -3.75,
                "s": 1
              },
              {
                "p": 1,
                "lc": "black",
                "x": 364.3,
                "y": 170.5,
                "b": 0,
                "s": 1
              },
              {
                "p": 1,
                "lc": "black",
                "x": 364.3,
                "y": 170.5,
                "b": -3.75,
                "s": 1
              },
              {
                "p": 1,
                "lc": "black",
                "x": 360.40000000000003,
                "y": 171.1,
                "b": 0,
                "s": 1
              },
              {
                "p": 1,
                "lc": "black",
                "x": 360.40000000000003,
                "y": 171.1,
                "b": -3.75,
                "s": 1
              },
              {
                "p": 1,
                "lc": "black",
                "x": 356.6,
                "y": 172,
                "b": 0,
                "s": 1
              },
              {
                "p": 1,
                "lc": "black",
                "x": 356.6,
                "y": 172,
                "b": -3.75,
                "s": 1
              },
              {
                "p": 1,
                "lc": "black",
                "x": 352.8,
                "y": 173.1,
                "b": 0,
                "s": 1
              },
              {
                "p": 1,
                "lc": "black",
                "x": 352.8,
                "y": 173.1,
                "b": -3.75,
                "s": 1
              },
              {
                "p": 1,
                "lc": "black",
                "x": 349.1,
                "y": 174.5,
                "b": 0,
                "s": 1
              },
              {
                "p": 1,
                "lc": "black",
                "x": 349.1,
                "y": 174.5,
                "b": -3.75,
                "s": 1
              },
              {
                "p": 1,
                "lc": "black",
                "x": 345.5,
                "y": 176.1,
                "b": 0,
                "s": 1
              },
              {
                "p": 1,
                "lc": "black",
                "x": 345.5,
                "y": 176.1,
                "b": -3.75,
                "s": 1
              },
              {
                "p": 1,
                "lc": "black",
                "x": 342,
                "y": 178,
                "b": 0,
                "s": 1
              },
              {
                "p": 1,
                "lc": "black",
                "x": 342,
                "y": 178,
                "b": -3.75,
                "s": 1
              },
              {
                "p": 1,
                "lc": "black",
                "x": 338.7,
                "y": 180.1,
                "b": 0,
                "s": 1
              },
              {
                "p": 1,
                "lc": "black",
                "x": 338.7,
                "y": 180.1,
                "b": -3.75,
                "s": 1
              },
              {
                "p": 1,
                "lc": "black",
                "x": 335.5,
                "y": 182.4,
                "b": 0,
                "s": 1
              },
              {
                "p": 1,
                "lc": "black",
                "x": 335.5,
                "y": 182.4,
                "b": -3.75,
                "s": 1
              },
              {
                "p": 1,
                "lc": "black",
                "x": 332.5,
                "y": 184.9,
                "b": 0,
                "s": 1
              },
              {
                "p": 1,
                "lc": "black",
                "x": 332.5,
                "y": 184.9,
                "b": -3.75,
                "s": 1
              },
              {
                "p": 1,
                "lc": "black",
                "x": 329.6,
                "y": 187.6,
                "b": 0,
                "s": 1
              },
              {
                "p": 1,
                "lc": "black",
                "x": 329.6,
                "y": 187.6,
                "b": -3.75,
                "s": 1
              },
              {
                "p": 1,
                "lc": "black",
                "x": 326.90000000000003,
                "y": 190.5,
                "b": 0,
                "s": 1
              },
              {
                "p": 1,
                "lc": "black",
                "x": 326.90000000000003,
                "y": 190.5,
                "b": -3.75,
                "s": 1
              },
              {
                "p": 1,
                "lc": "black",
                "x": 324.40000000000003,
                "y": 193.5,
                "b": 0,
                "s": 1
              },
              {
                "p": 1,
                "lc": "black",
                "x": 324.40000000000003,
                "y": 193.5,
                "b": -3.75,
                "s": 1
              },
              {
                "p": 1,
                "lc": "black",
                "x": 322.1,
                "y": 196.7,
                "b": 0,
                "s": 1
              },
              {
                "p": 1,
                "lc": "black",
                "x": 322.1,
                "y": 196.7,
                "b": -3.75,
                "s": 1
              },
              {
                "p": 1,
                "lc": "black",
                "x": 320,
                "y": 200,
                "b": 0,
                "s": 1
              },
              {
                "p": 1,
                "lc": "black",
                "x": 320,
                "y": 200,
                "b": -3.75,
                "s": 1
              },
              {
                "p": 1,
                "lc": "black",
                "x": 320,
                "y": 200,
                "b": 1.875,
                "s": 1
              },
              {
                "p": 1,
                "lc": "black",
                "x": 320,
                "y": 200,
                "b": -120,
                "s": 1
              },
              {
                "p": 1,
                "lc": "black",
                "x": 320,
                "y": 200,
                "b": -51.42857142857143,
                "s": 1
              },
              {
                "p": 1,
                "lc": "black",
                "x": 320,
                "y": 200,
                "b": -1.875,
                "s": 1
              },
              {
                "p": 1,
                "lc": "black",
                "x": 322.3,
                "y": 196.9,
                "b": 0,
                "s": 1
              },
              {
                "p": 1,
                "lc": "black",
                "x": 322.3,
                "y": 196.9,
                "b": -3.75,
                "s": 1
              },
              {
                "p": 1,
                "lc": "black",
                "x": 324.40000000000003,
                "y": 193.6,
                "b": 0,
                "s": 1
              },
              {
                "p": 1,
                "lc": "black",
                "x": 324.40000000000003,
                "y": 193.6,
                "b": -3.75,
                "s": 1
              },
              {
                "p": 1,
                "lc": "black",
                "x": 326.3,
                "y": 190.2,
                "b": 0,
                "s": 1
              },
              {
                "p": 1,
                "lc": "black",
                "x": 326.3,
                "y": 190.2,
                "b": -3.75,
                "s": 1
              },
              {
                "p": 1,
                "lc": "black",
                "x": 328,
                "y": 186.7,
                "b": 0,
                "s": 1
              },
              {
                "p": 1,
                "lc": "black",
                "x": 328,
                "y": 186.7,
                "b": -3.75,
                "s": 1
              },
              {
                "p": 1,
                "lc": "black",
                "x": 329.5,
                "y": 183.1,
                "b": 0,
                "s": 1
              },
              {
                "p": 1,
                "lc": "black",
                "x": 329.5,
                "y": 183.1,
                "b": -3.75,
                "s": 1
              },
              {
                "p": 1,
                "lc": "black",
                "x": 330.7,
                "y": 179.4,
                "b": 0,
                "s": 1
              },
              {
                "p": 1,
                "lc": "black",
                "x": 330.7,
                "y": 179.4,
                "b": -3.75,
                "s": 1
              },
              {
                "p": 1,
                "lc": "black",
                "x": 331.7,
                "y": 175.6,
                "b": 0,
                "s": 1
              },
              {
                "p": 1,
                "lc": "black",
                "x": 331.7,
                "y": 175.6,
                "b": -3.75,
                "s": 1
              },
              {
                "p": 1,
                "lc": "black",
                "x": 332.4,
                "y": 171.7,
                "b": 0,
                "s": 1
              },
              {
                "p": 1,
                "lc": "black",
                "x": 332.4,
                "y": 171.7,
                "b": -3.75,
                "s": 1
              },
              {
                "p": 1,
                "lc": "black",
                "x": 332.9,
                "y": 167.79999999999998,
                "b": 0,
                "s": 1
              },
              {
                "p": 1,
                "lc": "black",
                "x": 332.9,
                "y": 167.79999999999998,
                "b": -3.75,
                "s": 1
              },
              {
                "p": 1,
                "lc": "black",
                "x": 333.09999999999997,
                "y": 163.89999999999998,
                "b": 0,
                "s": 1
              },
              {
                "p": 1,
                "lc": "black",
                "x": 333.09999999999997,
                "y": 163.89999999999998,
                "b": -3.75,
                "s": 1
              },
              {
                "p": 1,
                "lc": "black",
                "x": 332.99999999999994,
                "y": 159.99999999999997,
                "b": 0,
                "s": 1
              },
              {
                "p": 1,
                "lc": "black",
                "x": 332.99999999999994,
                "y": 159.99999999999997,
                "b": -3.75,
                "s": 1
              },
              {
                "p": 1,
                "lc": "black",
                "x": 332.69999999999993,
                "y": 156.09999999999997,
                "b": 0,
                "s": 1
              },
              {
                "p": 1,
                "lc": "black",
                "x": 332.69999999999993,
                "y": 156.09999999999997,
                "b": -3.75,
                "s": 1
              },
              {
                "p": 1,
                "lc": "black",
                "x": 332.0999999999999,
                "y": 152.19999999999996,
                "b": 0,
                "s": 1
              },
              {
                "p": 1,
                "lc": "black",
                "x": 332.0999999999999,
                "y": 152.19999999999996,
                "b": -3.75,
                "s": 1
              },
              {
                "p": 1,
                "lc": "black",
                "x": 331.2999999999999,
                "y": 148.39999999999995,
                "b": 0,
                "s": 1
              },
              {
                "p": 1,
                "lc": "black",
                "x": 331.2999999999999,
                "y": 148.39999999999995,
                "b": -3.75,
                "s": 1
              },
              {
                "p": 1,
                "lc": "black",
                "x": 330.1999999999999,
                "y": 144.59999999999994,
                "b": 0,
                "s": 1
              },
              {
                "p": 1,
                "lc": "black",
                "x": 330.1999999999999,
                "y": 144.59999999999994,
                "b": -3.75,
                "s": 1
              },
              {
                "p": 1,
                "lc": "black",
                "x": 328.89999999999986,
                "y": 140.89999999999995,
                "b": 0,
                "s": 1
              },
              {
                "p": 1,
                "lc": "black",
                "x": 328.89999999999986,
                "y": 140.89999999999995,
                "b": -3.75,
                "s": 1
              },
              {
                "p": 1,
                "lc": "black",
                "x": 328.89999999999986,
                "y": 140.89999999999995,
                "b": 1.875,
                "s": 1
              },
              {
                "p": 1,
                "lc": "black",
                "x": 328.89999999999986,
                "y": 140.89999999999995,
                "b": -120,
                "s": 1
              },
              {
                "p": 1,
                "lc": "black",
                "x": 328.89999999999986,
                "y": 140.89999999999995,
                "b": -1.875,
                "s": 1
              },
              {
                "p": 1,
                "lc": "black",
                "x": 326.59999999999985,
                "y": 143.99999999999994,
                "b": 0,
                "s": 1
              },
              {
                "p": 1,
                "lc": "black",
                "x": 326.59999999999985,
                "y": 143.99999999999994,
                "b": -3.75,
                "s": 1
              },
              {
                "p": 1,
                "lc": "black",
                "x": 324.49999999999983,
                "y": 147.29999999999995,
                "b": 0,
                "s": 1
              },
              {
                "p": 1,
                "lc": "black",
                "x": 324.49999999999983,
                "y": 147.29999999999995,
                "b": -3.75,
                "s": 1
              },
              {
                "p": 1,
                "lc": "black",
                "x": 322.59999999999985,
                "y": 150.69999999999996,
                "b": 0,
                "s": 1
              },
              {
                "p": 1,
                "lc": "black",
                "x": 322.59999999999985,
                "y": 150.69999999999996,
                "b": -3.75,
                "s": 1
              },
              {
                "p": 1,
                "lc": "black",
                "x": 320.89999999999986,
                "y": 154.19999999999996,
                "b": 0,
                "s": 1
              },
              {
                "p": 1,
                "lc": "black",
                "x": 320.89999999999986,
                "y": 154.19999999999996,
                "b": -3.75,
                "s": 1
              },
              {
                "p": 1,
                "lc": "black",
                "x": 319.39999999999986,
                "y": 157.79999999999995,
                "b": 0,
                "s": 1
              },
              {
                "p": 1,
                "lc": "black",
                "x": 319.39999999999986,
                "y": 157.79999999999995,
                "b": -3.75,
                "s": 1
              },
              {
                "p": 1,
                "lc": "black",
                "x": 318.1999999999999,
                "y": 161.49999999999994,
                "b": 0,
                "s": 1
              },
              {
                "p": 1,
                "lc": "black",
                "x": 318.1999999999999,
                "y": 161.49999999999994,
                "b": -3.75,
                "s": 1
              },
              {
                "p": 1,
                "lc": "black",
                "x": 317.1999999999999,
                "y": 165.29999999999995,
                "b": 0,
                "s": 1
              },
              {
                "p": 1,
                "lc": "black",
                "x": 317.1999999999999,
                "y": 165.29999999999995,
                "b": -3.75,
                "s": 1
              },
              {
                "p": 1,
                "lc": "black",
                "x": 316.4999999999999,
                "y": 169.19999999999996,
                "b": 0,
                "s": 1
              },
              {
                "p": 1,
                "lc": "black",
                "x": 316.4999999999999,
                "y": 169.19999999999996,
                "b": -3.75,
                "s": 1
              },
              {
                "p": 1,
                "lc": "black",
                "x": 315.9999999999999,
                "y": 173.09999999999997,
                "b": 0,
                "s": 1
              },
              {
                "p": 1,
                "lc": "black",
                "x": 315.9999999999999,
                "y": 173.09999999999997,
                "b": -3.75,
                "s": 1
              },
              {
                "p": 1,
                "lc": "black",
                "x": 315.7999999999999,
                "y": 176.99999999999997,
                "b": 0,
                "s": 1
              },
              {
                "p": 1,
                "lc": "black",
                "x": 315.7999999999999,
                "y": 176.99999999999997,
                "b": -3.75,
                "s": 1
              },
              {
                "p": 1,
                "lc": "black",
                "x": 315.8999999999999,
                "y": 180.89999999999998,
                "b": 0,
                "s": 1
              },
              {
                "p": 1,
                "lc": "black",
                "x": 315.8999999999999,
                "y": 180.89999999999998,
                "b": -3.75,
                "s": 1
              },
              {
                "p": 1,
                "lc": "black",
                "x": 316.19999999999993,
                "y": 184.79999999999998,
                "b": 0,
                "s": 1
              },
              {
                "p": 1,
                "lc": "black",
                "x": 316.19999999999993,
                "y": 184.79999999999998,
                "b": -3.75,
                "s": 1
              },
              {
                "p": 1,
                "lc": "black",
                "x": 316.79999999999995,
                "y": 188.7,
                "b": 0,
                "s": 1
              },
              {
                "p": 1,
                "lc": "black",
                "x": 316.79999999999995,
                "y": 188.7,
                "b": -3.75,
                "s": 1
              },
              {
                "p": 1,
                "lc": "black",
                "x": 317.59999999999997,
                "y": 192.5,
                "b": 0,
                "s": 1
              },
              {
                "p": 1,
                "lc": "black",
                "x": 317.59999999999997,
                "y": 192.5,
                "b": -3.75,
                "s": 1
              },
              {
                "p": 1,
                "lc": "black",
                "x": 318.7,
                "y": 196.3,
                "b": 0,
                "s": 1
              },
              {
                "p": 1,
                "lc": "black",
                "x": 318.7,
                "y": 196.3,
                "b": -3.75,
                "s": 1
              },
              {
                "p": 1,
                "lc": "black",
                "x": 320,
                "y": 200,
                "b": 0,
                "s": 1
              },
              {
                "p": 1,
                "lc": "black",
                "x": 320,
                "y": 200,
                "b": -3.75,
                "s": 1
              },
              {
                "p": 1,
                "lc": "black",
                "x": 320,
                "y": 200,
                "b": 1.875,
                "s": 1
              },
              {
                "p": 1,
                "lc": "black",
                "x": 320,
                "y": 200,
                "b": -120,
                "s": 1
              },
              {
                "p": 1,
                "lc": "black",
                "x": 320,
                "y": 200,
                "b": -51.42857142857143,
                "s": 1
              },
              {
                "p": 1,
                "lc": "black",
                "x": 320,
                "y": 200,
                "b": -1.875,
                "s": 1
              },
              {
                "p": 1,
                "lc": "black",
                "x": 319,
                "y": 196.2,
                "b": 0,
                "s": 1
              },
              {
                "p": 1,
                "lc": "black",
                "x": 319,
                "y": 196.2,
                "b": -3.75,
                "s": 1
              },
              {
                "p": 1,
                "lc": "black",
                "x": 317.8,
                "y": 192.5,
                "b": 0,
                "s": 1
              },
              {
                "p": 1,
                "lc": "black",
                "x": 317.8,
                "y": 192.5,
                "b": -3.75,
                "s": 1
              },
              {
                "p": 1,
                "lc": "black",
                "x": 316.3,
                "y": 188.9,
                "b": 0,
                "s": 1
              },
              {
                "p": 1,
                "lc": "black",
                "x": 316.3,
                "y": 188.9,
                "b": -3.75,
                "s": 1
              },
              {
                "p": 1,
                "lc": "black",
                "x": 314.6,
                "y": 185.4,
                "b": 0,
                "s": 1
              },
              {
                "p": 1,
                "lc": "black",
                "x": 314.6,
                "y": 185.4,
                "b": -3.75,
                "s": 1
              },
              {
                "p": 1,
                "lc": "black",
                "x": 312.70000000000005,
                "y": 182,
                "b": 0,
                "s": 1
              },
              {
                "p": 1,
                "lc": "black",
                "x": 312.70000000000005,
                "y": 182,
                "b": -3.75,
                "s": 1
              },
              {
                "p": 1,
                "lc": "black",
                "x": 310.50000000000006,
                "y": 178.7,
                "b": 0,
                "s": 1
              },
              {
                "p": 1,
                "lc": "black",
                "x": 310.50000000000006,
                "y": 178.7,
                "b": -3.75,
                "s": 1
              },
              {
                "p": 1,
                "lc": "black",
                "x": 308.1000000000001,
                "y": 175.6,
                "b": 0,
                "s": 1
              },
              {
                "p": 1,
                "lc": "black",
                "x": 308.1000000000001,
                "y": 175.6,
                "b": -3.75,
                "s": 1
              },
              {
                "p": 1,
                "lc": "black",
                "x": 305.50000000000006,
                "y": 172.6,
                "b": 0,
                "s": 1
              },
              {
                "p": 1,
                "lc": "black",
                "x": 305.50000000000006,
                "y": 172.6,
                "b": -3.75,
                "s": 1
              },
              {
                "p": 1,
                "lc": "black",
                "x": 302.70000000000005,
                "y": 169.79999999999998,
                "b": 0,
                "s": 1
              },
              {
                "p": 1,
                "lc": "black",
                "x": 302.70000000000005,
                "y": 169.79999999999998,
                "b": -3.75,
                "s": 1
              },
              {
                "p": 1,
                "lc": "black",
                "x": 299.80000000000007,
                "y": 167.2,
                "b": 0,
                "s": 1
              },
              {
                "p": 1,
                "lc": "black",
                "x": 299.80000000000007,
                "y": 167.2,
                "b": -3.75,
                "s": 1
              },
              {
                "p": 1,
                "lc": "black",
                "x": 296.70000000000005,
                "y": 164.79999999999998,
                "b": 0,
                "s": 1
              },
              {
                "p": 1,
                "lc": "black",
                "x": 296.70000000000005,
                "y": 164.79999999999998,
                "b": -3.75,
                "s": 1
              },
              {
                "p": 1,
                "lc": "black",
                "x": 293.40000000000003,
                "y": 162.6,
                "b": 0,
                "s": 1
              },
              {
                "p": 1,
                "lc": "black",
                "x": 293.40000000000003,
                "y": 162.6,
                "b": -3.75,
                "s": 1
              },
              {
                "p": 1,
                "lc": "black",
                "x": 290.00000000000006,
                "y": 160.6,
                "b": 0,
                "s": 1
              },
              {
                "p": 1,
                "lc": "black",
                "x": 290.00000000000006,
                "y": 160.6,
                "b": -3.75,
                "s": 1
              },
              {
                "p": 1,
                "lc": "black",
                "x": 286.50000000000006,
                "y": 158.79999999999998,
                "b": 0,
                "s": 1
              },
              {
                "p": 1,
                "lc": "black",
                "x": 286.50000000000006,
                "y": 158.79999999999998,
                "b": -3.75,
                "s": 1
              },
              {
                "p": 1,
                "lc": "black",
                "x": 282.90000000000003,
                "y": 157.29999999999998,
                "b": 0,
                "s": 1
              },
              {
                "p": 1,
                "lc": "black",
                "x": 282.90000000000003,
                "y": 157.29999999999998,
                "b": -3.75,
                "s": 1
              },
              {
                "p": 1,
                "lc": "black",
                "x": 279.20000000000005,
                "y": 155.99999999999997,
                "b": 0,
                "s": 1
              },
              {
                "p": 1,
                "lc": "black",
                "x": 279.20000000000005,
                "y": 155.99999999999997,
                "b": -3.75,
                "s": 1
              },
              {
                "p": 1,
                "lc": "black",
                "x": 279.20000000000005,
                "y": 155.99999999999997,
                "b": 1.875,
                "s": 1
              },
              {
                "p": 1,
                "lc": "black",
                "x": 279.20000000000005,
                "y": 155.99999999999997,
                "b": -120,
                "s": 1
              },
              {
                "p": 1,
                "lc": "black",
                "x": 279.20000000000005,
                "y": 155.99999999999997,
                "b": -1.875,
                "s": 1
              },
              {
                "p": 1,
                "lc": "black",
                "x": 280.20000000000005,
                "y": 159.79999999999998,
                "b": 0,
                "s": 1
              },
              {
                "p": 1,
                "lc": "black",
                "x": 280.20000000000005,
                "y": 159.79999999999998,
                "b": -3.75,
                "s": 1
              },
              {
                "p": 1,
                "lc": "black",
                "x": 281.40000000000003,
                "y": 163.49999999999997,
                "b": 0,
                "s": 1
              },
              {
                "p": 1,
                "lc": "black",
                "x": 281.40000000000003,
                "y": 163.49999999999997,
                "b": -3.75,
                "s": 1
              },
              {
                "p": 1,
                "lc": "black",
                "x": 282.90000000000003,
                "y": 167.09999999999997,
                "b": 0,
                "s": 1
              },
              {
                "p": 1,
                "lc": "black",
                "x": 282.90000000000003,
                "y": 167.09999999999997,
                "b": -3.75,
                "s": 1
              },
              {
                "p": 1,
                "lc": "black",
                "x": 284.6,
                "y": 170.59999999999997,
                "b": 0,
                "s": 1
              },
              {
                "p": 1,
                "lc": "black",
                "x": 284.6,
                "y": 170.59999999999997,
                "b": -3.75,
                "s": 1
              },
              {
                "p": 1,
                "lc": "black",
                "x": 286.5,
                "y": 173.99999999999997,
                "b": 0,
                "s": 1
              },
              {
                "p": 1,
                "lc": "black",
                "x": 286.5,
                "y": 173.99999999999997,
                "b": -3.75,
                "s": 1
              },
              {
                "p": 1,
                "lc": "black",
                "x": 288.7,
                "y": 177.29999999999998,
                "b": 0,
                "s": 1
              },
              {
                "p": 1,
                "lc": "black",
                "x": 288.7,
                "y": 177.29999999999998,
                "b": -3.75,
                "s": 1
              },
              {
                "p": 1,
                "lc": "black",
                "x": 291.09999999999997,
                "y": 180.39999999999998,
                "b": 0,
                "s": 1
              },
              {
                "p": 1,
                "lc": "black",
                "x": 291.09999999999997,
                "y": 180.39999999999998,
                "b": -3.75,
                "s": 1
              },
              {
                "p": 1,
                "lc": "black",
                "x": 293.7,
                "y": 183.39999999999998,
                "b": 0,
                "s": 1
              },
              {
                "p": 1,
                "lc": "black",
                "x": 293.7,
                "y": 183.39999999999998,
                "b": -3.75,
                "s": 1
              },
              {
                "p": 1,
                "lc": "black",
                "x": 296.5,
                "y": 186.2,
                "b": 0,
                "s": 1
              },
              {
                "p": 1,
                "lc": "black",
                "x": 296.5,
                "y": 186.2,
                "b": -3.75,
                "s": 1
              },
              {
                "p": 1,
                "lc": "black",
                "x": 299.4,
                "y": 188.79999999999998,
                "b": 0,
                "s": 1
              },
              {
                "p": 1,
                "lc": "black",
                "x": 299.4,
                "y": 188.79999999999998,
                "b": -3.75,
                "s": 1
              },
              {
                "p": 1,
                "lc": "black",
                "x": 302.5,
                "y": 191.2,
                "b": 0,
                "s": 1
              },
              {
                "p": 1,
                "lc": "black",
                "x": 302.5,
                "y": 191.2,
                "b": -3.75,
                "s": 1
              },
              {
                "p": 1,
                "lc": "black",
                "x": 305.8,
                "y": 193.39999999999998,
                "b": 0,
                "s": 1
              },
              {
                "p": 1,
                "lc": "black",
                "x": 305.8,
                "y": 193.39999999999998,
                "b": -3.75,
                "s": 1
              },
              {
                "p": 1,
                "lc": "black",
                "x": 309.2,
                "y": 195.39999999999998,
                "b": 0,
                "s": 1
              },
              {
                "p": 1,
                "lc": "black",
                "x": 309.2,
                "y": 195.39999999999998,
                "b": -3.75,
                "s": 1
              },
              {
                "p": 1,
                "lc": "black",
                "x": 312.7,
                "y": 197.2,
                "b": 0,
                "s": 1
              },
              {
                "p": 1,
                "lc": "black",
                "x": 312.7,
                "y": 197.2,
                "b": -3.75,
                "s": 1
              },
              {
                "p": 1,
                "lc": "black",
                "x": 316.3,
                "y": 198.7,
                "b": 0,
                "s": 1
              },
              {
                "p": 1,
                "lc": "black",
                "x": 316.3,
                "y": 198.7,
                "b": -3.75,
                "s": 1
              },
              {
                "p": 1,
                "lc": "black",
                "x": 320,
                "y": 200,
                "b": 0,
                "s": 1
              },
              {
                "p": 1,
                "lc": "black",
                "x": 320,
                "y": 200,
                "b": -3.75,
                "s": 1
              },
              {
                "p": 1,
                "lc": "black",
                "x": 320,
                "y": 200,
                "b": 1.875,
                "s": 1
              },
              {
                "p": 1,
                "lc": "black",
                "x": 320,
                "y": 200,
                "b": -120,
                "s": 1
              },
              {
                "p": 1,
                "lc": "black",
                "x": 320,
                "y": 200,
                "b": -51.42857142857143,
                "s": 1
              },
              {
                "p": 1,
                "lc": "black",
                "x": 320,
                "y": 200,
                "b": -1.875,
                "s": 1
              },
              {
                "p": 1,
                "lc": "black",
                "x": 316.4,
                "y": 198.4,
                "b": 0,
                "s": 1
              },
              {
                "p": 1,
                "lc": "black",
                "x": 316.4,
                "y": 198.4,
                "b": -3.75,
                "s": 1
              },
              {
                "p": 1,
                "lc": "black",
                "x": 312.7,
                "y": 197.1,
                "b": 0,
                "s": 1
              },
              {
                "p": 1,
                "lc": "black",
                "x": 312.7,
                "y": 197.1,
                "b": -3.75,
                "s": 1
              },
              {
                "p": 1,
                "lc": "black",
                "x": 308.9,
                "y": 196,
                "b": 0,
                "s": 1
              },
              {
                "p": 1,
                "lc": "black",
                "x": 308.9,
                "y": 196,
                "b": -3.75,
                "s": 1
              },
              {
                "p": 1,
                "lc": "black",
                "x": 305.09999999999997,
                "y": 195.1,
                "b": 0,
                "s": 1
              },
              {
                "p": 1,
                "lc": "black",
                "x": 305.09999999999997,
                "y": 195.1,
                "b": -3.75,
                "s": 1
              },
              {
                "p": 1,
                "lc": "black",
                "x": 301.2,
                "y": 194.5,
                "b": 0,
                "s": 1
              },
              {
                "p": 1,
                "lc": "black",
                "x": 301.2,
                "y": 194.5,
                "b": -3.75,
                "s": 1
              },
              {
                "p": 1,
                "lc": "black",
                "x": 297.3,
                "y": 194.2,
                "b": 0,
                "s": 1
              },
              {
                "p": 1,
                "lc": "black",
                "x": 297.3,
                "y": 194.2,
                "b": -3.75,
                "s": 1
              },
              {
                "p": 1,
                "lc": "black",
                "x": 293.40000000000003,
                "y": 194.1,
                "b": 0,
                "s": 1
              },
              {
                "p": 1,
                "lc": "black",
                "x": 293.40000000000003,
                "y": 194.1,
                "b": -3.75,
                "s": 1
              },
              {
                "p": 1,
                "lc": "black",
                "x": 289.50000000000006,
                "y": 194.29999999999998,
                "b": 0,
                "s": 1
              },
              {
                "p": 1,
                "lc": "black",
                "x": 289.50000000000006,
                "y": 194.29999999999998,
                "b": -3.75,
                "s": 1
              },
              {
                "p": 1,
                "lc": "black",
                "x": 285.6000000000001,
                "y": 194.7,
                "b": 0,
                "s": 1
              },
              {
                "p": 1,
                "lc": "black",
                "x": 285.6000000000001,
                "y": 194.7,
                "b": -3.75,
                "s": 1
              },
              {
                "p": 1,
                "lc": "black",
                "x": 281.7000000000001,
                "y": 195.39999999999998,
                "b": 0,
                "s": 1
              },
              {
                "p": 1,
                "lc": "black",
                "x": 281.7000000000001,
                "y": 195.39999999999998,
                "b": -3.75,
                "s": 1
              },
              {
                "p": 1,
                "lc": "black",
                "x": 277.9000000000001,
                "y": 196.29999999999998,
                "b": 0,
                "s": 1
              },
              {
                "p": 1,
                "lc": "black",
                "x": 277.9000000000001,
                "y": 196.29999999999998,
                "b": -3.75,
                "s": 1
              },
              {
                "p": 1,
                "lc": "black",
                "x": 274.2000000000001,
                "y": 197.49999999999997,
                "b": 0,
                "s": 1
              },
              {
                "p": 1,
                "lc": "black",
                "x": 274.2000000000001,
                "y": 197.49999999999997,
                "b": -3.75,
                "s": 1
              },
              {
                "p": 1,
                "lc": "black",
                "x": 270.5000000000001,
                "y": 198.89999999999998,
                "b": 0,
                "s": 1
              },
              {
                "p": 1,
                "lc": "black",
                "x": 270.5000000000001,
                "y": 198.89999999999998,
                "b": -3.75,
                "s": 1
              },
              {
                "p": 1,
                "lc": "black",
                "x": 266.9000000000001,
                "y": 200.59999999999997,
                "b": 0,
                "s": 1
              },
              {
                "p": 1,
                "lc": "black",
                "x": 266.9000000000001,
                "y": 200.59999999999997,
                "b": -3.75,
                "s": 1
              },
              {
                "p": 1,
                "lc": "black",
                "x": 263.5000000000001,
                "y": 202.49999999999997,
                "b": 0,
                "s": 1
              },
              {
                "p": 1,
                "lc": "black",
                "x": 263.5000000000001,
                "y": 202.49999999999997,
                "b": -3.75,
                "s": 1
              },
              {
                "p": 1,
                "lc": "black",
                "x": 260.2000000000001,
                "y": 204.59999999999997,
                "b": 0,
                "s": 1
              },
              {
                "p": 1,
                "lc": "black",
                "x": 260.2000000000001,
                "y": 204.59999999999997,
                "b": -3.75,
                "s": 1
              },
              {
                "p": 1,
                "lc": "black",
                "x": 260.2000000000001,
                "y": 204.59999999999997,
                "b": 1.875,
                "s": 1
              },
              {
                "p": 1,
                "lc": "black",
                "x": 260.2000000000001,
                "y": 204.59999999999997,
                "b": -120,
                "s": 1
              },
              {
                "p": 1,
                "lc": "black",
                "x": 260.2000000000001,
                "y": 204.59999999999997,
                "b": -1.875,
                "s": 1
              },
              {
                "p": 1,
                "lc": "black",
                "x": 263.8000000000001,
                "y": 206.19999999999996,
                "b": 0,
                "s": 1
              },
              {
                "p": 1,
                "lc": "black",
                "x": 263.8000000000001,
                "y": 206.19999999999996,
                "b": -3.75,
                "s": 1
              },
              {
                "p": 1,
                "lc": "black",
                "x": 267.5000000000001,
                "y": 207.49999999999997,
                "b": 0,
                "s": 1
              },
              {
                "p": 1,
                "lc": "black",
                "x": 267.5000000000001,
                "y": 207.49999999999997,
                "b": -3.75,
                "s": 1
              },
              {
                "p": 1,
                "lc": "black",
                "x": 271.3000000000001,
                "y": 208.59999999999997,
                "b": 0,
                "s": 1
              },
              {
                "p": 1,
                "lc": "black",
                "x": 271.3000000000001,
                "y": 208.59999999999997,
                "b": -3.75,
                "s": 1
              },
              {
                "p": 1,
                "lc": "black",
                "x": 275.10000000000014,
                "y": 209.49999999999997,
                "b": 0,
                "s": 1
              },
              {
                "p": 1,
                "lc": "black",
                "x": 275.10000000000014,
                "y": 209.49999999999997,
                "b": -3.75,
                "s": 1
              },
              {
                "p": 1,
                "lc": "black",
                "x": 279.0000000000001,
                "y": 210.09999999999997,
                "b": 0,
                "s": 1
              },
              {
                "p": 1,
                "lc": "black",
                "x": 279.0000000000001,
                "y": 210.09999999999997,
                "b": -3.75,
                "s": 1
              },
              {
                "p": 1,
                "lc": "black",
                "x": 282.9000000000001,
                "y": 210.39999999999998,
                "b": 0,
                "s": 1
              },
              {
                "p": 1,
                "lc": "black",
                "x": 282.9000000000001,
                "y": 210.39999999999998,
                "b": -3.75,
                "s": 1
              },
              {
                "p": 1,
                "lc": "black",
                "x": 286.80000000000007,
                "y": 210.49999999999997,
                "b": 0,
                "s": 1
              },
              {
                "p": 1,
                "lc": "black",
                "x": 286.80000000000007,
                "y": 210.49999999999997,
                "b": -3.75,
                "s": 1
              },
              {
                "p": 1,
                "lc": "black",
                "x": 290.70000000000005,
                "y": 210.29999999999998,
                "b": 0,
                "s": 1
              },
              {
                "p": 1,
                "lc": "black",
                "x": 290.70000000000005,
                "y": 210.29999999999998,
                "b": -3.75,
                "s": 1
              },
              {
                "p": 1,
                "lc": "black",
                "x": 294.6,
                "y": 209.89999999999998,
                "b": 0,
                "s": 1
              },
              {
                "p": 1,
                "lc": "black",
                "x": 294.6,
                "y": 209.89999999999998,
                "b": -3.75,
                "s": 1
              },
              {
                "p": 1,
                "lc": "black",
                "x": 298.5,
                "y": 209.2,
                "b": 0,
                "s": 1
              },
              {
                "p": 1,
                "lc": "black",
                "x": 298.5,
                "y": 209.2,
                "b": -3.75,
                "s": 1
              },
              {
                "p": 1,
                "lc": "black",
                "x": 302.3,
                "y": 208.29999999999998,
                "b": 0,
                "s": 1
              },
              {
                "p": 1,
                "lc": "black",
                "x": 302.3,
                "y": 208.29999999999998,
                "b": -3.75,
                "s": 1
              },
              {
                "p": 1,
                "lc": "black",
                "x": 306,
                "y": 207.1,
                "b": 0,
                "s": 1
              },
              {
                "p": 1,
                "lc": "black",
                "x": 306,
                "y": 207.1,
                "b": -3.75,
                "s": 1
              },
              {
                "p": 1,
                "lc": "black",
                "x": 309.7,
                "y": 205.7,
                "b": 0,
                "s": 1
              },
              {
                "p": 1,
                "lc": "black",
                "x": 309.7,
                "y": 205.7,
                "b": -3.75,
                "s": 1
              },
              {
                "p": 1,
                "lc": "black",
                "x": 313.3,
                "y": 204,
                "b": 0,
                "s": 1
              },
              {
                "p": 1,
                "lc": "black",
                "x": 313.3,
                "y": 204,
                "b": -3.75,
                "s": 1
              },
              {
                "p": 1,
                "lc": "black",
                "x": 316.7,
                "y": 202.1,
                "b": 0,
                "s": 1
              },
              {
                "p": 1,
                "lc": "black",
                "x": 316.7,
                "y": 202.1,
                "b": -3.75,
                "s": 1
              },
              {
                "p": 1,
                "lc": "black",
                "x": 320,
                "y": 200,
                "b": 0,
                "s": 1
              },
              {
                "p": 1,
                "lc": "black",
                "x": 320,
                "y": 200,
                "b": -3.75,
                "s": 1
              },
              {
                "p": 1,
                "lc": "black",
                "x": 320,
                "y": 200,
                "b": 1.875,
                "s": 1
              },
              {
                "p": 1,
                "lc": "black",
                "x": 320,
                "y": 200,
                "b": -120,
                "s": 1
              },
              {
                "p": 1,
                "lc": "black",
                "x": 320,
                "y": 200,
                "b": -51.42857142857143,
                "s": 1
              },
              {
                "p": 1,
                "lc": "black",
                "x": 320,
                "y": 200,
                "b": -1.875,
                "s": 1
              },
              {
                "p": 1,
                "lc": "black",
                "x": 316.5,
                "y": 201.8,
                "b": 0,
                "s": 1
              },
              {
                "p": 1,
                "lc": "black",
                "x": 316.5,
                "y": 201.8,
                "b": -3.75,
                "s": 1
              },
              {
                "p": 1,
                "lc": "black",
                "x": 313.1,
                "y": 203.8,
                "b": 0,
                "s": 1
              },
              {
                "p": 1,
                "lc": "black",
                "x": 313.1,
                "y": 203.8,
                "b": -3.75,
                "s": 1
              },
              {
                "p": 1,
                "lc": "black",
                "x": 309.90000000000003,
                "y": 206.10000000000002,
                "b": 0,
                "s": 1
              },
              {
                "p": 1,
                "lc": "black",
                "x": 309.90000000000003,
                "y": 206.10000000000002,
                "b": -3.75,
                "s": 1
              },
              {
                "p": 1,
                "lc": "black",
                "x": 306.8,
                "y": 208.60000000000002,
                "b": 0,
                "s": 1
              },
              {
                "p": 1,
                "lc": "black",
                "x": 306.8,
                "y": 208.60000000000002,
                "b": -3.75,
                "s": 1
              },
              {
                "p": 1,
                "lc": "black",
                "x": 303.90000000000003,
                "y": 211.3,
                "b": 0,
                "s": 1
              },
              {
                "p": 1,
                "lc": "black",
                "x": 303.90000000000003,
                "y": 211.3,
                "b": -3.75,
                "s": 1
              },
              {
                "p": 1,
                "lc": "black",
                "x": 301.20000000000005,
                "y": 214.10000000000002,
                "b": 0,
                "s": 1
              },
              {
                "p": 1,
                "lc": "black",
                "x": 301.20000000000005,
                "y": 214.10000000000002,
                "b": -3.75,
                "s": 1
              },
              {
                "p": 1,
                "lc": "black",
                "x": 298.70000000000005,
                "y": 217.10000000000002,
                "b": 0,
                "s": 1
              },
              {
                "p": 1,
                "lc": "black",
                "x": 298.70000000000005,
                "y": 217.10000000000002,
                "b": -3.75,
                "s": 1
              },
              {
                "p": 1,
                "lc": "black",
                "x": 296.40000000000003,
                "y": 220.3,
                "b": 0,
                "s": 1
              },
              {
                "p": 1,
                "lc": "black",
                "x": 296.40000000000003,
                "y": 220.3,
                "b": -3.75,
                "s": 1
              },
              {
                "p": 1,
                "lc": "black",
                "x": 294.3,
                "y": 223.60000000000002,
                "b": 0,
                "s": 1
              },
              {
                "p": 1,
                "lc": "black",
                "x": 294.3,
                "y": 223.60000000000002,
                "b": -3.75,
                "s": 1
              },
              {
                "p": 1,
                "lc": "black",
                "x": 292.40000000000003,
                "y": 227.00000000000003,
                "b": 0,
                "s": 1
              },
              {
                "p": 1,
                "lc": "black",
                "x": 292.40000000000003,
                "y": 227.00000000000003,
                "b": -3.75,
                "s": 1
              },
              {
                "p": 1,
                "lc": "black",
                "x": 290.70000000000005,
                "y": 230.60000000000002,
                "b": 0,
                "s": 1
              },
              {
                "p": 1,
                "lc": "black",
                "x": 290.70000000000005,
                "y": 230.60000000000002,
                "b": -3.75,
                "s": 1
              },
              {
                "p": 1,
                "lc": "black",
                "x": 289.30000000000007,
                "y": 234.3,
                "b": 0,
                "s": 1
              },
              {
                "p": 1,
                "lc": "black",
                "x": 289.30000000000007,
                "y": 234.3,
                "b": -3.75,
                "s": 1
              },
              {
                "p": 1,
                "lc": "black",
                "x": 288.1000000000001,
                "y": 238,
                "b": 0,
                "s": 1
              },
              {
                "p": 1,
                "lc": "black",
                "x": 288.1000000000001,
                "y": 238,
                "b": -3.75,
                "s": 1
              },
              {
                "p": 1,
                "lc": "black",
                "x": 287.2000000000001,
                "y": 241.8,
                "b": 0,
                "s": 1
              },
              {
                "p": 1,
                "lc": "black",
                "x": 287.2000000000001,
                "y": 241.8,
                "b": -3.75,
                "s": 1
              },
              {
                "p": 1,
                "lc": "black",
                "x": 286.5000000000001,
                "y": 245.70000000000002,
                "b": 0,
                "s": 1
              },
              {
                "p": 1,
                "lc": "black",
                "x": 286.5000000000001,
                "y": 245.70000000000002,
                "b": -3.75,
                "s": 1
              },
              {
                "p": 1,
                "lc": "black",
                "x": 286.10000000000014,
                "y": 249.60000000000002,
                "b": 0,
                "s": 1
              },
              {
                "p": 1,
                "lc": "black",
                "x": 286.10000000000014,
                "y": 249.60000000000002,
                "b": -3.75,
                "s": 1
              },
              {
                "p": 1,
                "lc": "black",
                "x": 286.10000000000014,
                "y": 249.60000000000002,
                "b": 1.875,
                "s": 1
              },
              {
                "p": 1,
                "lc": "black",
                "x": 286.10000000000014,
                "y": 249.60000000000002,
                "b": -120,
                "s": 1
              },
              {
                "p": 1,
                "lc": "black",
                "x": 286.10000000000014,
                "y": 249.60000000000002,
                "b": -1.875,
                "s": 1
              },
              {
                "p": 1,
                "lc": "black",
                "x": 289.60000000000014,
                "y": 247.8,
                "b": 0,
                "s": 1
              },
              {
                "p": 1,
                "lc": "black",
                "x": 289.60000000000014,
                "y": 247.8,
                "b": -3.75,
                "s": 1
              },
              {
                "p": 1,
                "lc": "black",
                "x": 293.0000000000001,
                "y": 245.8,
                "b": 0,
                "s": 1
              },
              {
                "p": 1,
                "lc": "black",
                "x": 293.0000000000001,
                "y": 245.8,
                "b": -3.75,
                "s": 1
              },
              {
                "p": 1,
                "lc": "black",
                "x": 296.2000000000001,
                "y": 243.5,
                "b": 0,
                "s": 1
              },
              {
                "p": 1,
                "lc": "black",
                "x": 296.2000000000001,
                "y": 243.5,
                "b": -3.75,
                "s": 1
              },
              {
                "p": 1,
                "lc": "black",
                "x": 299.3000000000001,
                "y": 241,
                "b": 0,
                "s": 1
              },
              {
                "p": 1,
                "lc": "black",
                "x": 299.3000000000001,
                "y": 241,
                "b": -3.75,
                "s": 1
              },
              {
                "p": 1,
                "lc": "black",
                "x": 302.2000000000001,
                "y": 238.3,
                "b": 0,
                "s": 1
              },
              {
                "p": 1,
                "lc": "black",
                "x": 302.2000000000001,
                "y": 238.3,
                "b": -3.75,
                "s": 1
              },
              {
                "p": 1,
                "lc": "black",
                "x": 304.9000000000001,
                "y": 235.5,
                "b": 0,
                "s": 1
              },
              {
                "p": 1,
                "lc": "black",
                "x": 304.9000000000001,
                "y": 235.5,
                "b": -3.75,
                "s": 1
              },
              {
                "p": 1,
                "lc": "black",
                "x": 307.4000000000001,
                "y": 232.5,
                "b": 0,
                "s": 1
              },
              {
                "p": 1,
                "lc": "black",
                "x": 307.4000000000001,
                "y": 232.5,
                "b": -3.75,
                "s": 1
              },
              {
                "p": 1,
                "lc": "black",
                "x": 309.7000000000001,
                "y": 229.3,
                "b": 0,
                "s": 1
              },
              {
                "p": 1,
                "lc": "black",
                "x": 309.7000000000001,
                "y": 229.3,
                "b": -3.75,
                "s": 1
              },
              {
                "p": 1,
                "lc": "black",
                "x": 311.8000000000001,
                "y": 226,
                "b": 0,
                "s": 1
              },
              {
                "p": 1,
                "lc": "black",
                "x": 311.8000000000001,
                "y": 226,
                "b": -3.75,
                "s": 1
              },
              {
                "p": 1,
                "lc": "black",
                "x": 313.7000000000001,
                "y": 222.6,
                "b": 0,
                "s": 1
              },
              {
                "p": 1,
                "lc": "black",
                "x": 313.7000000000001,
                "y": 222.6,
                "b": -3.75,
                "s": 1
              },
              {
                "p": 1,
                "lc": "black",
                "x": 315.4000000000001,
                "y": 219,
                "b": 0,
                "s": 1
              },
              {
                "p": 1,
                "lc": "black",
                "x": 315.4000000000001,
                "y": 219,
                "b": -3.75,
                "s": 1
              },
              {
                "p": 1,
                "lc": "black",
                "x": 316.80000000000007,
                "y": 215.3,
                "b": 0,
                "s": 1
              },
              {
                "p": 1,
                "lc": "black",
                "x": 316.80000000000007,
                "y": 215.3,
                "b": -3.75,
                "s": 1
              },
              {
                "p": 1,
                "lc": "black",
                "x": 318.00000000000006,
                "y": 211.60000000000002,
                "b": 0,
                "s": 1
              },
              {
                "p": 1,
                "lc": "black",
                "x": 318.00000000000006,
                "y": 211.60000000000002,
                "b": -3.75,
                "s": 1
              },
              {
                "p": 1,
                "lc": "black",
                "x": 318.90000000000003,
                "y": 207.8,
                "b": 0,
                "s": 1
              },
              {
                "p": 1,
                "lc": "black",
                "x": 318.90000000000003,
                "y": 207.8,
                "b": -3.75,
                "s": 1
              },
              {
                "p": 1,
                "lc": "black",
                "x": 319.6,
                "y": 203.9,
                "b": 0,
                "s": 1
              },
              {
                "p": 1,
                "lc": "black",
                "x": 319.6,
                "y": 203.9,
                "b": -3.75,
                "s": 1
              },
              {
                "p": 1,
                "lc": "black",
                "x": 320,
                "y": 200,
                "b": 0,
                "s": 1
              },
              {
                "p": 1,
                "lc": "black",
                "x": 320,
                "y": 200,
                "b": -3.75,
                "s": 1
              },
              {
                "p": 1,
                "lc": "black",
                "x": 320,
                "y": 200,
                "b": 1.875,
                "s": 1
              },
              {
                "p": 1,
                "lc": "black",
                "x": 320,
                "y": 200,
                "b": -120,
                "s": 1
              },
              {
                "p": 1,
                "lc": "black",
                "x": 320,
                "y": 200,
                "b": -51.42857142857143,
                "s": 1
              },
              {
                "p": 1,
                "lc": "black",
                "x": 320,
                "y": 200,
                "b": -1.875,
                "s": 1
              },
              {
                "p": 1,
                "lc": "black",
                "x": 319.3,
                "y": 203.9,
                "b": 0,
                "s": 1
              },
              {
                "p": 1,
                "lc": "black",
                "x": 319.3,
                "y": 203.9,
                "b": -3.75,
                "s": 1
              },
              {
                "p": 1,
                "lc": "black",
                "x": 318.8,
                "y": 207.8,
                "b": 0,
                "s": 1
              },
              {
                "p": 1,
                "lc": "black",
                "x": 318.8,
                "y": 207.8,
                "b": -3.75,
                "s": 1
              },
              {
                "p": 1,
                "lc": "black",
                "x": 318.6,
                "y": 211.70000000000002,
                "b": 0,
                "s": 1
              },
              {
                "p": 1,
                "lc": "black",
                "x": 318.6,
                "y": 211.70000000000002,
                "b": -3.75,
                "s": 1
              },
              {
                "p": 1,
                "lc": "black",
                "x": 318.6,
                "y": 215.60000000000002,
                "b": 0,
                "s": 1
              },
              {
                "p": 1,
                "lc": "black",
                "x": 318.6,
                "y": 215.60000000000002,
                "b": -3.75,
                "s": 1
              },
              {
                "p": 1,
                "lc": "black",
                "x": 318.90000000000003,
                "y": 219.50000000000003,
                "b": 0,
                "s": 1
              },
              {
                "p": 1,
                "lc": "black",
                "x": 318.90000000000003,
                "y": 219.50000000000003,
                "b": -3.75,
                "s": 1
              },
              {
                "p": 1,
                "lc": "black",
                "x": 319.40000000000003,
                "y": 223.40000000000003,
                "b": 0,
                "s": 1
              },
              {
                "p": 1,
                "lc": "black",
                "x": 319.40000000000003,
                "y": 223.40000000000003,
                "b": -3.75,
                "s": 1
              },
              {
                "p": 1,
                "lc": "black",
                "x": 320.20000000000005,
                "y": 227.20000000000005,
                "b": 0,
                "s": 1
              },
              {
                "p": 1,
                "lc": "black",
                "x": 320.20000000000005,
                "y": 227.20000000000005,
                "b": -3.75,
                "s": 1
              },
              {
                "p": 1,
                "lc": "black",
                "x": 321.20000000000005,
                "y": 231.00000000000006,
                "b": 0,
                "s": 1
              },
              {
                "p": 1,
                "lc": "black",
                "x": 321.20000000000005,
                "y": 231.00000000000006,
                "b": -3.75,
                "s": 1
              },
              {
                "p": 1,
                "lc": "black",
                "x": 322.50000000000006,
                "y": 234.70000000000005,
                "b": 0,
                "s": 1
              },
              {
                "p": 1,
                "lc": "black",
                "x": 322.50000000000006,
                "y": 234.70000000000005,
                "b": -3.75,
                "s": 1
              },
              {
                "p": 1,
                "lc": "black",
                "x": 324.00000000000006,
                "y": 238.30000000000004,
                "b": 0,
                "s": 1
              },
              {
                "p": 1,
                "lc": "black",
                "x": 324.00000000000006,
                "y": 238.30000000000004,
                "b": -3.75,
                "s": 1
              },
              {
                "p": 1,
                "lc": "black",
                "x": 325.80000000000007,
                "y": 241.80000000000004,
                "b": 0,
                "s": 1
              },
              {
                "p": 1,
                "lc": "black",
                "x": 325.80000000000007,
                "y": 241.80000000000004,
                "b": -3.75,
                "s": 1
              },
              {
                "p": 1,
                "lc": "black",
                "x": 327.80000000000007,
                "y": 245.20000000000005,
                "b": 0,
                "s": 1
              },
              {
                "p": 1,
                "lc": "black",
                "x": 327.80000000000007,
                "y": 245.20000000000005,
                "b": -3.75,
                "s": 1
              },
              {
                "p": 1,
                "lc": "black",
                "x": 330.00000000000006,
                "y": 248.50000000000006,
                "b": 0,
                "s": 1
              },
              {
                "p": 1,
                "lc": "black",
                "x": 330.00000000000006,
                "y": 248.50000000000006,
                "b": -3.75,
                "s": 1
              },
              {
                "p": 1,
                "lc": "black",
                "x": 332.40000000000003,
                "y": 251.60000000000005,
                "b": 0,
                "s": 1
              },
              {
                "p": 1,
                "lc": "black",
                "x": 332.40000000000003,
                "y": 251.60000000000005,
                "b": -3.75,
                "s": 1
              },
              {
                "p": 1,
                "lc": "black",
                "x": 335.00000000000006,
                "y": 254.50000000000006,
                "b": 0,
                "s": 1
              },
              {
                "p": 1,
                "lc": "black",
                "x": 335.00000000000006,
                "y": 254.50000000000006,
                "b": -3.75,
                "s": 1
              },
              {
                "p": 1,
                "lc": "black",
                "x": 337.80000000000007,
                "y": 257.30000000000007,
                "b": 0,
                "s": 1
              },
              {
                "p": 1,
                "lc": "black",
                "x": 337.80000000000007,
                "y": 257.30000000000007,
                "b": -3.75,
                "s": 1
              },
              {
                "p": 1,
                "lc": "black",
                "x": 337.80000000000007,
                "y": 257.30000000000007,
                "b": 1.875,
                "s": 1
              },
              {
                "p": 1,
                "lc": "black",
                "x": 337.80000000000007,
                "y": 257.30000000000007,
                "b": -120,
                "s": 1
              },
              {
                "p": 1,
                "lc": "black",
                "x": 337.80000000000007,
                "y": 257.30000000000007,
                "b": -1.875,
                "s": 1
              },
              {
                "p": 1,
                "lc": "black",
                "x": 338.50000000000006,
                "y": 253.40000000000006,
                "b": 0,
                "s": 1
              },
              {
                "p": 1,
                "lc": "black",
                "x": 338.50000000000006,
                "y": 253.40000000000006,
                "b": -3.75,
                "s": 1
              },
              {
                "p": 1,
                "lc": "black",
                "x": 339.00000000000006,
                "y": 249.50000000000006,
                "b": 0,
                "s": 1
              },
              {
                "p": 1,
                "lc": "black",
                "x": 339.00000000000006,
                "y": 249.50000000000006,
                "b": -3.75,
                "s": 1
              },
              {
                "p": 1,
                "lc": "black",
                "x": 339.20000000000005,
                "y": 245.60000000000005,
                "b": 0,
                "s": 1
              },
              {
                "p": 1,
                "lc": "black",
                "x": 339.20000000000005,
                "y": 245.60000000000005,
                "b": -3.75,
                "s": 1
              },
              {
                "p": 1,
                "lc": "black",
                "x": 339.20000000000005,
                "y": 241.70000000000005,
                "b": 0,
                "s": 1
              },
              {
                "p": 1,
                "lc": "black",
                "x": 339.20000000000005,
                "y": 241.70000000000005,
                "b": -3.75,
                "s": 1
              },
              {
                "p": 1,
                "lc": "black",
                "x": 338.90000000000003,
                "y": 237.80000000000004,
                "b": 0,
                "s": 1
              },
              {
                "p": 1,
                "lc": "black",
                "x": 338.90000000000003,
                "y": 237.80000000000004,
                "b": -3.75,
                "s": 1
              },
              {
                "p": 1,
                "lc": "black",
                "x": 338.40000000000003,
                "y": 233.90000000000003,
                "b": 0,
                "s": 1
              },
              {
                "p": 1,
                "lc": "black",
                "x": 338.40000000000003,
                "y": 233.90000000000003,
                "b": -3.75,
                "s": 1
              },
              {
                "p": 1,
                "lc": "black",
                "x": 337.6,
                "y": 230.10000000000002,
                "b": 0,
                "s": 1
              },
              {
                "p": 1,
                "lc": "black",
                "x": 337.6,
                "y": 230.10000000000002,
                "b": -3.75,
                "s": 1
              },
              {
                "p": 1,
                "lc": "black",
                "x": 336.6,
                "y": 226.3,
                "b": 0,
                "s": 1
              },
              {
                "p": 1,
                "lc": "black",
                "x": 336.6,
                "y": 226.3,
                "b": -3.75,
                "s": 1
              },
              {
                "p": 1,
                "lc": "black",
                "x": 335.3,
                "y": 222.60000000000002,
                "b": 0,
                "s": 1
              },
              {
                "p": 1,
                "lc": "black",
                "x": 335.3,
                "y": 222.60000000000002,
                "b": -3.75,
                "s": 1
              },
              {
                "p": 1,
                "lc": "black",
                "x": 333.8,
                "y": 219.00000000000003,
                "b": 0,
                "s": 1
              },
              {
                "p": 1,
                "lc": "black",
                "x": 333.8,
                "y": 219.00000000000003,
                "b": -3.75,
                "s": 1
              },
              {
                "p": 1,
                "lc": "black",
                "x": 332,
                "y": 215.50000000000003,
                "b": 0,
                "s": 1
              },
              {
                "p": 1,
                "lc": "black",
                "x": 332,
                "y": 215.50000000000003,
                "b": -3.75,
                "s": 1
              },
              {
                "p": 1,
                "lc": "black",
                "x": 330,
                "y": 212.10000000000002,
                "b": 0,
                "s": 1
              },
              {
                "p": 1,
                "lc": "black",
                "x": 330,
                "y": 212.10000000000002,
                "b": -3.75,
                "s": 1
              },
              {
                "p": 1,
                "lc": "black",
                "x": 327.8,
                "y": 208.8,
                "b": 0,
                "s": 1
              },
              {
                "p": 1,
                "lc": "black",
                "x": 327.8,
                "y": 208.8,
                "b": -3.75,
                "s": 1
              },
              {
                "p": 1,
                "lc": "black",
                "x": 325.40000000000003,
                "y": 205.70000000000002,
                "b": 0,
                "s": 1
              },
              {
                "p": 1,
                "lc": "black",
                "x": 325.40000000000003,
                "y": 205.70000000000002,
                "b": -3.75,
                "s": 1
              },
              {
                "p": 1,
                "lc": "black",
                "x": 322.8,
                "y": 202.8,
                "b": 0,
                "s": 1
              },
              {
                "p": 1,
                "lc": "black",
                "x": 322.8,
                "y": 202.8,
                "b": -3.75,
                "s": 1
              },
              {
                "p": 1,
                "lc": "black",
                "x": 320,
                "y": 200,
                "b": 0,
                "s": 1
              },
              {
                "p": 1,
                "lc": "black",
                "x": 320,
                "y": 200,
                "b": -3.75,
                "s": 1
              },
              {
                "p": 1,
                "lc": "black",
                "x": 320,
                "y": 200,
                "b": 1.875,
                "s": 1
              },
              {
                "p": 1,
                "lc": "black",
                "x": 320,
                "y": 200,
                "b": -120,
                "s": 1
              },
              {
                "p": 1,
                "lc": "black",
                "x": 320,
                "y": 200,
                "b": -51.42857142857143,
                "s": 1
              },
              {
                "p": 1,
                "lc": "black",
                "x": 320,
                "y": 200,
                "b": -1.875,
                "s": 1
              },
              {
                "p": 1,
                "lc": "black",
                "x": 322.5,
                "y": 203,
                "b": 0,
                "s": 1
              },
              {
                "p": 1,
                "lc": "black",
                "x": 322.5,
                "y": 203,
                "b": -3.75,
                "s": 1
              },
              {
                "p": 1,
                "lc": "black",
                "x": 325.2,
                "y": 205.8,
                "b": 0,
                "s": 1
              },
              {
                "p": 1,
                "lc": "black",
                "x": 325.2,
                "y": 205.8,
                "b": -3.75,
                "s": 1
              },
              {
                "p": 1,
                "lc": "black",
                "x": 328.09999999999997,
                "y": 208.4,
                "b": 0,
                "s": 1
              },
              {
                "p": 1,
                "lc": "black",
                "x": 328.09999999999997,
                "y": 208.4,
                "b": -3.75,
                "s": 1
              },
              {
                "p": 1,
                "lc": "black",
                "x": 331.2,
                "y": 210.8,
                "b": 0,
                "s": 1
              },
              {
                "p": 1,
                "lc": "black",
                "x": 331.2,
                "y": 210.8,
                "b": -3.75,
                "s": 1
              },
              {
                "p": 1,
                "lc": "black",
                "x": 334.4,
                "y": 213,
                "b": 0,
                "s": 1
              },
              {
                "p": 1,
                "lc": "black",
                "x": 334.4,
                "y": 213,
                "b": -3.75,
                "s": 1
              },
              {
                "p": 1,
                "lc": "black",
                "x": 337.79999999999995,
                "y": 215,
                "b": 0,
                "s": 1
              },
              {
                "p": 1,
                "lc": "black",
                "x": 337.79999999999995,
                "y": 215,
                "b": -3.75,
                "s": 1
              },
              {
                "p": 1,
                "lc": "black",
                "x": 341.29999999999995,
                "y": 216.8,
                "b": 0,
                "s": 1
              },
              {
                "p": 1,
                "lc": "black",
                "x": 341.29999999999995,
                "y": 216.8,
                "b": -3.75,
                "s": 1
              },
              {
                "p": 1,
                "lc": "black",
                "x": 344.9,
                "y": 218.4,
                "b": 0,
                "s": 1
              },
              {
                "p": 1,
                "lc": "black",
                "x": 344.9,
                "y": 218.4,
                "b": -3.75,
                "s": 1
              },
              {
                "p": 1,
                "lc": "black",
                "x": 348.59999999999997,
                "y": 219.70000000000002,
                "b": 0,
                "s": 1
              },
              {
                "p": 1,
                "lc": "black",
                "x": 348.59999999999997,
                "y": 219.70000000000002,
                "b": -3.75,
                "s": 1
              },
              {
                "p": 1,
                "lc": "black",
                "x": 352.4,
                "y": 220.8,
                "b": 0,
                "s": 1
              },
              {
                "p": 1,
                "lc": "black",
                "x": 352.4,
                "y": 220.8,
                "b": -3.75,
                "s": 1
              },
              {
                "p": 1,
                "lc": "black",
                "x": 356.2,
                "y": 221.60000000000002,
                "b": 0,
                "s": 1
              },
              {
                "p": 1,
                "lc": "black",
                "x": 356.2,
                "y": 221.60000000000002,
                "b": -3.75,
                "s": 1
              },
              {
                "p": 1,
                "lc": "black",
                "x": 360.09999999999997,
                "y": 222.20000000000002,
                "b": 0,
                "s": 1
              },
              {
                "p": 1,
                "lc": "black",
                "x": 360.09999999999997,
                "y": 222.20000000000002,
                "b": -3.75,
                "s": 1
              },
              {
                "p": 1,
                "lc": "black",
                "x": 363.99999999999994,
                "y": 222.50000000000003,
                "b": 0,
                "s": 1
              },
              {
                "p": 1,
                "lc": "black",
                "x": 363.99999999999994,
                "y": 222.50000000000003,
                "b": -3.75,
                "s": 1
              },
              {
                "p": 1,
                "lc": "black",
                "x": 367.8999999999999,
                "y": 222.60000000000002,
                "b": 0,
                "s": 1
              },
              {
                "p": 1,
                "lc": "black",
                "x": 367.8999999999999,
                "y": 222.60000000000002,
                "b": -3.75,
                "s": 1
              },
              {
                "p": 1,
                "lc": "black",
                "x": 371.7999999999999,
                "y": 222.40000000000003,
                "b": 0,
                "s": 1
              },
              {
                "p": 1,
                "lc": "black",
                "x": 371.7999999999999,
                "y": 222.40000000000003,
                "b": -3.75,
                "s": 1
              },
              {
                "p": 1,
                "lc": "black",
                "x": 375.6999999999999,
                "y": 221.90000000000003,
                "b": 0,
                "s": 1
              },
              {
                "p": 1,
                "lc": "black",
                "x": 375.6999999999999,
                "y": 221.90000000000003,
                "b": -3.75,
                "s": 1
              },
              {
                "p": 1,
                "lc": "black",
                "x": 375.6999999999999,
                "y": 221.90000000000003,
                "b": 1.875,
                "s": 1
              },
              {
                "p": 1,
                "lc": "black",
                "x": 375.6999999999999,
                "y": 221.90000000000003,
                "b": -120,
                "s": 1
              },
              {
                "p": 1,
                "lc": "black",
                "x": 375.6999999999999,
                "y": 221.90000000000003,
                "b": -1.875,
                "s": 1
              },
              {
                "p": 1,
                "lc": "black",
                "x": 373.1999999999999,
                "y": 218.90000000000003,
                "b": 0,
                "s": 1
              },
              {
                "p": 1,
                "lc": "black",
                "x": 373.1999999999999,
                "y": 218.90000000000003,
                "b": -3.75,
                "s": 1
              },
              {
                "p": 1,
                "lc": "black",
                "x": 370.4999999999999,
                "y": 216.10000000000002,
                "b": 0,
                "s": 1
              },
              {
                "p": 1,
                "lc": "black",
                "x": 370.4999999999999,
                "y": 216.10000000000002,
                "b": -3.75,
                "s": 1
              },
              {
                "p": 1,
                "lc": "black",
                "x": 367.5999999999999,
                "y": 213.50000000000003,
                "b": 0,
                "s": 1
              },
              {
                "p": 1,
                "lc": "black",
                "x": 367.5999999999999,
                "y": 213.50000000000003,
                "b": -3.75,
                "s": 1
              },
              {
                "p": 1,
                "lc": "black",
                "x": 364.4999999999999,
                "y": 211.10000000000002,
                "b": 0,
                "s": 1
              },
              {
                "p": 1,
                "lc": "black",
                "x": 364.4999999999999,
                "y": 211.10000000000002,
                "b": -3.75,
                "s": 1
              },
              {
                "p": 1,
                "lc": "black",
                "x": 361.2999999999999,
                "y": 208.90000000000003,
                "b": 0,
                "s": 1
              },
              {
                "p": 1,
                "lc": "black",
                "x": 361.2999999999999,
                "y": 208.90000000000003,
                "b": -3.75,
                "s": 1
              },
              {
                "p": 1,
                "lc": "black",
                "x": 357.8999999999999,
                "y": 206.90000000000003,
                "b": 0,
                "s": 1
              },
              {
                "p": 1,
                "lc": "black",
                "x": 357.8999999999999,
                "y": 206.90000000000003,
                "b": -3.75,
                "s": 1
              },
              {
                "p": 1,
                "lc": "black",
                "x": 354.3999999999999,
                "y": 205.10000000000002,
                "b": 0,
                "s": 1
              },
              {
                "p": 1,
                "lc": "black",
                "x": 354.3999999999999,
                "y": 205.10000000000002,
                "b": -3.75,
                "s": 1
              },
              {
                "p": 1,
                "lc": "black",
                "x": 350.7999999999999,
                "y": 203.50000000000003,
                "b": 0,
                "s": 1
              },
              {
                "p": 1,
                "lc": "black",
                "x": 350.7999999999999,
                "y": 203.50000000000003,
                "b": -3.75,
                "s": 1
              },
              {
                "p": 1,
                "lc": "black",
                "x": 347.0999999999999,
                "y": 202.20000000000002,
                "b": 0,
                "s": 1
              },
              {
                "p": 1,
                "lc": "black",
                "x": 347.0999999999999,
                "y": 202.20000000000002,
                "b": -3.75,
                "s": 1
              },
              {
                "p": 1,
                "lc": "black",
                "x": 343.2999999999999,
                "y": 201.10000000000002,
                "b": 0,
                "s": 1
              },
              {
                "p": 1,
                "lc": "black",
                "x": 343.2999999999999,
                "y": 201.10000000000002,
                "b": -3.75,
                "s": 1
              },
              {
                "p": 1,
                "lc": "black",
                "x": 339.4999999999999,
                "y": 200.3,
                "b": 0,
                "s": 1
              },
              {
                "p": 1,
                "lc": "black",
                "x": 339.4999999999999,
                "y": 200.3,
                "b": -3.75,
                "s": 1
              },
              {
                "p": 1,
                "lc": "black",
                "x": 335.5999999999999,
                "y": 199.70000000000002,
                "b": 0,
                "s": 1
              },
              {
                "p": 1,
                "lc": "black",
                "x": 335.5999999999999,
                "y": 199.70000000000002,
                "b": -3.75,
                "s": 1
              },
              {
                "p": 1,
                "lc": "black",
                "x": 331.69999999999993,
                "y": 199.4,
                "b": 0,
                "s": 1
              },
              {
                "p": 1,
                "lc": "black",
                "x": 331.69999999999993,
                "y": 199.4,
                "b": -3.75,
                "s": 1
              },
              {
                "p": 1,
                "lc": "black",
                "x": 327.79999999999995,
                "y": 199.3,
                "b": 0,
                "s": 1
              },
              {
                "p": 1,
                "lc": "black",
                "x": 327.79999999999995,
                "y": 199.3,
                "b": -3.75,
                "s": 1
              },
              {
                "p": 1,
                "lc": "black",
                "x": 323.9,
                "y": 199.5,
                "b": 0,
                "s": 1
              },
              {
                "p": 1,
                "lc": "black",
                "x": 323.9,
                "y": 199.5,
                "b": -3.75,
                "s": 1
              },
              {
                "p": 1,
                "lc": "black",
                "x": 320,
                "y": 200,
                "b": 0,
                "s": 1
              },
              {
                "p": 1,
                "lc": "black",
                "x": 320,
                "y": 200,
                "b": -3.75,
                "s": 1
              },
              {
                "p": 1,
                "lc": "black",
                "x": 320,
                "y": 200,
                "b": 1.875,
                "s": 1
              },
              {
                "p": 1,
                "lc": "black",
                "x": 320,
                "y": 200,
                "b": -120,
                "s": 1
              },
              {
                "p": 1,
                "lc": "black",
                "x": 320,
                "y": 200,
                "b": -51.42857142857143,
                "s": 1
              },
              {
                "p": 1,
                "lc": "black",
                "x": 320,
                "y": 200,
                "b": -2.8333333333333335,
                "s": 1
              },
              {
                "p": 1,
                "lc": "black",
                "x": 324,
                "y": 199.8,
                "b": 0,
                "s": 1
              },
              {
                "p": 1,
                "lc": "black",
                "x": 324,
                "y": 199.8,
                "b": -5.666666666666667,
                "s": 1
              },
              {
                "p": 1,
                "lc": "black",
                "x": 327.9,
                "y": 199.20000000000002,
                "b": 0,
                "s": 1
              },
              {
                "p": 1,
                "lc": "black",
                "x": 327.9,
                "y": 199.20000000000002,
                "b": -5.666666666666667,
                "s": 1
              },
              {
                "p": 1,
                "lc": "black",
                "x": 331.7,
                "y": 198.20000000000002,
                "b": 0,
                "s": 1
              },
              {
                "p": 1,
                "lc": "black",
                "x": 331.7,
                "y": 198.20000000000002,
                "b": -5.666666666666667,
                "s": 1
              },
              {
                "p": 1,
                "lc": "black",
                "x": 335.4,
                "y": 196.9,
                "b": 0,
                "s": 1
              },
              {
                "p": 1,
                "lc": "black",
                "x": 335.4,
                "y": 196.9,
                "b": -5.666666666666667,
                "s": 1
              },
              {
                "p": 1,
                "lc": "black",
                "x": 339,
                "y": 195.20000000000002,
                "b": 0,
                "s": 1
              },
              {
                "p": 1,
                "lc": "black",
                "x": 339,
                "y": 195.20000000000002,
                "b": -5.666666666666667,
                "s": 1
              },
              {
                "p": 1,
                "lc": "black",
                "x": 342.4,
                "y": 193.20000000000002,
                "b": 0,
                "s": 1
              },
              {
                "p": 1,
                "lc": "black",
                "x": 342.4,
                "y": 193.20000000000002,
                "b": -5.666666666666667,
                "s": 1
              },
              {
                "p": 1,
                "lc": "black",
                "x": 345.59999999999997,
                "y": 190.8,
                "b": 0,
                "s": 1
              },
              {
                "p": 1,
                "lc": "black",
                "x": 345.59999999999997,
                "y": 190.8,
                "b": -5.666666666666667,
                "s": 1
              },
              {
                "p": 1,
                "lc": "black",
                "x": 348.49999999999994,
                "y": 188.10000000000002,
                "b": 0,
                "s": 1
              },
              {
                "p": 1,
                "lc": "black",
                "x": 348.49999999999994,
                "y": 188.10000000000002,
                "b": -5.666666666666667,
                "s": 1
              },
              {
                "p": 1,
                "lc": "black",
                "x": 351.09999999999997,
                "y": 185.20000000000002,
                "b": 0,
                "s": 1
              },
              {
                "p": 1,
                "lc": "black",
                "x": 351.09999999999997,
                "y": 185.20000000000002,
                "b": -5.666666666666667,
                "s": 1
              },
              {
                "p": 1,
                "lc": "black",
                "x": 353.4,
                "y": 182.00000000000003,
                "b": 0,
                "s": 1
              },
              {
                "p": 1,
                "lc": "black",
                "x": 353.4,
                "y": 182.00000000000003,
                "b": -5.666666666666667,
                "s": 1
              },
              {
                "p": 1,
                "lc": "black",
                "x": 355.4,
                "y": 178.60000000000002,
                "b": 0,
                "s": 1
              },
              {
                "p": 1,
                "lc": "black",
                "x": 355.4,
                "y": 178.60000000000002,
                "b": -5.666666666666667,
                "s": 1
              },
              {
                "p": 1,
                "lc": "black",
                "x": 357.09999999999997,
                "y": 175.00000000000003,
                "b": 0,
                "s": 1
              },
              {
                "p": 1,
                "lc": "black",
                "x": 357.09999999999997,
                "y": 175.00000000000003,
                "b": -5.666666666666667,
                "s": 1
              },
              {
                "p": 1,
                "lc": "black",
                "x": 358.4,
                "y": 171.30000000000004,
                "b": 0,
                "s": 1
              },
              {
                "p": 1,
                "lc": "black",
                "x": 358.4,
                "y": 171.30000000000004,
                "b": -5.666666666666667,
                "s": 1
              },
              {
                "p": 1,
                "lc": "black",
                "x": 359.29999999999995,
                "y": 167.50000000000003,
                "b": 0,
                "s": 1
              },
              {
                "p": 1,
                "lc": "black",
                "x": 359.29999999999995,
                "y": 167.50000000000003,
                "b": -5.666666666666667,
                "s": 1
              },
              {
                "p": 1,
                "lc": "black",
                "x": 359.79999999999995,
                "y": 163.60000000000002,
                "b": 0,
                "s": 1
              },
              {
                "p": 1,
                "lc": "black",
                "x": 359.79999999999995,
                "y": 163.60000000000002,
                "b": -5.666666666666667,
                "s": 1
              },
              {
                "p": 1,
                "lc": "black",
                "x": 359.79999999999995,
                "y": 163.60000000000002,
                "b": 2.8333333333333335,
                "s": 1
              },
              {
                "p": 1,
                "lc": "black",
                "x": 359.79999999999995,
                "y": 163.60000000000002,
                "b": -95,
                "s": 1
              },
              {
                "p": 1,
                "lc": "black",
                "x": 359.79999999999995,
                "y": 163.60000000000002,
                "b": -2.8333333333333335,
                "s": 1
              },
              {
                "p": 1,
                "lc": "black",
                "x": 355.79999999999995,
                "y": 163.8,
                "b": 0,
                "s": 1
              },
              {
                "p": 1,
                "lc": "black",
                "x": 355.79999999999995,
                "y": 163.8,
                "b": -5.666666666666667,
                "s": 1
              },
              {
                "p": 1,
                "lc": "black",
                "x": 351.9,
                "y": 164.4,
                "b": 0,
                "s": 1
              },
              {
                "p": 1,
                "lc": "black",
                "x": 351.9,
                "y": 164.4,
                "b": -5.666666666666667,
                "s": 1
              },
              {
                "p": 1,
                "lc": "black",
                "x": 348.09999999999997,
                "y": 165.4,
                "b": 0,
                "s": 1
              },
              {
                "p": 1,
                "lc": "black",
                "x": 348.09999999999997,
                "y": 165.4,
                "b": -5.666666666666667,
                "s": 1
              },
              {
                "p": 1,
                "lc": "black",
                "x": 344.4,
                "y": 166.70000000000002,
                "b": 0,
                "s": 1
              },
              {
                "p": 1,
                "lc": "black",
                "x": 344.4,
                "y": 166.70000000000002,
                "b": -5.666666666666667,
                "s": 1
              },
              {
                "p": 1,
                "lc": "black",
                "x": 340.79999999999995,
                "y": 168.4,
                "b": 0,
                "s": 1
              },
              {
                "p": 1,
                "lc": "black",
                "x": 340.79999999999995,
                "y": 168.4,
                "b": -5.666666666666667,
                "s": 1
              },
              {
                "p": 1,
                "lc": "black",
                "x": 337.4,
                "y": 170.4,
                "b": 0,
                "s": 1
              },
              {
                "p": 1,
                "lc": "black",
                "x": 337.4,
                "y": 170.4,
                "b": -5.666666666666667,
                "s": 1
              },
              {
                "p": 1,
                "lc": "black",
                "x": 334.2,
                "y": 172.8,
                "b": 0,
                "s": 1
              },
              {
                "p": 1,
                "lc": "black",
                "x": 334.2,
                "y": 172.8,
                "b": -5.666666666666667,
                "s": 1
              },
              {
                "p": 1,
                "lc": "black",
                "x": 331.3,
                "y": 175.5,
                "b": 0,
                "s": 1
              },
              {
                "p": 1,
                "lc": "black",
                "x": 331.3,
                "y": 175.5,
                "b": -5.666666666666667,
                "s": 1
              },
              {
                "p": 1,
                "lc": "black",
                "x": 328.7,
                "y": 178.4,
                "b": 0,
                "s": 1
              },
              {
                "p": 1,
                "lc": "black",
                "x": 328.7,
                "y": 178.4,
                "b": -5.666666666666667,
                "s": 1
              },
              {
                "p": 1,
                "lc": "black",
                "x": 326.4,
                "y": 181.6,
                "b": 0,
                "s": 1
              },
              {
                "p": 1,
                "lc": "black",
                "x": 326.4,
                "y": 181.6,
                "b": -5.666666666666667,
                "s": 1
              },
              {
                "p": 1,
                "lc": "black",
                "x": 324.4,
                "y": 185,
                "b": 0,
                "s": 1
              },
              {
                "p": 1,
                "lc": "black",
                "x": 324.4,
                "y": 185,
                "b": -5.666666666666667,
                "s": 1
              },
              {
                "p": 1,
                "lc": "black",
                "x": 322.7,
                "y": 188.6,
                "b": 0,
                "s": 1
              },
              {
                "p": 1,
                "lc": "black",
                "x": 322.7,
                "y": 188.6,
                "b": -5.666666666666667,
                "s": 1
              },
              {
                "p": 1,
                "lc": "black",
                "x": 321.4,
                "y": 192.29999999999998,
                "b": 0,
                "s": 1
              },
              {
                "p": 1,
                "lc": "black",
                "x": 321.4,
                "y": 192.29999999999998,
                "b": -5.666666666666667,
                "s": 1
              },
              {
                "p": 1,
                "lc": "black",
                "x": 320.5,
                "y": 196.1,
                "b": 0,
                "s": 1
              },
              {
                "p": 1,
                "lc": "black",
                "x": 320.5,
                "y": 196.1,
                "b": -5.666666666666667,
                "s": 1
              },
              {
                "p": 1,
                "lc": "black",
                "x": 320,
                "y": 200,
                "b": 0,
                "s": 1
              },
              {
                "p": 1,
                "lc": "black",
                "x": 320,
                "y": 200,
                "b": -5.666666666666667,
                "s": 1
              },
              {
                "p": 1,
                "lc": "black",
                "x": 320,
                "y": 200,
                "b": 2.8333333333333335,
                "s": 1
              },
              {
                "p": 1,
                "lc": "black",
                "x": 320,
                "y": 200,
                "b": -95,
                "s": 1
              },
              {
                "p": 1,
                "lc": "black",
                "x": 320,
                "y": 200,
                "b": -40,
                "s": 1
              },
              {
                "p": 1,
                "lc": "black",
                "x": 320,
                "y": 200,
                "b": -2.8333333333333335,
                "s": 1
              },
              {
                "p": 1,
                "lc": "black",
                "x": 322.9,
                "y": 197.3,
                "b": 0,
                "s": 1
              },
              {
                "p": 1,
                "lc": "black",
                "x": 322.9,
                "y": 197.3,
                "b": -5.666666666666667,
                "s": 1
              },
              {
                "p": 1,
                "lc": "black",
                "x": 325.5,
                "y": 194.3,
                "b": 0,
                "s": 1
              },
              {
                "p": 1,
                "lc": "black",
                "x": 325.5,
                "y": 194.3,
                "b": -5.666666666666667,
                "s": 1
              },
              {
                "p": 1,
                "lc": "black",
                "x": 327.8,
                "y": 191.10000000000002,
                "b": 0,
                "s": 1
              },
              {
                "p": 1,
                "lc": "black",
                "x": 327.8,
                "y": 191.10000000000002,
                "b": -5.666666666666667,
                "s": 1
              },
              {
                "p": 1,
                "lc": "black",
                "x": 329.8,
                "y": 187.70000000000002,
                "b": 0,
                "s": 1
              },
              {
                "p": 1,
                "lc": "black",
                "x": 329.8,
                "y": 187.70000000000002,
                "b": -5.666666666666667,
                "s": 1
              },
              {
                "p": 1,
                "lc": "black",
                "x": 331.40000000000003,
                "y": 184.10000000000002,
                "b": 0,
                "s": 1
              },
              {
                "p": 1,
                "lc": "black",
                "x": 331.40000000000003,
                "y": 184.10000000000002,
                "b": -5.666666666666667,
                "s": 1
              },
              {
                "p": 1,
                "lc": "black",
                "x": 332.70000000000005,
                "y": 180.40000000000003,
                "b": 0,
                "s": 1
              },
              {
                "p": 1,
                "lc": "black",
                "x": 332.70000000000005,
                "y": 180.40000000000003,
                "b": -5.666666666666667,
                "s": 1
              },
              {
                "p": 1,
                "lc": "black",
                "x": 333.6,
                "y": 176.50000000000003,
                "b": 0,
                "s": 1
              },
              {
                "p": 1,
                "lc": "black",
                "x": 333.6,
                "y": 176.50000000000003,
                "b": -5.666666666666667,
                "s": 1
              },
              {
                "p": 1,
                "lc": "black",
                "x": 334.1,
                "y": 172.60000000000002,
                "b": 0,
                "s": 1
              },
              {
                "p": 1,
                "lc": "black",
                "x": 334.1,
                "y": 172.60000000000002,
                "b": -5.666666666666667,
                "s": 1
              },
              {
                "p": 1,
                "lc": "black",
                "x": 334.20000000000005,
                "y": 168.60000000000002,
                "b": 0,
                "s": 1
              },
              {
                "p": 1,
                "lc": "black",
                "x": 334.20000000000005,
                "y": 168.60000000000002,
                "b": -5.666666666666667,
                "s": 1
              },
              {
                "p": 1,
                "lc": "black",
                "x": 333.90000000000003,
                "y": 164.70000000000002,
                "b": 0,
                "s": 1
              },
              {
                "p": 1,
                "lc": "black",
                "x": 333.90000000000003,
                "y": 164.70000000000002,
                "b": -5.666666666666667,
                "s": 1
              },
              {
                "p": 1,
                "lc": "black",
                "x": 333.20000000000005,
                "y": 160.8,
                "b": 0,
                "s": 1
              },
              {
                "p": 1,
                "lc": "black",
                "x": 333.20000000000005,
                "y": 160.8,
                "b": -5.666666666666667,
                "s": 1
              },
              {
                "p": 1,
                "lc": "black",
                "x": 332.20000000000005,
                "y": 157,
                "b": 0,
                "s": 1
              },
              {
                "p": 1,
                "lc": "black",
                "x": 332.20000000000005,
                "y": 157,
                "b": -5.666666666666667,
                "s": 1
              },
              {
                "p": 1,
                "lc": "black",
                "x": 330.80000000000007,
                "y": 153.3,
                "b": 0,
                "s": 1
              },
              {
                "p": 1,
                "lc": "black",
                "x": 330.80000000000007,
                "y": 153.3,
                "b": -5.666666666666667,
                "s": 1
              },
              {
                "p": 1,
                "lc": "black",
                "x": 329.00000000000006,
                "y": 149.8,
                "b": 0,
                "s": 1
              },
              {
                "p": 1,
                "lc": "black",
                "x": 329.00000000000006,
                "y": 149.8,
                "b": -5.666666666666667,
                "s": 1
              },
              {
                "p": 1,
                "lc": "black",
                "x": 326.90000000000003,
                "y": 146.5,
                "b": 0,
                "s": 1
              },
              {
                "p": 1,
                "lc": "black",
                "x": 326.90000000000003,
                "y": 146.5,
                "b": -5.666666666666667,
                "s": 1
              },
              {
                "p": 1,
                "lc": "black",
                "x": 326.90000000000003,
                "y": 146.5,
                "b": 2.8333333333333335,
                "s": 1
              },
              {
                "p": 1,
                "lc": "black",
                "x": 326.90000000000003,
                "y": 146.5,
                "b": -95,
                "s": 1
              },
              {
                "p": 1,
                "lc": "black",
                "x": 326.90000000000003,
                "y": 146.5,
                "b": -2.8333333333333335,
                "s": 1
              },
              {
                "p": 1,
                "lc": "black",
                "x": 324.00000000000006,
                "y": 149.2,
                "b": 0,
                "s": 1
              },
              {
                "p": 1,
                "lc": "black",
                "x": 324.00000000000006,
                "y": 149.2,
                "b": -5.666666666666667,
                "s": 1
              },
              {
                "p": 1,
                "lc": "black",
                "x": 321.40000000000003,
                "y": 152.2,
                "b": 0,
                "s": 1
              },
              {
                "p": 1,
                "lc": "black",
                "x": 321.40000000000003,
                "y": 152.2,
                "b": -5.666666666666667,
                "s": 1
              },
              {
                "p": 1,
                "lc": "black",
                "x": 319.1,
                "y": 155.39999999999998,
                "b": 0,
                "s": 1
              },
              {
                "p": 1,
                "lc": "black",
                "x": 319.1,
                "y": 155.39999999999998,
                "b": -5.666666666666667,
                "s": 1
              },
              {
                "p": 1,
                "lc": "black",
                "x": 317.1,
                "y": 158.79999999999998,
                "b": 0,
                "s": 1
              },
              {
                "p": 1,
                "lc": "black",
                "x": 317.1,
                "y": 158.79999999999998,
                "b": -5.666666666666667,
                "s": 1
              },
              {
                "p": 1,
                "lc": "black",
                "x": 315.5,
                "y": 162.39999999999998,
                "b": 0,
                "s": 1
              },
              {
                "p": 1,
                "lc": "black",
                "x": 315.5,
                "y": 162.39999999999998,
                "b": -5.666666666666667,
                "s": 1
              },
              {
                "p": 1,
                "lc": "black",
                "x": 314.2,
                "y": 166.09999999999997,
                "b": 0,
                "s": 1
              },
              {
                "p": 1,
                "lc": "black",
                "x": 314.2,
                "y": 166.09999999999997,
                "b": -5.666666666666667,
                "s": 1
              },
              {
                "p": 1,
                "lc": "black",
                "x": 313.3,
                "y": 169.99999999999997,
                "b": 0,
                "s": 1
              },
              {
                "p": 1,
                "lc": "black",
                "x": 313.3,
                "y": 169.99999999999997,
                "b": -5.666666666666667,
                "s": 1
              },
              {
                "p": 1,
                "lc": "black",
                "x": 312.8,
                "y": 173.89999999999998,
                "b": 0,
                "s": 1
              },
              {
                "p": 1,
                "lc": "black",
                "x": 312.8,
                "y": 173.89999999999998,
                "b": -5.666666666666667,
                "s": 1
              },
              {
                "p": 1,
                "lc": "black",
                "x": 312.7,
                "y": 177.89999999999998,
                "b": 0,
                "s": 1
              },
              {
                "p": 1,
                "lc": "black",
                "x": 312.7,
                "y": 177.89999999999998,
                "b": -5.666666666666667,
                "s": 1
              },
              {
                "p": 1,
                "lc": "black",
                "x": 313,
                "y": 181.79999999999998,
                "b": 0,
                "s": 1
              },
              {
                "p": 1,
                "lc": "black",
                "x": 313,
                "y": 181.79999999999998,
                "b": -5.666666666666667,
                "s": 1
              },
              {
                "p": 1,
                "lc": "black",
                "x": 313.7,
                "y": 185.7,
                "b": 0,
                "s": 1
              },
              {
                "p": 1,
                "lc": "black",
                "x": 313.7,
                "y": 185.7,
                "b": -5.666666666666667,
                "s": 1
              },
              {
                "p": 1,
                "lc": "black",
                "x": 314.7,
                "y": 189.5,
                "b": 0,
                "s": 1
              },
              {
                "p": 1,
                "lc": "black",
                "x": 314.7,
                "y": 189.5,
                "b": -5.666666666666667,
                "s": 1
              },
              {
                "p": 1,
                "lc": "black",
                "x": 316.09999999999997,
                "y": 193.2,
                "b": 0,
                "s": 1
              },
              {
                "p": 1,
                "lc": "black",
                "x": 316.09999999999997,
                "y": 193.2,
                "b": -5.666666666666667,
                "s": 1
              },
              {
                "p": 1,
                "lc": "black",
                "x": 317.9,
                "y": 196.7,
                "b": 0,
                "s": 1
              },
              {
                "p": 1,
                "lc": "black",
                "x": 317.9,
                "y": 196.7,
                "b": -5.666666666666667,
                "s": 1
              },
              {
                "p": 1,
                "lc": "black",
                "x": 320,
                "y": 200,
                "b": 0,
                "s": 1
              },
              {
                "p": 1,
                "lc": "black",
                "x": 320,
                "y": 200,
                "b": -5.666666666666667,
                "s": 1
              },
              {
                "p": 1,
                "lc": "black",
                "x": 320,
                "y": 200,
                "b": 2.8333333333333335,
                "s": 1
              },
              {
                "p": 1,
                "lc": "black",
                "x": 320,
                "y": 200,
                "b": -95,
                "s": 1
              },
              {
                "p": 1,
                "lc": "black",
                "x": 320,
                "y": 200,
                "b": -40,
                "s": 1
              },
              {
                "p": 1,
                "lc": "black",
                "x": 320,
                "y": 200,
                "b": -2.8333333333333335,
                "s": 1
              },
              {
                "p": 1,
                "lc": "black",
                "x": 320.5,
                "y": 196.1,
                "b": 0,
                "s": 1
              },
              {
                "p": 1,
                "lc": "black",
                "x": 320.5,
                "y": 196.1,
                "b": -5.666666666666667,
                "s": 1
              },
              {
                "p": 1,
                "lc": "black",
                "x": 320.6,
                "y": 192.1,
                "b": 0,
                "s": 1
              },
              {
                "p": 1,
                "lc": "black",
                "x": 320.6,
                "y": 192.1,
                "b": -5.666666666666667,
                "s": 1
              },
              {
                "p": 1,
                "lc": "black",
                "x": 320.3,
                "y": 188.2,
                "b": 0,
                "s": 1
              },
              {
                "p": 1,
                "lc": "black",
                "x": 320.3,
                "y": 188.2,
                "b": -5.666666666666667,
                "s": 1
              },
              {
                "p": 1,
                "lc": "black",
                "x": 319.6,
                "y": 184.29999999999998,
                "b": 0,
                "s": 1
              },
              {
                "p": 1,
                "lc": "black",
                "x": 319.6,
                "y": 184.29999999999998,
                "b": -5.666666666666667,
                "s": 1
              },
              {
                "p": 1,
                "lc": "black",
                "x": 318.5,
                "y": 180.49999999999997,
                "b": 0,
                "s": 1
              },
              {
                "p": 1,
                "lc": "black",
                "x": 318.5,
                "y": 180.49999999999997,
                "b": -5.666666666666667,
                "s": 1
              },
              {
                "p": 1,
                "lc": "black",
                "x": 317.1,
                "y": 176.79999999999998,
                "b": 0,
                "s": 1
              },
              {
                "p": 1,
                "lc": "black",
                "x": 317.1,
                "y": 176.79999999999998,
                "b": -5.666666666666667,
                "s": 1
              },
              {
                "p": 1,
                "lc": "black",
                "x": 315.3,
                "y": 173.29999999999998,
                "b": 0,
                "s": 1
              },
              {
                "p": 1,
                "lc": "black",
                "x": 315.3,
                "y": 173.29999999999998,
                "b": -5.666666666666667,
                "s": 1
              },
              {
                "p": 1,
                "lc": "black",
                "x": 313.2,
                "y": 169.99999999999997,
                "b": 0,
                "s": 1
              },
              {
                "p": 1,
                "lc": "black",
                "x": 313.2,
                "y": 169.99999999999997,
                "b": -5.666666666666667,
                "s": 1
              },
              {
                "p": 1,
                "lc": "black",
                "x": 310.8,
                "y": 166.89999999999998,
                "b": 0,
                "s": 1
              },
              {
                "p": 1,
                "lc": "black",
                "x": 310.8,
                "y": 166.89999999999998,
                "b": -5.666666666666667,
                "s": 1
              },
              {
                "p": 1,
                "lc": "black",
                "x": 308.1,
                "y": 163.99999999999997,
                "b": 0,
                "s": 1
              },
              {
                "p": 1,
                "lc": "black",
                "x": 308.1,
                "y": 163.99999999999997,
                "b": -5.666666666666667,
                "s": 1
              },
              {
                "p": 1,
                "lc": "black",
                "x": 305.1,
                "y": 161.39999999999998,
                "b": 0,
                "s": 1
              },
              {
                "p": 1,
                "lc": "black",
                "x": 305.1,
                "y": 161.39999999999998,
                "b": -5.666666666666667,
                "s": 1
              },
              {
                "p": 1,
                "lc": "black",
                "x": 301.90000000000003,
                "y": 159.09999999999997,
                "b": 0,
                "s": 1
              },
              {
                "p": 1,
                "lc": "black",
                "x": 301.90000000000003,
                "y": 159.09999999999997,
                "b": -5.666666666666667,
                "s": 1
              },
              {
                "p": 1,
                "lc": "black",
                "x": 298.40000000000003,
                "y": 157.19999999999996,
                "b": 0,
                "s": 1
              },
              {
                "p": 1,
                "lc": "black",
                "x": 298.40000000000003,
                "y": 157.19999999999996,
                "b": -5.666666666666667,
                "s": 1
              },
              {
                "p": 1,
                "lc": "black",
                "x": 294.8,
                "y": 155.59999999999997,
                "b": 0,
                "s": 1
              },
              {
                "p": 1,
                "lc": "black",
                "x": 294.8,
                "y": 155.59999999999997,
                "b": -5.666666666666667,
                "s": 1
              },
              {
                "p": 1,
                "lc": "black",
                "x": 291,
                "y": 154.39999999999998,
                "b": 0,
                "s": 1
              },
              {
                "p": 1,
                "lc": "black",
                "x": 291,
                "y": 154.39999999999998,
                "b": -5.666666666666667,
                "s": 1
              },
              {
                "p": 1,
                "lc": "black",
                "x": 291,
                "y": 154.39999999999998,
                "b": 2.8333333333333335,
                "s": 1
              },
              {
                "p": 1,
                "lc": "black",
                "x": 291,
                "y": 154.39999999999998,
                "b": -95,
                "s": 1
              },
              {
                "p": 1,
                "lc": "black",
                "x": 291,
                "y": 154.39999999999998,
                "b": -2.8333333333333335,
                "s": 1
              },
              {
                "p": 1,
                "lc": "black",
                "x": 290.5,
                "y": 158.29999999999998,
                "b": 0,
                "s": 1
              },
              {
                "p": 1,
                "lc": "black",
                "x": 290.5,
                "y": 158.29999999999998,
                "b": -5.666666666666667,
                "s": 1
              },
              {
                "p": 1,
                "lc": "black",
                "x": 290.4,
                "y": 162.29999999999998,
                "b": 0,
                "s": 1
              },
              {
                "p": 1,
                "lc": "black",
                "x": 290.4,
                "y": 162.29999999999998,
                "b": -5.666666666666667,
                "s": 1
              },
              {
                "p": 1,
                "lc": "black",
                "x": 290.7,
                "y": 166.2,
                "b": 0,
                "s": 1
              },
              {
                "p": 1,
                "lc": "black",
                "x": 290.7,
                "y": 166.2,
                "b": -5.666666666666667,
                "s": 1
              },
              {
                "p": 1,
                "lc": "black",
                "x": 291.4,
                "y": 170.1,
                "b": 0,
                "s": 1
              },
              {
                "p": 1,
                "lc": "black",
                "x": 291.4,
                "y": 170.1,
                "b": -5.666666666666667,
                "s": 1
              },
              {
                "p": 1,
                "lc": "black",
                "x": 292.5,
                "y": 173.9,
                "b": 0,
                "s": 1
              },
              {
                "p": 1,
                "lc": "black",
                "x": 292.5,
                "y": 173.9,
                "b": -5.666666666666667,
                "s": 1
              },
              {
                "p": 1,
                "lc": "black",
                "x": 293.9,
                "y": 177.6,
                "b": 0,
                "s": 1
              },
              {
                "p": 1,
                "lc": "black",
                "x": 293.9,
                "y": 177.6,
                "b": -5.666666666666667,
                "s": 1
              },
              {
                "p": 1,
                "lc": "black",
                "x": 295.7,
                "y": 181.1,
                "b": 0,
                "s": 1
              },
              {
                "p": 1,
                "lc": "black",
                "x": 295.7,
                "y": 181.1,
                "b": -5.666666666666667,
                "s": 1
              },
              {
                "p": 1,
                "lc": "black",
                "x": 297.8,
                "y": 184.4,
                "b": 0,
                "s": 1
              },
              {
                "p": 1,
                "lc": "black",
                "x": 297.8,
                "y": 184.4,
                "b": -5.666666666666667,
                "s": 1
              },
              {
                "p": 1,
                "lc": "black",
                "x": 300.2,
                "y": 187.5,
                "b": 0,
                "s": 1
              },
              {
                "p": 1,
                "lc": "black",
                "x": 300.2,
                "y": 187.5,
                "b": -5.666666666666667,
                "s": 1
              },
              {
                "p": 1,
                "lc": "black",
                "x": 302.9,
                "y": 190.4,
                "b": 0,
                "s": 1
              },
              {
                "p": 1,
                "lc": "black",
                "x": 302.9,
                "y": 190.4,
                "b": -5.666666666666667,
                "s": 1
              },
              {
                "p": 1,
                "lc": "black",
                "x": 305.9,
                "y": 193,
                "b": 0,
                "s": 1
              },
              {
                "p": 1,
                "lc": "black",
                "x": 305.9,
                "y": 193,
                "b": -5.666666666666667,
                "s": 1
              },
              {
                "p": 1,
                "lc": "black",
                "x": 309.09999999999997,
                "y": 195.3,
                "b": 0,
                "s": 1
              },
              {
                "p": 1,
                "lc": "black",
                "x": 309.09999999999997,
                "y": 195.3,
                "b": -5.666666666666667,
                "s": 1
              },
              {
                "p": 1,
                "lc": "black",
                "x": 312.59999999999997,
                "y": 197.20000000000002,
                "b": 0,
                "s": 1
              },
              {
                "p": 1,
                "lc": "black",
                "x": 312.59999999999997,
                "y": 197.20000000000002,
                "b": -5.666666666666667,
                "s": 1
              },
              {
                "p": 1,
                "lc": "black",
                "x": 316.2,
                "y": 198.8,
                "b": 0,
                "s": 1
              },
              {
                "p": 1,
                "lc": "black",
                "x": 316.2,
                "y": 198.8,
                "b": -5.666666666666667,
                "s": 1
              },
              {
                "p": 1,
                "lc": "black",
                "x": 320,
                "y": 200,
                "b": 0,
                "s": 1
              },
              {
                "p": 1,
                "lc": "black",
                "x": 320,
                "y": 200,
                "b": -5.666666666666667,
                "s": 1
              },
              {
                "p": 1,
                "lc": "black",
                "x": 320,
                "y": 200,
                "b": 2.8333333333333335,
                "s": 1
              },
              {
                "p": 1,
                "lc": "black",
                "x": 320,
                "y": 200,
                "b": -95,
                "s": 1
              },
              {
                "p": 1,
                "lc": "black",
                "x": 320,
                "y": 200,
                "b": -40,
                "s": 1
              },
              {
                "p": 1,
                "lc": "black",
                "x": 320,
                "y": 200,
                "b": -2.8333333333333335,
                "s": 1
              },
              {
                "p": 1,
                "lc": "black",
                "x": 317.9,
                "y": 196.7,
                "b": 0,
                "s": 1
              },
              {
                "p": 1,
                "lc": "black",
                "x": 317.9,
                "y": 196.7,
                "b": -5.666666666666667,
                "s": 1
              },
              {
                "p": 1,
                "lc": "black",
                "x": 315.4,
                "y": 193.6,
                "b": 0,
                "s": 1
              },
              {
                "p": 1,
                "lc": "black",
                "x": 315.4,
                "y": 193.6,
                "b": -5.666666666666667,
                "s": 1
              },
              {
                "p": 1,
                "lc": "black",
                "x": 312.59999999999997,
                "y": 190.79999999999998,
                "b": 0,
                "s": 1
              },
              {
                "p": 1,
                "lc": "black",
                "x": 312.59999999999997,
                "y": 190.79999999999998,
                "b": -5.666666666666667,
                "s": 1
              },
              {
                "p": 1,
                "lc": "black",
                "x": 309.59999999999997,
                "y": 188.2,
                "b": 0,
                "s": 1
              },
              {
                "p": 1,
                "lc": "black",
                "x": 309.59999999999997,
                "y": 188.2,
                "b": -5.666666666666667,
                "s": 1
              },
              {
                "p": 1,
                "lc": "black",
                "x": 306.29999999999995,
                "y": 186,
                "b": 0,
                "s": 1
              },
              {
                "p": 1,
                "lc": "black",
                "x": 306.29999999999995,
                "y": 186,
                "b": -5.666666666666667,
                "s": 1
              },
              {
                "p": 1,
                "lc": "black",
                "x": 302.79999999999995,
                "y": 184.1,
                "b": 0,
                "s": 1
              },
              {
                "p": 1,
                "lc": "black",
                "x": 302.79999999999995,
                "y": 184.1,
                "b": -5.666666666666667,
                "s": 1
              },
              {
                "p": 1,
                "lc": "black",
                "x": 299.19999999999993,
                "y": 182.5,
                "b": 0,
                "s": 1
              },
              {
                "p": 1,
                "lc": "black",
                "x": 299.19999999999993,
                "y": 182.5,
                "b": -5.666666666666667,
                "s": 1
              },
              {
                "p": 1,
                "lc": "black",
                "x": 295.3999999999999,
                "y": 181.3,
                "b": 0,
                "s": 1
              },
              {
                "p": 1,
                "lc": "black",
                "x": 295.3999999999999,
                "y": 181.3,
                "b": -5.666666666666667,
                "s": 1
              },
              {
                "p": 1,
                "lc": "black",
                "x": 291.49999999999994,
                "y": 180.5,
                "b": 0,
                "s": 1
              },
              {
                "p": 1,
                "lc": "black",
                "x": 291.49999999999994,
                "y": 180.5,
                "b": -5.666666666666667,
                "s": 1
              },
              {
                "p": 1,
                "lc": "black",
                "x": 287.59999999999997,
                "y": 180.1,
                "b": 0,
                "s": 1
              },
              {
                "p": 1,
                "lc": "black",
                "x": 287.59999999999997,
                "y": 180.1,
                "b": -5.666666666666667,
                "s": 1
              },
              {
                "p": 1,
                "lc": "black",
                "x": 283.59999999999997,
                "y": 180.1,
                "b": 0,
                "s": 1
              },
              {
                "p": 1,
                "lc": "black",
                "x": 283.59999999999997,
                "y": 180.1,
                "b": -5.666666666666667,
                "s": 1
              },
              {
                "p": 1,
                "lc": "black",
                "x": 279.7,
                "y": 180.5,
                "b": 0,
                "s": 1
              },
              {
                "p": 1,
                "lc": "black",
                "x": 279.7,
                "y": 180.5,
                "b": -5.666666666666667,
                "s": 1
              },
              {
                "p": 1,
                "lc": "black",
                "x": 275.8,
                "y": 181.2,
                "b": 0,
                "s": 1
              },
              {
                "p": 1,
                "lc": "black",
                "x": 275.8,
                "y": 181.2,
                "b": -5.666666666666667,
                "s": 1
              },
              {
                "p": 1,
                "lc": "black",
                "x": 272,
                "y": 182.29999999999998,
                "b": 0,
                "s": 1
              },
              {
                "p": 1,
                "lc": "black",
                "x": 272,
                "y": 182.29999999999998,
                "b": -5.666666666666667,
                "s": 1
              },
              {
                "p": 1,
                "lc": "black",
                "x": 268.3,
                "y": 183.79999999999998,
                "b": 0,
                "s": 1
              },
              {
                "p": 1,
                "lc": "black",
                "x": 268.3,
                "y": 183.79999999999998,
                "b": -5.666666666666667,
                "s": 1
              },
              {
                "p": 1,
                "lc": "black",
                "x": 268.3,
                "y": 183.79999999999998,
                "b": 2.8333333333333335,
                "s": 1
              },
              {
                "p": 1,
                "lc": "black",
                "x": 268.3,
                "y": 183.79999999999998,
                "b": -95,
                "s": 1
              },
              {
                "p": 1,
                "lc": "black",
                "x": 268.3,
                "y": 183.79999999999998,
                "b": -2.8333333333333335,
                "s": 1
              },
              {
                "p": 1,
                "lc": "black",
                "x": 270.40000000000003,
                "y": 187.1,
                "b": 0,
                "s": 1
              },
              {
                "p": 1,
                "lc": "black",
                "x": 270.40000000000003,
                "y": 187.1,
                "b": -5.666666666666667,
                "s": 1
              },
              {
                "p": 1,
                "lc": "black",
                "x": 272.90000000000003,
                "y": 190.2,
                "b": 0,
                "s": 1
              },
              {
                "p": 1,
                "lc": "black",
                "x": 272.90000000000003,
                "y": 190.2,
                "b": -5.666666666666667,
                "s": 1
              },
              {
                "p": 1,
                "lc": "black",
                "x": 275.70000000000005,
                "y": 193,
                "b": 0,
                "s": 1
              },
              {
                "p": 1,
                "lc": "black",
                "x": 275.70000000000005,
                "y": 193,
                "b": -5.666666666666667,
                "s": 1
              },
              {
                "p": 1,
                "lc": "black",
                "x": 278.70000000000005,
                "y": 195.6,
                "b": 0,
                "s": 1
              },
              {
                "p": 1,
                "lc": "black",
                "x": 278.70000000000005,
                "y": 195.6,
                "b": -5.666666666666667,
                "s": 1
              },
              {
                "p": 1,
                "lc": "black",
                "x": 282.00000000000006,
                "y": 197.79999999999998,
                "b": 0,
                "s": 1
              },
              {
                "p": 1,
                "lc": "black",
                "x": 282.00000000000006,
                "y": 197.79999999999998,
                "b": -5.666666666666667,
                "s": 1
              },
              {
                "p": 1,
                "lc": "black",
                "x": 285.50000000000006,
                "y": 199.7,
                "b": 0,
                "s": 1
              },
              {
                "p": 1,
                "lc": "black",
                "x": 285.50000000000006,
                "y": 199.7,
                "b": -5.666666666666667,
                "s": 1
              },
              {
                "p": 1,
                "lc": "black",
                "x": 289.1000000000001,
                "y": 201.29999999999998,
                "b": 0,
                "s": 1
              },
              {
                "p": 1,
                "lc": "black",
                "x": 289.1000000000001,
                "y": 201.29999999999998,
                "b": -5.666666666666667,
                "s": 1
              },
              {
                "p": 1,
                "lc": "black",
                "x": 292.9000000000001,
                "y": 202.49999999999997,
                "b": 0,
                "s": 1
              },
              {
                "p": 1,
                "lc": "black",
                "x": 292.9000000000001,
                "y": 202.49999999999997,
                "b": -5.666666666666667,
                "s": 1
              },
              {
                "p": 1,
                "lc": "black",
                "x": 296.80000000000007,
                "y": 203.29999999999998,
                "b": 0,
                "s": 1
              },
              {
                "p": 1,
                "lc": "black",
                "x": 296.80000000000007,
                "y": 203.29999999999998,
                "b": -5.666666666666667,
                "s": 1
              },
              {
                "p": 1,
                "lc": "black",
                "x": 300.70000000000005,
                "y": 203.7,
                "b": 0,
                "s": 1
              },
              {
                "p": 1,
                "lc": "black",
                "x": 300.70000000000005,
                "y": 203.7,
                "b": -5.666666666666667,
                "s": 1
              },
              {
                "p": 1,
                "lc": "black",
                "x": 304.70000000000005,
                "y": 203.7,
                "b": 0,
                "s": 1
              },
              {
                "p": 1,
                "lc": "black",
                "x": 304.70000000000005,
                "y": 203.7,
                "b": -5.666666666666667,
                "s": 1
              },
              {
                "p": 1,
                "lc": "black",
                "x": 308.6,
                "y": 203.29999999999998,
                "b": 0,
                "s": 1
              },
              {
                "p": 1,
                "lc": "black",
                "x": 308.6,
                "y": 203.29999999999998,
                "b": -5.666666666666667,
                "s": 1
              },
              {
                "p": 1,
                "lc": "black",
                "x": 312.5,
                "y": 202.6,
                "b": 0,
                "s": 1
              },
              {
                "p": 1,
                "lc": "black",
                "x": 312.5,
                "y": 202.6,
                "b": -5.666666666666667,
                "s": 1
              },
              {
                "p": 1,
                "lc": "black",
                "x": 316.3,
                "y": 201.5,
                "b": 0,
                "s": 1
              },
              {
                "p": 1,
                "lc": "black",
                "x": 316.3,
                "y": 201.5,
                "b": -5.666666666666667,
                "s": 1
              },
              {
                "p": 1,
                "lc": "black",
                "x": 320,
                "y": 200,
                "b": 0,
                "s": 1
              },
              {
                "p": 1,
                "lc": "black",
                "x": 320,
                "y": 200,
                "b": -5.666666666666667,
                "s": 1
              },
              {
                "p": 1,
                "lc": "black",
                "x": 320,
                "y": 200,
                "b": 2.8333333333333335,
                "s": 1
              },
              {
                "p": 1,
                "lc": "black",
                "x": 320,
                "y": 200,
                "b": -95,
                "s": 1
              },
              {
                "p": 1,
                "lc": "black",
                "x": 320,
                "y": 200,
                "b": -40,
                "s": 1
              },
              {
                "p": 1,
                "lc": "black",
                "x": 320,
                "y": 200,
                "b": -2.8333333333333335,
                "s": 1
              },
              {
                "p": 1,
                "lc": "black",
                "x": 316.2,
                "y": 198.8,
                "b": 0,
                "s": 1
              },
              {
                "p": 1,
                "lc": "black",
                "x": 316.2,
                "y": 198.8,
                "b": -5.666666666666667,
                "s": 1
              },
              {
                "p": 1,
                "lc": "black",
                "x": 312.3,
                "y": 198,
                "b": 0,
                "s": 1
              },
              {
                "p": 1,
                "lc": "black",
                "x": 312.3,
                "y": 198,
                "b": -5.666666666666667,
                "s": 1
              },
              {
                "p": 1,
                "lc": "black",
                "x": 308.40000000000003,
                "y": 197.6,
                "b": 0,
                "s": 1
              },
              {
                "p": 1,
                "lc": "black",
                "x": 308.40000000000003,
                "y": 197.6,
                "b": -5.666666666666667,
                "s": 1
              },
              {
                "p": 1,
                "lc": "black",
                "x": 304.40000000000003,
                "y": 197.6,
                "b": 0,
                "s": 1
              },
              {
                "p": 1,
                "lc": "black",
                "x": 304.40000000000003,
                "y": 197.6,
                "b": -5.666666666666667,
                "s": 1
              },
              {
                "p": 1,
                "lc": "black",
                "x": 300.50000000000006,
                "y": 198,
                "b": 0,
                "s": 1
              },
              {
                "p": 1,
                "lc": "black",
                "x": 300.50000000000006,
                "y": 198,
                "b": -5.666666666666667,
                "s": 1
              },
              {
                "p": 1,
                "lc": "black",
                "x": 296.6000000000001,
                "y": 198.8,
                "b": 0,
                "s": 1
              },
              {
                "p": 1,
                "lc": "black",
                "x": 296.6000000000001,
                "y": 198.8,
                "b": -5.666666666666667,
                "s": 1
              },
              {
                "p": 1,
                "lc": "black",
                "x": 292.80000000000007,
                "y": 199.9,
                "b": 0,
                "s": 1
              },
              {
                "p": 1,
                "lc": "black",
                "x": 292.80000000000007,
                "y": 199.9,
                "b": -5.666666666666667,
                "s": 1
              },
              {
                "p": 1,
                "lc": "black",
                "x": 289.1000000000001,
                "y": 201.4,
                "b": 0,
                "s": 1
              },
              {
                "p": 1,
                "lc": "black",
                "x": 289.1000000000001,
                "y": 201.4,
                "b": -5.666666666666667,
                "s": 1
              },
              {
                "p": 1,
                "lc": "black",
                "x": 285.6000000000001,
                "y": 203.3,
                "b": 0,
                "s": 1
              },
              {
                "p": 1,
                "lc": "black",
                "x": 285.6000000000001,
                "y": 203.3,
                "b": -5.666666666666667,
                "s": 1
              },
              {
                "p": 1,
                "lc": "black",
                "x": 282.30000000000007,
                "y": 205.5,
                "b": 0,
                "s": 1
              },
              {
                "p": 1,
                "lc": "black",
                "x": 282.30000000000007,
                "y": 205.5,
                "b": -5.666666666666667,
                "s": 1
              },
              {
                "p": 1,
                "lc": "black",
                "x": 279.20000000000005,
                "y": 208,
                "b": 0,
                "s": 1
              },
              {
                "p": 1,
                "lc": "black",
                "x": 279.20000000000005,
                "y": 208,
                "b": -5.666666666666667,
                "s": 1
              },
              {
                "p": 1,
                "lc": "black",
                "x": 276.40000000000003,
                "y": 210.8,
                "b": 0,
                "s": 1
              },
              {
                "p": 1,
                "lc": "black",
                "x": 276.40000000000003,
                "y": 210.8,
                "b": -5.666666666666667,
                "s": 1
              },
              {
                "p": 1,
                "lc": "black",
                "x": 273.90000000000003,
                "y": 213.9,
                "b": 0,
                "s": 1
              },
              {
                "p": 1,
                "lc": "black",
                "x": 273.90000000000003,
                "y": 213.9,
                "b": -5.666666666666667,
                "s": 1
              },
              {
                "p": 1,
                "lc": "black",
                "x": 271.70000000000005,
                "y": 217.20000000000002,
                "b": 0,
                "s": 1
              },
              {
                "p": 1,
                "lc": "black",
                "x": 271.70000000000005,
                "y": 217.20000000000002,
                "b": -5.666666666666667,
                "s": 1
              },
              {
                "p": 1,
                "lc": "black",
                "x": 269.90000000000003,
                "y": 220.70000000000002,
                "b": 0,
                "s": 1
              },
              {
                "p": 1,
                "lc": "black",
                "x": 269.90000000000003,
                "y": 220.70000000000002,
                "b": -5.666666666666667,
                "s": 1
              },
              {
                "p": 1,
                "lc": "black",
                "x": 269.90000000000003,
                "y": 220.70000000000002,
                "b": 2.8333333333333335,
                "s": 1
              },
              {
                "p": 1,
                "lc": "black",
                "x": 269.90000000000003,
                "y": 220.70000000000002,
                "b": -95,
                "s": 1
              },
              {
                "p": 1,
                "lc": "black",
                "x": 269.90000000000003,
                "y": 220.70000000000002,
                "b": -2.8333333333333335,
                "s": 1
              },
              {
                "p": 1,
                "lc": "black",
                "x": 273.70000000000005,
                "y": 221.9,
                "b": 0,
                "s": 1
              },
              {
                "p": 1,
                "lc": "black",
                "x": 273.70000000000005,
                "y": 221.9,
                "b": -5.666666666666667,
                "s": 1
              },
              {
                "p": 1,
                "lc": "black",
                "x": 277.6,
                "y": 222.70000000000002,
                "b": 0,
                "s": 1
              },
              {
                "p": 1,
                "lc": "black",
                "x": 277.6,
                "y": 222.70000000000002,
                "b": -5.666666666666667,
                "s": 1
              },
              {
                "p": 1,
                "lc": "black",
                "x": 281.5,
                "y": 223.10000000000002,
                "b": 0,
                "s": 1
              },
              {
                "p": 1,
                "lc": "black",
                "x": 281.5,
                "y": 223.10000000000002,
                "b": -5.666666666666667,
                "s": 1
              },
              {
                "p": 1,
                "lc": "black",
                "x": 285.5,
                "y": 223.10000000000002,
                "b": 0,
                "s": 1
              },
              {
                "p": 1,
                "lc": "black",
                "x": 285.5,
                "y": 223.10000000000002,
                "b": -5.666666666666667,
                "s": 1
              },
              {
                "p": 1,
                "lc": "black",
                "x": 289.4,
                "y": 222.70000000000002,
                "b": 0,
                "s": 1
              },
              {
                "p": 1,
                "lc": "black",
                "x": 289.4,
                "y": 222.70000000000002,
                "b": -5.666666666666667,
                "s": 1
              },
              {
                "p": 1,
                "lc": "black",
                "x": 293.29999999999995,
                "y": 221.9,
                "b": 0,
                "s": 1
              },
              {
                "p": 1,
                "lc": "black",
                "x": 293.29999999999995,
                "y": 221.9,
                "b": -5.666666666666667,
                "s": 1
              },
              {
                "p": 1,
                "lc": "black",
                "x": 297.09999999999997,
                "y": 220.8,
                "b": 0,
                "s": 1
              },
              {
                "p": 1,
                "lc": "black",
                "x": 297.09999999999997,
                "y": 220.8,
                "b": -5.666666666666667,
                "s": 1
              },
              {
                "p": 1,
                "lc": "black",
                "x": 300.79999999999995,
                "y": 219.3,
                "b": 0,
                "s": 1
              },
              {
                "p": 1,
                "lc": "black",
                "x": 300.79999999999995,
                "y": 219.3,
                "b": -5.666666666666667,
                "s": 1
              },
              {
                "p": 1,
                "lc": "black",
                "x": 304.29999999999995,
                "y": 217.4,
                "b": 0,
                "s": 1
              },
              {
                "p": 1,
                "lc": "black",
                "x": 304.29999999999995,
                "y": 217.4,
                "b": -5.666666666666667,
                "s": 1
              },
              {
                "p": 1,
                "lc": "black",
                "x": 307.59999999999997,
                "y": 215.20000000000002,
                "b": 0,
                "s": 1
              },
              {
                "p": 1,
                "lc": "black",
                "x": 307.59999999999997,
                "y": 215.20000000000002,
                "b": -5.666666666666667,
                "s": 1
              },
              {
                "p": 1,
                "lc": "black",
                "x": 310.7,
                "y": 212.70000000000002,
                "b": 0,
                "s": 1
              },
              {
                "p": 1,
                "lc": "black",
                "x": 310.7,
                "y": 212.70000000000002,
                "b": -5.666666666666667,
                "s": 1
              },
              {
                "p": 1,
                "lc": "black",
                "x": 313.5,
                "y": 209.9,
                "b": 0,
                "s": 1
              },
              {
                "p": 1,
                "lc": "black",
                "x": 313.5,
                "y": 209.9,
                "b": -5.666666666666667,
                "s": 1
              },
              {
                "p": 1,
                "lc": "black",
                "x": 316,
                "y": 206.8,
                "b": 0,
                "s": 1
              },
              {
                "p": 1,
                "lc": "black",
                "x": 316,
                "y": 206.8,
                "b": -5.666666666666667,
                "s": 1
              },
              {
                "p": 1,
                "lc": "black",
                "x": 318.2,
                "y": 203.5,
                "b": 0,
                "s": 1
              },
              {
                "p": 1,
                "lc": "black",
                "x": 318.2,
                "y": 203.5,
                "b": -5.666666666666667,
                "s": 1
              },
              {
                "p": 1,
                "lc": "black",
                "x": 320,
                "y": 200,
                "b": 0,
                "s": 1
              },
              {
                "p": 1,
                "lc": "black",
                "x": 320,
                "y": 200,
                "b": -5.666666666666667,
                "s": 1
              },
              {
                "p": 1,
                "lc": "black",
                "x": 320,
                "y": 200,
                "b": 2.8333333333333335,
                "s": 1
              },
              {
                "p": 1,
                "lc": "black",
                "x": 320,
                "y": 200,
                "b": -95,
                "s": 1
              },
              {
                "p": 1,
                "lc": "black",
                "x": 320,
                "y": 200,
                "b": -40,
                "s": 1
              },
              {
                "p": 1,
                "lc": "black",
                "x": 320,
                "y": 200,
                "b": -2.8333333333333335,
                "s": 1
              },
              {
                "p": 1,
                "lc": "black",
                "x": 316.4,
                "y": 201.5,
                "b": 0,
                "s": 1
              },
              {
                "p": 1,
                "lc": "black",
                "x": 316.4,
                "y": 201.5,
                "b": -5.666666666666667,
                "s": 1
              },
              {
                "p": 1,
                "lc": "black",
                "x": 312.9,
                "y": 203.4,
                "b": 0,
                "s": 1
              },
              {
                "p": 1,
                "lc": "black",
                "x": 312.9,
                "y": 203.4,
                "b": -5.666666666666667,
                "s": 1
              },
              {
                "p": 1,
                "lc": "black",
                "x": 309.59999999999997,
                "y": 205.6,
                "b": 0,
                "s": 1
              },
              {
                "p": 1,
                "lc": "black",
                "x": 309.59999999999997,
                "y": 205.6,
                "b": -5.666666666666667,
                "s": 1
              },
              {
                "p": 1,
                "lc": "black",
                "x": 306.59999999999997,
                "y": 208.1,
                "b": 0,
                "s": 1
              },
              {
                "p": 1,
                "lc": "black",
                "x": 306.59999999999997,
                "y": 208.1,
                "b": -5.666666666666667,
                "s": 1
              },
              {
                "p": 1,
                "lc": "black",
                "x": 303.79999999999995,
                "y": 210.9,
                "b": 0,
                "s": 1
              },
              {
                "p": 1,
                "lc": "black",
                "x": 303.79999999999995,
                "y": 210.9,
                "b": -5.666666666666667,
                "s": 1
              },
              {
                "p": 1,
                "lc": "black",
                "x": 301.29999999999995,
                "y": 214,
                "b": 0,
                "s": 1
              },
              {
                "p": 1,
                "lc": "black",
                "x": 301.29999999999995,
                "y": 214,
                "b": -5.666666666666667,
                "s": 1
              },
              {
                "p": 1,
                "lc": "black",
                "x": 299.09999999999997,
                "y": 217.3,
                "b": 0,
                "s": 1
              },
              {
                "p": 1,
                "lc": "black",
                "x": 299.09999999999997,
                "y": 217.3,
                "b": -5.666666666666667,
                "s": 1
              },
              {
                "p": 1,
                "lc": "black",
                "x": 297.29999999999995,
                "y": 220.8,
                "b": 0,
                "s": 1
              },
              {
                "p": 1,
                "lc": "black",
                "x": 297.29999999999995,
                "y": 220.8,
                "b": -5.666666666666667,
                "s": 1
              },
              {
                "p": 1,
                "lc": "black",
                "x": 295.79999999999995,
                "y": 224.5,
                "b": 0,
                "s": 1
              },
              {
                "p": 1,
                "lc": "black",
                "x": 295.79999999999995,
                "y": 224.5,
                "b": -5.666666666666667,
                "s": 1
              },
              {
                "p": 1,
                "lc": "black",
                "x": 294.69999999999993,
                "y": 228.3,
                "b": 0,
                "s": 1
              },
              {
                "p": 1,
                "lc": "black",
                "x": 294.69999999999993,
                "y": 228.3,
                "b": -5.666666666666667,
                "s": 1
              },
              {
                "p": 1,
                "lc": "black",
                "x": 293.99999999999994,
                "y": 232.20000000000002,
                "b": 0,
                "s": 1
              },
              {
                "p": 1,
                "lc": "black",
                "x": 293.99999999999994,
                "y": 232.20000000000002,
                "b": -5.666666666666667,
                "s": 1
              },
              {
                "p": 1,
                "lc": "black",
                "x": 293.69999999999993,
                "y": 236.10000000000002,
                "b": 0,
                "s": 1
              },
              {
                "p": 1,
                "lc": "black",
                "x": 293.69999999999993,
                "y": 236.10000000000002,
                "b": -5.666666666666667,
                "s": 1
              },
              {
                "p": 1,
                "lc": "black",
                "x": 293.79999999999995,
                "y": 240.10000000000002,
                "b": 0,
                "s": 1
              },
              {
                "p": 1,
                "lc": "black",
                "x": 293.79999999999995,
                "y": 240.10000000000002,
                "b": -5.666666666666667,
                "s": 1
              },
              {
                "p": 1,
                "lc": "black",
                "x": 294.19999999999993,
                "y": 244.00000000000003,
                "b": 0,
                "s": 1
              },
              {
                "p": 1,
                "lc": "black",
                "x": 294.19999999999993,
                "y": 244.00000000000003,
                "b": -5.666666666666667,
                "s": 1
              },
              {
                "p": 1,
                "lc": "black",
                "x": 294.99999999999994,
                "y": 247.90000000000003,
                "b": 0,
                "s": 1
              },
              {
                "p": 1,
                "lc": "black",
                "x": 294.99999999999994,
                "y": 247.90000000000003,
                "b": -5.666666666666667,
                "s": 1
              },
              {
                "p": 1,
                "lc": "black",
                "x": 294.99999999999994,
                "y": 247.90000000000003,
                "b": 2.8333333333333335,
                "s": 1
              },
              {
                "p": 1,
                "lc": "black",
                "x": 294.99999999999994,
                "y": 247.90000000000003,
                "b": -95,
                "s": 1
              },
              {
                "p": 1,
                "lc": "black",
                "x": 294.99999999999994,
                "y": 247.90000000000003,
                "b": -2.8333333333333335,
                "s": 1
              },
              {
                "p": 1,
                "lc": "black",
                "x": 298.59999999999997,
                "y": 246.40000000000003,
                "b": 0,
                "s": 1
              },
              {
                "p": 1,
                "lc": "black",
                "x": 298.59999999999997,
                "y": 246.40000000000003,
                "b": -5.666666666666667,
                "s": 1
              },
              {
                "p": 1,
                "lc": "black",
                "x": 302.09999999999997,
                "y": 244.50000000000003,
                "b": 0,
                "s": 1
              },
              {
                "p": 1,
                "lc": "black",
                "x": 302.09999999999997,
                "y": 244.50000000000003,
                "b": -5.666666666666667,
                "s": 1
              },
              {
                "p": 1,
                "lc": "black",
                "x": 305.4,
                "y": 242.30000000000004,
                "b": 0,
                "s": 1
              },
              {
                "p": 1,
                "lc": "black",
                "x": 305.4,
                "y": 242.30000000000004,
                "b": -5.666666666666667,
                "s": 1
              },
              {
                "p": 1,
                "lc": "black",
                "x": 308.4,
                "y": 239.80000000000004,
                "b": 0,
                "s": 1
              },
              {
                "p": 1,
                "lc": "black",
                "x": 308.4,
                "y": 239.80000000000004,
                "b": -5.666666666666667,
                "s": 1
              },
              {
                "p": 1,
                "lc": "black",
                "x": 311.2,
                "y": 237.00000000000003,
                "b": 0,
                "s": 1
              },
              {
                "p": 1,
                "lc": "black",
                "x": 311.2,
                "y": 237.00000000000003,
                "b": -5.666666666666667,
                "s": 1
              },
              {
                "p": 1,
                "lc": "black",
                "x": 313.7,
                "y": 233.90000000000003,
                "b": 0,
                "s": 1
              },
              {
                "p": 1,
                "lc": "black",
                "x": 313.7,
                "y": 233.90000000000003,
                "b": -5.666666666666667,
                "s": 1
              },
              {
                "p": 1,
                "lc": "black",
                "x": 315.9,
                "y": 230.60000000000002,
                "b": 0,
                "s": 1
              },
              {
                "p": 1,
                "lc": "black",
                "x": 315.9,
                "y": 230.60000000000002,
                "b": -5.666666666666667,
                "s": 1
              },
              {
                "p": 1,
                "lc": "black",
                "x": 317.7,
                "y": 227.10000000000002,
                "b": 0,
                "s": 1
              },
              {
                "p": 1,
                "lc": "black",
                "x": 317.7,
                "y": 227.10000000000002,
                "b": -5.666666666666667,
                "s": 1
              },
              {
                "p": 1,
                "lc": "black",
                "x": 319.2,
                "y": 223.40000000000003,
                "b": 0,
                "s": 1
              },
              {
                "p": 1,
                "lc": "black",
                "x": 319.2,
                "y": 223.40000000000003,
                "b": -5.666666666666667,
                "s": 1
              },
              {
                "p": 1,
                "lc": "black",
                "x": 320.3,
                "y": 219.60000000000002,
                "b": 0,
                "s": 1
              },
              {
                "p": 1,
                "lc": "black",
                "x": 320.3,
                "y": 219.60000000000002,
                "b": -5.666666666666667,
                "s": 1
              },
              {
                "p": 1,
                "lc": "black",
                "x": 321,
                "y": 215.70000000000002,
                "b": 0,
                "s": 1
              },
              {
                "p": 1,
                "lc": "black",
                "x": 321,
                "y": 215.70000000000002,
                "b": -5.666666666666667,
                "s": 1
              },
              {
                "p": 1,
                "lc": "black",
                "x": 321.3,
                "y": 211.8,
                "b": 0,
                "s": 1
              },
              {
                "p": 1,
                "lc": "black",
                "x": 321.3,
                "y": 211.8,
                "b": -5.666666666666667,
                "s": 1
              },
              {
                "p": 1,
                "lc": "black",
                "x": 321.2,
                "y": 207.8,
                "b": 0,
                "s": 1
              },
              {
                "p": 1,
                "lc": "black",
                "x": 321.2,
                "y": 207.8,
                "b": -5.666666666666667,
                "s": 1
              },
              {
                "p": 1,
                "lc": "black",
                "x": 320.8,
                "y": 203.9,
                "b": 0,
                "s": 1
              },
              {
                "p": 1,
                "lc": "black",
                "x": 320.8,
                "y": 203.9,
                "b": -5.666666666666667,
                "s": 1
              },
              {
                "p": 1,
                "lc": "black",
                "x": 320,
                "y": 200,
                "b": 0,
                "s": 1
              },
              {
                "p": 1,
                "lc": "black",
                "x": 320,
                "y": 200,
                "b": -5.666666666666667,
                "s": 1
              },
              {
                "p": 1,
                "lc": "black",
                "x": 320,
                "y": 200,
                "b": 2.8333333333333335,
                "s": 1
              },
              {
                "p": 1,
                "lc": "black",
                "x": 320,
                "y": 200,
                "b": -95,
                "s": 1
              },
              {
                "p": 1,
                "lc": "black",
                "x": 320,
                "y": 200,
                "b": -40,
                "s": 1
              },
              {
                "p": 1,
                "lc": "black",
                "x": 320,
                "y": 200,
                "b": -2.8333333333333335,
                "s": 1
              },
              {
                "p": 1,
                "lc": "black",
                "x": 318.2,
                "y": 203.5,
                "b": 0,
                "s": 1
              },
              {
                "p": 1,
                "lc": "black",
                "x": 318.2,
                "y": 203.5,
                "b": -5.666666666666667,
                "s": 1
              },
              {
                "p": 1,
                "lc": "black",
                "x": 316.8,
                "y": 207.2,
                "b": 0,
                "s": 1
              },
              {
                "p": 1,
                "lc": "black",
                "x": 316.8,
                "y": 207.2,
                "b": -5.666666666666667,
                "s": 1
              },
              {
                "p": 1,
                "lc": "black",
                "x": 315.7,
                "y": 211,
                "b": 0,
                "s": 1
              },
              {
                "p": 1,
                "lc": "black",
                "x": 315.7,
                "y": 211,
                "b": -5.666666666666667,
                "s": 1
              },
              {
                "p": 1,
                "lc": "black",
                "x": 315,
                "y": 214.9,
                "b": 0,
                "s": 1
              },
              {
                "p": 1,
                "lc": "black",
                "x": 315,
                "y": 214.9,
                "b": -5.666666666666667,
                "s": 1
              },
              {
                "p": 1,
                "lc": "black",
                "x": 314.7,
                "y": 218.8,
                "b": 0,
                "s": 1
              },
              {
                "p": 1,
                "lc": "black",
                "x": 314.7,
                "y": 218.8,
                "b": -5.666666666666667,
                "s": 1
              },
              {
                "p": 1,
                "lc": "black",
                "x": 314.8,
                "y": 222.8,
                "b": 0,
                "s": 1
              },
              {
                "p": 1,
                "lc": "black",
                "x": 314.8,
                "y": 222.8,
                "b": -5.666666666666667,
                "s": 1
              },
              {
                "p": 1,
                "lc": "black",
                "x": 315.3,
                "y": 226.70000000000002,
                "b": 0,
                "s": 1
              },
              {
                "p": 1,
                "lc": "black",
                "x": 315.3,
                "y": 226.70000000000002,
                "b": -5.666666666666667,
                "s": 1
              },
              {
                "p": 1,
                "lc": "black",
                "x": 316.2,
                "y": 230.60000000000002,
                "b": 0,
                "s": 1
              },
              {
                "p": 1,
                "lc": "black",
                "x": 316.2,
                "y": 230.60000000000002,
                "b": -5.666666666666667,
                "s": 1
              },
              {
                "p": 1,
                "lc": "black",
                "x": 317.4,
                "y": 234.40000000000003,
                "b": 0,
                "s": 1
              },
              {
                "p": 1,
                "lc": "black",
                "x": 317.4,
                "y": 234.40000000000003,
                "b": -5.666666666666667,
                "s": 1
              },
              {
                "p": 1,
                "lc": "black",
                "x": 319,
                "y": 238.00000000000003,
                "b": 0,
                "s": 1
              },
              {
                "p": 1,
                "lc": "black",
                "x": 319,
                "y": 238.00000000000003,
                "b": -5.666666666666667,
                "s": 1
              },
              {
                "p": 1,
                "lc": "black",
                "x": 320.9,
                "y": 241.40000000000003,
                "b": 0,
                "s": 1
              },
              {
                "p": 1,
                "lc": "black",
                "x": 320.9,
                "y": 241.40000000000003,
                "b": -5.666666666666667,
                "s": 1
              },
              {
                "p": 1,
                "lc": "black",
                "x": 323.2,
                "y": 244.60000000000002,
                "b": 0,
                "s": 1
              },
              {
                "p": 1,
                "lc": "black",
                "x": 323.2,
                "y": 244.60000000000002,
                "b": -5.666666666666667,
                "s": 1
              },
              {
                "p": 1,
                "lc": "black",
                "x": 325.8,
                "y": 247.60000000000002,
                "b": 0,
                "s": 1
              },
              {
                "p": 1,
                "lc": "black",
                "x": 325.8,
                "y": 247.60000000000002,
                "b": -5.666666666666667,
                "s": 1
              },
              {
                "p": 1,
                "lc": "black",
                "x": 328.7,
                "y": 250.3,
                "b": 0,
                "s": 1
              },
              {
                "p": 1,
                "lc": "black",
                "x": 328.7,
                "y": 250.3,
                "b": -5.666666666666667,
                "s": 1
              },
              {
                "p": 1,
                "lc": "black",
                "x": 331.8,
                "y": 252.70000000000002,
                "b": 0,
                "s": 1
              },
              {
                "p": 1,
                "lc": "black",
                "x": 331.8,
                "y": 252.70000000000002,
                "b": -5.666666666666667,
                "s": 1
              },
              {
                "p": 1,
                "lc": "black",
                "x": 331.8,
                "y": 252.70000000000002,
                "b": 2.8333333333333335,
                "s": 1
              },
              {
                "p": 1,
                "lc": "black",
                "x": 331.8,
                "y": 252.70000000000002,
                "b": -95,
                "s": 1
              },
              {
                "p": 1,
                "lc": "black",
                "x": 331.8,
                "y": 252.70000000000002,
                "b": -2.8333333333333335,
                "s": 1
              },
              {
                "p": 1,
                "lc": "black",
                "x": 333.6,
                "y": 249.20000000000002,
                "b": 0,
                "s": 1
              },
              {
                "p": 1,
                "lc": "black",
                "x": 333.6,
                "y": 249.20000000000002,
                "b": -5.666666666666667,
                "s": 1
              },
              {
                "p": 1,
                "lc": "black",
                "x": 335,
                "y": 245.50000000000003,
                "b": 0,
                "s": 1
              },
              {
                "p": 1,
                "lc": "black",
                "x": 335,
                "y": 245.50000000000003,
                "b": -5.666666666666667,
                "s": 1
              },
              {
                "p": 1,
                "lc": "black",
                "x": 336.1,
                "y": 241.70000000000002,
                "b": 0,
                "s": 1
              },
              {
                "p": 1,
                "lc": "black",
                "x": 336.1,
                "y": 241.70000000000002,
                "b": -5.666666666666667,
                "s": 1
              },
              {
                "p": 1,
                "lc": "black",
                "x": 336.8,
                "y": 237.8,
                "b": 0,
                "s": 1
              },
              {
                "p": 1,
                "lc": "black",
                "x": 336.8,
                "y": 237.8,
                "b": -5.666666666666667,
                "s": 1
              },
              {
                "p": 1,
                "lc": "black",
                "x": 337.1,
                "y": 233.9,
                "b": 0,
                "s": 1
              },
              {
                "p": 1,
                "lc": "black",
                "x": 337.1,
                "y": 233.9,
                "b": -5.666666666666667,
                "s": 1
              },
              {
                "p": 1,
                "lc": "black",
                "x": 337,
                "y": 229.9,
                "b": 0,
                "s": 1
              },
              {
                "p": 1,
                "lc": "black",
                "x": 337,
                "y": 229.9,
                "b": -5.666666666666667,
                "s": 1
              },
              {
                "p": 1,
                "lc": "black",
                "x": 336.5,
                "y": 226,
                "b": 0,
                "s": 1
              },
              {
                "p": 1,
                "lc": "black",
                "x": 336.5,
                "y": 226,
                "b": -5.666666666666667,
                "s": 1
              },
              {
                "p": 1,
                "lc": "black",
                "x": 335.6,
                "y": 222.1,
                "b": 0,
                "s": 1
              },
              {
                "p": 1,
                "lc": "black",
                "x": 335.6,
                "y": 222.1,
                "b": -5.666666666666667,
                "s": 1
              },
              {
                "p": 1,
                "lc": "black",
                "x": 334.40000000000003,
                "y": 218.29999999999998,
                "b": 0,
                "s": 1
              },
              {
                "p": 1,
                "lc": "black",
                "x": 334.40000000000003,
                "y": 218.29999999999998,
                "b": -5.666666666666667,
                "s": 1
              },
              {
                "p": 1,
                "lc": "black",
                "x": 332.8,
                "y": 214.7,
                "b": 0,
                "s": 1
              },
              {
                "p": 1,
                "lc": "black",
                "x": 332.8,
                "y": 214.7,
                "b": -5.666666666666667,
                "s": 1
              },
              {
                "p": 1,
                "lc": "black",
                "x": 330.90000000000003,
                "y": 211.29999999999998,
                "b": 0,
                "s": 1
              },
              {
                "p": 1,
                "lc": "black",
                "x": 330.90000000000003,
                "y": 211.29999999999998,
                "b": -5.666666666666667,
                "s": 1
              },
              {
                "p": 1,
                "lc": "black",
                "x": 328.6,
                "y": 208.1,
                "b": 0,
                "s": 1
              },
              {
                "p": 1,
                "lc": "black",
                "x": 328.6,
                "y": 208.1,
                "b": -5.666666666666667,
                "s": 1
              },
              {
                "p": 1,
                "lc": "black",
                "x": 326,
                "y": 205.1,
                "b": 0,
                "s": 1
              },
              {
                "p": 1,
                "lc": "black",
                "x": 326,
                "y": 205.1,
                "b": -5.666666666666667,
                "s": 1
              },
              {
                "p": 1,
                "lc": "black",
                "x": 323.1,
                "y": 202.4,
                "b": 0,
                "s": 1
              },
              {
                "p": 1,
                "lc": "black",
                "x": 323.1,
                "y": 202.4,
                "b": -5.666666666666667,
                "s": 1
              },
              {
                "p": 1,
                "lc": "black",
                "x": 320,
                "y": 200,
                "b": 0,
                "s": 1
              },
              {
                "p": 1,
                "lc": "black",
                "x": 320,
                "y": 200,
                "b": -5.666666666666667,
                "s": 1
              },
              {
                "p": 1,
                "lc": "black",
                "x": 320,
                "y": 200,
                "b": 2.8333333333333335,
                "s": 1
              },
              {
                "p": 1,
                "lc": "black",
                "x": 320,
                "y": 200,
                "b": -95,
                "s": 1
              },
              {
                "p": 1,
                "lc": "black",
                "x": 320,
                "y": 200,
                "b": -40,
                "s": 1
              },
              {
                "p": 1,
                "lc": "black",
                "x": 320,
                "y": 200,
                "b": -2.8333333333333335,
                "s": 1
              },
              {
                "p": 1,
                "lc": "black",
                "x": 320.9,
                "y": 203.9,
                "b": 0,
                "s": 1
              },
              {
                "p": 1,
                "lc": "black",
                "x": 320.9,
                "y": 203.9,
                "b": -5.666666666666667,
                "s": 1
              },
              {
                "p": 1,
                "lc": "black",
                "x": 322.2,
                "y": 207.70000000000002,
                "b": 0,
                "s": 1
              },
              {
                "p": 1,
                "lc": "black",
                "x": 322.2,
                "y": 207.70000000000002,
                "b": -5.666666666666667,
                "s": 1
              },
              {
                "p": 1,
                "lc": "black",
                "x": 323.8,
                "y": 211.3,
                "b": 0,
                "s": 1
              },
              {
                "p": 1,
                "lc": "black",
                "x": 323.8,
                "y": 211.3,
                "b": -5.666666666666667,
                "s": 1
              },
              {
                "p": 1,
                "lc": "black",
                "x": 325.8,
                "y": 214.70000000000002,
                "b": 0,
                "s": 1
              },
              {
                "p": 1,
                "lc": "black",
                "x": 325.8,
                "y": 214.70000000000002,
                "b": -5.666666666666667,
                "s": 1
              },
              {
                "p": 1,
                "lc": "black",
                "x": 328.1,
                "y": 217.9,
                "b": 0,
                "s": 1
              },
              {
                "p": 1,
                "lc": "black",
                "x": 328.1,
                "y": 217.9,
                "b": -5.666666666666667,
                "s": 1
              },
              {
                "p": 1,
                "lc": "black",
                "x": 330.70000000000005,
                "y": 220.9,
                "b": 0,
                "s": 1
              },
              {
                "p": 1,
                "lc": "black",
                "x": 330.70000000000005,
                "y": 220.9,
                "b": -5.666666666666667,
                "s": 1
              },
              {
                "p": 1,
                "lc": "black",
                "x": 333.6,
                "y": 223.6,
                "b": 0,
                "s": 1
              },
              {
                "p": 1,
                "lc": "black",
                "x": 333.6,
                "y": 223.6,
                "b": -5.666666666666667,
                "s": 1
              },
              {
                "p": 1,
                "lc": "black",
                "x": 336.70000000000005,
                "y": 226,
                "b": 0,
                "s": 1
              },
              {
                "p": 1,
                "lc": "black",
                "x": 336.70000000000005,
                "y": 226,
                "b": -5.666666666666667,
                "s": 1
              },
              {
                "p": 1,
                "lc": "black",
                "x": 340.1,
                "y": 228.1,
                "b": 0,
                "s": 1
              },
              {
                "p": 1,
                "lc": "black",
                "x": 340.1,
                "y": 228.1,
                "b": -5.666666666666667,
                "s": 1
              },
              {
                "p": 1,
                "lc": "black",
                "x": 343.70000000000005,
                "y": 229.79999999999998,
                "b": 0,
                "s": 1
              },
              {
                "p": 1,
                "lc": "black",
                "x": 343.70000000000005,
                "y": 229.79999999999998,
                "b": -5.666666666666667,
                "s": 1
              },
              {
                "p": 1,
                "lc": "black",
                "x": 347.40000000000003,
                "y": 231.2,
                "b": 0,
                "s": 1
              },
              {
                "p": 1,
                "lc": "black",
                "x": 347.40000000000003,
                "y": 231.2,
                "b": -5.666666666666667,
                "s": 1
              },
              {
                "p": 1,
                "lc": "black",
                "x": 351.20000000000005,
                "y": 232.2,
                "b": 0,
                "s": 1
              },
              {
                "p": 1,
                "lc": "black",
                "x": 351.20000000000005,
                "y": 232.2,
                "b": -5.666666666666667,
                "s": 1
              },
              {
                "p": 1,
                "lc": "black",
                "x": 355.1,
                "y": 232.79999999999998,
                "b": 0,
                "s": 1
              },
              {
                "p": 1,
                "lc": "black",
                "x": 355.1,
                "y": 232.79999999999998,
                "b": -5.666666666666667,
                "s": 1
              },
              {
                "p": 1,
                "lc": "black",
                "x": 359,
                "y": 232.99999999999997,
                "b": 0,
                "s": 1
              },
              {
                "p": 1,
                "lc": "black",
                "x": 359,
                "y": 232.99999999999997,
                "b": -5.666666666666667,
                "s": 1
              },
              {
                "p": 1,
                "lc": "black",
                "x": 363,
                "y": 232.89999999999998,
                "b": 0,
                "s": 1
              },
              {
                "p": 1,
                "lc": "black",
                "x": 363,
                "y": 232.89999999999998,
                "b": -5.666666666666667,
                "s": 1
              },
              {
                "p": 1,
                "lc": "black",
                "x": 363,
                "y": 232.89999999999998,
                "b": 2.8333333333333335,
                "s": 1
              },
              {
                "p": 1,
                "lc": "black",
                "x": 363,
                "y": 232.89999999999998,
                "b": -95,
                "s": 1
              },
              {
                "p": 1,
                "lc": "black",
                "x": 363,
                "y": 232.89999999999998,
                "b": -2.8333333333333335,
                "s": 1
              },
              {
                "p": 1,
                "lc": "black",
                "x": 362.1,
                "y": 228.99999999999997,
                "b": 0,
                "s": 1
              },
              {
                "p": 1,
                "lc": "black",
                "x": 362.1,
                "y": 228.99999999999997,
                "b": -5.666666666666667,
                "s": 1
              },
              {
                "p": 1,
                "lc": "black",
                "x": 360.8,
                "y": 225.19999999999996,
                "b": 0,
                "s": 1
              },
              {
                "p": 1,
                "lc": "black",
                "x": 360.8,
                "y": 225.19999999999996,
                "b": -5.666666666666667,
                "s": 1
              },
              {
                "p": 1,
                "lc": "black",
                "x": 359.2,
                "y": 221.59999999999997,
                "b": 0,
                "s": 1
              },
              {
                "p": 1,
                "lc": "black",
                "x": 359.2,
                "y": 221.59999999999997,
                "b": -5.666666666666667,
                "s": 1
              },
              {
                "p": 1,
                "lc": "black",
                "x": 357.2,
                "y": 218.19999999999996,
                "b": 0,
                "s": 1
              },
              {
                "p": 1,
                "lc": "black",
                "x": 357.2,
                "y": 218.19999999999996,
                "b": -5.666666666666667,
                "s": 1
              },
              {
                "p": 1,
                "lc": "black",
                "x": 354.9,
                "y": 214.99999999999997,
                "b": 0,
                "s": 1
              },
              {
                "p": 1,
                "lc": "black",
                "x": 354.9,
                "y": 214.99999999999997,
                "b": -5.666666666666667,
                "s": 1
              },
              {
                "p": 1,
                "lc": "black",
                "x": 352.29999999999995,
                "y": 211.99999999999997,
                "b": 0,
                "s": 1
              },
              {
                "p": 1,
                "lc": "black",
                "x": 352.29999999999995,
                "y": 211.99999999999997,
                "b": -5.666666666666667,
                "s": 1
              },
              {
                "p": 1,
                "lc": "black",
                "x": 349.4,
                "y": 209.29999999999998,
                "b": 0,
                "s": 1
              },
              {
                "p": 1,
                "lc": "black",
                "x": 349.4,
                "y": 209.29999999999998,
                "b": -5.666666666666667,
                "s": 1
              },
              {
                "p": 1,
                "lc": "black",
                "x": 346.29999999999995,
                "y": 206.89999999999998,
                "b": 0,
                "s": 1
              },
              {
                "p": 1,
                "lc": "black",
                "x": 346.29999999999995,
                "y": 206.89999999999998,
                "b": -5.666666666666667,
                "s": 1
              },
              {
                "p": 1,
                "lc": "black",
                "x": 342.9,
                "y": 204.79999999999998,
                "b": 0,
                "s": 1
              },
              {
                "p": 1,
                "lc": "black",
                "x": 342.9,
                "y": 204.79999999999998,
                "b": -5.666666666666667,
                "s": 1
              },
              {
                "p": 1,
                "lc": "black",
                "x": 339.29999999999995,
                "y": 203.1,
                "b": 0,
                "s": 1
              },
              {
                "p": 1,
                "lc": "black",
                "x": 339.29999999999995,
                "y": 203.1,
                "b": -5.666666666666667,
                "s": 1
              },
              {
                "p": 1,
                "lc": "black",
                "x": 335.59999999999997,
                "y": 201.7,
                "b": 0,
                "s": 1
              },
              {
                "p": 1,
                "lc": "black",
                "x": 335.59999999999997,
                "y": 201.7,
                "b": -5.666666666666667,
                "s": 1
              },
              {
                "p": 1,
                "lc": "black",
                "x": 331.79999999999995,
                "y": 200.7,
                "b": 0,
                "s": 1
              },
              {
                "p": 1,
                "lc": "black",
                "x": 331.79999999999995,
                "y": 200.7,
                "b": -5.666666666666667,
                "s": 1
              },
              {
                "p": 1,
                "lc": "black",
                "x": 327.9,
                "y": 200.1,
                "b": 0,
                "s": 1
              },
              {
                "p": 1,
                "lc": "black",
                "x": 327.9,
                "y": 200.1,
                "b": -5.666666666666667,
                "s": 1
              },
              {
                "p": 1,
                "lc": "black",
                "x": 324,
                "y": 199.9,
                "b": 0,
                "s": 1
              },
              {
                "p": 1,
                "lc": "black",
                "x": 324,
                "y": 199.9,
                "b": -5.666666666666667,
                "s": 1
              },
              {
                "p": 1,
                "lc": "black",
                "x": 320,
                "y": 200,
                "b": 0,
                "s": 1
              },
              {
                "p": 1,
                "lc": "black",
                "x": 320,
                "y": 200,
                "b": -5.666666666666667,
                "s": 1
              },
              {
                "p": 1,
                "lc": "black",
                "x": 320,
                "y": 200,
                "b": 2.8333333333333335,
                "s": 1
              },
              {
                "p": 1,
                "lc": "black",
                "x": 320,
                "y": 200,
                "b": -95,
                "s": 1
              },
              {
                "p": 1,
                "lc": "black",
                "x": 320,
                "y": 200,
                "b": -40,
                "s": 1
              },
              {
                "p": 1,
                "lc": "black",
                "x": 320,
                "y": 200,
                "b": -2.8333333333333335,
                "s": 1
              },
              {
                "p": 1,
                "lc": "black",
                "x": 323.2,
                "y": 202.4,
                "b": 0,
                "s": 1
              },
              {
                "p": 1,
                "lc": "black",
                "x": 323.2,
                "y": 202.4,
                "b": -5.666666666666667,
                "s": 1
              },
              {
                "p": 1,
                "lc": "black",
                "x": 326.59999999999997,
                "y": 204.5,
                "b": 0,
                "s": 1
              },
              {
                "p": 1,
                "lc": "black",
                "x": 326.59999999999997,
                "y": 204.5,
                "b": -5.666666666666667,
                "s": 1
              },
              {
                "p": 1,
                "lc": "black",
                "x": 330.2,
                "y": 206.2,
                "b": 0,
                "s": 1
              },
              {
                "p": 1,
                "lc": "black",
                "x": 330.2,
                "y": 206.2,
                "b": -5.666666666666667,
                "s": 1
              },
              {
                "p": 1,
                "lc": "black",
                "x": 333.9,
                "y": 207.6,
                "b": 0,
                "s": 1
              },
              {
                "p": 1,
                "lc": "black",
                "x": 333.9,
                "y": 207.6,
                "b": -5.666666666666667,
                "s": 1
              },
              {
                "p": 1,
                "lc": "black",
                "x": 337.7,
                "y": 208.6,
                "b": 0,
                "s": 1
              },
              {
                "p": 1,
                "lc": "black",
                "x": 337.7,
                "y": 208.6,
                "b": -5.666666666666667,
                "s": 1
              },
              {
                "p": 1,
                "lc": "black",
                "x": 341.59999999999997,
                "y": 209.2,
                "b": 0,
                "s": 1
              },
              {
                "p": 1,
                "lc": "black",
                "x": 341.59999999999997,
                "y": 209.2,
                "b": -5.666666666666667,
                "s": 1
              },
              {
                "p": 1,
                "lc": "black",
                "x": 345.59999999999997,
                "y": 209.39999999999998,
                "b": 0,
                "s": 1
              },
              {
                "p": 1,
                "lc": "black",
                "x": 345.59999999999997,
                "y": 209.39999999999998,
                "b": -5.666666666666667,
                "s": 1
              },
              {
                "p": 1,
                "lc": "black",
                "x": 349.59999999999997,
                "y": 209.2,
                "b": 0,
                "s": 1
              },
              {
                "p": 1,
                "lc": "black",
                "x": 349.59999999999997,
                "y": 209.2,
                "b": -5.666666666666667,
                "s": 1
              },
              {
                "p": 1,
                "lc": "black",
                "x": 353.49999999999994,
                "y": 208.6,
                "b": 0,
                "s": 1
              },
              {
                "p": 1,
                "lc": "black",
                "x": 353.49999999999994,
                "y": 208.6,
                "b": -5.666666666666667,
                "s": 1
              },
              {
                "p": 1,
                "lc": "black",
                "x": 357.29999999999995,
                "y": 207.7,
                "b": 0,
                "s": 1
              },
              {
                "p": 1,
                "lc": "black",
                "x": 357.29999999999995,
                "y": 207.7,
                "b": -5.666666666666667,
                "s": 1
              },
              {
                "p": 1,
                "lc": "black",
                "x": 360.99999999999994,
                "y": 206.39999999999998,
                "b": 0,
                "s": 1
              },
              {
                "p": 1,
                "lc": "black",
                "x": 360.99999999999994,
                "y": 206.39999999999998,
                "b": -5.666666666666667,
                "s": 1
              },
              {
                "p": 1,
                "lc": "black",
                "x": 364.59999999999997,
                "y": 204.7,
                "b": 0,
                "s": 1
              },
              {
                "p": 1,
                "lc": "black",
                "x": 364.59999999999997,
                "y": 204.7,
                "b": -5.666666666666667,
                "s": 1
              },
              {
                "p": 1,
                "lc": "black",
                "x": 367.99999999999994,
                "y": 202.7,
                "b": 0,
                "s": 1
              },
              {
                "p": 1,
                "lc": "black",
                "x": 367.99999999999994,
                "y": 202.7,
                "b": -5.666666666666667,
                "s": 1
              },
              {
                "p": 1,
                "lc": "black",
                "x": 371.19999999999993,
                "y": 200.29999999999998,
                "b": 0,
                "s": 1
              },
              {
                "p": 1,
                "lc": "black",
                "x": 371.19999999999993,
                "y": 200.29999999999998,
                "b": -5.666666666666667,
                "s": 1
              },
              {
                "p": 1,
                "lc": "black",
                "x": 374.0999999999999,
                "y": 197.6,
                "b": 0,
                "s": 1
              },
              {
                "p": 1,
                "lc": "black",
                "x": 374.0999999999999,
                "y": 197.6,
                "b": -5.666666666666667,
                "s": 1
              },
              {
                "p": 1,
                "lc": "black",
                "x": 374.0999999999999,
                "y": 197.6,
                "b": 2.8333333333333335,
                "s": 1
              },
              {
                "p": 1,
                "lc": "black",
                "x": 374.0999999999999,
                "y": 197.6,
                "b": -95,
                "s": 1
              },
              {
                "p": 1,
                "lc": "black",
                "x": 374.0999999999999,
                "y": 197.6,
                "b": -2.8333333333333335,
                "s": 1
              },
              {
                "p": 1,
                "lc": "black",
                "x": 370.8999999999999,
                "y": 195.2,
                "b": 0,
                "s": 1
              },
              {
                "p": 1,
                "lc": "black",
                "x": 370.8999999999999,
                "y": 195.2,
                "b": -5.666666666666667,
                "s": 1
              },
              {
                "p": 1,
                "lc": "black",
                "x": 367.49999999999994,
                "y": 193.1,
                "b": 0,
                "s": 1
              },
              {
                "p": 1,
                "lc": "black",
                "x": 367.49999999999994,
                "y": 193.1,
                "b": -5.666666666666667,
                "s": 1
              },
              {
                "p": 1,
                "lc": "black",
                "x": 363.8999999999999,
                "y": 191.4,
                "b": 0,
                "s": 1
              },
              {
                "p": 1,
                "lc": "black",
                "x": 363.8999999999999,
                "y": 191.4,
                "b": -5.666666666666667,
                "s": 1
              },
              {
                "p": 1,
                "lc": "black",
                "x": 360.19999999999993,
                "y": 190,
                "b": 0,
                "s": 1
              },
              {
                "p": 1,
                "lc": "black",
                "x": 360.19999999999993,
                "y": 190,
                "b": -5.666666666666667,
                "s": 1
              },
              {
                "p": 1,
                "lc": "black",
                "x": 356.3999999999999,
                "y": 189,
                "b": 0,
                "s": 1
              },
              {
                "p": 1,
                "lc": "black",
                "x": 356.3999999999999,
                "y": 189,
                "b": -5.666666666666667,
                "s": 1
              },
              {
                "p": 1,
                "lc": "black",
                "x": 352.49999999999994,
                "y": 188.4,
                "b": 0,
                "s": 1
              },
              {
                "p": 1,
                "lc": "black",
                "x": 352.49999999999994,
                "y": 188.4,
                "b": -5.666666666666667,
                "s": 1
              },
              {
                "p": 1,
                "lc": "black",
                "x": 348.49999999999994,
                "y": 188.20000000000002,
                "b": 0,
                "s": 1
              },
              {
                "p": 1,
                "lc": "black",
                "x": 348.49999999999994,
                "y": 188.20000000000002,
                "b": -5.666666666666667,
                "s": 1
              },
              {
                "p": 1,
                "lc": "black",
                "x": 344.49999999999994,
                "y": 188.4,
                "b": 0,
                "s": 1
              },
              {
                "p": 1,
                "lc": "black",
                "x": 344.49999999999994,
                "y": 188.4,
                "b": -5.666666666666667,
                "s": 1
              },
              {
                "p": 1,
                "lc": "black",
                "x": 340.59999999999997,
                "y": 189,
                "b": 0,
                "s": 1
              },
              {
                "p": 1,
                "lc": "black",
                "x": 340.59999999999997,
                "y": 189,
                "b": -5.666666666666667,
                "s": 1
              },
              {
                "p": 1,
                "lc": "black",
                "x": 336.79999999999995,
                "y": 189.9,
                "b": 0,
                "s": 1
              },
              {
                "p": 1,
                "lc": "black",
                "x": 336.79999999999995,
                "y": 189.9,
                "b": -5.666666666666667,
                "s": 1
              },
              {
                "p": 1,
                "lc": "black",
                "x": 333.09999999999997,
                "y": 191.20000000000002,
                "b": 0,
                "s": 1
              },
              {
                "p": 1,
                "lc": "black",
                "x": 333.09999999999997,
                "y": 191.20000000000002,
                "b": -5.666666666666667,
                "s": 1
              },
              {
                "p": 1,
                "lc": "black",
                "x": 329.49999999999994,
                "y": 192.9,
                "b": 0,
                "s": 1
              },
              {
                "p": 1,
                "lc": "black",
                "x": 329.49999999999994,
                "y": 192.9,
                "b": -5.666666666666667,
                "s": 1
              },
              {
                "p": 1,
                "lc": "black",
                "x": 326.09999999999997,
                "y": 194.9,
                "b": 0,
                "s": 1
              },
              {
                "p": 1,
                "lc": "black",
                "x": 326.09999999999997,
                "y": 194.9,
                "b": -5.666666666666667,
                "s": 1
              },
              {
                "p": 1,
                "lc": "black",
                "x": 322.9,
                "y": 197.3,
                "b": 0,
                "s": 1
              },
              {
                "p": 1,
                "lc": "black",
                "x": 322.9,
                "y": 197.3,
                "b": -5.666666666666667,
                "s": 1
              },
              {
                "p": 1,
                "lc": "black",
                "x": 320,
                "y": 200,
                "b": 0,
                "s": 1
              },
              {
                "p": 1,
                "lc": "black",
                "x": 320,
                "y": 200,
                "b": -5.666666666666667,
                "s": 1
              },
              {
                "p": 1,
                "lc": "black",
                "x": 320,
                "y": 200,
                "b": 2.8333333333333335,
                "s": 1
              },
              {
                "p": 1,
                "lc": "black",
                "x": 320,
                "y": 200,
                "b": -95,
                "s": 1
              },
              {
                "p": 1,
                "lc": "black",
                "x": 320,
                "y": 200,
                "b": -40,
                "s": 1
              }
            ]
          }
        },
        "ba0bc39ba52f4c1db479a7a3e3ba3c74": {
          "model_module": "@jupyter-widgets/base",
          "model_name": "LayoutModel",
          "model_module_version": "1.2.0",
          "state": {
            "_model_module": "@jupyter-widgets/base",
            "_model_module_version": "1.2.0",
            "_model_name": "LayoutModel",
            "_view_count": null,
            "_view_module": "@jupyter-widgets/base",
            "_view_module_version": "1.2.0",
            "_view_name": "LayoutView",
            "align_content": null,
            "align_items": null,
            "align_self": null,
            "border": null,
            "bottom": null,
            "display": null,
            "flex": null,
            "flex_flow": null,
            "grid_area": null,
            "grid_auto_columns": null,
            "grid_auto_flow": null,
            "grid_auto_rows": null,
            "grid_column": null,
            "grid_gap": null,
            "grid_row": null,
            "grid_template_areas": null,
            "grid_template_columns": null,
            "grid_template_rows": null,
            "height": null,
            "justify_content": null,
            "justify_items": null,
            "left": null,
            "margin": null,
            "max_height": null,
            "max_width": null,
            "min_height": null,
            "min_width": null,
            "object_fit": null,
            "object_position": null,
            "order": null,
            "overflow": null,
            "overflow_x": null,
            "overflow_y": null,
            "padding": null,
            "right": null,
            "top": null,
            "visibility": null,
            "width": null
          }
        }
      }
    }
  },
  "nbformat": 4,
  "nbformat_minor": 5
}